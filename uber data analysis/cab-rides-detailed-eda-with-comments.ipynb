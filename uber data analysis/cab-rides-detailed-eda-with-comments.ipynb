{
 "cells": [
  {
   "cell_type": "markdown",
   "metadata": {
    "papermill": {
     "duration": 0.048626,
     "end_time": "2021-03-18T09:10:45.873426",
     "exception": false,
     "start_time": "2021-03-18T09:10:45.824800",
     "status": "completed"
    },
    "tags": []
   },
   "source": [
    "##### 16 Feb 2021"
   ]
  },
  {
   "cell_type": "markdown",
   "metadata": {
    "papermill": {
     "duration": 0.046609,
     "end_time": "2021-03-18T09:10:45.967747",
     "exception": false,
     "start_time": "2021-03-18T09:10:45.921138",
     "status": "completed"
    },
    "tags": []
   },
   "source": [
    "## Cab Rides EDA"
   ]
  },
  {
   "cell_type": "markdown",
   "metadata": {
    "papermill": {
     "duration": 0.045829,
     "end_time": "2021-03-18T09:10:46.059756",
     "exception": false,
     "start_time": "2021-03-18T09:10:46.013927",
     "status": "completed"
    },
    "tags": []
   },
   "source": [
    "In this exercise we will perform Exploratory Data Analysis on the Cab Rides data to better understand its nuances."
   ]
  },
  {
   "cell_type": "code",
   "execution_count": 1,
   "metadata": {
    "execution": {
     "iopub.execute_input": "2021-03-18T09:10:46.159043Z",
     "iopub.status.busy": "2021-03-18T09:10:46.158330Z",
     "iopub.status.idle": "2021-03-18T09:10:47.099598Z",
     "shell.execute_reply": "2021-03-18T09:10:47.098771Z"
    },
    "papermill": {
     "duration": 0.994005,
     "end_time": "2021-03-18T09:10:47.099831",
     "exception": false,
     "start_time": "2021-03-18T09:10:46.105826",
     "status": "completed"
    },
    "tags": []
   },
   "outputs": [],
   "source": [
    "import os\n",
    "import pandas as pd\n",
    "import numpy as np\n",
    "import matplotlib.pyplot as plt\n",
    "import seaborn as sns\n",
    "import time, datetime\n",
    "%matplotlib inline"
   ]
  },
  {
   "cell_type": "code",
   "execution_count": 2,
   "metadata": {
    "execution": {
     "iopub.execute_input": "2021-03-18T09:10:47.199234Z",
     "iopub.status.busy": "2021-03-18T09:10:47.198546Z",
     "iopub.status.idle": "2021-03-18T09:10:47.264893Z",
     "shell.execute_reply": "2021-03-18T09:10:47.265389Z"
    },
    "papermill": {
     "duration": 0.117438,
     "end_time": "2021-03-18T09:10:47.265580",
     "exception": false,
     "start_time": "2021-03-18T09:10:47.148142",
     "status": "completed"
    },
    "tags": []
   },
   "outputs": [
    {
     "data": {
      "text/html": [
       "<div>\n",
       "<style scoped>\n",
       "    .dataframe tbody tr th:only-of-type {\n",
       "        vertical-align: middle;\n",
       "    }\n",
       "\n",
       "    .dataframe tbody tr th {\n",
       "        vertical-align: top;\n",
       "    }\n",
       "\n",
       "    .dataframe thead th {\n",
       "        text-align: right;\n",
       "    }\n",
       "</style>\n",
       "<table border=\"1\" class=\"dataframe\">\n",
       "  <thead>\n",
       "    <tr style=\"text-align: right;\">\n",
       "      <th></th>\n",
       "      <th>START_DATE*</th>\n",
       "      <th>END_DATE*</th>\n",
       "      <th>CATEGORY*</th>\n",
       "      <th>START*</th>\n",
       "      <th>STOP*</th>\n",
       "      <th>MILES*</th>\n",
       "      <th>PURPOSE*</th>\n",
       "    </tr>\n",
       "  </thead>\n",
       "  <tbody>\n",
       "    <tr>\n",
       "      <th>0</th>\n",
       "      <td>1/1/2016 21:11</td>\n",
       "      <td>1/1/2016 21:17</td>\n",
       "      <td>Business</td>\n",
       "      <td>Fort Pierce</td>\n",
       "      <td>Fort Pierce</td>\n",
       "      <td>5.1</td>\n",
       "      <td>Meal/Entertain</td>\n",
       "    </tr>\n",
       "    <tr>\n",
       "      <th>1</th>\n",
       "      <td>1/2/2016 1:25</td>\n",
       "      <td>1/2/2016 1:37</td>\n",
       "      <td>Business</td>\n",
       "      <td>Fort Pierce</td>\n",
       "      <td>Fort Pierce</td>\n",
       "      <td>5.0</td>\n",
       "      <td>NaN</td>\n",
       "    </tr>\n",
       "    <tr>\n",
       "      <th>2</th>\n",
       "      <td>1/2/2016 20:25</td>\n",
       "      <td>1/2/2016 20:38</td>\n",
       "      <td>Business</td>\n",
       "      <td>Fort Pierce</td>\n",
       "      <td>Fort Pierce</td>\n",
       "      <td>4.8</td>\n",
       "      <td>Errand/Supplies</td>\n",
       "    </tr>\n",
       "    <tr>\n",
       "      <th>3</th>\n",
       "      <td>1/5/2016 17:31</td>\n",
       "      <td>1/5/2016 17:45</td>\n",
       "      <td>Business</td>\n",
       "      <td>Fort Pierce</td>\n",
       "      <td>Fort Pierce</td>\n",
       "      <td>4.7</td>\n",
       "      <td>Meeting</td>\n",
       "    </tr>\n",
       "    <tr>\n",
       "      <th>4</th>\n",
       "      <td>1/6/2016 14:42</td>\n",
       "      <td>1/6/2016 15:49</td>\n",
       "      <td>Business</td>\n",
       "      <td>Fort Pierce</td>\n",
       "      <td>West Palm Beach</td>\n",
       "      <td>63.7</td>\n",
       "      <td>Customer Visit</td>\n",
       "    </tr>\n",
       "  </tbody>\n",
       "</table>\n",
       "</div>"
      ],
      "text/plain": [
       "      START_DATE*       END_DATE* CATEGORY*       START*            STOP*  \\\n",
       "0  1/1/2016 21:11  1/1/2016 21:17  Business  Fort Pierce      Fort Pierce   \n",
       "1   1/2/2016 1:25   1/2/2016 1:37  Business  Fort Pierce      Fort Pierce   \n",
       "2  1/2/2016 20:25  1/2/2016 20:38  Business  Fort Pierce      Fort Pierce   \n",
       "3  1/5/2016 17:31  1/5/2016 17:45  Business  Fort Pierce      Fort Pierce   \n",
       "4  1/6/2016 14:42  1/6/2016 15:49  Business  Fort Pierce  West Palm Beach   \n",
       "\n",
       "   MILES*         PURPOSE*  \n",
       "0     5.1   Meal/Entertain  \n",
       "1     5.0              NaN  \n",
       "2     4.8  Errand/Supplies  \n",
       "3     4.7          Meeting  \n",
       "4    63.7   Customer Visit  "
      ]
     },
     "execution_count": 2,
     "metadata": {},
     "output_type": "execute_result"
    }
   ],
   "source": [
    "df=pd.read_csv('../input/uberdrives/My Uber Drives - 2016.csv')\n",
    "df.head()"
   ]
  },
  {
   "cell_type": "markdown",
   "metadata": {
    "papermill": {
     "duration": 0.046815,
     "end_time": "2021-03-18T09:10:47.359491",
     "exception": false,
     "start_time": "2021-03-18T09:10:47.312676",
     "status": "completed"
    },
    "tags": []
   },
   "source": [
    "### Converting Dates to Datetime Type"
   ]
  },
  {
   "cell_type": "markdown",
   "metadata": {
    "papermill": {
     "duration": 0.046775,
     "end_time": "2021-03-18T09:10:47.453255",
     "exception": false,
     "start_time": "2021-03-18T09:10:47.406480",
     "status": "completed"
    },
    "tags": []
   },
   "source": [
    "We clearly see two columns that should be datetime category.  \n",
    "We need to convert them into such."
   ]
  },
  {
   "cell_type": "markdown",
   "metadata": {
    "papermill": {
     "duration": 0.04666,
     "end_time": "2021-03-18T09:10:47.547149",
     "exception": false,
     "start_time": "2021-03-18T09:10:47.500489",
     "status": "completed"
    },
    "tags": []
   },
   "source": [
    "When making changes to columns using column names, we must remove special characters like '*'.  \n",
    "We do that using the below function."
   ]
  },
  {
   "cell_type": "code",
   "execution_count": 3,
   "metadata": {
    "execution": {
     "iopub.execute_input": "2021-03-18T09:10:47.645410Z",
     "iopub.status.busy": "2021-03-18T09:10:47.644344Z",
     "iopub.status.idle": "2021-03-18T09:10:47.663904Z",
     "shell.execute_reply": "2021-03-18T09:10:47.664375Z"
    },
    "papermill": {
     "duration": 0.0705,
     "end_time": "2021-03-18T09:10:47.664555",
     "exception": false,
     "start_time": "2021-03-18T09:10:47.594055",
     "status": "completed"
    },
    "tags": []
   },
   "outputs": [
    {
     "name": "stderr",
     "output_type": "stream",
     "text": [
      "/opt/conda/lib/python3.7/site-packages/ipykernel_launcher.py:1: FutureWarning: The default value of regex will change from True to False in a future version. In addition, single character regular expressions will*not* be treated as literal strings when regex=True.\n",
      "  \"\"\"Entry point for launching an IPython kernel.\n"
     ]
    },
    {
     "data": {
      "text/html": [
       "<div>\n",
       "<style scoped>\n",
       "    .dataframe tbody tr th:only-of-type {\n",
       "        vertical-align: middle;\n",
       "    }\n",
       "\n",
       "    .dataframe tbody tr th {\n",
       "        vertical-align: top;\n",
       "    }\n",
       "\n",
       "    .dataframe thead th {\n",
       "        text-align: right;\n",
       "    }\n",
       "</style>\n",
       "<table border=\"1\" class=\"dataframe\">\n",
       "  <thead>\n",
       "    <tr style=\"text-align: right;\">\n",
       "      <th></th>\n",
       "      <th>START_DATE</th>\n",
       "      <th>END_DATE</th>\n",
       "      <th>CATEGORY</th>\n",
       "      <th>START</th>\n",
       "      <th>STOP</th>\n",
       "      <th>MILES</th>\n",
       "      <th>PURPOSE</th>\n",
       "    </tr>\n",
       "  </thead>\n",
       "  <tbody>\n",
       "    <tr>\n",
       "      <th>0</th>\n",
       "      <td>1/1/2016 21:11</td>\n",
       "      <td>1/1/2016 21:17</td>\n",
       "      <td>Business</td>\n",
       "      <td>Fort Pierce</td>\n",
       "      <td>Fort Pierce</td>\n",
       "      <td>5.1</td>\n",
       "      <td>Meal/Entertain</td>\n",
       "    </tr>\n",
       "    <tr>\n",
       "      <th>1</th>\n",
       "      <td>1/2/2016 1:25</td>\n",
       "      <td>1/2/2016 1:37</td>\n",
       "      <td>Business</td>\n",
       "      <td>Fort Pierce</td>\n",
       "      <td>Fort Pierce</td>\n",
       "      <td>5.0</td>\n",
       "      <td>NaN</td>\n",
       "    </tr>\n",
       "    <tr>\n",
       "      <th>2</th>\n",
       "      <td>1/2/2016 20:25</td>\n",
       "      <td>1/2/2016 20:38</td>\n",
       "      <td>Business</td>\n",
       "      <td>Fort Pierce</td>\n",
       "      <td>Fort Pierce</td>\n",
       "      <td>4.8</td>\n",
       "      <td>Errand/Supplies</td>\n",
       "    </tr>\n",
       "    <tr>\n",
       "      <th>3</th>\n",
       "      <td>1/5/2016 17:31</td>\n",
       "      <td>1/5/2016 17:45</td>\n",
       "      <td>Business</td>\n",
       "      <td>Fort Pierce</td>\n",
       "      <td>Fort Pierce</td>\n",
       "      <td>4.7</td>\n",
       "      <td>Meeting</td>\n",
       "    </tr>\n",
       "    <tr>\n",
       "      <th>4</th>\n",
       "      <td>1/6/2016 14:42</td>\n",
       "      <td>1/6/2016 15:49</td>\n",
       "      <td>Business</td>\n",
       "      <td>Fort Pierce</td>\n",
       "      <td>West Palm Beach</td>\n",
       "      <td>63.7</td>\n",
       "      <td>Customer Visit</td>\n",
       "    </tr>\n",
       "  </tbody>\n",
       "</table>\n",
       "</div>"
      ],
      "text/plain": [
       "       START_DATE        END_DATE  CATEGORY        START             STOP  \\\n",
       "0  1/1/2016 21:11  1/1/2016 21:17  Business  Fort Pierce      Fort Pierce   \n",
       "1   1/2/2016 1:25   1/2/2016 1:37  Business  Fort Pierce      Fort Pierce   \n",
       "2  1/2/2016 20:25  1/2/2016 20:38  Business  Fort Pierce      Fort Pierce   \n",
       "3  1/5/2016 17:31  1/5/2016 17:45  Business  Fort Pierce      Fort Pierce   \n",
       "4  1/6/2016 14:42  1/6/2016 15:49  Business  Fort Pierce  West Palm Beach   \n",
       "\n",
       "   MILES          PURPOSE  \n",
       "0    5.1   Meal/Entertain  \n",
       "1    5.0              NaN  \n",
       "2    4.8  Errand/Supplies  \n",
       "3    4.7          Meeting  \n",
       "4   63.7   Customer Visit  "
      ]
     },
     "execution_count": 3,
     "metadata": {},
     "output_type": "execute_result"
    }
   ],
   "source": [
    "df.columns=df.columns.str.replace('*','')\n",
    "df.drop(index = 1155, axis = 0, inplace = True)\n",
    "df.head()"
   ]
  },
  {
   "cell_type": "markdown",
   "metadata": {
    "papermill": {
     "duration": 0.050253,
     "end_time": "2021-03-18T09:10:47.762293",
     "exception": false,
     "start_time": "2021-03-18T09:10:47.712040",
     "status": "completed"
    },
    "tags": []
   },
   "source": [
    "Now we convert both the columns to datetime using the below function."
   ]
  },
  {
   "cell_type": "code",
   "execution_count": 4,
   "metadata": {
    "execution": {
     "iopub.execute_input": "2021-03-18T09:10:47.862540Z",
     "iopub.status.busy": "2021-03-18T09:10:47.861537Z",
     "iopub.status.idle": "2021-03-18T09:10:48.114844Z",
     "shell.execute_reply": "2021-03-18T09:10:48.114288Z"
    },
    "papermill": {
     "duration": 0.304528,
     "end_time": "2021-03-18T09:10:48.114992",
     "exception": false,
     "start_time": "2021-03-18T09:10:47.810464",
     "status": "completed"
    },
    "tags": []
   },
   "outputs": [
    {
     "name": "stdout",
     "output_type": "stream",
     "text": [
      "<class 'pandas.core.frame.DataFrame'>\n",
      "Int64Index: 1155 entries, 0 to 1154\n",
      "Data columns (total 7 columns):\n",
      " #   Column      Non-Null Count  Dtype         \n",
      "---  ------      --------------  -----         \n",
      " 0   START_DATE  1155 non-null   datetime64[ns]\n",
      " 1   END_DATE    1155 non-null   datetime64[ns]\n",
      " 2   CATEGORY    1155 non-null   object        \n",
      " 3   START       1155 non-null   object        \n",
      " 4   STOP        1155 non-null   object        \n",
      " 5   MILES       1155 non-null   float64       \n",
      " 6   PURPOSE     653 non-null    object        \n",
      "dtypes: datetime64[ns](2), float64(1), object(4)\n",
      "memory usage: 72.2+ KB\n"
     ]
    }
   ],
   "source": [
    "df['START_DATE']= pd.to_datetime(df['START_DATE'])\n",
    "df['END_DATE']= pd.to_datetime(df['END_DATE'])\n",
    "df.info();"
   ]
  },
  {
   "cell_type": "markdown",
   "metadata": {
    "papermill": {
     "duration": 0.047883,
     "end_time": "2021-03-18T09:10:48.211255",
     "exception": false,
     "start_time": "2021-03-18T09:10:48.163372",
     "status": "completed"
    },
    "tags": []
   },
   "source": [
    "### Checking null values"
   ]
  },
  {
   "cell_type": "markdown",
   "metadata": {
    "papermill": {
     "duration": 0.047941,
     "end_time": "2021-03-18T09:10:48.307408",
     "exception": false,
     "start_time": "2021-03-18T09:10:48.259467",
     "status": "completed"
    },
    "tags": []
   },
   "source": [
    "Next, we immediately notice there are some missing values in PURPOSE column.  \n",
    "Let's look into it further."
   ]
  },
  {
   "cell_type": "code",
   "execution_count": 5,
   "metadata": {
    "execution": {
     "iopub.execute_input": "2021-03-18T09:10:48.413745Z",
     "iopub.status.busy": "2021-03-18T09:10:48.412949Z",
     "iopub.status.idle": "2021-03-18T09:10:48.417409Z",
     "shell.execute_reply": "2021-03-18T09:10:48.416810Z"
    },
    "papermill": {
     "duration": 0.061605,
     "end_time": "2021-03-18T09:10:48.417548",
     "exception": false,
     "start_time": "2021-03-18T09:10:48.355943",
     "status": "completed"
    },
    "tags": []
   },
   "outputs": [
    {
     "data": {
      "text/plain": [
       "START_DATE      0\n",
       "END_DATE        0\n",
       "CATEGORY        0\n",
       "START           0\n",
       "STOP            0\n",
       "MILES           0\n",
       "PURPOSE       502\n",
       "dtype: int64"
      ]
     },
     "execution_count": 5,
     "metadata": {},
     "output_type": "execute_result"
    }
   ],
   "source": [
    "df.isnull().sum()"
   ]
  },
  {
   "cell_type": "markdown",
   "metadata": {
    "papermill": {
     "duration": 0.048455,
     "end_time": "2021-03-18T09:10:48.514571",
     "exception": false,
     "start_time": "2021-03-18T09:10:48.466116",
     "status": "completed"
    },
    "tags": []
   },
   "source": [
    "There are 502 missing values. This is almost 45% of the total observation.  \n",
    "Hence, this cannot be imputed using regular means such as average, median or mode.  "
   ]
  },
  {
   "cell_type": "markdown",
   "metadata": {
    "papermill": {
     "duration": 0.048533,
     "end_time": "2021-03-18T09:10:48.612053",
     "exception": false,
     "start_time": "2021-03-18T09:10:48.563520",
     "status": "completed"
    },
    "tags": []
   },
   "source": [
    "Our current order of priority is to predict the missing values.  \n",
    "The next few steps comprise the trial and error method of figuring out the best alternative to do so."
   ]
  },
  {
   "cell_type": "code",
   "execution_count": 6,
   "metadata": {
    "execution": {
     "iopub.execute_input": "2021-03-18T09:10:48.715819Z",
     "iopub.status.busy": "2021-03-18T09:10:48.714826Z",
     "iopub.status.idle": "2021-03-18T09:10:48.728947Z",
     "shell.execute_reply": "2021-03-18T09:10:48.728374Z"
    },
    "papermill": {
     "duration": 0.067928,
     "end_time": "2021-03-18T09:10:48.729092",
     "exception": false,
     "start_time": "2021-03-18T09:10:48.661164",
     "status": "completed"
    },
    "scrolled": true,
    "tags": []
   },
   "outputs": [
    {
     "data": {
      "text/plain": [
       "START_DATE    1154\n",
       "END_DATE      1154\n",
       "CATEGORY         2\n",
       "START          177\n",
       "STOP           188\n",
       "MILES          256\n",
       "PURPOSE         10\n",
       "dtype: int64"
      ]
     },
     "execution_count": 6,
     "metadata": {},
     "output_type": "execute_result"
    }
   ],
   "source": [
    "df.nunique()"
   ]
  },
  {
   "cell_type": "code",
   "execution_count": 7,
   "metadata": {
    "execution": {
     "iopub.execute_input": "2021-03-18T09:10:48.860832Z",
     "iopub.status.busy": "2021-03-18T09:10:48.859847Z",
     "iopub.status.idle": "2021-03-18T09:10:48.864020Z",
     "shell.execute_reply": "2021-03-18T09:10:48.864537Z"
    },
    "papermill": {
     "duration": 0.082295,
     "end_time": "2021-03-18T09:10:48.864758",
     "exception": false,
     "start_time": "2021-03-18T09:10:48.782463",
     "status": "completed"
    },
    "tags": []
   },
   "outputs": [
    {
     "data": {
      "text/plain": [
       "Meeting            187\n",
       "Meal/Entertain     160\n",
       "Errand/Supplies    128\n",
       "Customer Visit     101\n",
       "Temporary Site      50\n",
       "Between Offices     18\n",
       "Moving               4\n",
       "Airport/Travel       3\n",
       "Charity ($)          1\n",
       "Commute              1\n",
       "Name: PURPOSE, dtype: int64"
      ]
     },
     "execution_count": 7,
     "metadata": {},
     "output_type": "execute_result"
    }
   ],
   "source": [
    "df.PURPOSE.value_counts()"
   ]
  },
  {
   "cell_type": "code",
   "execution_count": 8,
   "metadata": {
    "execution": {
     "iopub.execute_input": "2021-03-18T09:10:48.981239Z",
     "iopub.status.busy": "2021-03-18T09:10:48.980256Z",
     "iopub.status.idle": "2021-03-18T09:10:48.998710Z",
     "shell.execute_reply": "2021-03-18T09:10:48.999237Z"
    },
    "papermill": {
     "duration": 0.074404,
     "end_time": "2021-03-18T09:10:48.999402",
     "exception": false,
     "start_time": "2021-03-18T09:10:48.924998",
     "status": "completed"
    },
    "tags": []
   },
   "outputs": [
    {
     "data": {
      "text/html": [
       "<div>\n",
       "<style scoped>\n",
       "    .dataframe tbody tr th:only-of-type {\n",
       "        vertical-align: middle;\n",
       "    }\n",
       "\n",
       "    .dataframe tbody tr th {\n",
       "        vertical-align: top;\n",
       "    }\n",
       "\n",
       "    .dataframe thead th {\n",
       "        text-align: right;\n",
       "    }\n",
       "</style>\n",
       "<table border=\"1\" class=\"dataframe\">\n",
       "  <thead>\n",
       "    <tr style=\"text-align: right;\">\n",
       "      <th></th>\n",
       "      <th>START_DATE</th>\n",
       "      <th>END_DATE</th>\n",
       "      <th>CATEGORY</th>\n",
       "      <th>START</th>\n",
       "      <th>STOP</th>\n",
       "      <th>MILES</th>\n",
       "      <th>PURPOSE</th>\n",
       "      <th>MINUTES</th>\n",
       "    </tr>\n",
       "  </thead>\n",
       "  <tbody>\n",
       "    <tr>\n",
       "      <th>0</th>\n",
       "      <td>2016-01-01 21:11:00</td>\n",
       "      <td>2016-01-01 21:17:00</td>\n",
       "      <td>Business</td>\n",
       "      <td>Fort Pierce</td>\n",
       "      <td>Fort Pierce</td>\n",
       "      <td>5.1</td>\n",
       "      <td>Meal/Entertain</td>\n",
       "      <td>0 days 00:06:00</td>\n",
       "    </tr>\n",
       "    <tr>\n",
       "      <th>1</th>\n",
       "      <td>2016-01-02 01:25:00</td>\n",
       "      <td>2016-01-02 01:37:00</td>\n",
       "      <td>Business</td>\n",
       "      <td>Fort Pierce</td>\n",
       "      <td>Fort Pierce</td>\n",
       "      <td>5.0</td>\n",
       "      <td>NaN</td>\n",
       "      <td>0 days 00:12:00</td>\n",
       "    </tr>\n",
       "    <tr>\n",
       "      <th>2</th>\n",
       "      <td>2016-01-02 20:25:00</td>\n",
       "      <td>2016-01-02 20:38:00</td>\n",
       "      <td>Business</td>\n",
       "      <td>Fort Pierce</td>\n",
       "      <td>Fort Pierce</td>\n",
       "      <td>4.8</td>\n",
       "      <td>Errand/Supplies</td>\n",
       "      <td>0 days 00:13:00</td>\n",
       "    </tr>\n",
       "    <tr>\n",
       "      <th>3</th>\n",
       "      <td>2016-01-05 17:31:00</td>\n",
       "      <td>2016-01-05 17:45:00</td>\n",
       "      <td>Business</td>\n",
       "      <td>Fort Pierce</td>\n",
       "      <td>Fort Pierce</td>\n",
       "      <td>4.7</td>\n",
       "      <td>Meeting</td>\n",
       "      <td>0 days 00:14:00</td>\n",
       "    </tr>\n",
       "    <tr>\n",
       "      <th>4</th>\n",
       "      <td>2016-01-06 14:42:00</td>\n",
       "      <td>2016-01-06 15:49:00</td>\n",
       "      <td>Business</td>\n",
       "      <td>Fort Pierce</td>\n",
       "      <td>West Palm Beach</td>\n",
       "      <td>63.7</td>\n",
       "      <td>Customer Visit</td>\n",
       "      <td>0 days 01:07:00</td>\n",
       "    </tr>\n",
       "  </tbody>\n",
       "</table>\n",
       "</div>"
      ],
      "text/plain": [
       "           START_DATE            END_DATE  CATEGORY        START  \\\n",
       "0 2016-01-01 21:11:00 2016-01-01 21:17:00  Business  Fort Pierce   \n",
       "1 2016-01-02 01:25:00 2016-01-02 01:37:00  Business  Fort Pierce   \n",
       "2 2016-01-02 20:25:00 2016-01-02 20:38:00  Business  Fort Pierce   \n",
       "3 2016-01-05 17:31:00 2016-01-05 17:45:00  Business  Fort Pierce   \n",
       "4 2016-01-06 14:42:00 2016-01-06 15:49:00  Business  Fort Pierce   \n",
       "\n",
       "              STOP  MILES          PURPOSE         MINUTES  \n",
       "0      Fort Pierce    5.1   Meal/Entertain 0 days 00:06:00  \n",
       "1      Fort Pierce    5.0              NaN 0 days 00:12:00  \n",
       "2      Fort Pierce    4.8  Errand/Supplies 0 days 00:13:00  \n",
       "3      Fort Pierce    4.7          Meeting 0 days 00:14:00  \n",
       "4  West Palm Beach   63.7   Customer Visit 0 days 01:07:00  "
      ]
     },
     "execution_count": 8,
     "metadata": {},
     "output_type": "execute_result"
    }
   ],
   "source": [
    "# Lets calculate the duration, as there might be some relation of it to PURPOSE of Cab ride.\n",
    "df['MINUTES'] = df.END_DATE - df.START_DATE\n",
    "df.head()"
   ]
  },
  {
   "cell_type": "code",
   "execution_count": 9,
   "metadata": {
    "execution": {
     "iopub.execute_input": "2021-03-18T09:10:49.104527Z",
     "iopub.status.busy": "2021-03-18T09:10:49.103557Z",
     "iopub.status.idle": "2021-03-18T09:10:49.138601Z",
     "shell.execute_reply": "2021-03-18T09:10:49.138102Z"
    },
    "papermill": {
     "duration": 0.088593,
     "end_time": "2021-03-18T09:10:49.138776",
     "exception": false,
     "start_time": "2021-03-18T09:10:49.050183",
     "status": "completed"
    },
    "tags": []
   },
   "outputs": [
    {
     "data": {
      "text/html": [
       "<div>\n",
       "<style scoped>\n",
       "    .dataframe tbody tr th:only-of-type {\n",
       "        vertical-align: middle;\n",
       "    }\n",
       "\n",
       "    .dataframe tbody tr th {\n",
       "        vertical-align: top;\n",
       "    }\n",
       "\n",
       "    .dataframe thead th {\n",
       "        text-align: right;\n",
       "    }\n",
       "</style>\n",
       "<table border=\"1\" class=\"dataframe\">\n",
       "  <thead>\n",
       "    <tr style=\"text-align: right;\">\n",
       "      <th></th>\n",
       "      <th>START_DATE</th>\n",
       "      <th>END_DATE</th>\n",
       "      <th>CATEGORY</th>\n",
       "      <th>START</th>\n",
       "      <th>STOP</th>\n",
       "      <th>MILES</th>\n",
       "      <th>PURPOSE</th>\n",
       "      <th>MINUTES</th>\n",
       "    </tr>\n",
       "  </thead>\n",
       "  <tbody>\n",
       "    <tr>\n",
       "      <th>0</th>\n",
       "      <td>2016-01-01 21:11:00</td>\n",
       "      <td>2016-01-01 21:17:00</td>\n",
       "      <td>Business</td>\n",
       "      <td>Fort Pierce</td>\n",
       "      <td>Fort Pierce</td>\n",
       "      <td>5.1</td>\n",
       "      <td>Meal/Entertain</td>\n",
       "      <td>6.0</td>\n",
       "    </tr>\n",
       "    <tr>\n",
       "      <th>1</th>\n",
       "      <td>2016-01-02 01:25:00</td>\n",
       "      <td>2016-01-02 01:37:00</td>\n",
       "      <td>Business</td>\n",
       "      <td>Fort Pierce</td>\n",
       "      <td>Fort Pierce</td>\n",
       "      <td>5.0</td>\n",
       "      <td>NaN</td>\n",
       "      <td>12.0</td>\n",
       "    </tr>\n",
       "    <tr>\n",
       "      <th>2</th>\n",
       "      <td>2016-01-02 20:25:00</td>\n",
       "      <td>2016-01-02 20:38:00</td>\n",
       "      <td>Business</td>\n",
       "      <td>Fort Pierce</td>\n",
       "      <td>Fort Pierce</td>\n",
       "      <td>4.8</td>\n",
       "      <td>Errand/Supplies</td>\n",
       "      <td>13.0</td>\n",
       "    </tr>\n",
       "    <tr>\n",
       "      <th>3</th>\n",
       "      <td>2016-01-05 17:31:00</td>\n",
       "      <td>2016-01-05 17:45:00</td>\n",
       "      <td>Business</td>\n",
       "      <td>Fort Pierce</td>\n",
       "      <td>Fort Pierce</td>\n",
       "      <td>4.7</td>\n",
       "      <td>Meeting</td>\n",
       "      <td>14.0</td>\n",
       "    </tr>\n",
       "    <tr>\n",
       "      <th>4</th>\n",
       "      <td>2016-01-06 14:42:00</td>\n",
       "      <td>2016-01-06 15:49:00</td>\n",
       "      <td>Business</td>\n",
       "      <td>Fort Pierce</td>\n",
       "      <td>West Palm Beach</td>\n",
       "      <td>63.7</td>\n",
       "      <td>Customer Visit</td>\n",
       "      <td>67.0</td>\n",
       "    </tr>\n",
       "  </tbody>\n",
       "</table>\n",
       "</div>"
      ],
      "text/plain": [
       "           START_DATE            END_DATE  CATEGORY        START  \\\n",
       "0 2016-01-01 21:11:00 2016-01-01 21:17:00  Business  Fort Pierce   \n",
       "1 2016-01-02 01:25:00 2016-01-02 01:37:00  Business  Fort Pierce   \n",
       "2 2016-01-02 20:25:00 2016-01-02 20:38:00  Business  Fort Pierce   \n",
       "3 2016-01-05 17:31:00 2016-01-05 17:45:00  Business  Fort Pierce   \n",
       "4 2016-01-06 14:42:00 2016-01-06 15:49:00  Business  Fort Pierce   \n",
       "\n",
       "              STOP  MILES          PURPOSE  MINUTES  \n",
       "0      Fort Pierce    5.1   Meal/Entertain      6.0  \n",
       "1      Fort Pierce    5.0              NaN     12.0  \n",
       "2      Fort Pierce    4.8  Errand/Supplies     13.0  \n",
       "3      Fort Pierce    4.7          Meeting     14.0  \n",
       "4  West Palm Beach   63.7   Customer Visit     67.0  "
      ]
     },
     "execution_count": 9,
     "metadata": {},
     "output_type": "execute_result"
    }
   ],
   "source": [
    "# As Duration is in datetime format, we need to convert it to float type in order to use it for analysis.\n",
    "df['MINUTES'] = df['MINUTES'].dt.total_seconds() /60\n",
    "df.head()"
   ]
  },
  {
   "cell_type": "markdown",
   "metadata": {
    "papermill": {
     "duration": 0.050586,
     "end_time": "2021-03-18T09:10:49.240140",
     "exception": false,
     "start_time": "2021-03-18T09:10:49.189554",
     "status": "completed"
    },
    "tags": []
   },
   "source": [
    "Grouping Purpose by Miles to see if we can get any pattern."
   ]
  },
  {
   "cell_type": "code",
   "execution_count": 10,
   "metadata": {
    "execution": {
     "iopub.execute_input": "2021-03-18T09:10:49.367491Z",
     "iopub.status.busy": "2021-03-18T09:10:49.366539Z",
     "iopub.status.idle": "2021-03-18T09:10:49.370876Z",
     "shell.execute_reply": "2021-03-18T09:10:49.371413Z"
    },
    "papermill": {
     "duration": 0.080657,
     "end_time": "2021-03-18T09:10:49.371589",
     "exception": false,
     "start_time": "2021-03-18T09:10:49.290932",
     "status": "completed"
    },
    "tags": []
   },
   "outputs": [
    {
     "data": {
      "text/html": [
       "<div>\n",
       "<style scoped>\n",
       "    .dataframe tbody tr th:only-of-type {\n",
       "        vertical-align: middle;\n",
       "    }\n",
       "\n",
       "    .dataframe tbody tr th {\n",
       "        vertical-align: top;\n",
       "    }\n",
       "\n",
       "    .dataframe thead th {\n",
       "        text-align: right;\n",
       "    }\n",
       "</style>\n",
       "<table border=\"1\" class=\"dataframe\">\n",
       "  <thead>\n",
       "    <tr style=\"text-align: right;\">\n",
       "      <th></th>\n",
       "      <th>PURPOSE</th>\n",
       "      <th>MEAN</th>\n",
       "      <th>MIN</th>\n",
       "      <th>MAX</th>\n",
       "    </tr>\n",
       "  </thead>\n",
       "  <tbody>\n",
       "    <tr>\n",
       "      <th>0</th>\n",
       "      <td>Airport/Travel</td>\n",
       "      <td>5.5</td>\n",
       "      <td>4.1</td>\n",
       "      <td>7.6</td>\n",
       "    </tr>\n",
       "    <tr>\n",
       "      <th>1</th>\n",
       "      <td>Between Offices</td>\n",
       "      <td>10.9</td>\n",
       "      <td>1.9</td>\n",
       "      <td>39.2</td>\n",
       "    </tr>\n",
       "    <tr>\n",
       "      <th>2</th>\n",
       "      <td>Charity ($)</td>\n",
       "      <td>15.1</td>\n",
       "      <td>15.1</td>\n",
       "      <td>15.1</td>\n",
       "    </tr>\n",
       "    <tr>\n",
       "      <th>3</th>\n",
       "      <td>Commute</td>\n",
       "      <td>180.2</td>\n",
       "      <td>180.2</td>\n",
       "      <td>180.2</td>\n",
       "    </tr>\n",
       "    <tr>\n",
       "      <th>4</th>\n",
       "      <td>Customer Visit</td>\n",
       "      <td>20.7</td>\n",
       "      <td>0.8</td>\n",
       "      <td>310.3</td>\n",
       "    </tr>\n",
       "    <tr>\n",
       "      <th>5</th>\n",
       "      <td>Errand/Supplies</td>\n",
       "      <td>4.0</td>\n",
       "      <td>0.5</td>\n",
       "      <td>22.3</td>\n",
       "    </tr>\n",
       "    <tr>\n",
       "      <th>6</th>\n",
       "      <td>Meal/Entertain</td>\n",
       "      <td>5.7</td>\n",
       "      <td>0.6</td>\n",
       "      <td>36.5</td>\n",
       "    </tr>\n",
       "    <tr>\n",
       "      <th>7</th>\n",
       "      <td>Meeting</td>\n",
       "      <td>15.2</td>\n",
       "      <td>0.7</td>\n",
       "      <td>201.0</td>\n",
       "    </tr>\n",
       "    <tr>\n",
       "      <th>8</th>\n",
       "      <td>Moving</td>\n",
       "      <td>4.6</td>\n",
       "      <td>3.3</td>\n",
       "      <td>6.1</td>\n",
       "    </tr>\n",
       "    <tr>\n",
       "      <th>9</th>\n",
       "      <td>Temporary Site</td>\n",
       "      <td>10.5</td>\n",
       "      <td>1.8</td>\n",
       "      <td>48.2</td>\n",
       "    </tr>\n",
       "  </tbody>\n",
       "</table>\n",
       "</div>"
      ],
      "text/plain": [
       "           PURPOSE   MEAN    MIN    MAX\n",
       "0   Airport/Travel    5.5    4.1    7.6\n",
       "1  Between Offices   10.9    1.9   39.2\n",
       "2      Charity ($)   15.1   15.1   15.1\n",
       "3          Commute  180.2  180.2  180.2\n",
       "4   Customer Visit   20.7    0.8  310.3\n",
       "5  Errand/Supplies    4.0    0.5   22.3\n",
       "6   Meal/Entertain    5.7    0.6   36.5\n",
       "7          Meeting   15.2    0.7  201.0\n",
       "8           Moving    4.6    3.3    6.1\n",
       "9   Temporary Site   10.5    1.8   48.2"
      ]
     },
     "execution_count": 10,
     "metadata": {},
     "output_type": "execute_result"
    }
   ],
   "source": [
    "pd.DataFrame({'MEAN': df.groupby(['PURPOSE'])['MILES'].mean().round(1), \n",
    "              'MIN' : df.groupby(['PURPOSE'])['MILES'].min(), \n",
    "              'MAX' : df.groupby([\"PURPOSE\"])['MILES'].max()}).reset_index()"
   ]
  },
  {
   "cell_type": "markdown",
   "metadata": {
    "papermill": {
     "duration": 0.051518,
     "end_time": "2021-03-18T09:10:49.476515",
     "exception": false,
     "start_time": "2021-03-18T09:10:49.424997",
     "status": "completed"
    },
    "tags": []
   },
   "source": [
    "Lets use boxplot to better visualize the spread."
   ]
  },
  {
   "cell_type": "markdown",
   "metadata": {
    "papermill": {
     "duration": 0.051374,
     "end_time": "2021-03-18T09:10:49.579550",
     "exception": false,
     "start_time": "2021-03-18T09:10:49.528176",
     "status": "completed"
    },
    "tags": []
   },
   "source": [
    "## Boxplots of MILES and MINUTES split by PURPOSE"
   ]
  },
  {
   "cell_type": "code",
   "execution_count": 11,
   "metadata": {
    "execution": {
     "iopub.execute_input": "2021-03-18T09:10:49.687291Z",
     "iopub.status.busy": "2021-03-18T09:10:49.686584Z",
     "iopub.status.idle": "2021-03-18T09:10:50.383149Z",
     "shell.execute_reply": "2021-03-18T09:10:50.383705Z"
    },
    "papermill": {
     "duration": 0.75283,
     "end_time": "2021-03-18T09:10:50.383891",
     "exception": false,
     "start_time": "2021-03-18T09:10:49.631061",
     "status": "completed"
    },
    "tags": []
   },
   "outputs": [
    {
     "data": {
      "image/png": "[encoded data removed]",
      "text/plain": [
       "<Figure size 1152x504 with 2 Axes>"
      ]
     },
     "metadata": {
      "needs_background": "light"
     },
     "output_type": "display_data"
    }
   ],
   "source": [
    "plt.figure(figsize=(16,7))\n",
    "plt.subplot(1,2,1)\n",
    "sns.boxplot(data=df, x=df.PURPOSE, y=df.MILES)\n",
    "plt.xticks(rotation=45)\n",
    "plt.subplot(1,2,2)\n",
    "sns.boxplot(data=df, x=df.PURPOSE, y=df.MINUTES)\n",
    "plt.xticks(rotation=45);"
   ]
  },
  {
   "cell_type": "markdown",
   "metadata": {
    "papermill": {
     "duration": 0.053342,
     "end_time": "2021-03-18T09:10:50.490786",
     "exception": false,
     "start_time": "2021-03-18T09:10:50.437444",
     "status": "completed"
    },
    "tags": []
   },
   "source": [
    "## Boxplots of MILES and MINUTES based on PURPOSE without outliers"
   ]
  },
  {
   "cell_type": "code",
   "execution_count": 12,
   "metadata": {
    "execution": {
     "iopub.execute_input": "2021-03-18T09:10:50.601456Z",
     "iopub.status.busy": "2021-03-18T09:10:50.600724Z",
     "iopub.status.idle": "2021-03-18T09:10:51.159345Z",
     "shell.execute_reply": "2021-03-18T09:10:51.158707Z"
    },
    "papermill": {
     "duration": 0.6151,
     "end_time": "2021-03-18T09:10:51.159491",
     "exception": false,
     "start_time": "2021-03-18T09:10:50.544391",
     "status": "completed"
    },
    "tags": []
   },
   "outputs": [
    {
     "data": {
      "image/png": "[encoded data removed]",
      "text/plain": [
       "<Figure size 1152x504 with 2 Axes>"
      ]
     },
     "metadata": {
      "needs_background": "light"
     },
     "output_type": "display_data"
    }
   ],
   "source": [
    "plt.figure(figsize=(16,7))\n",
    "plt.subplot(1,2,1)\n",
    "sns.boxplot(data=df, x=df.PURPOSE, y=df.MILES,showfliers=False)\n",
    "plt.xticks(rotation=45)\n",
    "plt.subplot(1,2,2)\n",
    "sns.boxplot(data=df, x=df.PURPOSE, y=df.MINUTES,showfliers=False)\n",
    "plt.xticks(rotation=45);"
   ]
  },
  {
   "cell_type": "code",
   "execution_count": 13,
   "metadata": {
    "execution": {
     "iopub.execute_input": "2021-03-18T09:10:51.275151Z",
     "iopub.status.busy": "2021-03-18T09:10:51.274468Z",
     "iopub.status.idle": "2021-03-18T09:10:51.278651Z",
     "shell.execute_reply": "2021-03-18T09:10:51.277975Z"
    },
    "papermill": {
     "duration": 0.064499,
     "end_time": "2021-03-18T09:10:51.278802",
     "exception": false,
     "start_time": "2021-03-18T09:10:51.214303",
     "status": "completed"
    },
    "tags": []
   },
   "outputs": [],
   "source": [
    "df_new = df[df['PURPOSE'].isin(['Commute','Charity ($)','Moving','Airport/Travel']) == False]"
   ]
  },
  {
   "cell_type": "code",
   "execution_count": 14,
   "metadata": {
    "execution": {
     "iopub.execute_input": "2021-03-18T09:10:51.393881Z",
     "iopub.status.busy": "2021-03-18T09:10:51.391736Z",
     "iopub.status.idle": "2021-03-18T09:10:51.396878Z",
     "shell.execute_reply": "2021-03-18T09:10:51.397601Z"
    },
    "papermill": {
     "duration": 0.063999,
     "end_time": "2021-03-18T09:10:51.397797",
     "exception": false,
     "start_time": "2021-03-18T09:10:51.333798",
     "status": "completed"
    },
    "tags": []
   },
   "outputs": [
    {
     "data": {
      "text/plain": [
       "(1146, 8)"
      ]
     },
     "execution_count": 14,
     "metadata": {},
     "output_type": "execute_result"
    }
   ],
   "source": [
    "df_new.shape"
   ]
  },
  {
   "cell_type": "code",
   "execution_count": 15,
   "metadata": {
    "execution": {
     "iopub.execute_input": "2021-03-18T09:10:51.517059Z",
     "iopub.status.busy": "2021-03-18T09:10:51.515988Z",
     "iopub.status.idle": "2021-03-18T09:10:51.520907Z",
     "shell.execute_reply": "2021-03-18T09:10:51.520327Z"
    },
    "papermill": {
     "duration": 0.067008,
     "end_time": "2021-03-18T09:10:51.521053",
     "exception": false,
     "start_time": "2021-03-18T09:10:51.454045",
     "status": "completed"
    },
    "tags": []
   },
   "outputs": [
    {
     "data": {
      "text/plain": [
       "Meeting            187\n",
       "Meal/Entertain     160\n",
       "Errand/Supplies    128\n",
       "Customer Visit     101\n",
       "Temporary Site      50\n",
       "Between Offices     18\n",
       "Name: PURPOSE, dtype: int64"
      ]
     },
     "execution_count": 15,
     "metadata": {},
     "output_type": "execute_result"
    }
   ],
   "source": [
    "df_new.PURPOSE.value_counts()"
   ]
  },
  {
   "cell_type": "code",
   "execution_count": 16,
   "metadata": {
    "execution": {
     "iopub.execute_input": "2021-03-18T09:10:51.640852Z",
     "iopub.status.busy": "2021-03-18T09:10:51.637790Z",
     "iopub.status.idle": "2021-03-18T09:10:51.644790Z",
     "shell.execute_reply": "2021-03-18T09:10:51.645301Z"
    },
    "papermill": {
     "duration": 0.06863,
     "end_time": "2021-03-18T09:10:51.645479",
     "exception": false,
     "start_time": "2021-03-18T09:10:51.576849",
     "status": "completed"
    },
    "tags": []
   },
   "outputs": [
    {
     "data": {
      "text/plain": [
       "PURPOSE\n",
       "Between Offices    10.944\n",
       "Customer Visit     20.688\n",
       "Errand/Supplies     3.969\n",
       "Meal/Entertain      5.698\n",
       "Meeting            15.248\n",
       "Temporary Site     10.474\n",
       "Name: MILES, dtype: float64"
      ]
     },
     "execution_count": 16,
     "metadata": {},
     "output_type": "execute_result"
    }
   ],
   "source": [
    "df_new.groupby(df_new.PURPOSE)['MILES'].mean().round(3)"
   ]
  },
  {
   "cell_type": "markdown",
   "metadata": {
    "papermill": {
     "duration": 0.056985,
     "end_time": "2021-03-18T09:10:51.760035",
     "exception": false,
     "start_time": "2021-03-18T09:10:51.703050",
     "status": "completed"
    },
    "tags": []
   },
   "source": [
    "After trying multiple approaches, I've decided to predict the missing values using Decision Tree algorithm."
   ]
  },
  {
   "cell_type": "code",
   "execution_count": 17,
   "metadata": {
    "execution": {
     "iopub.execute_input": "2021-03-18T09:10:51.875927Z",
     "iopub.status.busy": "2021-03-18T09:10:51.875257Z",
     "iopub.status.idle": "2021-03-18T09:10:51.892258Z",
     "shell.execute_reply": "2021-03-18T09:10:51.892720Z"
    },
    "papermill": {
     "duration": 0.076552,
     "end_time": "2021-03-18T09:10:51.892900",
     "exception": false,
     "start_time": "2021-03-18T09:10:51.816348",
     "status": "completed"
    },
    "scrolled": true,
    "tags": []
   },
   "outputs": [
    {
     "data": {
      "text/html": [
       "<div>\n",
       "<style scoped>\n",
       "    .dataframe tbody tr th:only-of-type {\n",
       "        vertical-align: middle;\n",
       "    }\n",
       "\n",
       "    .dataframe tbody tr th {\n",
       "        vertical-align: top;\n",
       "    }\n",
       "\n",
       "    .dataframe thead th {\n",
       "        text-align: right;\n",
       "    }\n",
       "</style>\n",
       "<table border=\"1\" class=\"dataframe\">\n",
       "  <thead>\n",
       "    <tr style=\"text-align: right;\">\n",
       "      <th></th>\n",
       "      <th>START_DATE</th>\n",
       "      <th>END_DATE</th>\n",
       "      <th>CATEGORY</th>\n",
       "      <th>START</th>\n",
       "      <th>STOP</th>\n",
       "      <th>MILES</th>\n",
       "      <th>PURPOSE</th>\n",
       "      <th>MINUTES</th>\n",
       "    </tr>\n",
       "  </thead>\n",
       "  <tbody>\n",
       "    <tr>\n",
       "      <th>1</th>\n",
       "      <td>2016-01-02 01:25:00</td>\n",
       "      <td>2016-01-02 01:37:00</td>\n",
       "      <td>Business</td>\n",
       "      <td>Fort Pierce</td>\n",
       "      <td>Fort Pierce</td>\n",
       "      <td>5.0</td>\n",
       "      <td>NaN</td>\n",
       "      <td>12.0</td>\n",
       "    </tr>\n",
       "    <tr>\n",
       "      <th>32</th>\n",
       "      <td>2016-01-19 09:09:00</td>\n",
       "      <td>2016-01-19 09:23:00</td>\n",
       "      <td>Business</td>\n",
       "      <td>Whitebridge</td>\n",
       "      <td>Lake Wellingborough</td>\n",
       "      <td>7.2</td>\n",
       "      <td>NaN</td>\n",
       "      <td>14.0</td>\n",
       "    </tr>\n",
       "    <tr>\n",
       "      <th>85</th>\n",
       "      <td>2016-02-09 10:54:00</td>\n",
       "      <td>2016-02-09 11:07:00</td>\n",
       "      <td>Personal</td>\n",
       "      <td>Whitebridge</td>\n",
       "      <td>Northwoods</td>\n",
       "      <td>5.3</td>\n",
       "      <td>NaN</td>\n",
       "      <td>13.0</td>\n",
       "    </tr>\n",
       "    <tr>\n",
       "      <th>86</th>\n",
       "      <td>2016-02-09 11:43:00</td>\n",
       "      <td>2016-02-09 11:50:00</td>\n",
       "      <td>Personal</td>\n",
       "      <td>Northwoods</td>\n",
       "      <td>Tanglewood</td>\n",
       "      <td>3.0</td>\n",
       "      <td>NaN</td>\n",
       "      <td>7.0</td>\n",
       "    </tr>\n",
       "    <tr>\n",
       "      <th>87</th>\n",
       "      <td>2016-02-09 13:36:00</td>\n",
       "      <td>2016-02-09 13:52:00</td>\n",
       "      <td>Personal</td>\n",
       "      <td>Tanglewood</td>\n",
       "      <td>Preston</td>\n",
       "      <td>5.1</td>\n",
       "      <td>NaN</td>\n",
       "      <td>16.0</td>\n",
       "    </tr>\n",
       "  </tbody>\n",
       "</table>\n",
       "</div>"
      ],
      "text/plain": [
       "            START_DATE            END_DATE  CATEGORY        START  \\\n",
       "1  2016-01-02 01:25:00 2016-01-02 01:37:00  Business  Fort Pierce   \n",
       "32 2016-01-19 09:09:00 2016-01-19 09:23:00  Business  Whitebridge   \n",
       "85 2016-02-09 10:54:00 2016-02-09 11:07:00  Personal  Whitebridge   \n",
       "86 2016-02-09 11:43:00 2016-02-09 11:50:00  Personal   Northwoods   \n",
       "87 2016-02-09 13:36:00 2016-02-09 13:52:00  Personal   Tanglewood   \n",
       "\n",
       "                   STOP  MILES PURPOSE  MINUTES  \n",
       "1           Fort Pierce    5.0     NaN     12.0  \n",
       "32  Lake Wellingborough    7.2     NaN     14.0  \n",
       "85           Northwoods    5.3     NaN     13.0  \n",
       "86           Tanglewood    3.0     NaN      7.0  \n",
       "87              Preston    5.1     NaN     16.0  "
      ]
     },
     "execution_count": 17,
     "metadata": {},
     "output_type": "execute_result"
    }
   ],
   "source": [
    "df_na = df[df.PURPOSE.isna()]\n",
    "df_na.head()"
   ]
  },
  {
   "cell_type": "code",
   "execution_count": 18,
   "metadata": {
    "execution": {
     "iopub.execute_input": "2021-03-18T09:10:52.012987Z",
     "iopub.status.busy": "2021-03-18T09:10:52.012330Z",
     "iopub.status.idle": "2021-03-18T09:10:52.491702Z",
     "shell.execute_reply": "2021-03-18T09:10:52.491014Z"
    },
    "papermill": {
     "duration": 0.540354,
     "end_time": "2021-03-18T09:10:52.491844",
     "exception": false,
     "start_time": "2021-03-18T09:10:51.951490",
     "status": "completed"
    },
    "tags": []
   },
   "outputs": [],
   "source": [
    "# Initiating Decision Tree Algorithm\n",
    "from sklearn.tree import DecisionTreeClassifier\n",
    "dtree = DecisionTreeClassifier(criterion='entropy')"
   ]
  },
  {
   "cell_type": "code",
   "execution_count": 19,
   "metadata": {
    "execution": {
     "iopub.execute_input": "2021-03-18T09:10:52.618452Z",
     "iopub.status.busy": "2021-03-18T09:10:52.613386Z",
     "iopub.status.idle": "2021-03-18T09:10:52.634638Z",
     "shell.execute_reply": "2021-03-18T09:10:52.635101Z"
    },
    "papermill": {
     "duration": 0.08682,
     "end_time": "2021-03-18T09:10:52.635276",
     "exception": false,
     "start_time": "2021-03-18T09:10:52.548456",
     "status": "completed"
    },
    "tags": []
   },
   "outputs": [
    {
     "data": {
      "text/plain": [
       "DecisionTreeClassifier(criterion='entropy')"
      ]
     },
     "execution_count": 19,
     "metadata": {},
     "output_type": "execute_result"
    }
   ],
   "source": [
    "# Dropping NA values for train dataset\n",
    "df_a = df.dropna()\n",
    "\n",
    "# Splitting dataset into independent and dependent variables\n",
    "X = df_a[['CATEGORY','MILES','MINUTES']]\n",
    "y = df_a.PURPOSE\n",
    "\n",
    "# As X has categorical variables, converting all to numeric type using one hot encoding\n",
    "X = pd.get_dummies(X, drop_first = True)\n",
    "\n",
    "# Training dtree model \n",
    "dtree.fit(X,y)\n"
   ]
  },
  {
   "cell_type": "code",
   "execution_count": 20,
   "metadata": {
    "execution": {
     "iopub.execute_input": "2021-03-18T09:10:52.754150Z",
     "iopub.status.busy": "2021-03-18T09:10:52.753170Z",
     "iopub.status.idle": "2021-03-18T09:10:52.768272Z",
     "shell.execute_reply": "2021-03-18T09:10:52.767608Z"
    },
    "papermill": {
     "duration": 0.075488,
     "end_time": "2021-03-18T09:10:52.768418",
     "exception": false,
     "start_time": "2021-03-18T09:10:52.692930",
     "status": "completed"
    },
    "tags": []
   },
   "outputs": [
    {
     "data": {
      "text/plain": [
       "(502,)"
      ]
     },
     "execution_count": 20,
     "metadata": {},
     "output_type": "execute_result"
    }
   ],
   "source": [
    "# Storing rows with null values in X_na\n",
    "X_na = df_na[['CATEGORY','MILES','MINUTES']]\n",
    "\n",
    "# Performing one-hot encoding\n",
    "X_na = pd.get_dummies(X_na, drop_first = True)\n",
    "\n",
    "# Making the predictions using dtree model\n",
    "preds = dtree.predict(X_na)\n",
    "preds.shape"
   ]
  },
  {
   "cell_type": "code",
   "execution_count": 21,
   "metadata": {
    "execution": {
     "iopub.execute_input": "2021-03-18T09:10:52.891227Z",
     "iopub.status.busy": "2021-03-18T09:10:52.890504Z",
     "iopub.status.idle": "2021-03-18T09:10:52.893753Z",
     "shell.execute_reply": "2021-03-18T09:10:52.893174Z"
    },
    "papermill": {
     "duration": 0.067613,
     "end_time": "2021-03-18T09:10:52.893899",
     "exception": false,
     "start_time": "2021-03-18T09:10:52.826286",
     "status": "completed"
    },
    "tags": []
   },
   "outputs": [],
   "source": [
    "X_na['PURPOSE'] = preds\n",
    "df['PURPOSE'].fillna(X_na['PURPOSE'], inplace = True)"
   ]
  },
  {
   "cell_type": "code",
   "execution_count": 22,
   "metadata": {
    "execution": {
     "iopub.execute_input": "2021-03-18T09:10:53.019003Z",
     "iopub.status.busy": "2021-03-18T09:10:53.018029Z",
     "iopub.status.idle": "2021-03-18T09:10:53.021940Z",
     "shell.execute_reply": "2021-03-18T09:10:53.022433Z"
    },
    "papermill": {
     "duration": 0.070439,
     "end_time": "2021-03-18T09:10:53.022614",
     "exception": false,
     "start_time": "2021-03-18T09:10:52.952175",
     "status": "completed"
    },
    "tags": []
   },
   "outputs": [
    {
     "data": {
      "text/plain": [
       "START_DATE    0\n",
       "END_DATE      0\n",
       "CATEGORY      0\n",
       "START         0\n",
       "STOP          0\n",
       "MILES         0\n",
       "PURPOSE       0\n",
       "MINUTES       0\n",
       "dtype: int64"
      ]
     },
     "execution_count": 22,
     "metadata": {},
     "output_type": "execute_result"
    }
   ],
   "source": [
    "# Lets check if all missing values have been filled\n",
    "df.isnull().sum()"
   ]
  },
  {
   "cell_type": "code",
   "execution_count": 23,
   "metadata": {
    "execution": {
     "iopub.execute_input": "2021-03-18T09:10:53.144303Z",
     "iopub.status.busy": "2021-03-18T09:10:53.143330Z",
     "iopub.status.idle": "2021-03-18T09:10:53.152118Z",
     "shell.execute_reply": "2021-03-18T09:10:53.151584Z"
    },
    "papermill": {
     "duration": 0.07026,
     "end_time": "2021-03-18T09:10:53.152265",
     "exception": false,
     "start_time": "2021-03-18T09:10:53.082005",
     "status": "completed"
    },
    "tags": []
   },
   "outputs": [
    {
     "data": {
      "text/plain": [
       "Meeting            290\n",
       "Errand/Supplies    257\n",
       "Meal/Entertain     256\n",
       "Customer Visit     174\n",
       "Temporary Site      77\n",
       "Moving              59\n",
       "Between Offices     27\n",
       "Charity ($)         10\n",
       "Airport/Travel       4\n",
       "Commute              1\n",
       "Name: PURPOSE, dtype: int64"
      ]
     },
     "execution_count": 23,
     "metadata": {},
     "output_type": "execute_result"
    }
   ],
   "source": [
    "# Lets check the difference in the PURPOSE variable\n",
    "df.PURPOSE.value_counts()"
   ]
  },
  {
   "cell_type": "code",
   "execution_count": 24,
   "metadata": {
    "execution": {
     "iopub.execute_input": "2021-03-18T09:10:53.277659Z",
     "iopub.status.busy": "2021-03-18T09:10:53.276980Z",
     "iopub.status.idle": "2021-03-18T09:10:53.281137Z",
     "shell.execute_reply": "2021-03-18T09:10:53.280618Z"
    },
    "papermill": {
     "duration": 0.070093,
     "end_time": "2021-03-18T09:10:53.281285",
     "exception": false,
     "start_time": "2021-03-18T09:10:53.211192",
     "status": "completed"
    },
    "tags": []
   },
   "outputs": [
    {
     "data": {
      "text/plain": [
       "Errand/Supplies    129\n",
       "Meeting            103\n",
       "Meal/Entertain      96\n",
       "Customer Visit      73\n",
       "Moving              55\n",
       "Temporary Site      27\n",
       "Charity ($)          9\n",
       "Between Offices      9\n",
       "Airport/Travel       1\n",
       "Name: PURPOSE, dtype: int64"
      ]
     },
     "execution_count": 24,
     "metadata": {},
     "output_type": "execute_result"
    }
   ],
   "source": [
    "X_na.PURPOSE.value_counts()"
   ]
  },
  {
   "cell_type": "markdown",
   "metadata": {
    "papermill": {
     "duration": 0.058904,
     "end_time": "2021-03-18T09:10:53.399239",
     "exception": false,
     "start_time": "2021-03-18T09:10:53.340335",
     "status": "completed"
    },
    "tags": []
   },
   "source": [
    "  "
   ]
  },
  {
   "cell_type": "markdown",
   "metadata": {
    "papermill": {
     "duration": 0.058867,
     "end_time": "2021-03-18T09:10:53.517342",
     "exception": false,
     "start_time": "2021-03-18T09:10:53.458475",
     "status": "completed"
    },
    "tags": []
   },
   "source": [
    "  "
   ]
  },
  {
   "cell_type": "markdown",
   "metadata": {
    "papermill": {
     "duration": 0.058715,
     "end_time": "2021-03-18T09:10:53.635310",
     "exception": false,
     "start_time": "2021-03-18T09:10:53.576595",
     "status": "completed"
    },
    "tags": []
   },
   "source": [
    "  "
   ]
  },
  {
   "cell_type": "markdown",
   "metadata": {
    "papermill": {
     "duration": 0.058795,
     "end_time": "2021-03-18T09:10:53.754233",
     "exception": false,
     "start_time": "2021-03-18T09:10:53.695438",
     "status": "completed"
    },
    "tags": []
   },
   "source": [
    "Now that we have all the date, let's see what all inferences can we draw from this data."
   ]
  },
  {
   "cell_type": "markdown",
   "metadata": {
    "papermill": {
     "duration": 0.059394,
     "end_time": "2021-03-18T09:10:53.873123",
     "exception": false,
     "start_time": "2021-03-18T09:10:53.813729",
     "status": "completed"
    },
    "tags": []
   },
   "source": [
    "  "
   ]
  },
  {
   "cell_type": "markdown",
   "metadata": {
    "papermill": {
     "duration": 0.059578,
     "end_time": "2021-03-18T09:10:53.992654",
     "exception": false,
     "start_time": "2021-03-18T09:10:53.933076",
     "status": "completed"
    },
    "tags": []
   },
   "source": [
    "# 1. How does the PURPOSE of Cab ride vary with time and distance?"
   ]
  },
  {
   "cell_type": "markdown",
   "metadata": {
    "papermill": {
     "duration": 0.058848,
     "end_time": "2021-03-18T09:10:54.110434",
     "exception": false,
     "start_time": "2021-03-18T09:10:54.051586",
     "status": "completed"
    },
    "tags": []
   },
   "source": [
    "### Boxplots of MILES and MINUTES based on PURPOSE (without outliers)"
   ]
  },
  {
   "cell_type": "code",
   "execution_count": 25,
   "metadata": {
    "execution": {
     "iopub.execute_input": "2021-03-18T09:10:54.263034Z",
     "iopub.status.busy": "2021-03-18T09:10:54.262350Z",
     "iopub.status.idle": "2021-03-18T09:10:54.785542Z",
     "shell.execute_reply": "2021-03-18T09:10:54.786078Z"
    },
    "papermill": {
     "duration": 0.61645,
     "end_time": "2021-03-18T09:10:54.786264",
     "exception": false,
     "start_time": "2021-03-18T09:10:54.169814",
     "status": "completed"
    },
    "scrolled": false,
    "tags": []
   },
   "outputs": [
    {
     "data": {
      "image/png": "[encoded data removed]",
      "text/plain": [
       "<Figure size 1152x504 with 2 Axes>"
      ]
     },
     "metadata": {
      "needs_background": "light"
     },
     "output_type": "display_data"
    }
   ],
   "source": [
    "plt.figure(figsize=(16,7))\n",
    "plt.subplot(1,2,1)\n",
    "sns.boxplot(data=df, x=df.PURPOSE, y=df.MILES, showfliers = False)\n",
    "plt.xticks(rotation = 45)\n",
    "plt.subplot(1,2,2)\n",
    "sns.boxplot(data=df, x=df.PURPOSE, y=df.MINUTES, showfliers = False)\n",
    "plt.xticks(rotation = 45);"
   ]
  },
  {
   "cell_type": "markdown",
   "metadata": {
    "papermill": {
     "duration": 0.061485,
     "end_time": "2021-03-18T09:10:54.908653",
     "exception": false,
     "start_time": "2021-03-18T09:10:54.847168",
     "status": "completed"
    },
    "tags": []
   },
   "source": [
    "## Boxplots of MILES and MINUTES based on PURPOSE (with outliers)"
   ]
  },
  {
   "cell_type": "code",
   "execution_count": 26,
   "metadata": {
    "execution": {
     "iopub.execute_input": "2021-03-18T09:10:55.180903Z",
     "iopub.status.busy": "2021-03-18T09:10:55.177995Z",
     "iopub.status.idle": "2021-03-18T09:10:55.729116Z",
     "shell.execute_reply": "2021-03-18T09:10:55.729650Z"
    },
    "papermill": {
     "duration": 0.759899,
     "end_time": "2021-03-18T09:10:55.729826",
     "exception": false,
     "start_time": "2021-03-18T09:10:54.969927",
     "status": "completed"
    },
    "tags": []
   },
   "outputs": [
    {
     "data": {
      "image/png": "[encoded data removed]",
      "text/plain": [
       "<Figure size 1152x504 with 2 Axes>"
      ]
     },
     "metadata": {
      "needs_background": "light"
     },
     "output_type": "display_data"
    }
   ],
   "source": [
    "plt.figure(figsize=(16,7))\n",
    "plt.subplot(1,2,1)\n",
    "sns.boxplot(data=df, x=df.PURPOSE, y=df.MILES)\n",
    "plt.xticks(rotation = 45)\n",
    "plt.subplot(1,2,2)\n",
    "sns.boxplot(data=df, x=df.PURPOSE, y=df.MINUTES)\n",
    "plt.xticks(rotation = 45);"
   ]
  },
  {
   "cell_type": "markdown",
   "metadata": {
    "papermill": {
     "duration": 0.061375,
     "end_time": "2021-03-18T09:10:55.853434",
     "exception": false,
     "start_time": "2021-03-18T09:10:55.792059",
     "status": "completed"
    },
    "tags": []
   },
   "source": [
    "We have successfully filled the missing values.  \n",
    "Now that our dataset is complete, lets proceed to visualizing the data using meaningful plots."
   ]
  },
  {
   "cell_type": "code",
   "execution_count": 27,
   "metadata": {
    "execution": {
     "iopub.execute_input": "2021-03-18T09:10:55.985772Z",
     "iopub.status.busy": "2021-03-18T09:10:55.985083Z",
     "iopub.status.idle": "2021-03-18T09:10:55.994007Z",
     "shell.execute_reply": "2021-03-18T09:10:55.993482Z"
    },
    "papermill": {
     "duration": 0.077336,
     "end_time": "2021-03-18T09:10:55.994163",
     "exception": false,
     "start_time": "2021-03-18T09:10:55.916827",
     "status": "completed"
    },
    "tags": []
   },
   "outputs": [
    {
     "data": {
      "text/plain": [
       "START_DATE    1154\n",
       "END_DATE      1154\n",
       "CATEGORY         2\n",
       "START          177\n",
       "STOP           188\n",
       "MILES          256\n",
       "PURPOSE         10\n",
       "MINUTES         99\n",
       "dtype: int64"
      ]
     },
     "execution_count": 27,
     "metadata": {},
     "output_type": "execute_result"
    }
   ],
   "source": [
    "df.nunique()"
   ]
  },
  {
   "cell_type": "markdown",
   "metadata": {
    "papermill": {
     "duration": 0.063244,
     "end_time": "2021-03-18T09:10:56.120186",
     "exception": false,
     "start_time": "2021-03-18T09:10:56.056942",
     "status": "completed"
    },
    "tags": []
   },
   "source": [
    "First, we will look at the relationship between the distance (MILES) and time taken (MINUTES)."
   ]
  },
  {
   "cell_type": "markdown",
   "metadata": {
    "papermill": {
     "duration": 0.062514,
     "end_time": "2021-03-18T09:10:56.245662",
     "exception": false,
     "start_time": "2021-03-18T09:10:56.183148",
     "status": "completed"
    },
    "tags": []
   },
   "source": [
    "  "
   ]
  },
  {
   "cell_type": "markdown",
   "metadata": {
    "papermill": {
     "duration": 0.062277,
     "end_time": "2021-03-18T09:10:56.370893",
     "exception": false,
     "start_time": "2021-03-18T09:10:56.308616",
     "status": "completed"
    },
    "tags": []
   },
   "source": [
    "  "
   ]
  },
  {
   "cell_type": "markdown",
   "metadata": {
    "papermill": {
     "duration": 0.06195,
     "end_time": "2021-03-18T09:10:56.498230",
     "exception": false,
     "start_time": "2021-03-18T09:10:56.436280",
     "status": "completed"
    },
    "tags": []
   },
   "source": [
    "# 2. Is the distance proportional to the duration?"
   ]
  },
  {
   "cell_type": "markdown",
   "metadata": {
    "papermill": {
     "duration": 0.062756,
     "end_time": "2021-03-18T09:10:56.623826",
     "exception": false,
     "start_time": "2021-03-18T09:10:56.561070",
     "status": "completed"
    },
    "tags": []
   },
   "source": [
    "### Plots of MILES with respect to MINUTES"
   ]
  },
  {
   "cell_type": "code",
   "execution_count": 28,
   "metadata": {
    "execution": {
     "iopub.execute_input": "2021-03-18T09:10:56.780674Z",
     "iopub.status.busy": "2021-03-18T09:10:56.779948Z",
     "iopub.status.idle": "2021-03-18T09:10:59.008457Z",
     "shell.execute_reply": "2021-03-18T09:10:59.008953Z"
    },
    "papermill": {
     "duration": 2.320688,
     "end_time": "2021-03-18T09:10:59.009152",
     "exception": false,
     "start_time": "2021-03-18T09:10:56.688464",
     "status": "completed"
    },
    "tags": []
   },
   "outputs": [
    {
     "data": {
      "image/png": "[encoded data removed]",
      "text/plain": [
       "<Figure size 1008x360 with 2 Axes>"
      ]
     },
     "metadata": {
      "needs_background": "light"
     },
     "output_type": "display_data"
    }
   ],
   "source": [
    "plt.figure(figsize = (14,5))\n",
    "plt.subplot(1,2,1)\n",
    "sns.lineplot(data=df, x=df.MINUTES, y=df.MILES)\n",
    "plt.grid(True, linestyle = \"--\")\n",
    "plt.subplot(1,2,2)\n",
    "sns.scatterplot(data=df, x=df.MINUTES, y=df.MILES)\n",
    "plt.grid(True, linestyle = \"--\")"
   ]
  },
  {
   "cell_type": "markdown",
   "metadata": {
    "papermill": {
     "duration": 0.064363,
     "end_time": "2021-03-18T09:10:59.138565",
     "exception": false,
     "start_time": "2021-03-18T09:10:59.074202",
     "status": "completed"
    },
    "tags": []
   },
   "source": [
    "Clearly, the lineplot doesn't give us a clear representation of the spread.  \n",
    "However, by plotting multiple plots, we can decide which plot to opt.  \n",
    "Also, we see that our conventional logic, that distance is proportional to time, is challenged as some cab rides took more time for less distance."
   ]
  },
  {
   "cell_type": "code",
   "execution_count": 29,
   "metadata": {
    "execution": {
     "iopub.execute_input": "2021-03-18T09:10:59.288992Z",
     "iopub.status.busy": "2021-03-18T09:10:59.288296Z",
     "iopub.status.idle": "2021-03-18T09:10:59.625713Z",
     "shell.execute_reply": "2021-03-18T09:10:59.625168Z"
    },
    "papermill": {
     "duration": 0.422641,
     "end_time": "2021-03-18T09:10:59.625864",
     "exception": false,
     "start_time": "2021-03-18T09:10:59.203223",
     "status": "completed"
    },
    "scrolled": true,
    "tags": []
   },
   "outputs": [
    {
     "data": {
      "image/png": "[encoded data removed]",
      "text/plain": [
       "<Figure size 1152x360 with 2 Axes>"
      ]
     },
     "metadata": {
      "needs_background": "light"
     },
     "output_type": "display_data"
    }
   ],
   "source": [
    "plt.figure(figsize = (16,5))\n",
    "\n",
    "plt.subplot(1,2,1)\n",
    "n, bins, patches = plt.hist(df.MINUTES)\n",
    "plt.xticks(bins.round())\n",
    "plt.grid(True, linestyle = \"dotted\")\n",
    "plt.title(\"Count of Cab ride MINUTES\")\n",
    "\n",
    "plt.subplot(1,2,2)\n",
    "n, bins, patches = plt.hist(df.MILES)\n",
    "plt.xticks(bins.round())\n",
    "plt.grid(True, linestyle = \"dotted\")\n",
    "plt.title(\"Count of Cab ride MILES\");"
   ]
  },
  {
   "cell_type": "markdown",
   "metadata": {
    "papermill": {
     "duration": 0.066718,
     "end_time": "2021-03-18T09:10:59.760218",
     "exception": false,
     "start_time": "2021-03-18T09:10:59.693500",
     "status": "completed"
    },
    "tags": []
   },
   "source": [
    "  "
   ]
  },
  {
   "cell_type": "markdown",
   "metadata": {
    "papermill": {
     "duration": 0.077546,
     "end_time": "2021-03-18T09:10:59.915472",
     "exception": false,
     "start_time": "2021-03-18T09:10:59.837926",
     "status": "completed"
    },
    "tags": []
   },
   "source": [
    "  "
   ]
  },
  {
   "cell_type": "markdown",
   "metadata": {
    "papermill": {
     "duration": 0.065617,
     "end_time": "2021-03-18T09:11:00.047271",
     "exception": false,
     "start_time": "2021-03-18T09:10:59.981654",
     "status": "completed"
    },
    "tags": []
   },
   "source": [
    "  "
   ]
  },
  {
   "cell_type": "markdown",
   "metadata": {
    "papermill": {
     "duration": 0.065343,
     "end_time": "2021-03-18T09:11:00.178195",
     "exception": false,
     "start_time": "2021-03-18T09:11:00.112852",
     "status": "completed"
    },
    "tags": []
   },
   "source": [
    "# 3. Is the distance time relation same for both Business and Personal Category?"
   ]
  },
  {
   "cell_type": "markdown",
   "metadata": {
    "papermill": {
     "duration": 0.065399,
     "end_time": "2021-03-18T09:11:00.309338",
     "exception": false,
     "start_time": "2021-03-18T09:11:00.243939",
     "status": "completed"
    },
    "tags": []
   },
   "source": [
    "### Plot of MILES and MINUTES w.r.t CATEGORY of Cab Ride"
   ]
  },
  {
   "cell_type": "code",
   "execution_count": 30,
   "metadata": {
    "execution": {
     "iopub.execute_input": "2021-03-18T09:11:00.451289Z",
     "iopub.status.busy": "2021-03-18T09:11:00.450604Z",
     "iopub.status.idle": "2021-03-18T09:11:00.558420Z",
     "shell.execute_reply": "2021-03-18T09:11:00.559060Z"
    },
    "papermill": {
     "duration": 0.183919,
     "end_time": "2021-03-18T09:11:00.559235",
     "exception": false,
     "start_time": "2021-03-18T09:11:00.375316",
     "status": "completed"
    },
    "tags": []
   },
   "outputs": [
    {
     "data": {
      "text/plain": [
       "<AxesSubplot:xlabel='CATEGORY', ylabel='count'>"
      ]
     },
     "execution_count": 30,
     "metadata": {},
     "output_type": "execute_result"
    },
    {
     "data": {
      "image/png": "[encoded data removed]",
      "text/plain": [
       "<Figure size 432x288 with 1 Axes>"
      ]
     },
     "metadata": {
      "needs_background": "light"
     },
     "output_type": "display_data"
    }
   ],
   "source": [
    "sns.countplot(data=df, x=\"CATEGORY\")"
   ]
  },
  {
   "cell_type": "code",
   "execution_count": 31,
   "metadata": {
    "execution": {
     "iopub.execute_input": "2021-03-18T09:11:00.697438Z",
     "iopub.status.busy": "2021-03-18T09:11:00.696837Z",
     "iopub.status.idle": "2021-03-18T09:11:01.299820Z",
     "shell.execute_reply": "2021-03-18T09:11:01.300338Z"
    },
    "papermill": {
     "duration": 0.673975,
     "end_time": "2021-03-18T09:11:01.300526",
     "exception": false,
     "start_time": "2021-03-18T09:11:00.626551",
     "status": "completed"
    },
    "scrolled": true,
    "tags": []
   },
   "outputs": [
    {
     "data": {
      "image/png": "[encoded data removed]",
      "text/plain": [
       "<Figure size 1008x360 with 2 Axes>"
      ]
     },
     "metadata": {
      "needs_background": "light"
     },
     "output_type": "display_data"
    }
   ],
   "source": [
    "plt.figure(figsize = (14,5))\n",
    "plt.subplot(1,2,1)\n",
    "sns.regplot(data=df[df['CATEGORY'] == 'Business'],x=\"MILES\", y=\"MINUTES\")\n",
    "plt.title(\"BUSINESS CAB RIDES\")\n",
    "plt.grid(True, linestyle = \":\")\n",
    "\n",
    "plt.subplot(1,2,2)\n",
    "sns.regplot(data=df[df['CATEGORY'] == 'Personal'],x=\"MILES\", y=\"MINUTES\")\n",
    "plt.title(\"PERSONAL CAB RIDES\")\n",
    "plt.grid(True, linestyle = \":\")"
   ]
  },
  {
   "cell_type": "markdown",
   "metadata": {
    "papermill": {
     "duration": 0.068646,
     "end_time": "2021-03-18T09:11:01.438596",
     "exception": false,
     "start_time": "2021-03-18T09:11:01.369950",
     "status": "completed"
    },
    "tags": []
   },
   "source": [
    "  The above charts show not only the trend of the scatter, but also the standard deviation of the same."
   ]
  },
  {
   "cell_type": "markdown",
   "metadata": {
    "papermill": {
     "duration": 0.068233,
     "end_time": "2021-03-18T09:11:01.575661",
     "exception": false,
     "start_time": "2021-03-18T09:11:01.507428",
     "status": "completed"
    },
    "tags": []
   },
   "source": [
    "  "
   ]
  },
  {
   "cell_type": "markdown",
   "metadata": {
    "papermill": {
     "duration": 0.069534,
     "end_time": "2021-03-18T09:11:01.713664",
     "exception": false,
     "start_time": "2021-03-18T09:11:01.644130",
     "status": "completed"
    },
    "tags": []
   },
   "source": [
    "# 4. What is purpose (destination) of most cab rides?"
   ]
  },
  {
   "cell_type": "markdown",
   "metadata": {
    "papermill": {
     "duration": 0.068482,
     "end_time": "2021-03-18T09:11:01.851568",
     "exception": false,
     "start_time": "2021-03-18T09:11:01.783086",
     "status": "completed"
    },
    "tags": []
   },
   "source": [
    "### Split of rides based on PURPOSE"
   ]
  },
  {
   "cell_type": "code",
   "execution_count": 32,
   "metadata": {
    "execution": {
     "iopub.execute_input": "2021-03-18T09:11:01.996858Z",
     "iopub.status.busy": "2021-03-18T09:11:01.996091Z",
     "iopub.status.idle": "2021-03-18T09:11:02.188977Z",
     "shell.execute_reply": "2021-03-18T09:11:02.189425Z"
    },
    "papermill": {
     "duration": 0.26942,
     "end_time": "2021-03-18T09:11:02.189615",
     "exception": false,
     "start_time": "2021-03-18T09:11:01.920195",
     "status": "completed"
    },
    "tags": []
   },
   "outputs": [
    {
     "data": {
      "image/png": "[encoded data removed]",
      "text/plain": [
       "<Figure size 432x288 with 1 Axes>"
      ]
     },
     "metadata": {
      "needs_background": "light"
     },
     "output_type": "display_data"
    }
   ],
   "source": [
    "pd.Series(df['PURPOSE']).value_counts().plot(kind=\"bar\")\n",
    "plt.xticks(rotation = 45);"
   ]
  },
  {
   "cell_type": "markdown",
   "metadata": {
    "papermill": {
     "duration": 0.071406,
     "end_time": "2021-03-18T09:11:02.331190",
     "exception": false,
     "start_time": "2021-03-18T09:11:02.259784",
     "status": "completed"
    },
    "tags": []
   },
   "source": [
    "The major chunk of the cab rides are used for Meals/ Entertainment, Meetings, Errand/Supplies and Customer Visit"
   ]
  },
  {
   "cell_type": "markdown",
   "metadata": {
    "papermill": {
     "duration": 0.07019,
     "end_time": "2021-03-18T09:11:02.472470",
     "exception": false,
     "start_time": "2021-03-18T09:11:02.402280",
     "status": "completed"
    },
    "tags": []
   },
   "source": [
    "### Distribution of Cab rides based on Category"
   ]
  },
  {
   "cell_type": "code",
   "execution_count": 33,
   "metadata": {
    "execution": {
     "iopub.execute_input": "2021-03-18T09:11:02.617010Z",
     "iopub.status.busy": "2021-03-18T09:11:02.616000Z",
     "iopub.status.idle": "2021-03-18T09:11:02.887405Z",
     "shell.execute_reply": "2021-03-18T09:11:02.887890Z"
    },
    "papermill": {
     "duration": 0.345526,
     "end_time": "2021-03-18T09:11:02.888072",
     "exception": false,
     "start_time": "2021-03-18T09:11:02.542546",
     "status": "completed"
    },
    "tags": []
   },
   "outputs": [
    {
     "data": {
      "image/png": "[encoded data removed]",
      "text/plain": [
       "<Figure size 648x360 with 1 Axes>"
      ]
     },
     "metadata": {
      "needs_background": "light"
     },
     "output_type": "display_data"
    }
   ],
   "source": [
    "plt.figure(figsize = (9,5))\n",
    "sns.countplot(data=df,x=\"PURPOSE\", hue = 'CATEGORY', dodge = False)\n",
    "plt.xticks(rotation = 45);"
   ]
  },
  {
   "cell_type": "markdown",
   "metadata": {
    "papermill": {
     "duration": 0.070905,
     "end_time": "2021-03-18T09:11:03.030647",
     "exception": false,
     "start_time": "2021-03-18T09:11:02.959742",
     "status": "completed"
    },
    "tags": []
   },
   "source": [
    "The above plot makes clear distinction on the Purpose of Business rides and Personal rides.  \n",
    "This may give insight to cab aggregators to decide which sector to introduce new cabs in."
   ]
  },
  {
   "cell_type": "markdown",
   "metadata": {
    "papermill": {
     "duration": 0.070742,
     "end_time": "2021-03-18T09:11:03.173505",
     "exception": false,
     "start_time": "2021-03-18T09:11:03.102763",
     "status": "completed"
    },
    "tags": []
   },
   "source": [
    "Now, lets see cabs usage based on location.  \n",
    "We will see where most cab rides start and where they stop."
   ]
  },
  {
   "cell_type": "markdown",
   "metadata": {
    "papermill": {
     "duration": 0.070923,
     "end_time": "2021-03-18T09:11:03.315890",
     "exception": false,
     "start_time": "2021-03-18T09:11:03.244967",
     "status": "completed"
    },
    "tags": []
   },
   "source": [
    "  "
   ]
  },
  {
   "cell_type": "markdown",
   "metadata": {
    "papermill": {
     "duration": 0.071131,
     "end_time": "2021-03-18T09:11:03.458574",
     "exception": false,
     "start_time": "2021-03-18T09:11:03.387443",
     "status": "completed"
    },
    "tags": []
   },
   "source": [
    "  "
   ]
  },
  {
   "cell_type": "markdown",
   "metadata": {
    "papermill": {
     "duration": 0.070958,
     "end_time": "2021-03-18T09:11:03.600526",
     "exception": false,
     "start_time": "2021-03-18T09:11:03.529568",
     "status": "completed"
    },
    "tags": []
   },
   "source": [
    "# 5. Where do customers most frequently take cabs?"
   ]
  },
  {
   "cell_type": "markdown",
   "metadata": {
    "papermill": {
     "duration": 0.073726,
     "end_time": "2021-03-18T09:11:03.745644",
     "exception": false,
     "start_time": "2021-03-18T09:11:03.671918",
     "status": "completed"
    },
    "tags": []
   },
   "source": [
    "### Frequency of Cab Rides START"
   ]
  },
  {
   "cell_type": "code",
   "execution_count": 34,
   "metadata": {
    "execution": {
     "iopub.execute_input": "2021-03-18T09:11:03.893885Z",
     "iopub.status.busy": "2021-03-18T09:11:03.892870Z",
     "iopub.status.idle": "2021-03-18T09:11:04.212431Z",
     "shell.execute_reply": "2021-03-18T09:11:04.211838Z"
    },
    "papermill": {
     "duration": 0.395292,
     "end_time": "2021-03-18T09:11:04.212572",
     "exception": false,
     "start_time": "2021-03-18T09:11:03.817280",
     "status": "completed"
    },
    "tags": []
   },
   "outputs": [
    {
     "data": {
      "image/png": "[encoded data removed]",
      "text/plain": [
       "<Figure size 1080x288 with 1 Axes>"
      ]
     },
     "metadata": {
      "needs_background": "light"
     },
     "output_type": "display_data"
    }
   ],
   "source": [
    "plt.figure(figsize = (15,4))\n",
    "pd.Series(df['START']).value_counts()[:25].plot(kind=\"bar\")\n",
    "plt.title(\"Cab Rides START Location frequency\")\n",
    "plt.xticks(rotation = 45);"
   ]
  },
  {
   "cell_type": "markdown",
   "metadata": {
    "papermill": {
     "duration": 0.073021,
     "end_time": "2021-03-18T09:11:04.358746",
     "exception": false,
     "start_time": "2021-03-18T09:11:04.285725",
     "status": "completed"
    },
    "tags": []
   },
   "source": [
    "  "
   ]
  },
  {
   "cell_type": "markdown",
   "metadata": {
    "papermill": {
     "duration": 0.072787,
     "end_time": "2021-03-18T09:11:04.504788",
     "exception": false,
     "start_time": "2021-03-18T09:11:04.432001",
     "status": "completed"
    },
    "tags": []
   },
   "source": [
    "### Frequency of Cab Rides STOP"
   ]
  },
  {
   "cell_type": "code",
   "execution_count": 35,
   "metadata": {
    "execution": {
     "iopub.execute_input": "2021-03-18T09:11:04.658917Z",
     "iopub.status.busy": "2021-03-18T09:11:04.658101Z",
     "iopub.status.idle": "2021-03-18T09:11:05.091145Z",
     "shell.execute_reply": "2021-03-18T09:11:05.091604Z"
    },
    "papermill": {
     "duration": 0.513925,
     "end_time": "2021-03-18T09:11:05.091795",
     "exception": false,
     "start_time": "2021-03-18T09:11:04.577870",
     "status": "completed"
    },
    "tags": []
   },
   "outputs": [
    {
     "data": {
      "image/png": "[encoded data removed]",
      "text/plain": [
       "<Figure size 1080x288 with 1 Axes>"
      ]
     },
     "metadata": {
      "needs_background": "light"
     },
     "output_type": "display_data"
    }
   ],
   "source": [
    "plt.figure(figsize=(15,4))\n",
    "pd.Series(df['STOP']).value_counts()[:25].plot(kind = \"bar\")\n",
    "plt.title(\"Cab Rides STOP Location frequency\")\n",
    "plt.xticks(rotation = 45);"
   ]
  },
  {
   "cell_type": "markdown",
   "metadata": {
    "papermill": {
     "duration": 0.073678,
     "end_time": "2021-03-18T09:11:05.239686",
     "exception": false,
     "start_time": "2021-03-18T09:11:05.166008",
     "status": "completed"
    },
    "tags": []
   },
   "source": [
    "The above graphs give us a visual understanding of frequency of rides."
   ]
  },
  {
   "cell_type": "markdown",
   "metadata": {
    "papermill": {
     "duration": 0.074075,
     "end_time": "2021-03-18T09:11:05.388020",
     "exception": false,
     "start_time": "2021-03-18T09:11:05.313945",
     "status": "completed"
    },
    "tags": []
   },
   "source": [
    "  "
   ]
  },
  {
   "cell_type": "markdown",
   "metadata": {
    "papermill": {
     "duration": 0.074371,
     "end_time": "2021-03-18T09:11:05.537292",
     "exception": false,
     "start_time": "2021-03-18T09:11:05.462921",
     "status": "completed"
    },
    "tags": []
   },
   "source": [
    "  "
   ]
  },
  {
   "cell_type": "markdown",
   "metadata": {
    "papermill": {
     "duration": 0.074048,
     "end_time": "2021-03-18T09:11:05.685573",
     "exception": false,
     "start_time": "2021-03-18T09:11:05.611525",
     "status": "completed"
    },
    "tags": []
   },
   "source": [
    "# 6. When are cab rides more popular (frequently used)?"
   ]
  },
  {
   "cell_type": "code",
   "execution_count": 36,
   "metadata": {
    "execution": {
     "iopub.execute_input": "2021-03-18T09:11:05.856899Z",
     "iopub.status.busy": "2021-03-18T09:11:05.856106Z",
     "iopub.status.idle": "2021-03-18T09:11:05.860587Z",
     "shell.execute_reply": "2021-03-18T09:11:05.860096Z"
    },
    "papermill": {
     "duration": 0.099196,
     "end_time": "2021-03-18T09:11:05.860764",
     "exception": false,
     "start_time": "2021-03-18T09:11:05.761568",
     "status": "completed"
    },
    "tags": []
   },
   "outputs": [
    {
     "data": {
      "text/html": [
       "<div>\n",
       "<style scoped>\n",
       "    .dataframe tbody tr th:only-of-type {\n",
       "        vertical-align: middle;\n",
       "    }\n",
       "\n",
       "    .dataframe tbody tr th {\n",
       "        vertical-align: top;\n",
       "    }\n",
       "\n",
       "    .dataframe thead th {\n",
       "        text-align: right;\n",
       "    }\n",
       "</style>\n",
       "<table border=\"1\" class=\"dataframe\">\n",
       "  <thead>\n",
       "    <tr style=\"text-align: right;\">\n",
       "      <th></th>\n",
       "      <th>START_DATE</th>\n",
       "      <th>END_DATE</th>\n",
       "      <th>CATEGORY</th>\n",
       "      <th>START</th>\n",
       "      <th>STOP</th>\n",
       "      <th>MILES</th>\n",
       "      <th>PURPOSE</th>\n",
       "      <th>MINUTES</th>\n",
       "      <th>MONTH</th>\n",
       "    </tr>\n",
       "  </thead>\n",
       "  <tbody>\n",
       "    <tr>\n",
       "      <th>0</th>\n",
       "      <td>2016-01-01 21:11:00</td>\n",
       "      <td>2016-01-01 21:17:00</td>\n",
       "      <td>Business</td>\n",
       "      <td>Fort Pierce</td>\n",
       "      <td>Fort Pierce</td>\n",
       "      <td>5.1</td>\n",
       "      <td>Meal/Entertain</td>\n",
       "      <td>6.0</td>\n",
       "      <td>January</td>\n",
       "    </tr>\n",
       "    <tr>\n",
       "      <th>1</th>\n",
       "      <td>2016-01-02 01:25:00</td>\n",
       "      <td>2016-01-02 01:37:00</td>\n",
       "      <td>Business</td>\n",
       "      <td>Fort Pierce</td>\n",
       "      <td>Fort Pierce</td>\n",
       "      <td>5.0</td>\n",
       "      <td>Meeting</td>\n",
       "      <td>12.0</td>\n",
       "      <td>January</td>\n",
       "    </tr>\n",
       "    <tr>\n",
       "      <th>2</th>\n",
       "      <td>2016-01-02 20:25:00</td>\n",
       "      <td>2016-01-02 20:38:00</td>\n",
       "      <td>Business</td>\n",
       "      <td>Fort Pierce</td>\n",
       "      <td>Fort Pierce</td>\n",
       "      <td>4.8</td>\n",
       "      <td>Errand/Supplies</td>\n",
       "      <td>13.0</td>\n",
       "      <td>January</td>\n",
       "    </tr>\n",
       "    <tr>\n",
       "      <th>3</th>\n",
       "      <td>2016-01-05 17:31:00</td>\n",
       "      <td>2016-01-05 17:45:00</td>\n",
       "      <td>Business</td>\n",
       "      <td>Fort Pierce</td>\n",
       "      <td>Fort Pierce</td>\n",
       "      <td>4.7</td>\n",
       "      <td>Meeting</td>\n",
       "      <td>14.0</td>\n",
       "      <td>January</td>\n",
       "    </tr>\n",
       "    <tr>\n",
       "      <th>4</th>\n",
       "      <td>2016-01-06 14:42:00</td>\n",
       "      <td>2016-01-06 15:49:00</td>\n",
       "      <td>Business</td>\n",
       "      <td>Fort Pierce</td>\n",
       "      <td>West Palm Beach</td>\n",
       "      <td>63.7</td>\n",
       "      <td>Customer Visit</td>\n",
       "      <td>67.0</td>\n",
       "      <td>January</td>\n",
       "    </tr>\n",
       "  </tbody>\n",
       "</table>\n",
       "</div>"
      ],
      "text/plain": [
       "           START_DATE            END_DATE  CATEGORY        START  \\\n",
       "0 2016-01-01 21:11:00 2016-01-01 21:17:00  Business  Fort Pierce   \n",
       "1 2016-01-02 01:25:00 2016-01-02 01:37:00  Business  Fort Pierce   \n",
       "2 2016-01-02 20:25:00 2016-01-02 20:38:00  Business  Fort Pierce   \n",
       "3 2016-01-05 17:31:00 2016-01-05 17:45:00  Business  Fort Pierce   \n",
       "4 2016-01-06 14:42:00 2016-01-06 15:49:00  Business  Fort Pierce   \n",
       "\n",
       "              STOP  MILES          PURPOSE  MINUTES    MONTH  \n",
       "0      Fort Pierce    5.1   Meal/Entertain      6.0  January  \n",
       "1      Fort Pierce    5.0          Meeting     12.0  January  \n",
       "2      Fort Pierce    4.8  Errand/Supplies     13.0  January  \n",
       "3      Fort Pierce    4.7          Meeting     14.0  January  \n",
       "4  West Palm Beach   63.7   Customer Visit     67.0  January  "
      ]
     },
     "execution_count": 36,
     "metadata": {},
     "output_type": "execute_result"
    }
   ],
   "source": [
    "df['MONTH'] = pd.DatetimeIndex(df['END_DATE']).month_name()\n",
    "df.head(5)"
   ]
  },
  {
   "cell_type": "code",
   "execution_count": 37,
   "metadata": {
    "execution": {
     "iopub.execute_input": "2021-03-18T09:11:06.048969Z",
     "iopub.status.busy": "2021-03-18T09:11:06.037782Z",
     "iopub.status.idle": "2021-03-18T09:11:06.217156Z",
     "shell.execute_reply": "2021-03-18T09:11:06.216475Z"
    },
    "papermill": {
     "duration": 0.280048,
     "end_time": "2021-03-18T09:11:06.217314",
     "exception": false,
     "start_time": "2021-03-18T09:11:05.937266",
     "status": "completed"
    },
    "scrolled": true,
    "tags": []
   },
   "outputs": [
    {
     "data": {
      "text/plain": [
       "<AxesSubplot:>"
      ]
     },
     "execution_count": 37,
     "metadata": {},
     "output_type": "execute_result"
    },
    {
     "data": {
      "image/png": "[encoded data removed]",
      "text/plain": [
       "<Figure size 432x288 with 1 Axes>"
      ]
     },
     "metadata": {
      "needs_background": "light"
     },
     "output_type": "display_data"
    }
   ],
   "source": [
    "pd.Series(df['MONTH'].value_counts()).plot(kind=\"bar\")"
   ]
  },
  {
   "cell_type": "markdown",
   "metadata": {
    "papermill": {
     "duration": 0.076548,
     "end_time": "2021-03-18T09:11:06.370392",
     "exception": false,
     "start_time": "2021-03-18T09:11:06.293844",
     "status": "completed"
    },
    "tags": []
   },
   "source": [
    "Lets split the above further for better analysis."
   ]
  },
  {
   "cell_type": "code",
   "execution_count": 38,
   "metadata": {
    "execution": {
     "iopub.execute_input": "2021-03-18T09:11:06.556488Z",
     "iopub.status.busy": "2021-03-18T09:11:06.537935Z",
     "iopub.status.idle": "2021-03-18T09:11:06.893542Z",
     "shell.execute_reply": "2021-03-18T09:11:06.892909Z"
    },
    "papermill": {
     "duration": 0.444051,
     "end_time": "2021-03-18T09:11:06.893704",
     "exception": false,
     "start_time": "2021-03-18T09:11:06.449653",
     "status": "completed"
    },
    "tags": []
   },
   "outputs": [
    {
     "data": {
      "image/png": "[encoded data removed]",
      "text/plain": [
       "<Figure size 576x360 with 1 Axes>"
      ]
     },
     "metadata": {
      "needs_background": "light"
     },
     "output_type": "display_data"
    }
   ],
   "source": [
    "plt.figure(figsize = (8,5))\n",
    "sns.histplot(data = df, x='MONTH', hue='CATEGORY', multiple = 'stack',kde = True, binwidth = 30)\n",
    "plt.xticks(rotation = 45);"
   ]
  },
  {
   "cell_type": "markdown",
   "metadata": {
    "papermill": {
     "duration": 0.076981,
     "end_time": "2021-03-18T09:11:07.048248",
     "exception": false,
     "start_time": "2021-03-18T09:11:06.971267",
     "status": "completed"
    },
    "tags": []
   },
   "source": [
    "As we can see, clearly there is a seasonal trend.  \n",
    "The Cab company could make use of this to increase their rides."
   ]
  },
  {
   "cell_type": "markdown",
   "metadata": {
    "papermill": {
     "duration": 0.077226,
     "end_time": "2021-03-18T09:11:07.204382",
     "exception": false,
     "start_time": "2021-03-18T09:11:07.127156",
     "status": "completed"
    },
    "tags": []
   },
   "source": [
    "  "
   ]
  },
  {
   "cell_type": "markdown",
   "metadata": {
    "papermill": {
     "duration": 0.077276,
     "end_time": "2021-03-18T09:11:07.359370",
     "exception": false,
     "start_time": "2021-03-18T09:11:07.282094",
     "status": "completed"
    },
    "tags": []
   },
   "source": [
    "  "
   ]
  },
  {
   "cell_type": "markdown",
   "metadata": {
    "papermill": {
     "duration": 0.077731,
     "end_time": "2021-03-18T09:11:07.516075",
     "exception": false,
     "start_time": "2021-03-18T09:11:07.438344",
     "status": "completed"
    },
    "tags": []
   },
   "source": [
    "# Conclusion"
   ]
  },
  {
   "cell_type": "markdown",
   "metadata": {
    "papermill": {
     "duration": 0.076904,
     "end_time": "2021-03-18T09:11:07.671618",
     "exception": false,
     "start_time": "2021-03-18T09:11:07.594714",
     "status": "completed"
    },
    "tags": []
   },
   "source": [
    "From the above Exploratory Data Analysis, we have inferred the information followed below:\n",
    "1. The mean of the data is deviated due to the outlier Commute cab ride. Apart from it, the rest conform to similar ranges.\n",
    "2. Most of the cab rides are within a distance of 31 miles taking about 34 minutes.\n",
    "3. Business Cab rides are not only more in volume, but also in distance travelled.\n",
    "4. Main uses of cab rides are Meal/Entertainment, Customer visit, Meeting, Errand/Supplies.  \n",
    "5. Cab traffic is mostly concentrated in 5 cities or localities.\n",
    "6. Ac seasonal pattern of cab ride volume exists, which is highest on December."
   ]
  },
  {
   "cell_type": "code",
   "execution_count": null,
   "metadata": {
    "papermill": {
     "duration": 0.076947,
     "end_time": "2021-03-18T09:11:07.827325",
     "exception": false,
     "start_time": "2021-03-18T09:11:07.750378",
     "status": "completed"
    },
    "tags": []
   },
   "outputs": [],
   "source": []
  }
 ],
 "metadata": {
  "kernelspec": {
   "display_name": "Python 3",
   "language": "python",
   "name": "python3"
  },
  "language_info": {
   "codemirror_mode": {
    "name": "ipython",
    "version": 3
   },
   "file_extension": ".py",
   "mimetype": "text/x-python",
   "name": "python",
   "nbconvert_exporter": "python",
   "pygments_lexer": "ipython3",
   "version": "3.7.9"
  },
  "papermill": {
   "default_parameters": {},
   "duration": 28.873994,
   "end_time": "2021-03-18T09:11:08.617705",
   "environment_variables": {},
   "exception": null,
   "input_path": "__notebook__.ipynb",
   "output_path": "__notebook__.ipynb",
   "parameters": {},
   "start_time": "2021-03-18T09:10:39.743711",
   "version": "2.2.2"
  }
 },
 "nbformat": 4,
 "nbformat_minor": 4
}
