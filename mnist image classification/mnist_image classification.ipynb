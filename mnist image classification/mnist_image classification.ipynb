{
  "nbformat": 4,
  "nbformat_minor": 0,
  "metadata": {
    "kernelspec": {
      "language": "python",
      "display_name": "Python 3",
      "name": "python3"
    },
    "language_info": {
      "name": "python",
      "version": "3.7.9",
      "mimetype": "text/x-python",
      "codemirror_mode": {
        "name": "ipython",
        "version": 3
      },
      "pygments_lexer": "ipython3",
      "nbconvert_exporter": "python",
      "file_extension": ".py"
    },
    "colab": {
      "name": "convolutional-neural-network-cnn-tutorial.ipynb",
      "provenance": []
    }
  },
  "cells": [
    {
      "cell_type": "markdown",
      "metadata": {
        "id": "Zt2vnsQ1C_4q"
      },
      "source": [
        "![cat-removebg-preview.png](attachment:e2c74a77-7137-4f9f-8f3e-bb58857cf237.png)\n",
        "\n",
        "<center><h1 style = \"background:#0C0C0C ;color:white;border:0;font-family:Segoe Print;font-weight:bold\">Introduction 📖 </h1></center>\n",
        "<p style = \"color:black;font-family:Segoe Print;font-weight:bold\">This data set consists of hand drawn numbers from 0 to 9. Each image is 28 pixels in height and 28 pixels in width, for a total of 784 pixels in total. Each pixel has a single pixel-value associated with it, indicating the lightness or darkness of that pixel, with higher numbers meaning darker. This pixel-value is an integer between 0 and 255, inclusive.</p>\n",
        "\n",
        "<p style = \"color:darkred;font-family:Segoe Print;font-weight:bold\" > What are we going to do in this notebook? </p>\n",
        "\n",
        "<p style = \"color:black;font-family:Segoe Print;font-weight:bold\">First, we will examine our data very briefly before CNN passes. Later, we'll talk about what is CNN. We will learn CNN step by step and encode it using keras.We will talk about CNN concepts and support them with images so that it fits better.We will try to explain and embody all of the steps you see below. </p>\n",
        "\n",
        "<p style = \"color:darkred;font-family:Segoe Print;font-weight:bold\" > So, let's get started. </p>\n",
        "    \n",
        "<h2 style = \"background:#0C0C0C ;color:white;border:0;font-family:Segoe Print;font-weight:bold\">Content :</h2>\n",
        "\n",
        "<ul>\n",
        "    <li style = \"color:gray;font-size:16px\"> <a href = \"#1\" style = \"color:black;font-family:Segoe Print;font-weight:bold\"> Load and Check Data 🗸 </a> </li> \n",
        "        <li style = \"color:gray;font-size:16px\"> <a href = \"#2\" style = \"color:black;font-family:Segoe Print;font-weight:bold\"> Normalization ⁉️ </a> </li> \n",
        "        <li style = \"color:gray;font-size:16px\"> <a href = \"#3\" style = \"color:black;font-family:Segoe Print;font-weight:bold\"> Reshape ⁉️ </a> </li> \n",
        "        <li style = \"color:gray;font-size:16px\"> <a href = \"#4\" style = \"color:black;font-family:Segoe Print;font-weight:bold\"> Label Encoding ⁉️ </a> </li> \n",
        "        <li style = \"color:gray;font-size:16px\"> <a href = \"#5\" style = \"color:black;font-family:Segoe Print;font-weight:bold\"> Train -Test Split </a> </li> \n",
        "        <li style = \"color:gray;font-size:16px\"> <a href = \"#6\" style = \"color:black;font-family:Segoe Print;font-weight:bold\"> Convolution Neural Network (CNN) 📚 </a>\n",
        "            <ul>\n",
        "                <li style = \"color:black;font-size:16px\" ><a href = \"#7\" style = \"color:darkred;font-family:Segoe Print;font-weight:bold\"> What does CNN do? </a></li>\n",
        "                <li style = \"color:black;font-size:16px\" ><a href = \"#8\" style = \"color:darkred;font-family:Segoe Print;font-weight:bold\"> Convolutional Layer ❔ </a></li>\n",
        "                <li style = \"color:black;font-size:16px\" ><a href = \"#9\" style = \"color:darkred;font-family:Segoe Print;font-weight:bold\"> Filter </a></li>\n",
        "                <li style = \"color:black;font-size:16px\" ><a href = \"#10\" style = \"color:darkred;font-family:Segoe Print;font-weight:bold\"> Padding ❓ </a></li>\n",
        "                <li style = \"color:black;font-size:16px\" ><a href = \"#11\" style = \"color:darkred;font-family:Segoe Print;font-weight:bold\"> Non-linearity ❓ </a>\n",
        "                    <ul>\n",
        "                        <li style = \"color:grey;font-size:16px\" ><a href = \"#12\" style = \"color:#321414;font-family:Segoe Print;font-weight:bold\"> Let's take a look at the ReLU function, which is the most used of these functions. </a></li>\n",
        "                    </ul>\n",
        "                </li>\n",
        "                <li style = \"color:black;font-size:16px\" ><a href = \"#13\" style = \"color:darkred;font-family:Segoe Print;font-weight:bold\"> Pooling Layer ❔ </a></li>\n",
        "              <li style = \"color:black;font-size:16px\" ><a href = \"#14\" style = \"color:darkred;font-family:Segoe Print;font-weight:bold\"> Flattening Layer ❔ </a></li>\n",
        "               <li style = \"color:black;font-size:16px\" ><a href = \"#15\" style = \"color:darkred;font-family:Segoe Print;font-weight:bold\"> Fully-Connected Layer ❔ </a></li>\n",
        "                      <li style = \"color:black;font-size:16px\" ><a href = \"#16\" style = \"color:darkred;font-family:Segoe Print;font-weight:bold\"> Dropout ❔ </a></li>\n",
        "            </ul>\n",
        "    </li> \n",
        "         <li style = \"color:gray;font-size:16px\" ><a href = \"#17\" style = \"color:black;font-family:Segoe Print;font-weight:bold\"> Implementing with Keras ❔ </a>\n",
        "       <ul>\n",
        "            <li style = \"color:black;font-size:16px\" ><a href = \"#18\" style = \"color:darkred;font-family:Segoe Print;font-weight:bold\"> Create Model </a></li>\n",
        "           <li style = \"color:black;font-size:16px\" ><a href = \"#19\" style = \"color:darkred;font-family:Segoe Print;font-weight:bold\">Define Optimizer ❓ </a></li>\n",
        "           <li style = \"color:black;font-size:16px\" ><a href = \"#20\" style = \"color:darkred;font-family:Segoe Print;font-weight:bold\"> Compile Model ❓  </a></li>\n",
        "           <li style = \"color:black;font-size:16px\" ><a href = \"#21\" style = \"color:darkred;font-family:Segoe Print;font-weight:bold\"> Epochs and Batch Size ❓ </a></li>\n",
        "           <li style = \"color:black;font-size:16px\" ><a href = \"#22\" style = \"color:darkred;font-family:Segoe Print;font-weight:bold\"> Data Augmentation ❓ </a></li>\n",
        "                      <li style = \"color:black;font-size:16px\" ><a href = \"#23\" style = \"color:darkred;font-family:Segoe Print;font-weight:bold\"> Callbacks ❓ </a></li>\n",
        "                      <li style = \"color:black;font-size:16px\" ><a href = \"#24\" style = \"color:darkred;font-family:Segoe Print;font-weight:bold\"> Fit the Model ❓ </a></li>\n",
        "                      <li style = \"color:black;font-size:16px\" ><a href = \"#25\" style = \"color:darkred;font-family:Segoe Print;font-weight:bold\"> Evaluate the model ❔  </a>\n",
        "           <ul>\n",
        "                        <li style = \"color:grey;font-size:16px\" ><a href = \"#26\" style = \"color:#321414;font-family:Segoe Print;font-weight:bold\"> Model Success </a></li>\n",
        "                                       <li style = \"color:grey;font-size:16px\" ><a href = \"#27\" style = \"color:#321414;font-family:Segoe Print;font-weight:bold\"> Loss Chart </a></li>\n",
        "                                       <li style = \"color:grey;font-size:16px\" ><a href = \"#28\" style = \"color:#321414;font-family:Segoe Print;font-weight:bold\"> Accuracy Chart </a></li>\n",
        "                                   <li style = \"color:grey;font-size:16px\" ><a href = \"#29\" style = \"color:#321414;font-family:Segoe Print;font-weight:bold\"> Model Confusion Matrix ❓ </a></li>\n",
        "                    </ul>                      \n",
        "           </li>\n",
        "                                 <li style = \"color:black;font-size:16px\" ><a href = \"#30\" style = \"color:darkred;font-family:Segoe Print;font-weight:bold\"> CONCLUSION </a></li>\n",
        "       </ul>\n",
        "    </li>\n",
        "</ul>\n"
      ]
    },
    {
      "cell_type": "markdown",
      "metadata": {
        "id": "gpZYnILSC_45"
      },
      "source": [
        "<h2 style = \"background:#0C0C0C ;color:white;border:0;font-family:Segoe Print;font-weight:bold\">Import Libraries 🔖</h2>"
      ]
    },
    {
      "cell_type": "code",
      "metadata": {
        "_uuid": "8f2839f25d086af736a60e9eeb907d3b93b6e0e5",
        "_cell_guid": "b1076dfc-b9ad-4769-8c92-a6c4dae69d19",
        "trusted": true,
        "id": "goxqlCKNC_46",
        "outputId": "fb074672-a013-4bad-951e-177c60c81f09"
      },
      "source": [
        "# This Python 3 environment comes with many helpful analytics libraries installed\n",
        "# It is defined by the kaggle/python Docker image: https://github.com/kaggle/docker-python\n",
        "# For example, here's several helpful packages to load\n",
        "\n",
        "import numpy as np # linear algebra\n",
        "import pandas as pd # data processing, CSV file I/O (e.g. pd.read_csv)\n",
        "import seaborn as sns\n",
        "import matplotlib.pyplot as plt\n",
        "import matplotlib as mpl\n",
        "\n",
        "#import warnings\n",
        "import warnings\n",
        "warnings.filterwarnings('ignore')\n",
        "\n",
        "# Input data files are available in the read-only \"../input/\" directory\n",
        "# For example, running this (by clicking run or pressing Shift+Enter) will list all files under the input directory\n",
        "\n",
        "import os\n",
        "for dirname, _, filenames in os.walk('/kaggle/input'):\n",
        "    for filename in filenames:\n",
        "        print(os.path.join(dirname, filename))\n",
        "\n",
        "# You can write up to 20GB to the current directory (/kaggle/working/) that gets preserved as output when you create a version using \"Save & Run All\" \n",
        "# You can also write temporary files to /kaggle/temp/, but they won't be saved outside of the current session"
      ],
      "execution_count": null,
      "outputs": [
        {
          "output_type": "stream",
          "text": [
            "/kaggle/input/digit-recognizer/sample_submission.csv\n",
            "/kaggle/input/digit-recognizer/train.csv\n",
            "/kaggle/input/digit-recognizer/test.csv\n"
          ],
          "name": "stdout"
        }
      ]
    },
    {
      "cell_type": "markdown",
      "metadata": {
        "id": "DNE63ukuC_48"
      },
      "source": [
        "<a id ='1' ></a>\n",
        "<h2 style = \"background:#0C0C0C ;color:white;border:0;font-family:Segoe Print;font-weight:bold\">Load and Check Data 🗸</h2>"
      ]
    },
    {
      "cell_type": "code",
      "metadata": {
        "trusted": true,
        "id": "ucFL5WbYC_48",
        "outputId": "dc610c28-050c-4095-a2b4-20c95fe56a09"
      },
      "source": [
        "#read train \n",
        "train = pd.read_csv(\"/kaggle/input/digit-recognizer/train.csv\")\n",
        "print(\"Train Shape --> \",train.shape)\n",
        "# 28*28 = 784"
      ],
      "execution_count": null,
      "outputs": [
        {
          "output_type": "stream",
          "text": [
            "Train Shape -->  (42000, 785)\n"
          ],
          "name": "stdout"
        }
      ]
    },
    {
      "cell_type": "code",
      "metadata": {
        "trusted": true,
        "id": "hnHMF6wVC_49",
        "outputId": "0b13d283-c454-4235-803c-1b2e52ffefd4"
      },
      "source": [
        "train.head()"
      ],
      "execution_count": null,
      "outputs": [
        {
          "output_type": "execute_result",
          "data": {
            "text/plain": [
              "   label  pixel0  pixel1  pixel2  pixel3  pixel4  pixel5  pixel6  pixel7  \\\n",
              "0      1       0       0       0       0       0       0       0       0   \n",
              "1      0       0       0       0       0       0       0       0       0   \n",
              "2      1       0       0       0       0       0       0       0       0   \n",
              "3      4       0       0       0       0       0       0       0       0   \n",
              "4      0       0       0       0       0       0       0       0       0   \n",
              "\n",
              "   pixel8  ...  pixel774  pixel775  pixel776  pixel777  pixel778  pixel779  \\\n",
              "0       0  ...         0         0         0         0         0         0   \n",
              "1       0  ...         0         0         0         0         0         0   \n",
              "2       0  ...         0         0         0         0         0         0   \n",
              "3       0  ...         0         0         0         0         0         0   \n",
              "4       0  ...         0         0         0         0         0         0   \n",
              "\n",
              "   pixel780  pixel781  pixel782  pixel783  \n",
              "0         0         0         0         0  \n",
              "1         0         0         0         0  \n",
              "2         0         0         0         0  \n",
              "3         0         0         0         0  \n",
              "4         0         0         0         0  \n",
              "\n",
              "[5 rows x 785 columns]"
            ],
            "text/html": [
              "<div>\n",
              "<style scoped>\n",
              "    .dataframe tbody tr th:only-of-type {\n",
              "        vertical-align: middle;\n",
              "    }\n",
              "\n",
              "    .dataframe tbody tr th {\n",
              "        vertical-align: top;\n",
              "    }\n",
              "\n",
              "    .dataframe thead th {\n",
              "        text-align: right;\n",
              "    }\n",
              "</style>\n",
              "<table border=\"1\" class=\"dataframe\">\n",
              "  <thead>\n",
              "    <tr style=\"text-align: right;\">\n",
              "      <th></th>\n",
              "      <th>label</th>\n",
              "      <th>pixel0</th>\n",
              "      <th>pixel1</th>\n",
              "      <th>pixel2</th>\n",
              "      <th>pixel3</th>\n",
              "      <th>pixel4</th>\n",
              "      <th>pixel5</th>\n",
              "      <th>pixel6</th>\n",
              "      <th>pixel7</th>\n",
              "      <th>pixel8</th>\n",
              "      <th>...</th>\n",
              "      <th>pixel774</th>\n",
              "      <th>pixel775</th>\n",
              "      <th>pixel776</th>\n",
              "      <th>pixel777</th>\n",
              "      <th>pixel778</th>\n",
              "      <th>pixel779</th>\n",
              "      <th>pixel780</th>\n",
              "      <th>pixel781</th>\n",
              "      <th>pixel782</th>\n",
              "      <th>pixel783</th>\n",
              "    </tr>\n",
              "  </thead>\n",
              "  <tbody>\n",
              "    <tr>\n",
              "      <th>0</th>\n",
              "      <td>1</td>\n",
              "      <td>0</td>\n",
              "      <td>0</td>\n",
              "      <td>0</td>\n",
              "      <td>0</td>\n",
              "      <td>0</td>\n",
              "      <td>0</td>\n",
              "      <td>0</td>\n",
              "      <td>0</td>\n",
              "      <td>0</td>\n",
              "      <td>...</td>\n",
              "      <td>0</td>\n",
              "      <td>0</td>\n",
              "      <td>0</td>\n",
              "      <td>0</td>\n",
              "      <td>0</td>\n",
              "      <td>0</td>\n",
              "      <td>0</td>\n",
              "      <td>0</td>\n",
              "      <td>0</td>\n",
              "      <td>0</td>\n",
              "    </tr>\n",
              "    <tr>\n",
              "      <th>1</th>\n",
              "      <td>0</td>\n",
              "      <td>0</td>\n",
              "      <td>0</td>\n",
              "      <td>0</td>\n",
              "      <td>0</td>\n",
              "      <td>0</td>\n",
              "      <td>0</td>\n",
              "      <td>0</td>\n",
              "      <td>0</td>\n",
              "      <td>0</td>\n",
              "      <td>...</td>\n",
              "      <td>0</td>\n",
              "      <td>0</td>\n",
              "      <td>0</td>\n",
              "      <td>0</td>\n",
              "      <td>0</td>\n",
              "      <td>0</td>\n",
              "      <td>0</td>\n",
              "      <td>0</td>\n",
              "      <td>0</td>\n",
              "      <td>0</td>\n",
              "    </tr>\n",
              "    <tr>\n",
              "      <th>2</th>\n",
              "      <td>1</td>\n",
              "      <td>0</td>\n",
              "      <td>0</td>\n",
              "      <td>0</td>\n",
              "      <td>0</td>\n",
              "      <td>0</td>\n",
              "      <td>0</td>\n",
              "      <td>0</td>\n",
              "      <td>0</td>\n",
              "      <td>0</td>\n",
              "      <td>...</td>\n",
              "      <td>0</td>\n",
              "      <td>0</td>\n",
              "      <td>0</td>\n",
              "      <td>0</td>\n",
              "      <td>0</td>\n",
              "      <td>0</td>\n",
              "      <td>0</td>\n",
              "      <td>0</td>\n",
              "      <td>0</td>\n",
              "      <td>0</td>\n",
              "    </tr>\n",
              "    <tr>\n",
              "      <th>3</th>\n",
              "      <td>4</td>\n",
              "      <td>0</td>\n",
              "      <td>0</td>\n",
              "      <td>0</td>\n",
              "      <td>0</td>\n",
              "      <td>0</td>\n",
              "      <td>0</td>\n",
              "      <td>0</td>\n",
              "      <td>0</td>\n",
              "      <td>0</td>\n",
              "      <td>...</td>\n",
              "      <td>0</td>\n",
              "      <td>0</td>\n",
              "      <td>0</td>\n",
              "      <td>0</td>\n",
              "      <td>0</td>\n",
              "      <td>0</td>\n",
              "      <td>0</td>\n",
              "      <td>0</td>\n",
              "      <td>0</td>\n",
              "      <td>0</td>\n",
              "    </tr>\n",
              "    <tr>\n",
              "      <th>4</th>\n",
              "      <td>0</td>\n",
              "      <td>0</td>\n",
              "      <td>0</td>\n",
              "      <td>0</td>\n",
              "      <td>0</td>\n",
              "      <td>0</td>\n",
              "      <td>0</td>\n",
              "      <td>0</td>\n",
              "      <td>0</td>\n",
              "      <td>0</td>\n",
              "      <td>...</td>\n",
              "      <td>0</td>\n",
              "      <td>0</td>\n",
              "      <td>0</td>\n",
              "      <td>0</td>\n",
              "      <td>0</td>\n",
              "      <td>0</td>\n",
              "      <td>0</td>\n",
              "      <td>0</td>\n",
              "      <td>0</td>\n",
              "      <td>0</td>\n",
              "    </tr>\n",
              "  </tbody>\n",
              "</table>\n",
              "<p>5 rows × 785 columns</p>\n",
              "</div>"
            ]
          },
          "metadata": {
            "tags": []
          },
          "execution_count": 66
        }
      ]
    },
    {
      "cell_type": "code",
      "metadata": {
        "trusted": true,
        "id": "HtXb0-p9C_49",
        "outputId": "435d8c65-c52d-48df-d037-00a163c51a3e"
      },
      "source": [
        "#read test\n",
        "test = pd.read_csv(\"/kaggle/input/digit-recognizer/test.csv\")\n",
        "print(\"Test Shape --> \",test.shape)"
      ],
      "execution_count": null,
      "outputs": [
        {
          "output_type": "stream",
          "text": [
            "Test Shape -->  (28000, 784)\n"
          ],
          "name": "stdout"
        }
      ]
    },
    {
      "cell_type": "code",
      "metadata": {
        "trusted": true,
        "id": "LBh-C0vFC_4-"
      },
      "source": [
        "y_train = train[\"label\"]\n",
        "X_train = train.drop(labels=[\"label\"],axis=1)"
      ],
      "execution_count": null,
      "outputs": []
    },
    {
      "cell_type": "code",
      "metadata": {
        "trusted": true,
        "id": "9BuQAuKGC_4-",
        "outputId": "586ccff0-2bb9-4be5-a15e-c1e66e783063"
      },
      "source": [
        "# how many of which numbers are there?\n",
        "plt.figure(figsize=(15,7))\n",
        "g = sns.countplot(y_train, palette=\"icefire\")\n",
        "plt.title(\"Number of digit classes\")\n",
        "print(\" \\t # y_train value counts # \\n\",y_train.value_counts())"
      ],
      "execution_count": null,
      "outputs": [
        {
          "output_type": "stream",
          "text": [
            " \t # y_train value counts # \n",
            " 1    4684\n",
            "7    4401\n",
            "3    4351\n",
            "9    4188\n",
            "2    4177\n",
            "6    4137\n",
            "0    4132\n",
            "4    4072\n",
            "8    4063\n",
            "5    3795\n",
            "Name: label, dtype: int64\n"
          ],
          "name": "stdout"
        },
        {
          "output_type": "display_data",
          "data": {
            "text/plain": [
              "<Figure size 1080x504 with 1 Axes>"
            ],
            "image/png": "[encoded data removed]"
          },
          "metadata": {
            "tags": [],
            "needs_background": "light"
          }
        }
      ]
    },
    {
      "cell_type": "code",
      "metadata": {
        "trusted": true,
        "id": "VL6dC2nfC_4-",
        "outputId": "8a27dfb5-cf02-450a-ea1d-a02b4b889b46"
      },
      "source": [
        "# plot some samples\n",
        "plt.figure(figsize=(8,6))\n",
        "img = X_train.iloc[8].to_numpy()\n",
        "img = img.reshape((28,28))\n",
        "plt.imshow(img,cmap='gray')\n",
        "plt.title(train.iloc[8,0])\n",
        "plt.grid()\n",
        "plt.show()"
      ],
      "execution_count": null,
      "outputs": [
        {
          "output_type": "display_data",
          "data": {
            "text/plain": [
              "<Figure size 576x432 with 1 Axes>"
            ],
            "image/png": "[encoded data removed]"
          },
          "metadata": {
            "tags": [],
            "needs_background": "light"
          }
        }
      ]
    },
    {
      "cell_type": "markdown",
      "metadata": {
        "id": "BE6TadtKC_4_"
      },
      "source": [
        "<a id ='2' ></a>\n",
        "<h2 style = \"background:#0C0C0C ;color:white;border:0;font-family:Segoe Print;font-weight:bold\">Normalization ⁉️ </h2>\n",
        "\n",
        "<p style = \"color:darkred;font-family:Segoe Print;font-weight:bold\" > Why do we want to normalize the pictures? </p>\n",
        "\n",
        "<p style = \"color:black;font-family:Segoe Print;font-weight:bold\" > If we do not normalize, there may be errors due to certain colors. So, we first need to normalize. </p>\n",
        "\n",
        "<ul>\n",
        "    <li style = \"color:darkred;font-family:Segoe Print;font-weight:bold\" >For example, if you think of this page as a picture, there are different colors such as blue, white, black, so we normalize these colors to bring them into the black and white range.\n",
        "In short, we can say that we will make that picture in black and white. (Values between 0 and 1)</li>\n",
        "    <li style = \"color:black;font-family:Segoe Print;font-weight:bold\" >This increases the speed of CNN.</li>\n",
        "    <li style = \"color:black;font-family:Segoe Print;font-weight:bold\" >The maximum color a picture can take is 255, and we divide this floating by 255.</li>\n",
        "</ul>"
      ]
    },
    {
      "cell_type": "code",
      "metadata": {
        "trusted": true,
        "id": "Osfq4sLjC_4_",
        "outputId": "31c1f176-3a03-47a3-d53c-ab6df9ba5fea"
      },
      "source": [
        "# Normalize the data\n",
        "X_train = X_train / 255.0\n",
        "test = test / 255.0\n",
        "print(\"x_train shape: \",X_train.shape)\n",
        "print(\"test shape: \",test.shape)\n",
        "\n"
      ],
      "execution_count": null,
      "outputs": [
        {
          "output_type": "stream",
          "text": [
            "x_train shape:  (42000, 784)\n",
            "test shape:  (28000, 784)\n"
          ],
          "name": "stdout"
        }
      ]
    },
    {
      "cell_type": "markdown",
      "metadata": {
        "id": "JnVwK8NBC_5A"
      },
      "source": [
        "<a id ='3' ></a>\n",
        "<h2 style = \"background:#0C0C0C ;color:white;border:0;font-family:Segoe Print;font-weight:bold\">Reshape ⁉️ </h2>\n",
        "\n",
        "<p style = \"color:darkred;font-family:Segoe Print;font-weight:bold\" > Why do we need to reshape the pictures? </p>\n",
        "\n",
        "<p style = \"color:black;font-family:Segoe Print;font-weight:bold\" > Keras works this way. 2D does not want data. </p>\n",
        "\n",
        "<ul>\n",
        "    <li style = \"color:black;font-family:Segoe Print;font-weight:bold\" >We have (28,28) pictures. We need to make them (28,28,1) 3-dimensional.</li>\n",
        "    <li style = \"color:black;font-family:Segoe Print;font-weight:bold\" >where 1 = black and white, 3 = rgb means that it is colored.</li>\n",
        "</ul>"
      ]
    },
    {
      "cell_type": "code",
      "metadata": {
        "trusted": true,
        "id": "6LC5rnciC_5A",
        "outputId": "8742baf9-ca0c-4149-a4fa-7e64aaf4a7a7"
      },
      "source": [
        "# Reshape\n",
        "X_train = X_train.values.reshape(-1,28,28,1)\n",
        "test = test.values.reshape(-1,28,28,1)\n",
        "print(\"x_train shape: \",X_train.shape)\n",
        "print(\"test shape: \",test.shape)"
      ],
      "execution_count": null,
      "outputs": [
        {
          "output_type": "stream",
          "text": [
            "x_train shape:  (42000, 28, 28, 1)\n",
            "test shape:  (28000, 28, 28, 1)\n"
          ],
          "name": "stdout"
        }
      ]
    },
    {
      "cell_type": "markdown",
      "metadata": {
        "id": "PoaVaq4qC_5B"
      },
      "source": [
        "<a id ='4' ></a>\n",
        "<h2 style = \"background:#0C0C0C ;color:white;border:0;font-family:Segoe Print;font-weight:bold\">Label Encoding ⁉️ </h2>\n",
        "\n",
        "<p style = \"color:black;font-family:Segoe Print;font-weight:bold\" > we have numbers. We are doing this for Keras to better understand these numbers. </p>\n",
        "\n",
        "<ul>\n",
        "    <li style = \"color:black;font-family:Segoe Print;font-weight:bold\" > <strong> Example : </strong> <br> 2 = > [0,0,1,0,0,0,0,0,0,0] <br> 5 = > [0,0,0,0,0,1,0,0,0,0] </li>\n",
        "</ul>"
      ]
    },
    {
      "cell_type": "code",
      "metadata": {
        "trusted": true,
        "id": "ON5dP5SKC_5B"
      },
      "source": [
        "# Label Encoding \n",
        "from keras.utils.np_utils import to_categorical # convert to one-hot-encoding\n",
        "Y_train = to_categorical(y_train, num_classes = 10)\n"
      ],
      "execution_count": null,
      "outputs": []
    },
    {
      "cell_type": "markdown",
      "metadata": {
        "id": "T0DHVt63C_5B"
      },
      "source": [
        "<a id ='5' ></a>\n",
        "<h2 style = \"background:#0C0C0C ;color:white;border:0;font-family:Segoe Print;font-weight:bold\">Train -Test Split </h2>"
      ]
    },
    {
      "cell_type": "code",
      "metadata": {
        "trusted": true,
        "id": "NmO7cB7MC_5C",
        "outputId": "b7595ab9-bc3a-4832-be09-4f6c7e022ecb"
      },
      "source": [
        "from sklearn.model_selection import train_test_split\n",
        "X_train, X_val, Y_train, Y_val = train_test_split(X_train, Y_train, test_size = 0.1, random_state=2)\n",
        "print(\"x_train shape\",X_train.shape)\n",
        "print(\"x_val shape\",X_val.shape)\n",
        "print(\"y_train shape\",Y_train.shape)\n",
        "print(\"y_val shape\",Y_val.shape)"
      ],
      "execution_count": null,
      "outputs": [
        {
          "output_type": "stream",
          "text": [
            "x_train shape (37800, 28, 28, 1)\n",
            "x_val shape (4200, 28, 28, 1)\n",
            "y_train shape (37800, 10)\n",
            "y_val shape (4200, 10)\n"
          ],
          "name": "stdout"
        }
      ]
    },
    {
      "cell_type": "markdown",
      "metadata": {
        "id": "MRd_0BloC_5C"
      },
      "source": [
        "<a id ='6' ></a>\n",
        "<h2 style = \"background:#0C0C0C ;color:white;border:0;font-family:Segoe Print;font-weight:bold\">Convolution Neural Network (CNN) 📚 </h2>"
      ]
    },
    {
      "cell_type": "markdown",
      "metadata": {
        "id": "xirEIcbgC_5C"
      },
      "source": [
        "![CNN.png](attachment:6f7bae0e-33b1-45ee-9e12-77cf1478e617.png)\n",
        "\n",
        "<p style = \"color:black;font-family:Segoe Print;font-weight:bold\" > CNN is a very effective mechanism often used for image recognition. </p>\n",
        "\n",
        "<a id ='7' ></a>\n",
        "<p style = \"color:darkred;font-family:Segoe Print;font-weight:700\" >What does CNN do? </p>\n",
        "\n",
        "<p style = \"color:black;font-family:Segoe Print;font-weight:bold\" > CNN uses their unique properties to distinguish pictures or images. Isn't this actually the same in our brains ? <br> Example : <br> When we look at a cat, our brains use features like her ears tail and her cat\n",
        "We can define that. CNN does just that. </p> \n",
        "\n",
        "<p style = \"color:darkred;font-family:Segoe Print;font-weight:700\" > First, let's look at its structure before we get started. </p>\n",
        "\n",
        "<ul>\n",
        "    <li style = \"color:black;font-family:Segoe Print;font-weight:bold\" > <strong> Convolutional Layer --> </strong> Used to determine features  </li>\n",
        "    <li style = \"color:black;font-family:Segoe Print;font-weight:bold\" > <strong> Non-Linearity Layer --> </strong> Introduction of nonlinearity to the system  </li>\n",
        "    <li style = \"color:black;font-family:Segoe Print;font-weight:bold\" > <strong> Pooling (Downsampling) Layer --> </strong> Reduces the number of weights and checks fit  </li>\n",
        "    <li style = \"color:black;font-family:Segoe Print;font-weight:bold\" > <strong> Flattening Layer --> </strong> Prepares data for the Classical Neural Network  </li>\n",
        "    <li style = \"color:black;font-family:Segoe Print;font-weight:bold\" > <strong> Fully-Connected Layer --> </strong> Standard Neural Network used in classification.  </li>\n",
        "</ul>\n",
        "\n",
        "<p style = \"color:black;font-family:Segoe Print;font-weight:bold\" >So we can say ! CNN classification uses the normal neural network to solve the problem.\n",
        "However, up to that part, other layers are used to determine the properties.</p>\n"
      ]
    },
    {
      "cell_type": "markdown",
      "metadata": {
        "id": "q4chtfdCC_5D"
      },
      "source": [
        "<a id ='8' ></a>\n",
        "<h2 style = \"background:#0C0C0C ;color:white;border:0;font-family:Segoe Print;font-weight:bold\"> Convolutional Layer ❔ </h2>\n",
        "\n",
        "\n",
        "<ul>\n",
        "    <li style = \"color:black;font-family:Segoe Print;font-weight:bold\" >This layer is the main building block of CNN. It is responsible for perceiving the features of the picture.</li>\n",
        "    <li style = \"color:black;font-family:Segoe Print;font-weight:bold\" >This layer applies some filters to the image to extract low and high level features in the image.\n",
        "For example, this filter can be a filter that will detect edges.</li>\n",
        "</ul>\n",
        "\n",
        "<a id ='9' ></a>\n",
        "<h4 style = \"color:darkred;font-family:Segoe Print;font-weight:bold\"> Filter </h4>\n",
        "\n",
        "<p style = \"color:black;font-family:Segoe Print;font-weight:bold\" > Now let's see how the filter is applied. </p>\n",
        "\n",
        "![filter.PNG](attachment:aef13d3d-3929-4915-a128-53e59a74362d.PNG)\n",
        "\n",
        "<p style = \"color:darkred;font-family:Segoe Print;font-weight:bold\" > Let's take a look at how the filter is applied to our picture. </p>\n",
        "\n",
        "![Filter.gif](attachment:c33d4751-3e71-4c26-abd2-720ec98dde54.gif)\n",
        "\n",
        "<p style = \"color:black;font-family:Segoe Print;font-weight:bold\" > First, the filter is positioned in the upper left corner of the image. Here, the indices between the two matrices (picture and filter) are multiplied by each other and all results are summed, then the result is stored in the output matrix. Then move this filter to the right by 1 pixel (also known as a \"step\") and repeat the process. After the end of the 1st line, 2 lines are passed and the operations are repeated. After all operations are completed, an output matrix is created. The reason why the output matrix is 3 × 3 here is because in the 5 × 5 matrix the 3 × 3 filter moves 3 times horizontally and vertically. </p>\n",
        "\n",
        "<p style = \"color:black;font-family:Segoe Print;font-weight:bold\" > So what does the output matrix tell us? This matrix is often called Feature Map. It shows where the image is located in the property represented by the filter. </p>\n",
        "\n"
      ]
    },
    {
      "cell_type": "markdown",
      "metadata": {
        "id": "sOY0QHAFC_5D"
      },
      "source": [
        "<a id ='10' ></a>\n",
        "<h3 style = \"background:#0C0C0C ;color:white;border:0;font-family:Segoe Print;font-weight:bold\"> Padding ❓ </h3>\n",
        "\n",
        "<p  style = \"color:black;font-family:Segoe Print;font-weight:bold\" > Before we get to the concept of padding, let's take a look at what <strong> stride? </strong> is. This term is often used in conjunction with the term padding. Stride controls how the filter evolves around the input image. In the example above, Stride was 1 pixel, but it could be larger. This affects the size of the Feature Map's output.</p>\n",
        "\n",
        "<p style = \"color:black;font-family:Segoe Print;font-weight:bold\" > In the early stages of Cnn, while applying the initial filters, we need to preserve as much information as possible for the other Convolutional Layers. This is why padding is used. You may have noticed that the Feature Map is smaller than the original login image. So Padding will add zero values to this map to maintain the size of the image. </p>\n",
        "\n",
        "<p style = \"color:darkred;font-family:Segoe Print;font-weight:bold\" > Let's examine this on the picture. </p>\n",
        "\n",
        "![same_padding.PNG](attachment:91e9b688-9723-426d-8099-f5c3e928f268.PNG)"
      ]
    },
    {
      "cell_type": "markdown",
      "metadata": {
        "id": "Pl8OmqnPC_5D"
      },
      "source": [
        "<a id ='11' ></a>\n",
        "<h3 style = \"background:#0C0C0C ;color:white;border:0;font-family:Segoe Print;font-weight:bold\"> Non-linearity ❓ </h3>\n",
        "\n",
        "<p style = \"color:black;font-family:Segoe Print;font-weight:bold\" > The Non-Linearity layer usually develops after all the Convolutional layers. So why is linearity in the image a problem? The problem is that since all layers can be a linear function, the Neural Network behaves like a single perception, that is, the result can be calculated as a linear combination of outputs. This layer is called the activation layer (Activation Layer) because it uses one of the activation functions. </p>\n",
        "\n",
        "<a id ='12' ></a>\n",
        "<p style = \"color:darkred;font-family:Segoe Print;font-weight:bold\" > Let's take a look at the ReLU function, which is the most used of these functions. </p>\n",
        "\n",
        "![relu.PNG](attachment:9d3b0e6f-628c-41a8-b869-4c3d807d277b.PNG)\n",
        "\n",
        "<p style = \"color:black;font-family:Segoe Print;font-weight:bold\" > As seen in the picture, ReLU reflects positive inputs as they are, while negative inputs as 0.Let's finish this part by looking at how the ReLU function looks on the real picture. </p>\n",
        "\n",
        "![non_linear.PNG](attachment:23799359-ddb3-42ed-9e66-09421bef55ca.PNG)\n",
        "\n",
        "<p style = \"color:black;font-family:Segoe Print;font-weight:bold\" > When the ReLu function is applied to the Feature Map, a result as above is produced.Black values ​​in Feature Map are negative. After the Relu function is applied, the black values ​​are removed and 0 is replaced. </p>"
      ]
    },
    {
      "cell_type": "markdown",
      "metadata": {
        "id": "N6V2F3-oC_5E"
      },
      "source": [
        "<a id ='13' ></a>\n",
        "<h2 style = \"background:#0C0C0C ;color:white;border:0;font-family:Segoe Print;font-weight:bold\"> Pooling Layer ❔ </h2>\n",
        "\n",
        "<p style = \"color:black;font-family:Segoe Print;font-weight:bold\" > This layer is a layer that is often added between successive convolutional layers in CovNet. The task of this layer is to reduce the shear size of the representation and the number of parameters and calculations within the network. In this way, incompatibility in the network is checked. There are many pooling operations, but the most popular is max pooling. There are also average pooling and L2-norm pooling algorithms that work on the same principle. </p>\n",
        "\n",
        "<p style = \"color:darkred;font-family:Segoe Print;font-weight:bold\" > Let's examine the most preferred Maxpooling process. </p>\n",
        "\n",
        "![maxpo.PNG](attachment:bb6b0af1-a14e-4e8a-b232-297f266a11e3.PNG)\n",
        "\n",
        "<p style = \"color:black;font-family:Segoe Print;font-weight:bold\" > We created a (2x2) size filter and applied it to our image. He writes what he is doing here, taking the greatest value there. </p>"
      ]
    },
    {
      "cell_type": "markdown",
      "metadata": {
        "id": "4ACm8sKoC_5E"
      },
      "source": [
        "<a id ='14' ></a>\n",
        "<h2 style = \"background:#0C0C0C ;color:white;border:0;font-family:Segoe Print;font-weight:bold\"> Flattening Layer ❔ </h2>\n",
        "\n",
        "<p style = \"color:black;font-family:Segoe Print;font-weight:bold\" > The task of this layer is simply to prepare the data at the input of the last and most important layer, the Fully Connected Layer. Generally, neural networks receive input data from a one-dimensional array. The data in this neural network are the matrixes coming from the Convolutional and Pooling layers are converted into a one-dimensional array. </p>\n",
        "\n",
        "<p style = \"color:darkred;font-family:Segoe Print;font-weight:bold\" > As we always do, let's examine it by visualizing it in order to better visualize it and understand it better. </p>\n",
        "\n",
        "![flattening.PNG](attachment:2996e08f-4b72-4ae9-829c-1887f3702f04.PNG)"
      ]
    },
    {
      "cell_type": "markdown",
      "metadata": {
        "id": "c2CfdAEGC_5E"
      },
      "source": [
        "<a id ='15' ></a>\n",
        "<h2 style = \"background:#0C0C0C ;color:white;border:0;font-family:Segoe Print;font-weight:bold\"> Fully-Connected Layer ❔ </h2>\n",
        "\n",
        "<p style = \"color:black;font-family:Segoe Print;font-weight:bold\" > Fully Connected layers in a neural networks are those layers where all the inputs from one layer are connected to every activation unit of the next layer. In most popular machine learning models, the last few layers are full connected layers which compiles the data extracted by previous layers to form the final output. It is the second most time consuming layer second to Convolution Layer. </p>\n",
        "\n",
        "<ul>\n",
        "    <li style = \"color:black;font-family:Segoe Print;font-weight:bold\" >Neurons in a fully connected layer have connections to all activations in the previous layer</li>\n",
        "</ul>\n",
        "\n",
        "![fulll.png](attachment:ec9c4657-14d9-4e1d-92c5-974e38d7a346.png)"
      ]
    },
    {
      "cell_type": "markdown",
      "metadata": {
        "id": "va1nxFXaC_5F"
      },
      "source": [
        "<a id ='16' ></a>\n",
        "<h2 style = \"background:#0C0C0C ;color:white;border:0;font-family:Segoe Print;font-weight:bold\"> Dropout ❔ </h2>\n",
        "\n",
        "<p style = \"color:black;font-family:Segoe Print;font-weight:bold\" > Before coming to the keras-application part, I want to talk about the DropOut concept. Dropout is a technique where randomly selected neurons are ignored during training </p>\n",
        "\n",
        "![dropıut.png](attachment:d61031fe-0eff-4faf-bf90-b7fca3498c41.png)"
      ]
    },
    {
      "cell_type": "markdown",
      "metadata": {
        "id": "a-pNVP4yC_5F"
      },
      "source": [
        "<a id ='17' ></a>\n",
        "<h2 style = \"background:#0C0C0C ;color:white;border:0;font-family:Segoe Print;font-weight:bold\"> Implementing with Keras ❔ </h2>\n",
        "\n",
        "<a id ='18' ></a>\n",
        "<h4 style = \"color:darkred;border:0;font-family:Segoe Print;font-weight:bold\"> Create Model  </h4>\n",
        "\n",
        "<p style = \"color:black;font-family:Segoe Print;font-weight:bold\" > We are starting to build our model using the keras library. </p>"
      ]
    },
    {
      "cell_type": "code",
      "metadata": {
        "trusted": true,
        "id": "d34_BNW3C_5F"
      },
      "source": [
        "from sklearn.metrics import confusion_matrix\n",
        "import itertools\n",
        "\n",
        "from keras.utils.np_utils import to_categorical # convert to one-hot-encoding\n",
        "from keras.models import Sequential\n",
        "from keras.layers import Dense, Dropout, Flatten, Conv2D, MaxPool2D\n",
        "from keras.optimizers import RMSprop,Adam\n",
        "from keras.preprocessing.image import ImageDataGenerator\n",
        "from keras.callbacks import ReduceLROnPlateau\n",
        "\n",
        "model = Sequential()\n",
        "\n",
        "model.add(Conv2D(filters = 8, kernel_size = (5,5),padding = 'Same', \n",
        "                 activation ='relu', input_shape = (28,28,1)))\n",
        "model.add(MaxPool2D(pool_size=(2,2)))\n",
        "model.add(Dropout(0.25))\n",
        "\n",
        "model.add(Conv2D(filters = 16, kernel_size = (3,3),padding = 'Same', \n",
        "                 activation ='relu'))\n",
        "model.add(MaxPool2D(pool_size=(2,2), strides=(2,2)))\n",
        "model.add(Dropout(0.25))\n",
        "\n",
        "# fully connected\n",
        "model.add(Flatten())\n",
        "model.add(Dense(256, activation = \"relu\"))\n",
        "model.add(Dropout(0.5))\n",
        "model.add(Dense(10, activation = \"softmax\"))"
      ],
      "execution_count": null,
      "outputs": []
    },
    {
      "cell_type": "markdown",
      "metadata": {
        "id": "iZV6vQTkC_5F"
      },
      "source": [
        "<a id ='19' ></a>\n",
        "<h2 style = \"background:#0C0C0C ;color:white;border:0;font-family:Segoe Print;font-weight:bold\"> Define Optimizer ❓ </h2>\n",
        "\n",
        "<p style = \"color:black;font-family:Segoe Print;font-weight:bold\" >  Optimizers are algorithms or methods used to change the attributes of your neural network such as weights and learning rate in order to reduce the losses. </p>\n",
        "\n",
        "<ul>\n",
        "    <li style = \"color:darkred;font-family:Segoe Print;font-weight:bold\" > <strong> beta_1 : </strong> The exponential decay rate for the first moment estimates.\n",
        " </li>\n",
        "    <li style = \"color:darkred;font-family:Segoe Print;font-weight:bold\" > <strong> beta_2 : </strong> The exponential decay rate for the second-moment estimates. This value should be set close to 1.0 on problems with a sparse gradient.</li>\n",
        "</ul>\n",
        "\n",
        "<strong> referance : </strong> https://machinelearningmastery.com/adam-optimization-algorithm-for-deep-learning/ "
      ]
    },
    {
      "cell_type": "code",
      "metadata": {
        "trusted": true,
        "id": "fXBEWe0OC_5G"
      },
      "source": [
        "# Define the optimizer\n",
        "optimizer = Adam(lr=0.001, beta_1=0.9, beta_2=0.999)"
      ],
      "execution_count": null,
      "outputs": []
    },
    {
      "cell_type": "markdown",
      "metadata": {
        "id": "W1B5ug1iC_5G"
      },
      "source": [
        "<a id ='20' ></a>\n",
        "<h2 style = \"background:#0C0C0C ;color:white;border:0;font-family:Segoe Print;font-weight:bold\">  Compile Model ❓ </h2>\n",
        "\n",
        "<p style = \"color:black;font-family:Segoe Print;font-weight:bold\" > Yes, now we need to compile our model. Compiling the model requires 3 parameters. </p>\n",
        "\n",
        "<ul>\n",
        "    <li style = \"color:darkred;font-family:Segoe Print;font-weight:bold\" >For our missing function we will use 'categorical_crossentropy'.</li>\n",
        "    <li style = \"color:darkred;font-family:Segoe Print;font-weight:bold\" >We use the \"accuracy\" metric to see the success of our model.</li>\n",
        "</ul>"
      ]
    },
    {
      "cell_type": "code",
      "metadata": {
        "trusted": true,
        "id": "e-ok58TgC_5G"
      },
      "source": [
        "model.compile(optimizer = optimizer , loss = \"categorical_crossentropy\", metrics=[\"accuracy\"])"
      ],
      "execution_count": null,
      "outputs": []
    },
    {
      "cell_type": "markdown",
      "metadata": {
        "id": "AshbYc7VC_5G"
      },
      "source": [
        "<a id ='21' ></a>\n",
        "<h2 style = \"background:#0C0C0C ;color:white;border:0;font-family:Segoe Print;font-weight:bold\"> Epochs and Batch Size ❓ </h2>\n",
        "\n",
        "<ul>\n",
        "    <li style = \"color:black;font-family:Segoe Print;font-weight:bold\" >Epochs : It is the forward and reverse processing of the images in the data set one by one. In other words, we can simply call it a tour of the complete education.Training is determined by the number of epochs. </li>\n",
        "        <li style = \"color:black;font-family:Segoe Print;font-weight:bold\" >Batch Size : Basically, it takes a long time if we train individual pictures during the epochs I mentioned above. He runs away during the training and says that the pictures will be educated. </li>\n",
        "    <li style = \"color:darkred;font-family:Segoe Print;font-weight:bold\" >To give an example of this, imagine we have 10 loaves of bread. If we select batch_size as 2, imagine that we eat these breads 2 times and 2 times.</li>  \n",
        "</ul>"
      ]
    },
    {
      "cell_type": "code",
      "metadata": {
        "trusted": true,
        "id": "whpRvCnBC_5H"
      },
      "source": [
        "epochs = 100  \n",
        "batch_size = 250"
      ],
      "execution_count": null,
      "outputs": []
    },
    {
      "cell_type": "markdown",
      "metadata": {
        "id": "_5BysELeC_5H"
      },
      "source": [
        "<a id ='22' ></a>\n",
        "<h2 style = \"background:#0C0C0C ;color:white;border:0;font-family:Segoe Print;font-weight:bold\"> Data Augmentation ❓ </h2>\n",
        "\n",
        "<p style = \"color:black;font-family:Segoe Print;font-weight:bold\" >\n",
        "In order for our model to learn well, we need to have enough data. If we have less data, we should not use data increase methods.\n",
        "</p>\n",
        "\n",
        "<ul>\n",
        "    <li style = \"color:darkred;font-family:Segoe Print;font-weight:bold\" >Taking symmetries of the image with respect to various axes, </li>\n",
        "        <li style = \"color:darkred;font-family:Segoe Print;font-weight:bold\" >Cutting out a random sample piece, </li>\n",
        "    <li style = \"color:darkred;font-family:Segoe Print;font-weight:bold\" >turning it to the right or left,</li>  \n",
        "        <li style = \"color:darkred;font-family:Segoe Print;font-weight:bold\" >zoom in on the picture or just take a part of it,</li>  \n",
        "            <li style = \"color:darkred;font-family:Segoe Print;font-weight:bold\" >. . .</li> \n",
        "</ul>\n",
        "\n",
        "<p style = \"color:black;font-family:Segoe Print;font-weight:bold\" > By creating new pieces of data obtained from the data in many different ways, it can be duplicated / increased. Thus, the model moves away from overfitting.We can understand better by examining the picture below. </p>\n",
        "\n",
        "![data_aug.png](attachment:e4caf969-0a26-48ae-bc60-ba7de4dff66b.png)\n",
        "\n",
        "<p style = \"color:black;font-family:Segoe Print;font-weight:bold\" > Let's write the code for this section we learned. </p>"
      ]
    },
    {
      "cell_type": "code",
      "metadata": {
        "trusted": true,
        "id": "wisJ9u5EC_5H"
      },
      "source": [
        "# data augmentation\n",
        "datagen = ImageDataGenerator(\n",
        "        featurewise_center=False,  \n",
        "        samplewise_center=False, \n",
        "        featurewise_std_normalization=False,  \n",
        "        samplewise_std_normalization=False,  \n",
        "        zca_whitening=False, \n",
        "        rotation_range=5,  \n",
        "        zoom_range = 0.1, \n",
        "        width_shift_range=0.1,  \n",
        "        height_shift_range=0.1,  \n",
        "        horizontal_flip=False,  \n",
        "        vertical_flip=False)  \n",
        "\n",
        "datagen.fit(X_train)"
      ],
      "execution_count": null,
      "outputs": []
    },
    {
      "cell_type": "markdown",
      "metadata": {
        "id": "BtURynZJC_5H"
      },
      "source": [
        "<a id ='23' ></a>\n",
        "<h2 style = \"background:#0C0C0C ;color:white;border:0;font-family:Segoe Print;font-weight:bold\"> Callbacks ❓ </h2>\n",
        "\n",
        "<p style = \"color:black;font-family:Segoe Print;font-weight:bold\" >\n",
        "Instead of going all the way to the end of the training for better results during the training of our model, we can stop it when success decreases.There are many ways to do this, we will use EarlyStopping for this.\n",
        "</p>\n",
        "\n",
        "<ul>\n",
        "    <li style = \"color:darkred;font-family:Segoe Print;font-weight:bold\" > monitor --> we tell you the amount to be monitored, that is, which option to choose to stop our model. </li>\n",
        "        <li style = \"color:darkred;font-family:Segoe Print;font-weight:bold\" >patience --> times when there is no improvement. how many in a row. </li>\n",
        "</ul>\n",
        "\n",
        "<p style = \"color:black;font-family:Segoe Print;font-weight:bold\" > For more detailed information : \n",
        "    <a href = \"https://keras.io/api/callbacks/early_stopping/\" >https://keras.io/api/callbacks/early_stopping/</a>\n",
        "</p>"
      ]
    },
    {
      "cell_type": "code",
      "metadata": {
        "trusted": true,
        "id": "H8NVbB6MC_5H"
      },
      "source": [
        "from tensorflow.keras.callbacks import EarlyStopping\n",
        "early_stopping = EarlyStopping(monitor='val_loss', mode='min', verbose=1,patience=6)"
      ],
      "execution_count": null,
      "outputs": []
    },
    {
      "cell_type": "markdown",
      "metadata": {
        "id": "XrhuoVpoC_5I"
      },
      "source": [
        "<a id ='24' ></a>\n",
        "<h2 style = \"background:#0C0C0C ;color:white;border:0;font-family:Segoe Print;font-weight:bold\"> Fit the model ❓ </h2>"
      ]
    },
    {
      "cell_type": "code",
      "metadata": {
        "trusted": true,
        "id": "Z7LFDTGlC_5I",
        "outputId": "efa1fbf3-444f-4110-a17f-066e2574b973"
      },
      "source": [
        "history = model.fit_generator(datagen.flow(X_train,Y_train, batch_size=batch_size),\n",
        "                              epochs = epochs, validation_data = (X_val,Y_val), steps_per_epoch=X_train.shape[0] // batch_size,\n",
        "                              callbacks=[early_stopping])"
      ],
      "execution_count": null,
      "outputs": [
        {
          "output_type": "stream",
          "text": [
            "Epoch 1/100\n",
            "151/151 [==============================] - 20s 128ms/step - loss: 1.5782 - accuracy: 0.4520 - val_loss: 0.2342 - val_accuracy: 0.9395\n",
            "Epoch 2/100\n",
            "151/151 [==============================] - 19s 127ms/step - loss: 0.4860 - accuracy: 0.8461 - val_loss: 0.1344 - val_accuracy: 0.9617\n",
            "Epoch 3/100\n",
            "151/151 [==============================] - 19s 125ms/step - loss: 0.3308 - accuracy: 0.8956 - val_loss: 0.1093 - val_accuracy: 0.9660\n",
            "Epoch 4/100\n",
            "151/151 [==============================] - 19s 128ms/step - loss: 0.2739 - accuracy: 0.9148 - val_loss: 0.0959 - val_accuracy: 0.9698\n",
            "Epoch 5/100\n",
            "151/151 [==============================] - 19s 125ms/step - loss: 0.2445 - accuracy: 0.9231 - val_loss: 0.0792 - val_accuracy: 0.9767\n",
            "Epoch 6/100\n",
            "151/151 [==============================] - 19s 128ms/step - loss: 0.2125 - accuracy: 0.9335 - val_loss: 0.0737 - val_accuracy: 0.9769\n",
            "Epoch 7/100\n",
            "151/151 [==============================] - 19s 127ms/step - loss: 0.2038 - accuracy: 0.9375 - val_loss: 0.0671 - val_accuracy: 0.9795\n",
            "Epoch 8/100\n",
            "151/151 [==============================] - 19s 125ms/step - loss: 0.1834 - accuracy: 0.9441 - val_loss: 0.0644 - val_accuracy: 0.9814\n",
            "Epoch 9/100\n",
            "151/151 [==============================] - 19s 126ms/step - loss: 0.1777 - accuracy: 0.9447 - val_loss: 0.0580 - val_accuracy: 0.9836\n",
            "Epoch 10/100\n",
            "151/151 [==============================] - 19s 125ms/step - loss: 0.1653 - accuracy: 0.9491 - val_loss: 0.0548 - val_accuracy: 0.9840\n",
            "Epoch 11/100\n",
            "151/151 [==============================] - 19s 127ms/step - loss: 0.1631 - accuracy: 0.9491 - val_loss: 0.0489 - val_accuracy: 0.9843\n",
            "Epoch 12/100\n",
            "151/151 [==============================] - 19s 125ms/step - loss: 0.1528 - accuracy: 0.9526 - val_loss: 0.0486 - val_accuracy: 0.9852\n",
            "Epoch 13/100\n",
            "151/151 [==============================] - 19s 128ms/step - loss: 0.1543 - accuracy: 0.9530 - val_loss: 0.0455 - val_accuracy: 0.9867\n",
            "Epoch 14/100\n",
            "151/151 [==============================] - 19s 126ms/step - loss: 0.1323 - accuracy: 0.9592 - val_loss: 0.0493 - val_accuracy: 0.9852\n",
            "Epoch 15/100\n",
            "151/151 [==============================] - 19s 124ms/step - loss: 0.1365 - accuracy: 0.9594 - val_loss: 0.0435 - val_accuracy: 0.9876\n",
            "Epoch 16/100\n",
            "151/151 [==============================] - 19s 128ms/step - loss: 0.1315 - accuracy: 0.9589 - val_loss: 0.0405 - val_accuracy: 0.9883\n",
            "Epoch 17/100\n",
            "151/151 [==============================] - 19s 125ms/step - loss: 0.1308 - accuracy: 0.9600 - val_loss: 0.0409 - val_accuracy: 0.9867\n",
            "Epoch 18/100\n",
            "151/151 [==============================] - 19s 127ms/step - loss: 0.1253 - accuracy: 0.9610 - val_loss: 0.0397 - val_accuracy: 0.9881\n",
            "Epoch 19/100\n",
            "151/151 [==============================] - 19s 127ms/step - loss: 0.1173 - accuracy: 0.9633 - val_loss: 0.0411 - val_accuracy: 0.9888\n",
            "Epoch 20/100\n",
            "151/151 [==============================] - 19s 125ms/step - loss: 0.1226 - accuracy: 0.9613 - val_loss: 0.0367 - val_accuracy: 0.9895\n",
            "Epoch 21/100\n",
            "151/151 [==============================] - 19s 126ms/step - loss: 0.1119 - accuracy: 0.9660 - val_loss: 0.0361 - val_accuracy: 0.9888\n",
            "Epoch 22/100\n",
            "151/151 [==============================] - 19s 125ms/step - loss: 0.1107 - accuracy: 0.9646 - val_loss: 0.0371 - val_accuracy: 0.9886\n",
            "Epoch 23/100\n",
            "151/151 [==============================] - 19s 127ms/step - loss: 0.1168 - accuracy: 0.9648 - val_loss: 0.0334 - val_accuracy: 0.9900\n",
            "Epoch 24/100\n",
            "151/151 [==============================] - 19s 127ms/step - loss: 0.1097 - accuracy: 0.9665 - val_loss: 0.0348 - val_accuracy: 0.9902\n",
            "Epoch 25/100\n",
            "151/151 [==============================] - 19s 125ms/step - loss: 0.1049 - accuracy: 0.9686 - val_loss: 0.0321 - val_accuracy: 0.9914\n",
            "Epoch 26/100\n",
            "151/151 [==============================] - 19s 129ms/step - loss: 0.1026 - accuracy: 0.9666 - val_loss: 0.0321 - val_accuracy: 0.9902\n",
            "Epoch 27/100\n",
            "151/151 [==============================] - 19s 126ms/step - loss: 0.1096 - accuracy: 0.9663 - val_loss: 0.0337 - val_accuracy: 0.9898\n",
            "Epoch 28/100\n",
            "151/151 [==============================] - 19s 127ms/step - loss: 0.0972 - accuracy: 0.9682 - val_loss: 0.0321 - val_accuracy: 0.9888\n",
            "Epoch 29/100\n",
            "151/151 [==============================] - 19s 127ms/step - loss: 0.1030 - accuracy: 0.9691 - val_loss: 0.0317 - val_accuracy: 0.9905\n",
            "Epoch 30/100\n",
            "151/151 [==============================] - 19s 125ms/step - loss: 0.1004 - accuracy: 0.9686 - val_loss: 0.0324 - val_accuracy: 0.9902\n",
            "Epoch 31/100\n",
            "151/151 [==============================] - 19s 126ms/step - loss: 0.0957 - accuracy: 0.9713 - val_loss: 0.0303 - val_accuracy: 0.9912\n",
            "Epoch 32/100\n",
            "151/151 [==============================] - 19s 125ms/step - loss: 0.0923 - accuracy: 0.9709 - val_loss: 0.0301 - val_accuracy: 0.9910\n",
            "Epoch 33/100\n",
            "151/151 [==============================] - 19s 127ms/step - loss: 0.0961 - accuracy: 0.9703 - val_loss: 0.0297 - val_accuracy: 0.9912\n",
            "Epoch 34/100\n",
            "151/151 [==============================] - 19s 125ms/step - loss: 0.0836 - accuracy: 0.9734 - val_loss: 0.0299 - val_accuracy: 0.9905\n",
            "Epoch 35/100\n",
            "151/151 [==============================] - 19s 126ms/step - loss: 0.0947 - accuracy: 0.9708 - val_loss: 0.0281 - val_accuracy: 0.9910\n",
            "Epoch 36/100\n",
            "151/151 [==============================] - 19s 126ms/step - loss: 0.0886 - accuracy: 0.9724 - val_loss: 0.0331 - val_accuracy: 0.9900\n",
            "Epoch 37/100\n",
            "151/151 [==============================] - 19s 125ms/step - loss: 0.0895 - accuracy: 0.9726 - val_loss: 0.0281 - val_accuracy: 0.9912\n",
            "Epoch 38/100\n",
            "151/151 [==============================] - 19s 127ms/step - loss: 0.0884 - accuracy: 0.9727 - val_loss: 0.0268 - val_accuracy: 0.9914\n",
            "Epoch 39/100\n",
            "151/151 [==============================] - 19s 125ms/step - loss: 0.0849 - accuracy: 0.9738 - val_loss: 0.0303 - val_accuracy: 0.9907\n",
            "Epoch 40/100\n",
            "151/151 [==============================] - 19s 128ms/step - loss: 0.0927 - accuracy: 0.9701 - val_loss: 0.0299 - val_accuracy: 0.9907\n",
            "Epoch 41/100\n",
            "151/151 [==============================] - 19s 127ms/step - loss: 0.0893 - accuracy: 0.9721 - val_loss: 0.0292 - val_accuracy: 0.9910\n",
            "Epoch 42/100\n",
            "151/151 [==============================] - 19s 125ms/step - loss: 0.0824 - accuracy: 0.9730 - val_loss: 0.0259 - val_accuracy: 0.9931\n",
            "Epoch 43/100\n",
            "151/151 [==============================] - 19s 125ms/step - loss: 0.0814 - accuracy: 0.9756 - val_loss: 0.0289 - val_accuracy: 0.9917\n",
            "Epoch 44/100\n",
            "151/151 [==============================] - 19s 124ms/step - loss: 0.0855 - accuracy: 0.9748 - val_loss: 0.0288 - val_accuracy: 0.9905\n",
            "Epoch 45/100\n",
            "151/151 [==============================] - 19s 128ms/step - loss: 0.0831 - accuracy: 0.9738 - val_loss: 0.0294 - val_accuracy: 0.9912\n",
            "Epoch 46/100\n",
            "151/151 [==============================] - 19s 127ms/step - loss: 0.0795 - accuracy: 0.9752 - val_loss: 0.0301 - val_accuracy: 0.9910\n",
            "Epoch 47/100\n",
            "151/151 [==============================] - 19s 126ms/step - loss: 0.0845 - accuracy: 0.9744 - val_loss: 0.0285 - val_accuracy: 0.9910\n",
            "Epoch 48/100\n",
            "151/151 [==============================] - 19s 126ms/step - loss: 0.0825 - accuracy: 0.9738 - val_loss: 0.0271 - val_accuracy: 0.9917\n",
            "Epoch 00048: early stopping\n"
          ],
          "name": "stdout"
        }
      ]
    },
    {
      "cell_type": "markdown",
      "metadata": {
        "id": "-lq6w6BzC_5I"
      },
      "source": [
        "<a id ='25' ></a>\n",
        "<h2 style = \"background:#0C0C0C ;color:white;border:0;font-family:Segoe Print;font-weight:bold\"> Evaluate the model ❔ </h2>\n",
        "\n",
        "<p style = \"color:black;font-family:Segoe Print;font-weight:bold\" > In this section, we will find the success of our model. We will examine this with the loss vs accuracy chart. </p>\n",
        "\n",
        "<ul>\n",
        "    <li style = \"color:darkred;font-family:Segoe Print;font-weight:bold\" >Model Success </li>\n",
        "    <li style = \"color:darkred;font-family:Segoe Print;font-weight:bold\" > Loss Chart </li>\n",
        "    <li style = \"color:darkred;font-family:Segoe Print;font-weight:bold\" >Accuracy Chart </li>    \n",
        "</ul>"
      ]
    },
    {
      "cell_type": "markdown",
      "metadata": {
        "id": "y_j1Nc4gC_5I"
      },
      "source": [
        "<a id ='26' ></a>\n",
        "<h4 style = \"background:#0C0C0C ;color:white;border:0;font-family:Segoe Print;font-weight:bold\"> Model Success ❓ </h4>"
      ]
    },
    {
      "cell_type": "code",
      "metadata": {
        "trusted": true,
        "id": "HS0ro5fUC_5J",
        "outputId": "d31b823a-f831-4e5f-cbcc-c0d2a9c19988"
      },
      "source": [
        "print(\"Accuracy of the model is --> \" , model.evaluate(X_val, Y_val, batch_size=batch_size)[1]*100 , \"%\")\n",
        "print(\"Loss of the model is --> \" , model.evaluate(X_val, Y_val, batch_size=batch_size)[0])"
      ],
      "execution_count": null,
      "outputs": [
        {
          "output_type": "stream",
          "text": [
            "17/17 [==============================] - 0s 27ms/step - loss: 0.0271 - accuracy: 0.9917\n",
            "Accuracy of the model is -->  99.16666746139526 %\n",
            "17/17 [==============================] - 0s 28ms/step - loss: 0.0271 - accuracy: 0.9917\n",
            "Loss of the model is -->  0.027097187936306\n"
          ],
          "name": "stdout"
        }
      ]
    },
    {
      "cell_type": "markdown",
      "metadata": {
        "id": "2a_gDFK5C_5J"
      },
      "source": [
        "<a id ='27' ></a>\n",
        "<h4 style = \"background:#0C0C0C ;color:white;border:0;font-family:Segoe Print;font-weight:bold\"> Loss Chart ❓ </h4>"
      ]
    },
    {
      "cell_type": "code",
      "metadata": {
        "trusted": true,
        "id": "jREqWqhfC_5J",
        "outputId": "78a01725-db02-458a-8975-751a375dc05c"
      },
      "source": [
        "plt.figure()\n",
        "plt.plot(history.history[\"loss\"],label = \"Train Loss\", color = \"black\")\n",
        "plt.plot(history.history[\"val_loss\"],label = \"Validation Loss\", color = \"darkred\", marker = \"+\", linestyle=\"dashed\",markeredgecolor = \"purple\", markeredgewidth = 2)\n",
        "plt.title(\"Model Loss\", color = \"darkred\", size = 13)\n",
        "plt.legend()\n",
        "plt.show()"
      ],
      "execution_count": null,
      "outputs": [
        {
          "output_type": "display_data",
          "data": {
            "text/plain": [
              "<Figure size 432x288 with 1 Axes>"
            ],
            "image/png": "[encoded data removed]"
          },
          "metadata": {
            "tags": [],
            "needs_background": "light"
          }
        }
      ]
    },
    {
      "cell_type": "markdown",
      "metadata": {
        "id": "cROix2e6C_5J"
      },
      "source": [
        "<a id ='28' ></a>\n",
        "<h4 style = \"background:#0C0C0C ;color:white;border:0;font-family:Segoe Print;font-weight:bold\"> Accuracy Chart ❓ </h4>"
      ]
    },
    {
      "cell_type": "code",
      "metadata": {
        "trusted": true,
        "id": "Il2Zp9h8C_5K",
        "outputId": "671a3612-548f-4ca1-e816-1bb2aa3f671f"
      },
      "source": [
        "plt.figure()\n",
        "plt.plot(history.history[\"accuracy\"],label = \"Train Accuracy\", color = \"black\")\n",
        "plt.plot(history.history[\"val_accuracy\"],label = \"Validation Accuracy\", color = \"darkred\", marker = \"+\", linestyle=\"dashed\",markeredgecolor = \"purple\", markeredgewidth = 2)\n",
        "plt.title(\"Model Accuracy\", color = \"darkred\", size = 13)\n",
        "plt.legend()\n",
        "plt.show()"
      ],
      "execution_count": null,
      "outputs": [
        {
          "output_type": "display_data",
          "data": {
            "text/plain": [
              "<Figure size 432x288 with 1 Axes>"
            ],
            "image/png": "[encoded data removed]"
          },
          "metadata": {
            "tags": [],
            "needs_background": "light"
          }
        }
      ]
    },
    {
      "cell_type": "markdown",
      "metadata": {
        "id": "2ZbXAY5KC_5K"
      },
      "source": [
        "<a id ='29' ></a>\n",
        "<h4 style = \"background:#0C0C0C ;color:white;border:0;font-family:Segoe Print;font-weight:bold\"> Model Confusion Matrix ❓ </h4>"
      ]
    },
    {
      "cell_type": "code",
      "metadata": {
        "trusted": true,
        "id": "eiyHQjuBC_5K",
        "outputId": "b7e916b4-2e7b-4057-cd58-5468f5856363"
      },
      "source": [
        "# We make predictions using the model we have created.\n",
        "Y_pred = model.predict(X_val)\n",
        "# argmax = To briefly mention it, it will give the index of the value with the highest value.\n",
        "Y_pred_classes = np.argmax(Y_pred,axis = 1) \n",
        "\n",
        "# We do the same for the y_val values. because we will compare these values. \n",
        "Y_true = np.argmax(Y_val,axis = 1) \n",
        "\n",
        "\"\"\"\n",
        "Let's explain the process we have done above with an example so that it sits on our minds.\n",
        "\n",
        "Y_pred = [0.12, 1.258, 3,4448], Let's assume we have such an array.\n",
        "argmax -- > it gives us the index of the largest value here.your biggest value here is our value \n",
        "starting with 3. its index is 2. argmax gives us this.\n",
        "\"\"\"\n",
        "confusion_mtx = confusion_matrix(Y_true, Y_pred_classes) \n",
        "\n",
        "# define the colors\n",
        "cmap = mpl.colors.ListedColormap(['#f8f8ff', 'darkred'])\n",
        "\n",
        "# plot the confusion matrix\n",
        "f,ax = plt.subplots(figsize=(10, 8))\n",
        "sns.heatmap(confusion_mtx, annot=True, linewidths=0.01,cmap=cmap,linecolor=\"gray\", fmt= '.1f',ax=ax)\n",
        "plt.xlabel(\"Predicted Label\", color = \"blue\")\n",
        "plt.ylabel(\"True Label\", color = \"green\")\n",
        "plt.title(\"Confusion Matrix\", color = \"darkred\", size = 15)\n",
        "plt.show()"
      ],
      "execution_count": null,
      "outputs": [
        {
          "output_type": "display_data",
          "data": {
            "text/plain": [
              "<Figure size 720x576 with 2 Axes>"
            ],
            "image/png": "[encoded data removed]"
          },
          "metadata": {
            "tags": [],
            "needs_background": "light"
          }
        }
      ]
    }
  ]
}