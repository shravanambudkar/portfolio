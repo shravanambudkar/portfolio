{
  "nbformat": 4,
  "nbformat_minor": 0,
  "metadata": {
    "kernelspec": {
      "display_name": "Python 3",
      "language": "python",
      "name": "python3"
    },
    "language_info": {
      "codemirror_mode": {
        "name": "ipython",
        "version": 3
      },
      "file_extension": ".py",
      "mimetype": "text/x-python",
      "name": "python",
      "nbconvert_exporter": "python",
      "pygments_lexer": "ipython3",
      "version": "3.7.6"
    },
    "papermill": {
      "duration": 299.416914,
      "end_time": "2020-10-20T06:21:27.942613",
      "environment_variables": {},
      "exception": null,
      "input_path": "__notebook__.ipynb",
      "output_path": "__notebook__.ipynb",
      "parameters": {},
      "start_time": "2020-10-20T06:16:28.525699",
      "version": "2.1.0"
    },
    "colab": {
      "name": "buzzfeed-news-analysis-and-classification.ipynb",
      "provenance": []
    }
  },
  "cells": [
    {
      "cell_type": "markdown",
      "metadata": {
        "papermill": {
          "duration": 0.171289,
          "end_time": "2020-10-20T06:16:34.201153",
          "exception": false,
          "start_time": "2020-10-20T06:16:34.029864",
          "status": "completed"
        },
        "tags": [],
        "id": "O3fEMCA_jU1E"
      },
      "source": [
        "# <center> BuzzFeed News Analysis and Classification </center>"
      ]
    },
    {
      "cell_type": "markdown",
      "metadata": {
        "papermill": {
          "duration": 0.172981,
          "end_time": "2020-10-20T06:16:34.927820",
          "exception": false,
          "start_time": "2020-10-20T06:16:34.754839",
          "status": "completed"
        },
        "tags": [],
        "toc": true,
        "id": "eWWcS_m2jU1M"
      },
      "source": [
        "<h1>Table of Contents<span class=\"tocSkip\"></span></h1>\n",
        "<div class=\"toc\"><ul class=\"toc-item\"><li><span><a href=\"#Introduction\" data-toc-modified-id=\"Introduction-1\"><span class=\"toc-item-num\">1&nbsp;&nbsp;</span>Introduction</a></span></li><li><span><a href=\"#Importing-Libraries\" data-toc-modified-id=\"Importing-Libraries-2\"><span class=\"toc-item-num\">2&nbsp;&nbsp;</span>Importing Libraries</a></span></li><li><span><a href=\"#Loading-Dataset\" data-toc-modified-id=\"Loading-Dataset-3\"><span class=\"toc-item-num\">3&nbsp;&nbsp;</span>Loading Dataset</a></span></li><li><span><a href=\"#Data-Cleaning-and-Feature-Engineering\" data-toc-modified-id=\"Data-Cleaning-and-Feature-Engineering-4\"><span class=\"toc-item-num\">4&nbsp;&nbsp;</span>Data Cleaning and Feature Engineering</a></span></li><li><span><a href=\"#EDA\" data-toc-modified-id=\"EDA-5\"><span class=\"toc-item-num\">5&nbsp;&nbsp;</span>EDA</a></span><ul class=\"toc-item\"><li><span><a href=\"#Real-Versus-Fake-News-Source-Analysis\" data-toc-modified-id=\"Real-Versus-Fake-News-Source-Analysis-5.1\"><span class=\"toc-item-num\">5.1&nbsp;&nbsp;</span>Real Versus Fake News Source Analysis</a></span><ul class=\"toc-item\"><li><span><a href=\"#Sources-of-Publising-Real-News\" data-toc-modified-id=\"Sources-of-Publising-Real-News-5.1.1\"><span class=\"toc-item-num\">5.1.1&nbsp;&nbsp;</span>Sources of Publising Real News</a></span></li><li><span><a href=\"#Sources-of-Publishing-Maximum-Fake-News\" data-toc-modified-id=\"Sources-of-Publishing-Maximum-Fake-News-5.1.2\"><span class=\"toc-item-num\">5.1.2&nbsp;&nbsp;</span>Sources of Publishing Maximum Fake News</a></span></li><li><span><a href=\"#Common-Sources-of-Publishing-Both-Real-and-Fake-News\" data-toc-modified-id=\"Common-Sources-of-Publishing-Both-Real-and-Fake-News-5.1.3\"><span class=\"toc-item-num\">5.1.3&nbsp;&nbsp;</span>Common Sources of Publishing Both Real and Fake News</a></span></li><li><span><a href=\"#Sources-Including-Movies-in-the-News\" data-toc-modified-id=\"Sources-Including-Movies-in-the-News-5.1.4\"><span class=\"toc-item-num\">5.1.4&nbsp;&nbsp;</span>Sources Including Movies in the News</a></span></li><li><span><a href=\"#Sources-Including-Images-in-the-News\" data-toc-modified-id=\"Sources-Including-Images-in-the-News-5.1.5\"><span class=\"toc-item-num\">5.1.5&nbsp;&nbsp;</span>Sources Including Images in the News</a></span></li></ul></li><li><span><a href=\"#Analysis-of-Title-and-Body-of-News-Articles\" data-toc-modified-id=\"Analysis-of-Title-and-Body-of-News-Articles-5.2\"><span class=\"toc-item-num\">5.2&nbsp;&nbsp;</span>Analysis of Title and Body of News Articles</a></span><ul class=\"toc-item\"><li><span><a href=\"#Preprocessing-Function\" data-toc-modified-id=\"Preprocessing-Function-5.2.1\"><span class=\"toc-item-num\">5.2.1&nbsp;&nbsp;</span>Preprocessing Function</a></span></li><li><span><a href=\"#Analysis-of-News-Title\" data-toc-modified-id=\"Analysis-of-News-Title-5.2.2\"><span class=\"toc-item-num\">5.2.2&nbsp;&nbsp;</span>Analysis of News Title</a></span><ul class=\"toc-item\"><li><span><a href=\"#Fake-News\" data-toc-modified-id=\"Fake-News-5.2.2.1\"><span class=\"toc-item-num\">5.2.2.1&nbsp;&nbsp;</span>Fake News</a></span></li><li><span><a href=\"#Real-News\" data-toc-modified-id=\"Real-News-5.2.2.2\"><span class=\"toc-item-num\">5.2.2.2&nbsp;&nbsp;</span>Real News</a></span></li><li><span><a href=\"#Concatenation\" data-toc-modified-id=\"Concatenation-5.2.2.3\"><span class=\"toc-item-num\">5.2.2.3&nbsp;&nbsp;</span>Concatenation</a></span></li></ul></li><li><span><a href=\"#Analysis-of-News-Body\" data-toc-modified-id=\"Analysis-of-News-Body-5.2.3\"><span class=\"toc-item-num\">5.2.3&nbsp;&nbsp;</span>Analysis of News Body</a></span><ul class=\"toc-item\"><li><span><a href=\"#Fake-News\" data-toc-modified-id=\"Fake-News-5.2.3.1\"><span class=\"toc-item-num\">5.2.3.1&nbsp;&nbsp;</span>Fake News</a></span></li><li><span><a href=\"#Real-News\" data-toc-modified-id=\"Real-News-5.2.3.2\"><span class=\"toc-item-num\">5.2.3.2&nbsp;&nbsp;</span>Real News</a></span></li><li><span><a href=\"#Concatenation\" data-toc-modified-id=\"Concatenation-5.2.3.3\"><span class=\"toc-item-num\">5.2.3.3&nbsp;&nbsp;</span>Concatenation</a></span></li></ul></li><li><span><a href=\"#Analysis-of-Title-Length\" data-toc-modified-id=\"Analysis-of-Title-Length-5.2.4\"><span class=\"toc-item-num\">5.2.4&nbsp;&nbsp;</span>Analysis of Title Length</a></span></li></ul></li></ul></li><li><span><a href=\"#Fake/Real-News-Classification\" data-toc-modified-id=\"Fake/Real-News-Classification-6\"><span class=\"toc-item-num\">6&nbsp;&nbsp;</span>Fake/Real News Classification</a></span><ul class=\"toc-item\"><li><span><a href=\"#Fake/Real-News-Detection-Based-on-News-Body\" data-toc-modified-id=\"Fake/Real-News-Detection-Based-on-News-Body-6.1\"><span class=\"toc-item-num\">6.1&nbsp;&nbsp;</span>Fake/Real News Detection Based on News Body</a></span><ul class=\"toc-item\"><li><span><a href=\"#Splitting-Data-into-Train-and-Test-Datasets\" data-toc-modified-id=\"Splitting-Data-into-Train-and-Test-Datasets-6.1.1\"><span class=\"toc-item-num\">6.1.1&nbsp;&nbsp;</span>Splitting Data into Train and Test Datasets</a></span></li><li><span><a href=\"#Random-Forest-Classifier-with-Text-Preprocessing\" data-toc-modified-id=\"Random-Forest-Classifier-with-Text-Preprocessing-6.1.2\"><span class=\"toc-item-num\">6.1.2&nbsp;&nbsp;</span>Random Forest Classifier with Text Preprocessing</a></span></li><li><span><a href=\"#Random-Forest-Classifier-Without-Text-Preprocessing\" data-toc-modified-id=\"Random-Forest-Classifier-Without-Text-Preprocessing-6.1.3\"><span class=\"toc-item-num\">6.1.3&nbsp;&nbsp;</span>Random Forest Classifier Without Text Preprocessing</a></span></li><li><span><a href=\"#Naive-Bayes-Classifier-with-Text-Preprocessing\" data-toc-modified-id=\"Naive-Bayes-Classifier-with-Text-Preprocessing-6.1.4\"><span class=\"toc-item-num\">6.1.4&nbsp;&nbsp;</span>Naive Bayes Classifier with Text Preprocessing</a></span></li><li><span><a href=\"#Naive-Bayes-Classifier-without-Text-Preprocessing\" data-toc-modified-id=\"Naive-Bayes-Classifier-without-Text-Preprocessing-6.1.5\"><span class=\"toc-item-num\">6.1.5&nbsp;&nbsp;</span>Naive Bayes Classifier without Text Preprocessing</a></span></li><li><span><a href=\"#Passive-Aggressive-Classifier-with-Text-Preprocessing\" data-toc-modified-id=\"Passive-Aggressive-Classifier-with-Text-Preprocessing-6.1.6\"><span class=\"toc-item-num\">6.1.6&nbsp;&nbsp;</span>Passive Aggressive Classifier with Text Preprocessing</a></span></li><li><span><a href=\"#Passive-Aggressive-Classifier-without-Text-Preprocessing\" data-toc-modified-id=\"Passive-Aggressive-Classifier-without-Text-Preprocessing-6.1.7\"><span class=\"toc-item-num\">6.1.7&nbsp;&nbsp;</span>Passive Aggressive Classifier without Text Preprocessing</a></span></li></ul></li><li><span><a href=\"#Fake/Real-News-Detection-Based-on-News-Title\" data-toc-modified-id=\"Fake/Real-News-Detection-Based-on-News-Title-6.2\"><span class=\"toc-item-num\">6.2&nbsp;&nbsp;</span>Fake/Real News Detection Based on News Title</a></span><ul class=\"toc-item\"><li><span><a href=\"#Splitting-Data-into-Train-and-Test-Datasets\" data-toc-modified-id=\"Splitting-Data-into-Train-and-Test-Datasets-6.2.1\"><span class=\"toc-item-num\">6.2.1&nbsp;&nbsp;</span>Splitting Data into Train and Test Datasets</a></span></li><li><span><a href=\"#Random-Forest-Classifier-with-Text-Preprocessing\" data-toc-modified-id=\"Random-Forest-Classifier-with-Text-Preprocessing-6.2.2\"><span class=\"toc-item-num\">6.2.2&nbsp;&nbsp;</span>Random Forest Classifier with Text Preprocessing</a></span></li><li><span><a href=\"#Random-Forest-Classifier-without-Text-Preprocessing\" data-toc-modified-id=\"Random-Forest-Classifier-without-Text-Preprocessing-6.2.3\"><span class=\"toc-item-num\">6.2.3&nbsp;&nbsp;</span>Random Forest Classifier without Text Preprocessing</a></span></li><li><span><a href=\"#Naive-Bayes-Classifier-with-Text-Preprocessing\" data-toc-modified-id=\"Naive-Bayes-Classifier-with-Text-Preprocessing-6.2.4\"><span class=\"toc-item-num\">6.2.4&nbsp;&nbsp;</span>Naive Bayes Classifier with Text Preprocessing</a></span></li><li><span><a href=\"#Naive-Bayes-Classifier-without-Text-Preprocessing\" data-toc-modified-id=\"Naive-Bayes-Classifier-without-Text-Preprocessing-6.2.5\"><span class=\"toc-item-num\">6.2.5&nbsp;&nbsp;</span>Naive Bayes Classifier without Text Preprocessing</a></span></li><li><span><a href=\"#Passive-Aggressive-Classifier-with-Text-Preprocessing\" data-toc-modified-id=\"Passive-Aggressive-Classifier-with-Text-Preprocessing-6.2.6\"><span class=\"toc-item-num\">6.2.6&nbsp;&nbsp;</span>Passive Aggressive Classifier with Text Preprocessing</a></span></li><li><span><a href=\"#Passive-Aggressive-Classifier-without-Text-Preprocessing\" data-toc-modified-id=\"Passive-Aggressive-Classifier-without-Text-Preprocessing-6.2.7\"><span class=\"toc-item-num\">6.2.7&nbsp;&nbsp;</span>Passive Aggressive Classifier without Text Preprocessing</a></span></li></ul></li><li><span><a href=\"#Fake/Real-News-Detection-Based-on-Both-Body-and-Title-of-News\" data-toc-modified-id=\"Fake/Real-News-Detection-Based-on-Both-Body-and-Title-of-News-6.3\"><span class=\"toc-item-num\">6.3&nbsp;&nbsp;</span>Fake/Real News Detection Based on Both Body and Title of News</a></span><ul class=\"toc-item\"><li><span><a href=\"#Splitting-Data-into-Train-and-Test-Datasets\" data-toc-modified-id=\"Splitting-Data-into-Train-and-Test-Datasets-6.3.1\"><span class=\"toc-item-num\">6.3.1&nbsp;&nbsp;</span>Splitting Data into Train and Test Datasets</a></span></li><li><span><a href=\"#Random-Forest-Classifier-with-Text-Preprocessing\" data-toc-modified-id=\"Random-Forest-Classifier-with-Text-Preprocessing-6.3.2\"><span class=\"toc-item-num\">6.3.2&nbsp;&nbsp;</span>Random Forest Classifier with Text Preprocessing</a></span></li><li><span><a href=\"#Random-Forest-Classifier-without-Text-Preprocessing\" data-toc-modified-id=\"Random-Forest-Classifier-without-Text-Preprocessing-6.3.3\"><span class=\"toc-item-num\">6.3.3&nbsp;&nbsp;</span>Random Forest Classifier without Text Preprocessing</a></span></li><li><span><a href=\"#Naive-Bayes-Classifier-with-Text-Preprocessing\" data-toc-modified-id=\"Naive-Bayes-Classifier-with-Text-Preprocessing-6.3.4\"><span class=\"toc-item-num\">6.3.4&nbsp;&nbsp;</span>Naive Bayes Classifier with Text Preprocessing</a></span></li><li><span><a href=\"#Naive-Bayes-Classifier-without-Text-Preprocessing\" data-toc-modified-id=\"Naive-Bayes-Classifier-without-Text-Preprocessing-6.3.5\"><span class=\"toc-item-num\">6.3.5&nbsp;&nbsp;</span>Naive Bayes Classifier without Text Preprocessing</a></span></li><li><span><a href=\"#Passive-Aggressive-Classifier-withText-Preprocessing\" data-toc-modified-id=\"Passive-Aggressive-Classifier-withText-Preprocessing-6.3.6\"><span class=\"toc-item-num\">6.3.6&nbsp;&nbsp;</span>Passive Aggressive Classifier withText Preprocessing</a></span></li><li><span><a href=\"#Passive-Aggressive-Classifier-without-Text-Preprocessing\" data-toc-modified-id=\"Passive-Aggressive-Classifier-without-Text-Preprocessing-6.3.7\"><span class=\"toc-item-num\">6.3.7&nbsp;&nbsp;</span>Passive Aggressive Classifier without Text Preprocessing</a></span></li></ul></li></ul></li><li><span><a href=\"#Conclusion\" data-toc-modified-id=\"Conclusion-7\"><span class=\"toc-item-num\">7&nbsp;&nbsp;</span>Conclusion</a></span></li></ul></div>"
      ]
    },
    {
      "cell_type": "markdown",
      "metadata": {
        "papermill": {
          "duration": 0.171713,
          "end_time": "2020-10-20T06:16:35.267645",
          "exception": false,
          "start_time": "2020-10-20T06:16:35.095932",
          "status": "completed"
        },
        "tags": [],
        "id": "h_TuHmPljU1O"
      },
      "source": [
        "## Introduction"
      ]
    },
    {
      "cell_type": "markdown",
      "metadata": {
        "papermill": {
          "duration": 0.166145,
          "end_time": "2020-10-20T06:16:35.600576",
          "exception": false,
          "start_time": "2020-10-20T06:16:35.434431",
          "status": "completed"
        },
        "tags": [],
        "id": "Awgg7EkhjU1P"
      },
      "source": [
        "FakenewsNet is a repository for an ongoing data collection project for fake news research at ASU. The repository consists of comprehensive dataset of Buzzfeed news and politifact which contains two separate datasets of real and fake news. The FakenewsNet consists of multi-dimension information that not only provides signals for detecting fake news but can also be used for researches such as understanding fake news propagation and fake news intervention. However, the repository is very wide and multi-dimensional, In this project, we perform a detailed analysis on Buzzfeed news dataset.\n",
        "\n",
        "The Buzzfeed news dataset comprises a complete sample of news published in Facebook from 9 news agencies over a week close to the 2016 U.S. election from September 19 to 23 and September 26 and 27. Every post and the linked article were fact-checked claim-by-claim by 5 BuzzFeed journalists. There are two datsets of Buzzfeed news one dataset of fake news and another dataset of real news in the form of csv files, each have 91 observations and 12 features/variables.\n",
        "\n",
        "The Buzzfeed news dataset consists of two datasets contain the following main features:\n",
        "\n",
        "- id: the id assigned to the news article webpage Real if the article is real or fake if reported fake.\n",
        "\n",
        "- title : It refers to the headline that aims to catch the attention of readers and relates well to the major of the news topic.\n",
        "\n",
        "- text : Text refers to the body of the article, it elaborates the details of news story. Usually there is a major claim which shaped the angle of the publisher and is specifically highlighted and elaborated upon.\n",
        "\n",
        "- source: It indicates the author or publisher of the news article.\n",
        "\n",
        "- images: It is an important part of body content of news article, which provides visual cues to frame the story.\n",
        "\n",
        "- movies: It is also an important part of news article, a link to video or a movie clip included in a article, also provides visual cues to frame the story.\n",
        "\n",
        "In this analysis, we do not consider features like url, top_img, authors, publish_date, canonical link and metedata because these usually provide redundant information which we can be obtained from other main variables and do not add more value to our analysis.\n",
        "\n",
        "The two main features we care about are the source of the fake news and the language used in the fake news. In particular, we are interested in finding sources which published fake news and finding words that are more associated with one category than other.\n",
        "\n",
        "The main purpose of this analysis is to develop methods to analyze fake news versus real news. This project is divided into two parts: (1) Exploratory Data Analysis (2) Classification. The goal of the first part is to analyze the real and fake news datasets to find sources that often published fake news and determine the most frequent words included in the title and body of fake and real news. The goal of the second part is to a classifer that can predict and detect fakenews. We use three different classifiers to classify documents into real/fake news categories."
      ]
    },
    {
      "cell_type": "markdown",
      "metadata": {
        "papermill": {
          "duration": 0.17589,
          "end_time": "2020-10-20T06:16:35.946372",
          "exception": false,
          "start_time": "2020-10-20T06:16:35.770482",
          "status": "completed"
        },
        "tags": [],
        "id": "xQ287GT7jU1Q"
      },
      "source": [
        "## Importing Libraries"
      ]
    },
    {
      "cell_type": "code",
      "metadata": {
        "execution": {
          "iopub.execute_input": "2020-10-20T06:16:36.298180Z",
          "iopub.status.busy": "2020-10-20T06:16:36.297325Z",
          "iopub.status.idle": "2020-10-20T06:16:38.625759Z",
          "shell.execute_reply": "2020-10-20T06:16:38.624830Z"
        },
        "papermill": {
          "duration": 2.509585,
          "end_time": "2020-10-20T06:16:38.625902",
          "exception": false,
          "start_time": "2020-10-20T06:16:36.116317",
          "status": "completed"
        },
        "tags": [],
        "id": "TU3Dws6UjU1Q"
      },
      "source": [
        "import numpy as np\n",
        "import pandas as pd\n",
        "import seaborn as sns\n",
        "import matplotlib.pyplot as plt\n",
        "%matplotlib inline\n",
        "import string\n",
        "import nltk\n",
        "from nltk.corpus import stopwords\n",
        "from nltk.stem.porter import PorterStemmer\n",
        "from nltk import word_tokenize\n",
        "from nltk.tokenize import WhitespaceTokenizer \n",
        "from sklearn.feature_extraction.text import CountVectorizer\n",
        "from sklearn.feature_extraction.text import TfidfTransformer\n",
        "from sklearn.naive_bayes import MultinomialNB\n",
        "from sklearn.pipeline import Pipeline\n",
        "from sklearn.ensemble import RandomForestClassifier\n",
        "from sklearn.linear_model import PassiveAggressiveClassifier\n",
        "from sklearn.model_selection import train_test_split\n",
        "from sklearn.metrics import classification_report,confusion_matrix,accuracy_score"
      ],
      "execution_count": null,
      "outputs": []
    },
    {
      "cell_type": "markdown",
      "metadata": {
        "papermill": {
          "duration": 0.179193,
          "end_time": "2020-10-20T06:16:38.979837",
          "exception": false,
          "start_time": "2020-10-20T06:16:38.800644",
          "status": "completed"
        },
        "tags": [],
        "id": "KC6nML-gjU1R"
      },
      "source": [
        "## Loading Dataset"
      ]
    },
    {
      "cell_type": "code",
      "metadata": {
        "execution": {
          "iopub.execute_input": "2020-10-20T06:16:39.338072Z",
          "iopub.status.busy": "2020-10-20T06:16:39.337221Z",
          "iopub.status.idle": "2020-10-20T06:16:39.367877Z",
          "shell.execute_reply": "2020-10-20T06:16:39.367020Z"
        },
        "papermill": {
          "duration": 0.218483,
          "end_time": "2020-10-20T06:16:39.368016",
          "exception": false,
          "start_time": "2020-10-20T06:16:39.149533",
          "status": "completed"
        },
        "tags": [],
        "id": "a3hzNvGHjU1R"
      },
      "source": [
        "df_real=pd.read_csv('../input/fakenewsnet/BuzzFeed_real_news_content.csv')"
      ],
      "execution_count": null,
      "outputs": []
    },
    {
      "cell_type": "code",
      "metadata": {
        "execution": {
          "iopub.execute_input": "2020-10-20T06:16:39.709771Z",
          "iopub.status.busy": "2020-10-20T06:16:39.708784Z",
          "iopub.status.idle": "2020-10-20T06:16:39.713766Z",
          "shell.execute_reply": "2020-10-20T06:16:39.712983Z"
        },
        "papermill": {
          "duration": 0.181159,
          "end_time": "2020-10-20T06:16:39.713897",
          "exception": false,
          "start_time": "2020-10-20T06:16:39.532738",
          "status": "completed"
        },
        "tags": [],
        "id": "ADHml-tujU1R",
        "outputId": "d834748b-0651-4c66-e22b-ee0a03a16925"
      },
      "source": [
        "df_real.shape"
      ],
      "execution_count": null,
      "outputs": [
        {
          "output_type": "execute_result",
          "data": {
            "text/plain": [
              "(91, 12)"
            ]
          },
          "metadata": {
            "tags": []
          },
          "execution_count": 3
        }
      ]
    },
    {
      "cell_type": "code",
      "metadata": {
        "execution": {
          "iopub.execute_input": "2020-10-20T06:16:40.113112Z",
          "iopub.status.busy": "2020-10-20T06:16:40.112309Z",
          "iopub.status.idle": "2020-10-20T06:16:40.141705Z",
          "shell.execute_reply": "2020-10-20T06:16:40.140842Z"
        },
        "papermill": {
          "duration": 0.203823,
          "end_time": "2020-10-20T06:16:40.141846",
          "exception": false,
          "start_time": "2020-10-20T06:16:39.938023",
          "status": "completed"
        },
        "tags": [],
        "id": "1KRNccIOjU1S"
      },
      "source": [
        "df_fake=pd.read_csv('../input/fakenewsnet/BuzzFeed_fake_news_content.csv')"
      ],
      "execution_count": null,
      "outputs": []
    },
    {
      "cell_type": "code",
      "metadata": {
        "execution": {
          "iopub.execute_input": "2020-10-20T06:16:40.491490Z",
          "iopub.status.busy": "2020-10-20T06:16:40.490141Z",
          "iopub.status.idle": "2020-10-20T06:16:40.494345Z",
          "shell.execute_reply": "2020-10-20T06:16:40.494982Z"
        },
        "papermill": {
          "duration": 0.184395,
          "end_time": "2020-10-20T06:16:40.495173",
          "exception": false,
          "start_time": "2020-10-20T06:16:40.310778",
          "status": "completed"
        },
        "tags": [],
        "id": "kUu5gkWHjU1T",
        "outputId": "c74f130c-07e7-4218-c12a-d94a42160dfe"
      },
      "source": [
        "df_fake.shape"
      ],
      "execution_count": null,
      "outputs": [
        {
          "output_type": "execute_result",
          "data": {
            "text/plain": [
              "(91, 12)"
            ]
          },
          "metadata": {
            "tags": []
          },
          "execution_count": 5
        }
      ]
    },
    {
      "cell_type": "markdown",
      "metadata": {
        "papermill": {
          "duration": 0.172423,
          "end_time": "2020-10-20T06:16:40.838540",
          "exception": false,
          "start_time": "2020-10-20T06:16:40.666117",
          "status": "completed"
        },
        "tags": [],
        "id": "1rRZ6ZazjU1T"
      },
      "source": [
        "First, we need to combine these two dataframes into a single dataframe and create a new variable type which contains the news type as real or fake."
      ]
    },
    {
      "cell_type": "code",
      "metadata": {
        "execution": {
          "iopub.execute_input": "2020-10-20T06:16:41.186753Z",
          "iopub.status.busy": "2020-10-20T06:16:41.185616Z",
          "iopub.status.idle": "2020-10-20T06:16:41.188797Z",
          "shell.execute_reply": "2020-10-20T06:16:41.189371Z"
        },
        "papermill": {
          "duration": 0.180778,
          "end_time": "2020-10-20T06:16:41.189544",
          "exception": false,
          "start_time": "2020-10-20T06:16:41.008766",
          "status": "completed"
        },
        "tags": [],
        "id": "fpyp66B7jU1T"
      },
      "source": [
        "df=pd.concat([df_real,df_fake],axis=0)"
      ],
      "execution_count": null,
      "outputs": []
    },
    {
      "cell_type": "code",
      "metadata": {
        "execution": {
          "iopub.execute_input": "2020-10-20T06:16:41.534802Z",
          "iopub.status.busy": "2020-10-20T06:16:41.533932Z",
          "iopub.status.idle": "2020-10-20T06:16:41.538865Z",
          "shell.execute_reply": "2020-10-20T06:16:41.538196Z"
        },
        "papermill": {
          "duration": 0.18186,
          "end_time": "2020-10-20T06:16:41.539000",
          "exception": false,
          "start_time": "2020-10-20T06:16:41.357140",
          "status": "completed"
        },
        "tags": [],
        "id": "PKLPHPj5jU1T",
        "outputId": "e91e7428-f6a8-4e0e-facd-5f3e8825f2a9"
      },
      "source": [
        "df.shape"
      ],
      "execution_count": null,
      "outputs": [
        {
          "output_type": "execute_result",
          "data": {
            "text/plain": [
              "(182, 12)"
            ]
          },
          "metadata": {
            "tags": []
          },
          "execution_count": 7
        }
      ]
    },
    {
      "cell_type": "code",
      "metadata": {
        "execution": {
          "iopub.execute_input": "2020-10-20T06:16:41.894162Z",
          "iopub.status.busy": "2020-10-20T06:16:41.893138Z",
          "iopub.status.idle": "2020-10-20T06:16:41.896625Z",
          "shell.execute_reply": "2020-10-20T06:16:41.897386Z"
        },
        "papermill": {
          "duration": 0.187167,
          "end_time": "2020-10-20T06:16:41.897555",
          "exception": false,
          "start_time": "2020-10-20T06:16:41.710388",
          "status": "completed"
        },
        "tags": [],
        "id": "dcSJU81yjU1U"
      },
      "source": [
        "df['news_type']=df['id'].apply(lambda x: x.split('_')[0])"
      ],
      "execution_count": null,
      "outputs": []
    },
    {
      "cell_type": "code",
      "metadata": {
        "execution": {
          "iopub.execute_input": "2020-10-20T06:16:42.257584Z",
          "iopub.status.busy": "2020-10-20T06:16:42.256764Z",
          "iopub.status.idle": "2020-10-20T06:16:42.271191Z",
          "shell.execute_reply": "2020-10-20T06:16:42.270482Z"
        },
        "papermill": {
          "duration": 0.197605,
          "end_time": "2020-10-20T06:16:42.271332",
          "exception": false,
          "start_time": "2020-10-20T06:16:42.073727",
          "status": "completed"
        },
        "tags": [],
        "id": "OtU1C6rqjU1U",
        "outputId": "654b84a3-03fe-47e8-fdb8-ed1e7ec7f01b"
      },
      "source": [
        "df.head(2)"
      ],
      "execution_count": null,
      "outputs": [
        {
          "output_type": "execute_result",
          "data": {
            "text/html": [
              "<div>\n",
              "<style scoped>\n",
              "    .dataframe tbody tr th:only-of-type {\n",
              "        vertical-align: middle;\n",
              "    }\n",
              "\n",
              "    .dataframe tbody tr th {\n",
              "        vertical-align: top;\n",
              "    }\n",
              "\n",
              "    .dataframe thead th {\n",
              "        text-align: right;\n",
              "    }\n",
              "</style>\n",
              "<table border=\"1\" class=\"dataframe\">\n",
              "  <thead>\n",
              "    <tr style=\"text-align: right;\">\n",
              "      <th></th>\n",
              "      <th>id</th>\n",
              "      <th>title</th>\n",
              "      <th>text</th>\n",
              "      <th>url</th>\n",
              "      <th>top_img</th>\n",
              "      <th>authors</th>\n",
              "      <th>source</th>\n",
              "      <th>publish_date</th>\n",
              "      <th>movies</th>\n",
              "      <th>images</th>\n",
              "      <th>canonical_link</th>\n",
              "      <th>meta_data</th>\n",
              "      <th>news_type</th>\n",
              "    </tr>\n",
              "  </thead>\n",
              "  <tbody>\n",
              "    <tr>\n",
              "      <th>0</th>\n",
              "      <td>Real_1-Webpage</td>\n",
              "      <td>Another Terrorist Attack in NYC…Why Are we STI...</td>\n",
              "      <td>On Saturday, September 17 at 8:30 pm EST, an e...</td>\n",
              "      <td>http://eaglerising.com/36942/another-terrorist...</td>\n",
              "      <td>http://eaglerising.com/wp-content/uploads/2016...</td>\n",
              "      <td>View All Posts,Leonora Cravotta</td>\n",
              "      <td>http://eaglerising.com</td>\n",
              "      <td>{'$date': 1474528230000}</td>\n",
              "      <td>NaN</td>\n",
              "      <td>http://constitution.com/wp-content/uploads/201...</td>\n",
              "      <td>http://eaglerising.com/36942/another-terrorist...</td>\n",
              "      <td>{\"description\": \"\\u201cWe believe at this poin...</td>\n",
              "      <td>Real</td>\n",
              "    </tr>\n",
              "    <tr>\n",
              "      <th>1</th>\n",
              "      <td>Real_10-Webpage</td>\n",
              "      <td>Donald Trump: Drugs a 'Very, Very Big Factor' ...</td>\n",
              "      <td>Less than a day after protests over the police...</td>\n",
              "      <td>http://abcn.ws/2d4lNn9</td>\n",
              "      <td>http://a.abcnews.com/images/Politics/AP_donald...</td>\n",
              "      <td>More Candace,Adam Kelsey,Abc News,More Adam</td>\n",
              "      <td>http://abcn.ws</td>\n",
              "      <td>NaN</td>\n",
              "      <td>NaN</td>\n",
              "      <td>http://www.googleadservices.com/pagead/convers...</td>\n",
              "      <td>http://abcnews.go.com/Politics/donald-trump-dr...</td>\n",
              "      <td>{\"fb_title\": \"Trump: Drugs a 'Very, Very Big F...</td>\n",
              "      <td>Real</td>\n",
              "    </tr>\n",
              "  </tbody>\n",
              "</table>\n",
              "</div>"
            ],
            "text/plain": [
              "                id                                              title  \\\n",
              "0   Real_1-Webpage  Another Terrorist Attack in NYC…Why Are we STI...   \n",
              "1  Real_10-Webpage  Donald Trump: Drugs a 'Very, Very Big Factor' ...   \n",
              "\n",
              "                                                text  \\\n",
              "0  On Saturday, September 17 at 8:30 pm EST, an e...   \n",
              "1  Less than a day after protests over the police...   \n",
              "\n",
              "                                                 url  \\\n",
              "0  http://eaglerising.com/36942/another-terrorist...   \n",
              "1                             http://abcn.ws/2d4lNn9   \n",
              "\n",
              "                                             top_img  \\\n",
              "0  http://eaglerising.com/wp-content/uploads/2016...   \n",
              "1  http://a.abcnews.com/images/Politics/AP_donald...   \n",
              "\n",
              "                                       authors                  source  \\\n",
              "0              View All Posts,Leonora Cravotta  http://eaglerising.com   \n",
              "1  More Candace,Adam Kelsey,Abc News,More Adam          http://abcn.ws   \n",
              "\n",
              "               publish_date movies  \\\n",
              "0  {'$date': 1474528230000}    NaN   \n",
              "1                       NaN    NaN   \n",
              "\n",
              "                                              images  \\\n",
              "0  http://constitution.com/wp-content/uploads/201...   \n",
              "1  http://www.googleadservices.com/pagead/convers...   \n",
              "\n",
              "                                      canonical_link  \\\n",
              "0  http://eaglerising.com/36942/another-terrorist...   \n",
              "1  http://abcnews.go.com/Politics/donald-trump-dr...   \n",
              "\n",
              "                                           meta_data news_type  \n",
              "0  {\"description\": \"\\u201cWe believe at this poin...      Real  \n",
              "1  {\"fb_title\": \"Trump: Drugs a 'Very, Very Big F...      Real  "
            ]
          },
          "metadata": {
            "tags": []
          },
          "execution_count": 9
        }
      ]
    },
    {
      "cell_type": "code",
      "metadata": {
        "execution": {
          "iopub.execute_input": "2020-10-20T06:16:42.613133Z",
          "iopub.status.busy": "2020-10-20T06:16:42.612132Z",
          "iopub.status.idle": "2020-10-20T06:16:42.617136Z",
          "shell.execute_reply": "2020-10-20T06:16:42.616390Z"
        },
        "papermill": {
          "duration": 0.178623,
          "end_time": "2020-10-20T06:16:42.617260",
          "exception": false,
          "start_time": "2020-10-20T06:16:42.438637",
          "status": "completed"
        },
        "tags": [],
        "id": "IaEMW-K5jU1U",
        "outputId": "a610e521-ac7f-4ed5-b42a-cc66df979142"
      },
      "source": [
        "df.shape"
      ],
      "execution_count": null,
      "outputs": [
        {
          "output_type": "execute_result",
          "data": {
            "text/plain": [
              "(182, 13)"
            ]
          },
          "metadata": {
            "tags": []
          },
          "execution_count": 10
        }
      ]
    },
    {
      "cell_type": "code",
      "metadata": {
        "execution": {
          "iopub.execute_input": "2020-10-20T06:16:42.980665Z",
          "iopub.status.busy": "2020-10-20T06:16:42.979587Z",
          "iopub.status.idle": "2020-10-20T06:16:42.985422Z",
          "shell.execute_reply": "2020-10-20T06:16:42.984502Z"
        },
        "papermill": {
          "duration": 0.192672,
          "end_time": "2020-10-20T06:16:42.985603",
          "exception": false,
          "start_time": "2020-10-20T06:16:42.792931",
          "status": "completed"
        },
        "tags": [],
        "id": "KX6PBIaJjU1V",
        "outputId": "71465a14-8b7d-4245-ad52-a39b056fef08"
      },
      "source": [
        "df.info()"
      ],
      "execution_count": null,
      "outputs": [
        {
          "output_type": "stream",
          "text": [
            "<class 'pandas.core.frame.DataFrame'>\n",
            "Int64Index: 182 entries, 0 to 90\n",
            "Data columns (total 13 columns):\n",
            " #   Column          Non-Null Count  Dtype \n",
            "---  ------          --------------  ----- \n",
            " 0   id              182 non-null    object\n",
            " 1   title           182 non-null    object\n",
            " 2   text            182 non-null    object\n",
            " 3   url             174 non-null    object\n",
            " 4   top_img         172 non-null    object\n",
            " 5   authors         141 non-null    object\n",
            " 6   source          174 non-null    object\n",
            " 7   publish_date    133 non-null    object\n",
            " 8   movies          25 non-null     object\n",
            " 9   images          172 non-null    object\n",
            " 10  canonical_link  170 non-null    object\n",
            " 11  meta_data       182 non-null    object\n",
            " 12  news_type       182 non-null    object\n",
            "dtypes: object(13)\n",
            "memory usage: 19.9+ KB\n"
          ],
          "name": "stdout"
        }
      ]
    },
    {
      "cell_type": "code",
      "metadata": {
        "execution": {
          "iopub.execute_input": "2020-10-20T06:16:43.341958Z",
          "iopub.status.busy": "2020-10-20T06:16:43.341196Z",
          "iopub.status.idle": "2020-10-20T06:16:43.413229Z",
          "shell.execute_reply": "2020-10-20T06:16:43.412552Z"
        },
        "papermill": {
          "duration": 0.253364,
          "end_time": "2020-10-20T06:16:43.413359",
          "exception": false,
          "start_time": "2020-10-20T06:16:43.159995",
          "status": "completed"
        },
        "tags": [],
        "id": "o6wFSEQFjU1V",
        "outputId": "7070f9ba-de4e-41a9-c2ec-4396464f240d"
      },
      "source": [
        "df.describe()"
      ],
      "execution_count": null,
      "outputs": [
        {
          "output_type": "execute_result",
          "data": {
            "text/html": [
              "<div>\n",
              "<style scoped>\n",
              "    .dataframe tbody tr th:only-of-type {\n",
              "        vertical-align: middle;\n",
              "    }\n",
              "\n",
              "    .dataframe tbody tr th {\n",
              "        vertical-align: top;\n",
              "    }\n",
              "\n",
              "    .dataframe thead th {\n",
              "        text-align: right;\n",
              "    }\n",
              "</style>\n",
              "<table border=\"1\" class=\"dataframe\">\n",
              "  <thead>\n",
              "    <tr style=\"text-align: right;\">\n",
              "      <th></th>\n",
              "      <th>id</th>\n",
              "      <th>title</th>\n",
              "      <th>text</th>\n",
              "      <th>url</th>\n",
              "      <th>top_img</th>\n",
              "      <th>authors</th>\n",
              "      <th>source</th>\n",
              "      <th>publish_date</th>\n",
              "      <th>movies</th>\n",
              "      <th>images</th>\n",
              "      <th>canonical_link</th>\n",
              "      <th>meta_data</th>\n",
              "      <th>news_type</th>\n",
              "    </tr>\n",
              "  </thead>\n",
              "  <tbody>\n",
              "    <tr>\n",
              "      <th>count</th>\n",
              "      <td>182</td>\n",
              "      <td>182</td>\n",
              "      <td>182</td>\n",
              "      <td>174</td>\n",
              "      <td>172</td>\n",
              "      <td>141</td>\n",
              "      <td>174</td>\n",
              "      <td>133</td>\n",
              "      <td>25</td>\n",
              "      <td>172</td>\n",
              "      <td>170</td>\n",
              "      <td>182</td>\n",
              "      <td>182</td>\n",
              "    </tr>\n",
              "    <tr>\n",
              "      <th>unique</th>\n",
              "      <td>182</td>\n",
              "      <td>178</td>\n",
              "      <td>178</td>\n",
              "      <td>171</td>\n",
              "      <td>166</td>\n",
              "      <td>90</td>\n",
              "      <td>28</td>\n",
              "      <td>118</td>\n",
              "      <td>25</td>\n",
              "      <td>169</td>\n",
              "      <td>168</td>\n",
              "      <td>171</td>\n",
              "      <td>2</td>\n",
              "    </tr>\n",
              "    <tr>\n",
              "      <th>top</th>\n",
              "      <td>Fake_64-Webpage</td>\n",
              "      <td>Clinton Foundation Spent 5.7% on Charity; Rest...</td>\n",
              "      <td>We’re shocked — SHOCKED — to learn that CNN’s ...</td>\n",
              "      <td>http://www.proudcons.com/clinton-foundation-ca...</td>\n",
              "      <td>http://static.politico.com/da/f5/44342c424c68b...</td>\n",
              "      <td>Terresa Monroe-hamilton</td>\n",
              "      <td>http://politi.co</td>\n",
              "      <td>{'$date': 1474588800000}</td>\n",
              "      <td>https://www.youtube.com/embed/7Mv4r2Vw6zU?feat...</td>\n",
              "      <td>http://static.politico.com/da/f5/44342c424c68b...</td>\n",
              "      <td>http://eaglerising.com/36880/a-hillary-clinton...</td>\n",
              "      <td>{}</td>\n",
              "      <td>Fake</td>\n",
              "    </tr>\n",
              "    <tr>\n",
              "      <th>freq</th>\n",
              "      <td>1</td>\n",
              "      <td>2</td>\n",
              "      <td>2</td>\n",
              "      <td>2</td>\n",
              "      <td>3</td>\n",
              "      <td>8</td>\n",
              "      <td>32</td>\n",
              "      <td>5</td>\n",
              "      <td>1</td>\n",
              "      <td>2</td>\n",
              "      <td>2</td>\n",
              "      <td>8</td>\n",
              "      <td>91</td>\n",
              "    </tr>\n",
              "  </tbody>\n",
              "</table>\n",
              "</div>"
            ],
            "text/plain": [
              "                     id                                              title  \\\n",
              "count               182                                                182   \n",
              "unique              182                                                178   \n",
              "top     Fake_64-Webpage  Clinton Foundation Spent 5.7% on Charity; Rest...   \n",
              "freq                  1                                                  2   \n",
              "\n",
              "                                                     text  \\\n",
              "count                                                 182   \n",
              "unique                                                178   \n",
              "top     We’re shocked — SHOCKED — to learn that CNN’s ...   \n",
              "freq                                                    2   \n",
              "\n",
              "                                                      url  \\\n",
              "count                                                 174   \n",
              "unique                                                171   \n",
              "top     http://www.proudcons.com/clinton-foundation-ca...   \n",
              "freq                                                    2   \n",
              "\n",
              "                                                  top_img  \\\n",
              "count                                                 172   \n",
              "unique                                                166   \n",
              "top     http://static.politico.com/da/f5/44342c424c68b...   \n",
              "freq                                                    3   \n",
              "\n",
              "                        authors            source              publish_date  \\\n",
              "count                       141               174                       133   \n",
              "unique                       90                28                       118   \n",
              "top     Terresa Monroe-hamilton  http://politi.co  {'$date': 1474588800000}   \n",
              "freq                          8                32                         5   \n",
              "\n",
              "                                                   movies  \\\n",
              "count                                                  25   \n",
              "unique                                                 25   \n",
              "top     https://www.youtube.com/embed/7Mv4r2Vw6zU?feat...   \n",
              "freq                                                    1   \n",
              "\n",
              "                                                   images  \\\n",
              "count                                                 172   \n",
              "unique                                                169   \n",
              "top     http://static.politico.com/da/f5/44342c424c68b...   \n",
              "freq                                                    2   \n",
              "\n",
              "                                           canonical_link meta_data news_type  \n",
              "count                                                 170       182       182  \n",
              "unique                                                168       171         2  \n",
              "top     http://eaglerising.com/36880/a-hillary-clinton...        {}      Fake  \n",
              "freq                                                    2         8        91  "
            ]
          },
          "metadata": {
            "tags": []
          },
          "execution_count": 12
        }
      ]
    },
    {
      "cell_type": "markdown",
      "metadata": {
        "papermill": {
          "duration": 0.171185,
          "end_time": "2020-10-20T06:16:43.756610",
          "exception": false,
          "start_time": "2020-10-20T06:16:43.585425",
          "status": "completed"
        },
        "tags": [],
        "id": "vfidqD77jU1V"
      },
      "source": [
        "## Data Cleaning and Feature Engineering"
      ]
    },
    {
      "cell_type": "markdown",
      "metadata": {
        "papermill": {
          "duration": 0.171781,
          "end_time": "2020-10-20T06:16:44.102220",
          "exception": false,
          "start_time": "2020-10-20T06:16:43.930439",
          "status": "completed"
        },
        "tags": [],
        "id": "Do8uvKe3jU1V"
      },
      "source": [
        "We select variables of our interest only for analysis, including title, text, source, movies, images and news_type, and remove other columns."
      ]
    },
    {
      "cell_type": "code",
      "metadata": {
        "execution": {
          "iopub.execute_input": "2020-10-20T06:16:44.457032Z",
          "iopub.status.busy": "2020-10-20T06:16:44.456173Z",
          "iopub.status.idle": "2020-10-20T06:16:44.459872Z",
          "shell.execute_reply": "2020-10-20T06:16:44.459197Z"
        },
        "papermill": {
          "duration": 0.184497,
          "end_time": "2020-10-20T06:16:44.460013",
          "exception": false,
          "start_time": "2020-10-20T06:16:44.275516",
          "status": "completed"
        },
        "tags": [],
        "id": "zWqGcgW4jU1V"
      },
      "source": [
        "df.drop(['id','url', 'top_img','authors','publish_date','canonical_link','meta_data'],axis=1, inplace=True)"
      ],
      "execution_count": null,
      "outputs": []
    },
    {
      "cell_type": "markdown",
      "metadata": {
        "papermill": {
          "duration": 0.173937,
          "end_time": "2020-10-20T06:16:44.806617",
          "exception": false,
          "start_time": "2020-10-20T06:16:44.632680",
          "status": "completed"
        },
        "tags": [],
        "id": "4Do4MDHgjU1W"
      },
      "source": [
        "We will create a Series that displays the total count of missing values per column."
      ]
    },
    {
      "cell_type": "code",
      "metadata": {
        "execution": {
          "iopub.execute_input": "2020-10-20T06:16:45.163177Z",
          "iopub.status.busy": "2020-10-20T06:16:45.161913Z",
          "iopub.status.idle": "2020-10-20T06:16:45.167298Z",
          "shell.execute_reply": "2020-10-20T06:16:45.166414Z"
        },
        "papermill": {
          "duration": 0.187808,
          "end_time": "2020-10-20T06:16:45.167452",
          "exception": false,
          "start_time": "2020-10-20T06:16:44.979644",
          "status": "completed"
        },
        "tags": [],
        "id": "1fBm9IMojU1W",
        "outputId": "a071d047-0dec-4b50-9356-0d66d94efa3f"
      },
      "source": [
        "df.isnull().sum()"
      ],
      "execution_count": null,
      "outputs": [
        {
          "output_type": "execute_result",
          "data": {
            "text/plain": [
              "title          0\n",
              "text           0\n",
              "source         8\n",
              "movies       157\n",
              "images        10\n",
              "news_type      0\n",
              "dtype: int64"
            ]
          },
          "metadata": {
            "tags": []
          },
          "execution_count": 14
        }
      ]
    },
    {
      "cell_type": "markdown",
      "metadata": {
        "papermill": {
          "duration": 0.172434,
          "end_time": "2020-10-20T06:16:45.513571",
          "exception": false,
          "start_time": "2020-10-20T06:16:45.341137",
          "status": "completed"
        },
        "tags": [],
        "id": "MXbi7bDNjU1W"
      },
      "source": [
        "We will convert this Series to be in term of percentage of the total DataFrame."
      ]
    },
    {
      "cell_type": "code",
      "metadata": {
        "execution": {
          "iopub.execute_input": "2020-10-20T06:16:45.870241Z",
          "iopub.status.busy": "2020-10-20T06:16:45.869334Z",
          "iopub.status.idle": "2020-10-20T06:16:45.873699Z",
          "shell.execute_reply": "2020-10-20T06:16:45.872972Z"
        },
        "papermill": {
          "duration": 0.188329,
          "end_time": "2020-10-20T06:16:45.873832",
          "exception": false,
          "start_time": "2020-10-20T06:16:45.685503",
          "status": "completed"
        },
        "tags": [],
        "id": "esLqzb_QjU1W",
        "outputId": "67abc75c-793c-4812-b237-779fed533382"
      },
      "source": [
        "(df.isnull().sum())/(df.shape[0])*100"
      ],
      "execution_count": null,
      "outputs": [
        {
          "output_type": "execute_result",
          "data": {
            "text/plain": [
              "title         0.000000\n",
              "text          0.000000\n",
              "source        4.395604\n",
              "movies       86.263736\n",
              "images        5.494505\n",
              "news_type     0.000000\n",
              "dtype: float64"
            ]
          },
          "metadata": {
            "tags": []
          },
          "execution_count": 15
        }
      ]
    },
    {
      "cell_type": "markdown",
      "metadata": {
        "papermill": {
          "duration": 0.178631,
          "end_time": "2020-10-20T06:16:46.232017",
          "exception": false,
          "start_time": "2020-10-20T06:16:46.053386",
          "status": "completed"
        },
        "tags": [],
        "id": "D0JR2V8qjU1X"
      },
      "source": [
        "The datset does not contain null values in text and news_type columns which are the most important columns for us. We leave the null values in the source column as is. However, we add a new columns to the data frame which show whether the news are accompanied by movies and/or images or not."
      ]
    },
    {
      "cell_type": "code",
      "metadata": {
        "execution": {
          "iopub.execute_input": "2020-10-20T06:16:46.587369Z",
          "iopub.status.busy": "2020-10-20T06:16:46.586206Z",
          "iopub.status.idle": "2020-10-20T06:16:46.589356Z",
          "shell.execute_reply": "2020-10-20T06:16:46.589953Z"
        },
        "papermill": {
          "duration": 0.184875,
          "end_time": "2020-10-20T06:16:46.590146",
          "exception": false,
          "start_time": "2020-10-20T06:16:46.405271",
          "status": "completed"
        },
        "tags": [],
        "id": "TwJ7E5_ZjU1X"
      },
      "source": [
        "df['contain_movies']=df['movies'].apply(lambda x: 0 if str(x)=='nan' else 1)"
      ],
      "execution_count": null,
      "outputs": []
    },
    {
      "cell_type": "code",
      "metadata": {
        "execution": {
          "iopub.execute_input": "2020-10-20T06:16:46.942964Z",
          "iopub.status.busy": "2020-10-20T06:16:46.941858Z",
          "iopub.status.idle": "2020-10-20T06:16:46.946416Z",
          "shell.execute_reply": "2020-10-20T06:16:46.945713Z"
        },
        "papermill": {
          "duration": 0.185308,
          "end_time": "2020-10-20T06:16:46.946548",
          "exception": false,
          "start_time": "2020-10-20T06:16:46.761240",
          "status": "completed"
        },
        "tags": [],
        "id": "rYqCkNrJjU1X"
      },
      "source": [
        "df['contain_images']=df['images'].apply(lambda x: 0 if str(x)=='nan' else 1)"
      ],
      "execution_count": null,
      "outputs": []
    },
    {
      "cell_type": "code",
      "metadata": {
        "execution": {
          "iopub.execute_input": "2020-10-20T06:16:47.303248Z",
          "iopub.status.busy": "2020-10-20T06:16:47.302041Z",
          "iopub.status.idle": "2020-10-20T06:16:47.307200Z",
          "shell.execute_reply": "2020-10-20T06:16:47.306506Z"
        },
        "papermill": {
          "duration": 0.185991,
          "end_time": "2020-10-20T06:16:47.307359",
          "exception": false,
          "start_time": "2020-10-20T06:16:47.121368",
          "status": "completed"
        },
        "tags": [],
        "id": "hbyIGHGajU1X"
      },
      "source": [
        "df.drop(['movies','images'],axis=1,inplace=True)"
      ],
      "execution_count": null,
      "outputs": []
    },
    {
      "cell_type": "code",
      "metadata": {
        "execution": {
          "iopub.execute_input": "2020-10-20T06:16:47.668939Z",
          "iopub.status.busy": "2020-10-20T06:16:47.667770Z",
          "iopub.status.idle": "2020-10-20T06:16:47.673332Z",
          "shell.execute_reply": "2020-10-20T06:16:47.672547Z"
        },
        "papermill": {
          "duration": 0.192524,
          "end_time": "2020-10-20T06:16:47.673480",
          "exception": false,
          "start_time": "2020-10-20T06:16:47.480956",
          "status": "completed"
        },
        "tags": [],
        "id": "62ZC4hKujU1X",
        "outputId": "71db76ef-f462-437b-ea26-d7c98d004135"
      },
      "source": [
        "df.head(2)"
      ],
      "execution_count": null,
      "outputs": [
        {
          "output_type": "execute_result",
          "data": {
            "text/html": [
              "<div>\n",
              "<style scoped>\n",
              "    .dataframe tbody tr th:only-of-type {\n",
              "        vertical-align: middle;\n",
              "    }\n",
              "\n",
              "    .dataframe tbody tr th {\n",
              "        vertical-align: top;\n",
              "    }\n",
              "\n",
              "    .dataframe thead th {\n",
              "        text-align: right;\n",
              "    }\n",
              "</style>\n",
              "<table border=\"1\" class=\"dataframe\">\n",
              "  <thead>\n",
              "    <tr style=\"text-align: right;\">\n",
              "      <th></th>\n",
              "      <th>title</th>\n",
              "      <th>text</th>\n",
              "      <th>source</th>\n",
              "      <th>news_type</th>\n",
              "      <th>contain_movies</th>\n",
              "      <th>contain_images</th>\n",
              "    </tr>\n",
              "  </thead>\n",
              "  <tbody>\n",
              "    <tr>\n",
              "      <th>0</th>\n",
              "      <td>Another Terrorist Attack in NYC…Why Are we STI...</td>\n",
              "      <td>On Saturday, September 17 at 8:30 pm EST, an e...</td>\n",
              "      <td>http://eaglerising.com</td>\n",
              "      <td>Real</td>\n",
              "      <td>0</td>\n",
              "      <td>1</td>\n",
              "    </tr>\n",
              "    <tr>\n",
              "      <th>1</th>\n",
              "      <td>Donald Trump: Drugs a 'Very, Very Big Factor' ...</td>\n",
              "      <td>Less than a day after protests over the police...</td>\n",
              "      <td>http://abcn.ws</td>\n",
              "      <td>Real</td>\n",
              "      <td>0</td>\n",
              "      <td>1</td>\n",
              "    </tr>\n",
              "  </tbody>\n",
              "</table>\n",
              "</div>"
            ],
            "text/plain": [
              "                                               title  \\\n",
              "0  Another Terrorist Attack in NYC…Why Are we STI...   \n",
              "1  Donald Trump: Drugs a 'Very, Very Big Factor' ...   \n",
              "\n",
              "                                                text                  source  \\\n",
              "0  On Saturday, September 17 at 8:30 pm EST, an e...  http://eaglerising.com   \n",
              "1  Less than a day after protests over the police...          http://abcn.ws   \n",
              "\n",
              "  news_type  contain_movies  contain_images  \n",
              "0      Real               0               1  \n",
              "1      Real               0               1  "
            ]
          },
          "metadata": {
            "tags": []
          },
          "execution_count": 19
        }
      ]
    },
    {
      "cell_type": "markdown",
      "metadata": {
        "papermill": {
          "duration": 0.176937,
          "end_time": "2020-10-20T06:16:48.025103",
          "exception": false,
          "start_time": "2020-10-20T06:16:47.848166",
          "status": "completed"
        },
        "tags": [],
        "id": "KQXkspBejU1X"
      },
      "source": [
        "## EDA"
      ]
    },
    {
      "cell_type": "markdown",
      "metadata": {
        "papermill": {
          "duration": 0.174292,
          "end_time": "2020-10-20T06:16:48.375567",
          "exception": false,
          "start_time": "2020-10-20T06:16:48.201275",
          "status": "completed"
        },
        "tags": [],
        "id": "Rn61018yjU1Y"
      },
      "source": [
        "### Real Versus Fake News Source Analysis"
      ]
    },
    {
      "cell_type": "markdown",
      "metadata": {
        "papermill": {
          "duration": 0.172606,
          "end_time": "2020-10-20T06:16:48.722019",
          "exception": false,
          "start_time": "2020-10-20T06:16:48.549413",
          "status": "completed"
        },
        "tags": [],
        "id": "UywZyphGjU1Y"
      },
      "source": [
        "#### Sources of Publising Real News"
      ]
    },
    {
      "cell_type": "code",
      "metadata": {
        "execution": {
          "iopub.execute_input": "2020-10-20T06:16:49.114223Z",
          "iopub.status.busy": "2020-10-20T06:16:49.113226Z",
          "iopub.status.idle": "2020-10-20T06:16:49.116009Z",
          "shell.execute_reply": "2020-10-20T06:16:49.116642Z"
        },
        "papermill": {
          "duration": 0.217857,
          "end_time": "2020-10-20T06:16:49.116812",
          "exception": false,
          "start_time": "2020-10-20T06:16:48.898955",
          "status": "completed"
        },
        "tags": [],
        "id": "OrI58xjujU1Y"
      },
      "source": [
        "real_order=df[df['news_type']=='Real']['source'].value_counts().sort_values(ascending=False).index"
      ],
      "execution_count": null,
      "outputs": []
    },
    {
      "cell_type": "code",
      "metadata": {
        "execution": {
          "iopub.execute_input": "2020-10-20T06:16:49.477651Z",
          "iopub.status.busy": "2020-10-20T06:16:49.476660Z",
          "iopub.status.idle": "2020-10-20T06:16:49.779171Z",
          "shell.execute_reply": "2020-10-20T06:16:49.778285Z"
        },
        "papermill": {
          "duration": 0.488274,
          "end_time": "2020-10-20T06:16:49.779329",
          "exception": false,
          "start_time": "2020-10-20T06:16:49.291055",
          "status": "completed"
        },
        "tags": [],
        "id": "xP0c65k0jU1Y",
        "outputId": "2f93f16c-862a-44b7-dab4-fb0546400f12"
      },
      "source": [
        "plt.figure(figsize=(10,6))\n",
        "sns.countplot(y='source', data=df[df['news_type']=='Real'],order=real_order,palette='summer')\n",
        "plt.xlabel('Count',fontsize=12)\n",
        "plt.ylabel('Source',fontsize=12)\n",
        "plt.title('Sources of Real News',fontsize=15)\n",
        "plt.show()"
      ],
      "execution_count": null,
      "outputs": [
        {
          "output_type": "display_data",
          "data": {
            "image/png": "[encoded data removed]",
            "text/plain": [
              "<Figure size 720x432 with 1 Axes>"
            ]
          },
          "metadata": {
            "tags": [],
            "needs_background": "light"
          }
        }
      ]
    },
    {
      "cell_type": "markdown",
      "metadata": {
        "papermill": {
          "duration": 0.174619,
          "end_time": "2020-10-20T06:16:50.137047",
          "exception": false,
          "start_time": "2020-10-20T06:16:49.962428",
          "status": "completed"
        },
        "tags": [],
        "id": "MPlJX3gQjU1Y"
      },
      "source": [
        "From the above plot we observe that the politi.co reports maximum real news followed by cnn.it with a count of 32 and 23, respectively."
      ]
    },
    {
      "cell_type": "markdown",
      "metadata": {
        "papermill": {
          "duration": 0.174066,
          "end_time": "2020-10-20T06:16:50.486723",
          "exception": false,
          "start_time": "2020-10-20T06:16:50.312657",
          "status": "completed"
        },
        "tags": [],
        "id": "Jtz1ilDnjU1Z"
      },
      "source": [
        "#### Sources of Publishing Maximum Fake News"
      ]
    },
    {
      "cell_type": "code",
      "metadata": {
        "execution": {
          "iopub.execute_input": "2020-10-20T06:16:50.846355Z",
          "iopub.status.busy": "2020-10-20T06:16:50.845490Z",
          "iopub.status.idle": "2020-10-20T06:16:50.849551Z",
          "shell.execute_reply": "2020-10-20T06:16:50.848860Z"
        },
        "papermill": {
          "duration": 0.189605,
          "end_time": "2020-10-20T06:16:50.849681",
          "exception": false,
          "start_time": "2020-10-20T06:16:50.660076",
          "status": "completed"
        },
        "tags": [],
        "id": "L6BP_tc6jU1Z"
      },
      "source": [
        "fake_order=df[df['news_type']=='Fake']['source'].value_counts().sort_values(ascending=False).index"
      ],
      "execution_count": null,
      "outputs": []
    },
    {
      "cell_type": "code",
      "metadata": {
        "execution": {
          "iopub.execute_input": "2020-10-20T06:16:51.230370Z",
          "iopub.status.busy": "2020-10-20T06:16:51.225285Z",
          "iopub.status.idle": "2020-10-20T06:16:51.528882Z",
          "shell.execute_reply": "2020-10-20T06:16:51.528234Z"
        },
        "papermill": {
          "duration": 0.503042,
          "end_time": "2020-10-20T06:16:51.529005",
          "exception": false,
          "start_time": "2020-10-20T06:16:51.025963",
          "status": "completed"
        },
        "tags": [],
        "id": "QjZepkhBjU1Z",
        "outputId": "97d82a40-dfed-467b-f4b3-502522174d0f"
      },
      "source": [
        "plt.figure(figsize=(10,6))\n",
        "sns.countplot(y='source',data=df[df['news_type']=='Fake'],order=fake_order,palette='autumn')\n",
        "plt.xlabel('Count',fontsize=12)\n",
        "plt.ylabel('Source',fontsize=12)\n",
        "plt.title('Sources of Fake News',fontsize=20)\n",
        "plt.show()"
      ],
      "execution_count": null,
      "outputs": [
        {
          "output_type": "display_data",
          "data": {
            "image/png": "[encoded data removed]",
            "text/plain": [
              "<Figure size 720x432 with 1 Axes>"
            ]
          },
          "metadata": {
            "tags": [],
            "needs_background": "light"
          }
        }
      ]
    },
    {
      "cell_type": "markdown",
      "metadata": {
        "papermill": {
          "duration": 0.17846,
          "end_time": "2020-10-20T06:16:51.883971",
          "exception": false,
          "start_time": "2020-10-20T06:16:51.705511",
          "status": "completed"
        },
        "tags": [],
        "id": "UR0wIRzkjU1Z"
      },
      "source": [
        "Above plot shows that the rightwingsnews reports maximum fakenews with a count of 17. Also, the number of fake news sources are more than the number of real news sources."
      ]
    },
    {
      "cell_type": "markdown",
      "metadata": {
        "papermill": {
          "duration": 0.179411,
          "end_time": "2020-10-20T06:16:52.239947",
          "exception": false,
          "start_time": "2020-10-20T06:16:52.060536",
          "status": "completed"
        },
        "tags": [],
        "id": "bYcKDpnCjU1Z"
      },
      "source": [
        "#### Common Sources of Publishing Both Real and Fake News"
      ]
    },
    {
      "cell_type": "code",
      "metadata": {
        "execution": {
          "iopub.execute_input": "2020-10-20T06:16:52.609032Z",
          "iopub.status.busy": "2020-10-20T06:16:52.608038Z",
          "iopub.status.idle": "2020-10-20T06:16:52.627276Z",
          "shell.execute_reply": "2020-10-20T06:16:52.626414Z"
        },
        "papermill": {
          "duration": 0.208857,
          "end_time": "2020-10-20T06:16:52.627466",
          "exception": false,
          "start_time": "2020-10-20T06:16:52.418609",
          "status": "completed"
        },
        "tags": [],
        "id": "YtLuna4pjU1Z",
        "outputId": "8ad1540d-ddd9-4277-e7de-7a070ed8be0b"
      },
      "source": [
        "new=[]\n",
        "for x in df[df['news_type']=='Fake']['source'].unique():\n",
        "    if x in df[df['news_type']=='Real']['source'].unique():\n",
        "        new.append(x)\n",
        "print(new)"
      ],
      "execution_count": null,
      "outputs": [
        {
          "output_type": "stream",
          "text": [
            "['http://www.addictinginfo.org', 'http://eaglerising.com', 'http://conservativebyte.com', 'http://winningdemocrats.com', 'http://freedomdaily.com', 'http://occupydemocrats.com', 'http://rightwingnews.com', 'http://addictinginfo.org']\n"
          ],
          "name": "stdout"
        }
      ]
    },
    {
      "cell_type": "code",
      "metadata": {
        "execution": {
          "iopub.execute_input": "2020-10-20T06:16:53.001202Z",
          "iopub.status.busy": "2020-10-20T06:16:53.000040Z",
          "iopub.status.idle": "2020-10-20T06:16:53.003832Z",
          "shell.execute_reply": "2020-10-20T06:16:53.003237Z"
        },
        "papermill": {
          "duration": 0.197587,
          "end_time": "2020-10-20T06:16:53.003968",
          "exception": false,
          "start_time": "2020-10-20T06:16:52.806381",
          "status": "completed"
        },
        "tags": [],
        "id": "WPQWIAf1jU1a"
      },
      "source": [
        "df['common']=df['source'].apply(lambda x: x if x in new else 0)"
      ],
      "execution_count": null,
      "outputs": []
    },
    {
      "cell_type": "code",
      "metadata": {
        "execution": {
          "iopub.execute_input": "2020-10-20T06:16:53.372520Z",
          "iopub.status.busy": "2020-10-20T06:16:53.371567Z",
          "iopub.status.idle": "2020-10-20T06:16:53.375335Z",
          "shell.execute_reply": "2020-10-20T06:16:53.374724Z"
        },
        "papermill": {
          "duration": 0.189285,
          "end_time": "2020-10-20T06:16:53.375469",
          "exception": false,
          "start_time": "2020-10-20T06:16:53.186184",
          "status": "completed"
        },
        "tags": [],
        "id": "e0Dm-12rjU1a"
      },
      "source": [
        "df1=df[df['common']!=0]"
      ],
      "execution_count": null,
      "outputs": []
    },
    {
      "cell_type": "code",
      "metadata": {
        "execution": {
          "iopub.execute_input": "2020-10-20T06:16:53.746227Z",
          "iopub.status.busy": "2020-10-20T06:16:53.740008Z",
          "iopub.status.idle": "2020-10-20T06:16:54.013173Z",
          "shell.execute_reply": "2020-10-20T06:16:54.012400Z"
        },
        "papermill": {
          "duration": 0.460052,
          "end_time": "2020-10-20T06:16:54.013306",
          "exception": false,
          "start_time": "2020-10-20T06:16:53.553254",
          "status": "completed"
        },
        "tags": [],
        "id": "qOjk0kXijU1a",
        "outputId": "4abd3bd4-3343-45f3-8bca-9465c8654ab7"
      },
      "source": [
        "plt.figure(figsize=(10,6))\n",
        "sns.countplot(y='common',data=df1,hue='news_type',palette='viridis')\n",
        "plt.xlabel('Count',fontsize=12)\n",
        "plt.ylabel('Source',fontsize=12)\n",
        "plt.legend(loc='best', title='News Type',fontsize=10)\n",
        "plt.title('Common Sources of Real and Fake News',fontsize=20)\n",
        "plt.show()"
      ],
      "execution_count": null,
      "outputs": [
        {
          "output_type": "display_data",
          "data": {
            "image/png": "[encoded data removed]",
            "text/plain": [
              "<Figure size 720x432 with 1 Axes>"
            ]
          },
          "metadata": {
            "tags": [],
            "needs_background": "light"
          }
        }
      ]
    },
    {
      "cell_type": "markdown",
      "metadata": {
        "papermill": {
          "duration": 0.180171,
          "end_time": "2020-10-20T06:16:54.374419",
          "exception": false,
          "start_time": "2020-10-20T06:16:54.194248",
          "status": "completed"
        },
        "tags": [],
        "id": "D6oFlUDajU1a"
      },
      "source": [
        "There are 7 common sources of real and fake news. This is interesting that the fake news are more reported by these sources as compared to real news. The rightwingnews reports maximum fake news but it also reports some real news. Approximaltely, two third of total news reported by rightwings are fake. On the other hand, the freedomdaily which is the second largest fake news reporting source, barely reports the real news. addictinginfo.org is the only single common source which reports real news more than fake news but the total number of the news it reports is very low."
      ]
    },
    {
      "cell_type": "markdown",
      "metadata": {
        "papermill": {
          "duration": 0.181501,
          "end_time": "2020-10-20T06:16:54.735698",
          "exception": false,
          "start_time": "2020-10-20T06:16:54.554197",
          "status": "completed"
        },
        "tags": [],
        "id": "vfy6a4gHjU1a"
      },
      "source": [
        "#### Sources Including Movies in the News "
      ]
    },
    {
      "cell_type": "code",
      "metadata": {
        "execution": {
          "iopub.execute_input": "2020-10-20T06:16:55.114433Z",
          "iopub.status.busy": "2020-10-20T06:16:55.113247Z",
          "iopub.status.idle": "2020-10-20T06:16:55.118402Z",
          "shell.execute_reply": "2020-10-20T06:16:55.117619Z"
        },
        "papermill": {
          "duration": 0.199664,
          "end_time": "2020-10-20T06:16:55.118535",
          "exception": false,
          "start_time": "2020-10-20T06:16:54.918871",
          "status": "completed"
        },
        "tags": [],
        "id": "69PlAFDwjU1b",
        "outputId": "8d79e8e5-45ae-4836-ca11-646ac98c59de"
      },
      "source": [
        "df.head(2)"
      ],
      "execution_count": null,
      "outputs": [
        {
          "output_type": "execute_result",
          "data": {
            "text/html": [
              "<div>\n",
              "<style scoped>\n",
              "    .dataframe tbody tr th:only-of-type {\n",
              "        vertical-align: middle;\n",
              "    }\n",
              "\n",
              "    .dataframe tbody tr th {\n",
              "        vertical-align: top;\n",
              "    }\n",
              "\n",
              "    .dataframe thead th {\n",
              "        text-align: right;\n",
              "    }\n",
              "</style>\n",
              "<table border=\"1\" class=\"dataframe\">\n",
              "  <thead>\n",
              "    <tr style=\"text-align: right;\">\n",
              "      <th></th>\n",
              "      <th>title</th>\n",
              "      <th>text</th>\n",
              "      <th>source</th>\n",
              "      <th>news_type</th>\n",
              "      <th>contain_movies</th>\n",
              "      <th>contain_images</th>\n",
              "      <th>common</th>\n",
              "    </tr>\n",
              "  </thead>\n",
              "  <tbody>\n",
              "    <tr>\n",
              "      <th>0</th>\n",
              "      <td>Another Terrorist Attack in NYC…Why Are we STI...</td>\n",
              "      <td>On Saturday, September 17 at 8:30 pm EST, an e...</td>\n",
              "      <td>http://eaglerising.com</td>\n",
              "      <td>Real</td>\n",
              "      <td>0</td>\n",
              "      <td>1</td>\n",
              "      <td>http://eaglerising.com</td>\n",
              "    </tr>\n",
              "    <tr>\n",
              "      <th>1</th>\n",
              "      <td>Donald Trump: Drugs a 'Very, Very Big Factor' ...</td>\n",
              "      <td>Less than a day after protests over the police...</td>\n",
              "      <td>http://abcn.ws</td>\n",
              "      <td>Real</td>\n",
              "      <td>0</td>\n",
              "      <td>1</td>\n",
              "      <td>0</td>\n",
              "    </tr>\n",
              "  </tbody>\n",
              "</table>\n",
              "</div>"
            ],
            "text/plain": [
              "                                               title  \\\n",
              "0  Another Terrorist Attack in NYC…Why Are we STI...   \n",
              "1  Donald Trump: Drugs a 'Very, Very Big Factor' ...   \n",
              "\n",
              "                                                text                  source  \\\n",
              "0  On Saturday, September 17 at 8:30 pm EST, an e...  http://eaglerising.com   \n",
              "1  Less than a day after protests over the police...          http://abcn.ws   \n",
              "\n",
              "  news_type  contain_movies  contain_images                  common  \n",
              "0      Real               0               1  http://eaglerising.com  \n",
              "1      Real               0               1                       0  "
            ]
          },
          "metadata": {
            "tags": []
          },
          "execution_count": 28
        }
      ]
    },
    {
      "cell_type": "code",
      "metadata": {
        "execution": {
          "iopub.execute_input": "2020-10-20T06:16:55.510995Z",
          "iopub.status.busy": "2020-10-20T06:16:55.507214Z",
          "iopub.status.idle": "2020-10-20T06:16:55.668951Z",
          "shell.execute_reply": "2020-10-20T06:16:55.668344Z"
        },
        "papermill": {
          "duration": 0.36857,
          "end_time": "2020-10-20T06:16:55.669120",
          "exception": false,
          "start_time": "2020-10-20T06:16:55.300550",
          "status": "completed"
        },
        "tags": [],
        "id": "hyixoxOUjU1b",
        "outputId": "63fac438-5d7e-44ce-c8f4-32bfca4921e5"
      },
      "source": [
        "plt.figure(figsize=(10,6))\n",
        "sns.countplot(x='contain_movies', data=df, hue='news_type', palette='PuBuGn_r')\n",
        "plt.xlabel('Movies Linked to News',fontsize=12)\n",
        "plt.ylabel('Count',fontsize=12)\n",
        "plt.legend(loc='best', title='News Type',fontsize=10)\n",
        "plt.title('Number of Different News Type Versus Linked Movies',fontsize=18)\n",
        "plt.show()"
      ],
      "execution_count": null,
      "outputs": [
        {
          "output_type": "display_data",
          "data": {
            "image/png": "[encoded data removed]",
            "text/plain": [
              "<Figure size 720x432 with 1 Axes>"
            ]
          },
          "metadata": {
            "tags": [],
            "needs_background": "light"
          }
        }
      ]
    },
    {
      "cell_type": "markdown",
      "metadata": {
        "papermill": {
          "duration": 0.19233,
          "end_time": "2020-10-20T06:16:56.045639",
          "exception": false,
          "start_time": "2020-10-20T06:16:55.853309",
          "status": "completed"
        },
        "tags": [],
        "id": "cg1kgj-BjU1b"
      },
      "source": [
        "From the above plot, we observe that most of the news are reported without including the movie clips, and there are very little articles which includes movie clips. This variable does not provide much useful information in our analysis."
      ]
    },
    {
      "cell_type": "markdown",
      "metadata": {
        "papermill": {
          "duration": 0.185264,
          "end_time": "2020-10-20T06:16:56.413923",
          "exception": false,
          "start_time": "2020-10-20T06:16:56.228659",
          "status": "completed"
        },
        "tags": [],
        "id": "SlCyHwTWjU1b"
      },
      "source": [
        "#### Sources Including Images in the News "
      ]
    },
    {
      "cell_type": "code",
      "metadata": {
        "execution": {
          "iopub.execute_input": "2020-10-20T06:16:56.806679Z",
          "iopub.status.busy": "2020-10-20T06:16:56.805863Z",
          "iopub.status.idle": "2020-10-20T06:16:56.959850Z",
          "shell.execute_reply": "2020-10-20T06:16:56.959019Z"
        },
        "papermill": {
          "duration": 0.363124,
          "end_time": "2020-10-20T06:16:56.959993",
          "exception": false,
          "start_time": "2020-10-20T06:16:56.596869",
          "status": "completed"
        },
        "tags": [],
        "id": "c1X54pwhjU1b",
        "outputId": "342c8abf-fe82-487b-ee2d-6bdd3817c173"
      },
      "source": [
        "plt.figure(figsize=(10,6))\n",
        "sns.countplot(x='contain_images', data=df, hue='news_type', palette='PuBuGn_r')\n",
        "plt.xlabel('Images Linked to News',fontsize=12)\n",
        "plt.ylabel('Count',fontsize=12)\n",
        "plt.legend(loc='upper left', title='News Type',fontsize=10)\n",
        "plt.title('Number of Different News Type Versus Linked Images',fontsize=18)\n",
        "plt.show()"
      ],
      "execution_count": null,
      "outputs": [
        {
          "output_type": "display_data",
          "data": {
            "image/png": "[encoded data removed]",
            "text/plain": [
              "<Figure size 720x432 with 1 Axes>"
            ]
          },
          "metadata": {
            "tags": [],
            "needs_background": "light"
          }
        }
      ]
    },
    {
      "cell_type": "markdown",
      "metadata": {
        "papermill": {
          "duration": 0.18529,
          "end_time": "2020-10-20T06:16:57.331178",
          "exception": false,
          "start_time": "2020-10-20T06:16:57.145888",
          "status": "completed"
        },
        "tags": [],
        "id": "9HXCjZDOjU1c"
      },
      "source": [
        "From the above plot we observe that all the real news sources included images in their articles. We may say that images acts as a proof of thier news. Therefore, this variable reveal that images are an important part of real news articles. The images and movies variables do not give us much details to strenghen our analysis."
      ]
    },
    {
      "cell_type": "markdown",
      "metadata": {
        "papermill": {
          "duration": 0.183011,
          "end_time": "2020-10-20T06:16:57.702603",
          "exception": false,
          "start_time": "2020-10-20T06:16:57.519592",
          "status": "completed"
        },
        "tags": [],
        "id": "iWdYqzCGjU1c"
      },
      "source": [
        "### Analysis of Title and Body of News Articles"
      ]
    },
    {
      "cell_type": "markdown",
      "metadata": {
        "papermill": {
          "duration": 0.186078,
          "end_time": "2020-10-20T06:16:58.072584",
          "exception": false,
          "start_time": "2020-10-20T06:16:57.886506",
          "status": "completed"
        },
        "tags": [],
        "id": "6na76-ZdjU1c"
      },
      "source": [
        "#### Preprocessing Function"
      ]
    },
    {
      "cell_type": "markdown",
      "metadata": {
        "papermill": {
          "duration": 0.182963,
          "end_time": "2020-10-20T06:16:58.444437",
          "exception": false,
          "start_time": "2020-10-20T06:16:58.261474",
          "status": "completed"
        },
        "tags": [],
        "id": "rWx4kdyTjU1c"
      },
      "source": [
        "We define a preprocessing function that performs the following operations:\n",
        "\n",
        "- Converting text to lower case\n",
        "\n",
        "- Removing numbers from the text corpus\n",
        "\n",
        "- Removing punctuation from the text corpus\n",
        "\n",
        "- Removing special characters such as ‘<’, ‘…’ from the text corpus\n",
        "\n",
        "- Removing english stopwords\n",
        "\n",
        "- Stemming words to root words\n",
        "\n",
        "- Removing extra whitespaces from the text corpus"
      ]
    },
    {
      "cell_type": "code",
      "metadata": {
        "execution": {
          "iopub.execute_input": "2020-10-20T06:16:58.833734Z",
          "iopub.status.busy": "2020-10-20T06:16:58.828533Z",
          "iopub.status.idle": "2020-10-20T06:16:58.837368Z",
          "shell.execute_reply": "2020-10-20T06:16:58.836570Z"
        },
        "papermill": {
          "duration": 0.209186,
          "end_time": "2020-10-20T06:16:58.837508",
          "exception": false,
          "start_time": "2020-10-20T06:16:58.628322",
          "status": "completed"
        },
        "tags": [],
        "id": "mIu9m50rjU1c"
      },
      "source": [
        "ps=PorterStemmer()\n",
        "wst= WhitespaceTokenizer() \n",
        "\n",
        "##### 1. Converting text to lower case\n",
        "def lower_func (x):\n",
        "    return x.lower()\n",
        "\n",
        "\n",
        "##### 2. Removing Numbers from the text corpus\n",
        "def remove_number_func (x): \n",
        "    new=\"\"\n",
        "    for a in x:\n",
        "        if a.isdigit()==False:\n",
        "            new=new+a\n",
        "    return new\n",
        "\n",
        "\n",
        "##### 3. Removing punctuation \n",
        "def remove_punc_func(x):\n",
        "    new=''\n",
        "    for a in x:\n",
        "        if a not in string.punctuation:\n",
        "            new=new+a\n",
        "    return new\n",
        "\n",
        "##### 4. Removing special characters\n",
        "def remove_spec_char_func(x):\n",
        "    new=''\n",
        "    for a in x:\n",
        "        if (a.isalnum()==True) or (a==' '):\n",
        "            new=new+a\n",
        "    return(new)\n",
        "\n",
        "##### 5. Removing english stopwords\n",
        "def remove_stopwords(x):\n",
        "    new=[]\n",
        "    for a in x.split():\n",
        "        if a not in stopwords.words('english'):\n",
        "            new.append(a)\n",
        "    return \" \".join(new)\n",
        "\n",
        "##### 6. Stemming words to root words\n",
        "def stem_func(x):\n",
        "    wordlist = word_tokenize(x)\n",
        "    psstem = [ps.stem(a) for a in wordlist]\n",
        "    return ' '.join(psstem)\n",
        "\n",
        "##### 7. Removing extra whitespaces \n",
        "def remove_whitespace_func(x):\n",
        "    return(wst.tokenize(x))\n",
        "\n",
        "def compose(f, g):\n",
        "    return lambda x: f(g(x))\n",
        "\n",
        "final=compose(compose(compose(compose(compose(compose(remove_whitespace_func,stem_func),remove_stopwords),remove_spec_char_func),remove_punc_func),remove_number_func),lower_func)"
      ],
      "execution_count": null,
      "outputs": []
    },
    {
      "cell_type": "markdown",
      "metadata": {
        "papermill": {
          "duration": 0.183565,
          "end_time": "2020-10-20T06:16:59.208750",
          "exception": false,
          "start_time": "2020-10-20T06:16:59.025185",
          "status": "completed"
        },
        "tags": [],
        "id": "6BoIsB9WjU1d"
      },
      "source": [
        "#### Analysis of News Title "
      ]
    },
    {
      "cell_type": "markdown",
      "metadata": {
        "papermill": {
          "duration": 0.185048,
          "end_time": "2020-10-20T06:16:59.576229",
          "exception": false,
          "start_time": "2020-10-20T06:16:59.391181",
          "status": "completed"
        },
        "tags": [],
        "id": "dUICovkgjU1d"
      },
      "source": [
        "We use 'final' function to process the title of news articles, then select the top 20 most frequent words in the news title for both categories i.e., real news and fake news. We plot the term frequency of these words in both categories."
      ]
    },
    {
      "cell_type": "markdown",
      "metadata": {
        "papermill": {
          "duration": 0.197311,
          "end_time": "2020-10-20T06:16:59.961339",
          "exception": false,
          "start_time": "2020-10-20T06:16:59.764028",
          "status": "completed"
        },
        "tags": [],
        "id": "emWYdOLjjU1d"
      },
      "source": [
        "##### Fake News"
      ]
    },
    {
      "cell_type": "code",
      "metadata": {
        "execution": {
          "iopub.execute_input": "2020-10-20T06:17:00.352451Z",
          "iopub.status.busy": "2020-10-20T06:17:00.351324Z",
          "iopub.status.idle": "2020-10-20T06:17:00.354815Z",
          "shell.execute_reply": "2020-10-20T06:17:00.354023Z"
        },
        "papermill": {
          "duration": 0.19293,
          "end_time": "2020-10-20T06:17:00.354957",
          "exception": false,
          "start_time": "2020-10-20T06:17:00.162027",
          "status": "completed"
        },
        "tags": [],
        "id": "034uNcLejU1d"
      },
      "source": [
        "df_fake=df[df['news_type']=='Fake']"
      ],
      "execution_count": null,
      "outputs": []
    },
    {
      "cell_type": "code",
      "metadata": {
        "execution": {
          "iopub.execute_input": "2020-10-20T06:17:00.725575Z",
          "iopub.status.busy": "2020-10-20T06:17:00.724711Z",
          "iopub.status.idle": "2020-10-20T06:17:01.231895Z",
          "shell.execute_reply": "2020-10-20T06:17:01.231040Z"
        },
        "papermill": {
          "duration": 0.695247,
          "end_time": "2020-10-20T06:17:01.232029",
          "exception": false,
          "start_time": "2020-10-20T06:17:00.536782",
          "status": "completed"
        },
        "scrolled": true,
        "tags": [],
        "id": "gswqGqdkjU1d"
      },
      "source": [
        "cv1 = CountVectorizer(analyzer=final)\n",
        "cv1.fit(df_fake['title'])\n",
        "bow1=cv1.transform(df_fake['title'])"
      ],
      "execution_count": null,
      "outputs": []
    },
    {
      "cell_type": "code",
      "metadata": {
        "execution": {
          "iopub.execute_input": "2020-10-20T06:17:01.610043Z",
          "iopub.status.busy": "2020-10-20T06:17:01.609066Z",
          "iopub.status.idle": "2020-10-20T06:17:01.614325Z",
          "shell.execute_reply": "2020-10-20T06:17:01.613653Z"
        },
        "papermill": {
          "duration": 0.197259,
          "end_time": "2020-10-20T06:17:01.614467",
          "exception": false,
          "start_time": "2020-10-20T06:17:01.417208",
          "status": "completed"
        },
        "tags": [],
        "id": "20NyU0D0jU1d",
        "outputId": "636ee9db-e3d8-4761-eaaf-e80377c7389a"
      },
      "source": [
        "pd.DataFrame(bow1.todense()).shape"
      ],
      "execution_count": null,
      "outputs": [
        {
          "output_type": "execute_result",
          "data": {
            "text/plain": [
              "(91, 459)"
            ]
          },
          "metadata": {
            "tags": []
          },
          "execution_count": 34
        }
      ]
    },
    {
      "cell_type": "code",
      "metadata": {
        "execution": {
          "iopub.execute_input": "2020-10-20T06:17:02.077860Z",
          "iopub.status.busy": "2020-10-20T06:17:02.067260Z",
          "iopub.status.idle": "2020-10-20T06:17:02.115204Z",
          "shell.execute_reply": "2020-10-20T06:17:02.114385Z"
        },
        "papermill": {
          "duration": 0.267831,
          "end_time": "2020-10-20T06:17:02.115334",
          "exception": false,
          "start_time": "2020-10-20T06:17:01.847503",
          "status": "completed"
        },
        "tags": [],
        "id": "msTOxnkzjU1e"
      },
      "source": [
        "new1=[]\n",
        "for x in range(0,459):\n",
        "    new1.append(cv1.get_feature_names()[x])"
      ],
      "execution_count": null,
      "outputs": []
    },
    {
      "cell_type": "code",
      "metadata": {
        "execution": {
          "iopub.execute_input": "2020-10-20T06:17:02.492583Z",
          "iopub.status.busy": "2020-10-20T06:17:02.491754Z",
          "iopub.status.idle": "2020-10-20T06:17:02.495411Z",
          "shell.execute_reply": "2020-10-20T06:17:02.494757Z"
        },
        "papermill": {
          "duration": 0.193732,
          "end_time": "2020-10-20T06:17:02.495544",
          "exception": false,
          "start_time": "2020-10-20T06:17:02.301812",
          "status": "completed"
        },
        "tags": [],
        "id": "EvTb24uFjU1e"
      },
      "source": [
        "matrix1=pd.DataFrame(bow1.todense(),columns=new1)"
      ],
      "execution_count": null,
      "outputs": []
    },
    {
      "cell_type": "code",
      "metadata": {
        "execution": {
          "iopub.execute_input": "2020-10-20T06:17:02.925615Z",
          "iopub.status.busy": "2020-10-20T06:17:02.890282Z",
          "iopub.status.idle": "2020-10-20T06:17:02.928827Z",
          "shell.execute_reply": "2020-10-20T06:17:02.929845Z"
        },
        "papermill": {
          "duration": 0.250316,
          "end_time": "2020-10-20T06:17:02.930055",
          "exception": false,
          "start_time": "2020-10-20T06:17:02.679739",
          "status": "completed"
        },
        "tags": [],
        "id": "BNoogY9cjU1e"
      },
      "source": [
        "sm1=[]\n",
        "for x in new1:\n",
        "    sm1.append(matrix1[x].sum())"
      ],
      "execution_count": null,
      "outputs": []
    },
    {
      "cell_type": "code",
      "metadata": {
        "execution": {
          "iopub.execute_input": "2020-10-20T06:17:03.309411Z",
          "iopub.status.busy": "2020-10-20T06:17:03.308358Z",
          "iopub.status.idle": "2020-10-20T06:17:03.311829Z",
          "shell.execute_reply": "2020-10-20T06:17:03.311146Z"
        },
        "papermill": {
          "duration": 0.194125,
          "end_time": "2020-10-20T06:17:03.311956",
          "exception": false,
          "start_time": "2020-10-20T06:17:03.117831",
          "status": "completed"
        },
        "tags": [],
        "id": "5184HYThjU1e"
      },
      "source": [
        "trans1=matrix1.transpose()"
      ],
      "execution_count": null,
      "outputs": []
    },
    {
      "cell_type": "code",
      "metadata": {
        "execution": {
          "iopub.execute_input": "2020-10-20T06:17:03.695323Z",
          "iopub.status.busy": "2020-10-20T06:17:03.694298Z",
          "iopub.status.idle": "2020-10-20T06:17:03.697046Z",
          "shell.execute_reply": "2020-10-20T06:17:03.697700Z"
        },
        "papermill": {
          "duration": 0.196201,
          "end_time": "2020-10-20T06:17:03.697866",
          "exception": false,
          "start_time": "2020-10-20T06:17:03.501665",
          "status": "completed"
        },
        "tags": [],
        "id": "UVWRq7MkjU1e"
      },
      "source": [
        "trans1['sum']=sm1"
      ],
      "execution_count": null,
      "outputs": []
    },
    {
      "cell_type": "code",
      "metadata": {
        "execution": {
          "iopub.execute_input": "2020-10-20T06:17:04.076278Z",
          "iopub.status.busy": "2020-10-20T06:17:04.075142Z",
          "iopub.status.idle": "2020-10-20T06:17:04.079995Z",
          "shell.execute_reply": "2020-10-20T06:17:04.079228Z"
        },
        "papermill": {
          "duration": 0.197587,
          "end_time": "2020-10-20T06:17:04.080181",
          "exception": false,
          "start_time": "2020-10-20T06:17:03.882594",
          "status": "completed"
        },
        "tags": [],
        "id": "8WgzsuIljU1e"
      },
      "source": [
        "top1=trans1.sort_values(by='sum', ascending=False).head(20)"
      ],
      "execution_count": null,
      "outputs": []
    },
    {
      "cell_type": "markdown",
      "metadata": {
        "papermill": {
          "duration": 0.186185,
          "end_time": "2020-10-20T06:17:04.450595",
          "exception": false,
          "start_time": "2020-10-20T06:17:04.264410",
          "status": "completed"
        },
        "tags": [],
        "id": "4XrR_28UjU1f"
      },
      "source": [
        "##### Real News"
      ]
    },
    {
      "cell_type": "code",
      "metadata": {
        "execution": {
          "iopub.execute_input": "2020-10-20T06:17:04.833613Z",
          "iopub.status.busy": "2020-10-20T06:17:04.832493Z",
          "iopub.status.idle": "2020-10-20T06:17:04.836343Z",
          "shell.execute_reply": "2020-10-20T06:17:04.835526Z"
        },
        "papermill": {
          "duration": 0.200296,
          "end_time": "2020-10-20T06:17:04.836478",
          "exception": false,
          "start_time": "2020-10-20T06:17:04.636182",
          "status": "completed"
        },
        "tags": [],
        "id": "FKxC4DqSjU1f"
      },
      "source": [
        "df_real=df[df['news_type']=='Real']"
      ],
      "execution_count": null,
      "outputs": []
    },
    {
      "cell_type": "code",
      "metadata": {
        "execution": {
          "iopub.execute_input": "2020-10-20T06:17:05.220354Z",
          "iopub.status.busy": "2020-10-20T06:17:05.219357Z",
          "iopub.status.idle": "2020-10-20T06:17:05.643665Z",
          "shell.execute_reply": "2020-10-20T06:17:05.643011Z"
        },
        "papermill": {
          "duration": 0.618895,
          "end_time": "2020-10-20T06:17:05.643803",
          "exception": false,
          "start_time": "2020-10-20T06:17:05.024908",
          "status": "completed"
        },
        "scrolled": true,
        "tags": [],
        "id": "nyDoTOUcjU1f"
      },
      "source": [
        "cv2 = CountVectorizer(analyzer=final)\n",
        "cv2.fit(df_real['title'])\n",
        "bow2=cv2.transform(df_real['title'])"
      ],
      "execution_count": null,
      "outputs": []
    },
    {
      "cell_type": "code",
      "metadata": {
        "execution": {
          "iopub.execute_input": "2020-10-20T06:17:06.028190Z",
          "iopub.status.busy": "2020-10-20T06:17:06.027385Z",
          "iopub.status.idle": "2020-10-20T06:17:06.033281Z",
          "shell.execute_reply": "2020-10-20T06:17:06.033840Z"
        },
        "papermill": {
          "duration": 0.205356,
          "end_time": "2020-10-20T06:17:06.034020",
          "exception": false,
          "start_time": "2020-10-20T06:17:05.828664",
          "status": "completed"
        },
        "tags": [],
        "id": "u5UlKwImjU1f",
        "outputId": "ca4d6f98-fb92-45d4-809c-9dfee9b7f7d0"
      },
      "source": [
        "pd.DataFrame(bow2.todense()).shape"
      ],
      "execution_count": null,
      "outputs": [
        {
          "output_type": "execute_result",
          "data": {
            "text/plain": [
              "(91, 436)"
            ]
          },
          "metadata": {
            "tags": []
          },
          "execution_count": 43
        }
      ]
    },
    {
      "cell_type": "code",
      "metadata": {
        "execution": {
          "iopub.execute_input": "2020-10-20T06:17:06.490051Z",
          "iopub.status.busy": "2020-10-20T06:17:06.463939Z",
          "iopub.status.idle": "2020-10-20T06:17:06.530262Z",
          "shell.execute_reply": "2020-10-20T06:17:06.529146Z"
        },
        "papermill": {
          "duration": 0.289522,
          "end_time": "2020-10-20T06:17:06.530439",
          "exception": false,
          "start_time": "2020-10-20T06:17:06.240917",
          "status": "completed"
        },
        "tags": [],
        "id": "WVqAZmoPjU1f"
      },
      "source": [
        "new2=[]\n",
        "for x in range(0,436):\n",
        "    new2.append(cv2.get_feature_names()[x])"
      ],
      "execution_count": null,
      "outputs": []
    },
    {
      "cell_type": "code",
      "metadata": {
        "execution": {
          "iopub.execute_input": "2020-10-20T06:17:06.935981Z",
          "iopub.status.busy": "2020-10-20T06:17:06.935035Z",
          "iopub.status.idle": "2020-10-20T06:17:06.940240Z",
          "shell.execute_reply": "2020-10-20T06:17:06.939462Z"
        },
        "papermill": {
          "duration": 0.212168,
          "end_time": "2020-10-20T06:17:06.940400",
          "exception": false,
          "start_time": "2020-10-20T06:17:06.728232",
          "status": "completed"
        },
        "tags": [],
        "id": "Ya1RGRW9jU1f"
      },
      "source": [
        "matrix2=pd.DataFrame(bow2.todense(),columns=new2)"
      ],
      "execution_count": null,
      "outputs": []
    },
    {
      "cell_type": "code",
      "metadata": {
        "execution": {
          "iopub.execute_input": "2020-10-20T06:17:07.347763Z",
          "iopub.status.busy": "2020-10-20T06:17:07.342648Z",
          "iopub.status.idle": "2020-10-20T06:17:07.383491Z",
          "shell.execute_reply": "2020-10-20T06:17:07.382764Z"
        },
        "papermill": {
          "duration": 0.255583,
          "end_time": "2020-10-20T06:17:07.383646",
          "exception": false,
          "start_time": "2020-10-20T06:17:07.128063",
          "status": "completed"
        },
        "tags": [],
        "id": "tqBdBMV9jU1g"
      },
      "source": [
        "sm2=[]\n",
        "for x in new2:\n",
        "    sm2.append(matrix2[x].sum())"
      ],
      "execution_count": null,
      "outputs": []
    },
    {
      "cell_type": "code",
      "metadata": {
        "execution": {
          "iopub.execute_input": "2020-10-20T06:17:07.765302Z",
          "iopub.status.busy": "2020-10-20T06:17:07.764457Z",
          "iopub.status.idle": "2020-10-20T06:17:07.768176Z",
          "shell.execute_reply": "2020-10-20T06:17:07.767456Z"
        },
        "papermill": {
          "duration": 0.196832,
          "end_time": "2020-10-20T06:17:07.768316",
          "exception": false,
          "start_time": "2020-10-20T06:17:07.571484",
          "status": "completed"
        },
        "tags": [],
        "id": "D5vdSilRjU1g"
      },
      "source": [
        "trans2=matrix2.transpose()"
      ],
      "execution_count": null,
      "outputs": []
    },
    {
      "cell_type": "code",
      "metadata": {
        "execution": {
          "iopub.execute_input": "2020-10-20T06:17:08.154855Z",
          "iopub.status.busy": "2020-10-20T06:17:08.154008Z",
          "iopub.status.idle": "2020-10-20T06:17:08.157370Z",
          "shell.execute_reply": "2020-10-20T06:17:08.156745Z"
        },
        "papermill": {
          "duration": 0.199761,
          "end_time": "2020-10-20T06:17:08.157508",
          "exception": false,
          "start_time": "2020-10-20T06:17:07.957747",
          "status": "completed"
        },
        "tags": [],
        "id": "Rb2dG1ZrjU1g"
      },
      "source": [
        "trans2['sum']=sm2"
      ],
      "execution_count": null,
      "outputs": []
    },
    {
      "cell_type": "code",
      "metadata": {
        "execution": {
          "iopub.execute_input": "2020-10-20T06:17:08.539623Z",
          "iopub.status.busy": "2020-10-20T06:17:08.538749Z",
          "iopub.status.idle": "2020-10-20T06:17:08.543891Z",
          "shell.execute_reply": "2020-10-20T06:17:08.543261Z"
        },
        "papermill": {
          "duration": 0.197414,
          "end_time": "2020-10-20T06:17:08.544036",
          "exception": false,
          "start_time": "2020-10-20T06:17:08.346622",
          "status": "completed"
        },
        "tags": [],
        "id": "4nHEOn0BjU1g"
      },
      "source": [
        "top2=trans2.sort_values(by='sum', ascending=False).head(20)"
      ],
      "execution_count": null,
      "outputs": []
    },
    {
      "cell_type": "markdown",
      "metadata": {
        "papermill": {
          "duration": 0.185627,
          "end_time": "2020-10-20T06:17:08.917746",
          "exception": false,
          "start_time": "2020-10-20T06:17:08.732119",
          "status": "completed"
        },
        "tags": [],
        "id": "c8mV4QjxjU1g"
      },
      "source": [
        "##### Concatenation"
      ]
    },
    {
      "cell_type": "code",
      "metadata": {
        "execution": {
          "iopub.execute_input": "2020-10-20T06:17:09.307663Z",
          "iopub.status.busy": "2020-10-20T06:17:09.306832Z",
          "iopub.status.idle": "2020-10-20T06:17:09.310490Z",
          "shell.execute_reply": "2020-10-20T06:17:09.309719Z"
        },
        "papermill": {
          "duration": 0.202196,
          "end_time": "2020-10-20T06:17:09.310626",
          "exception": false,
          "start_time": "2020-10-20T06:17:09.108430",
          "status": "completed"
        },
        "tags": [],
        "id": "VJOf3d4FjU1g"
      },
      "source": [
        "top1.drop(list(range(0,91)),axis=1,inplace=True)"
      ],
      "execution_count": null,
      "outputs": []
    },
    {
      "cell_type": "code",
      "metadata": {
        "execution": {
          "iopub.execute_input": "2020-10-20T06:17:09.697474Z",
          "iopub.status.busy": "2020-10-20T06:17:09.696654Z",
          "iopub.status.idle": "2020-10-20T06:17:09.700669Z",
          "shell.execute_reply": "2020-10-20T06:17:09.700017Z"
        },
        "papermill": {
          "duration": 0.199458,
          "end_time": "2020-10-20T06:17:09.700806",
          "exception": false,
          "start_time": "2020-10-20T06:17:09.501348",
          "status": "completed"
        },
        "tags": [],
        "id": "J4RPTidYjU1g"
      },
      "source": [
        "top1['type']=['Fake']*20"
      ],
      "execution_count": null,
      "outputs": []
    },
    {
      "cell_type": "code",
      "metadata": {
        "execution": {
          "iopub.execute_input": "2020-10-20T06:17:10.092264Z",
          "iopub.status.busy": "2020-10-20T06:17:10.091259Z",
          "iopub.status.idle": "2020-10-20T06:17:10.095212Z",
          "shell.execute_reply": "2020-10-20T06:17:10.094451Z"
        },
        "papermill": {
          "duration": 0.202278,
          "end_time": "2020-10-20T06:17:10.095340",
          "exception": false,
          "start_time": "2020-10-20T06:17:09.893062",
          "status": "completed"
        },
        "tags": [],
        "id": "vmvR1otBjU1h"
      },
      "source": [
        "top2.drop(list(range(0,91)),axis=1,inplace=True)"
      ],
      "execution_count": null,
      "outputs": []
    },
    {
      "cell_type": "code",
      "metadata": {
        "execution": {
          "iopub.execute_input": "2020-10-20T06:17:10.484123Z",
          "iopub.status.busy": "2020-10-20T06:17:10.483114Z",
          "iopub.status.idle": "2020-10-20T06:17:10.486599Z",
          "shell.execute_reply": "2020-10-20T06:17:10.485920Z"
        },
        "papermill": {
          "duration": 0.201131,
          "end_time": "2020-10-20T06:17:10.486739",
          "exception": false,
          "start_time": "2020-10-20T06:17:10.285608",
          "status": "completed"
        },
        "tags": [],
        "id": "wh_BlktAjU1h"
      },
      "source": [
        "top2['type']=['Real']*20"
      ],
      "execution_count": null,
      "outputs": []
    },
    {
      "cell_type": "code",
      "metadata": {
        "execution": {
          "iopub.execute_input": "2020-10-20T06:17:10.871724Z",
          "iopub.status.busy": "2020-10-20T06:17:10.870842Z",
          "iopub.status.idle": "2020-10-20T06:17:10.874525Z",
          "shell.execute_reply": "2020-10-20T06:17:10.873856Z"
        },
        "papermill": {
          "duration": 0.19984,
          "end_time": "2020-10-20T06:17:10.874665",
          "exception": false,
          "start_time": "2020-10-20T06:17:10.674825",
          "status": "completed"
        },
        "tags": [],
        "id": "QyB3uM7XjU1h"
      },
      "source": [
        "conc1=pd.concat([top1,top2])"
      ],
      "execution_count": null,
      "outputs": []
    },
    {
      "cell_type": "code",
      "metadata": {
        "execution": {
          "iopub.execute_input": "2020-10-20T06:17:11.349509Z",
          "iopub.status.busy": "2020-10-20T06:17:11.305050Z",
          "iopub.status.idle": "2020-10-20T06:17:12.047999Z",
          "shell.execute_reply": "2020-10-20T06:17:12.047309Z"
        },
        "papermill": {
          "duration": 0.953012,
          "end_time": "2020-10-20T06:17:12.048161",
          "exception": false,
          "start_time": "2020-10-20T06:17:11.095149",
          "status": "completed"
        },
        "tags": [],
        "id": "9uCZ9x5sjU1h",
        "outputId": "dc1aab80-da22-4455-eae2-b311c0d182d0"
      },
      "source": [
        "plt.figure(figsize=(12,10))\n",
        "sns.barplot(y=conc1.index,x='sum',data=conc1,hue='type',palette='viridis')\n",
        "plt.xticks(rotation=90)\n",
        "plt.xlabel('Term Frequency of Words',fontsize=12)\n",
        "plt.ylabel('Top Words in Titles',fontsize=12)\n",
        "plt.legend(title='News Type',fontsize=12)\n",
        "plt.title('Frequency of Words in the Title of News',fontsize=20)\n",
        "plt.show()"
      ],
      "execution_count": null,
      "outputs": [
        {
          "output_type": "display_data",
          "data": {
            "image/png": "[encoded data removed]",
            "text/plain": [
              "<Figure size 864x720 with 1 Axes>"
            ]
          },
          "metadata": {
            "tags": [],
            "needs_background": "light"
          }
        }
      ]
    },
    {
      "cell_type": "markdown",
      "metadata": {
        "papermill": {
          "duration": 0.190365,
          "end_time": "2020-10-20T06:17:12.431033",
          "exception": false,
          "start_time": "2020-10-20T06:17:12.240668",
          "status": "completed"
        },
        "tags": [],
        "id": "lfZ245I1jU1h"
      },
      "source": [
        "The term frequency plot shows that some words like hillari, clinton, freedom and obama are representative of the title of fake news whereas words like trump, clinton, donald and debat are representative of the title of real news."
      ]
    },
    {
      "cell_type": "markdown",
      "metadata": {
        "papermill": {
          "duration": 0.191037,
          "end_time": "2020-10-20T06:17:12.813521",
          "exception": false,
          "start_time": "2020-10-20T06:17:12.622484",
          "status": "completed"
        },
        "tags": [],
        "id": "WhZl_gchjU1h"
      },
      "source": [
        "#### Analysis of News Body"
      ]
    },
    {
      "cell_type": "markdown",
      "metadata": {
        "papermill": {
          "duration": 0.194053,
          "end_time": "2020-10-20T06:17:13.203301",
          "exception": false,
          "start_time": "2020-10-20T06:17:13.009248",
          "status": "completed"
        },
        "tags": [],
        "id": "PGc7KOqfjU1i"
      },
      "source": [
        "After analyzing the title, we analyze the text body of the news articles. We are interested in finding top 30 representative words in the body of fake news and real news. We perform same steps by calling \"final\" function on the body of the news article, and then select the top 30 most frequent words in the news title for both categories i,e. real news and fake news. We plot the term frequency of such words in both categories i.e., real news and fake news. We plot these words to visualise the high frequency words associated with fake and real news."
      ]
    },
    {
      "cell_type": "markdown",
      "metadata": {
        "papermill": {
          "duration": 0.193035,
          "end_time": "2020-10-20T06:17:13.587874",
          "exception": false,
          "start_time": "2020-10-20T06:17:13.394839",
          "status": "completed"
        },
        "tags": [],
        "id": "Ehc-D64RjU1i"
      },
      "source": [
        "##### Fake News"
      ]
    },
    {
      "cell_type": "code",
      "metadata": {
        "execution": {
          "iopub.execute_input": "2020-10-20T06:17:13.979881Z",
          "iopub.status.busy": "2020-10-20T06:17:13.979027Z",
          "iopub.status.idle": "2020-10-20T06:17:29.452859Z",
          "shell.execute_reply": "2020-10-20T06:17:29.452043Z"
        },
        "papermill": {
          "duration": 15.673987,
          "end_time": "2020-10-20T06:17:29.452990",
          "exception": false,
          "start_time": "2020-10-20T06:17:13.779003",
          "status": "completed"
        },
        "scrolled": true,
        "tags": [],
        "id": "POKRu46djU1i"
      },
      "source": [
        "cv3 = CountVectorizer(analyzer=final)\n",
        "cv3.fit(df_fake['text'])\n",
        "bow3=cv3.transform(df_fake['text'])"
      ],
      "execution_count": null,
      "outputs": []
    },
    {
      "cell_type": "code",
      "metadata": {
        "execution": {
          "iopub.execute_input": "2020-10-20T06:17:29.883761Z",
          "iopub.status.busy": "2020-10-20T06:17:29.882830Z",
          "iopub.status.idle": "2020-10-20T06:17:29.891859Z",
          "shell.execute_reply": "2020-10-20T06:17:29.891203Z"
        },
        "papermill": {
          "duration": 0.246628,
          "end_time": "2020-10-20T06:17:29.891987",
          "exception": false,
          "start_time": "2020-10-20T06:17:29.645359",
          "status": "completed"
        },
        "tags": [],
        "id": "InwfJ8B0jU1i",
        "outputId": "e22242fc-92d6-4a5a-a3d5-ebfbf4d5774e"
      },
      "source": [
        "pd.DataFrame(bow3.todense()).shape"
      ],
      "execution_count": null,
      "outputs": [
        {
          "output_type": "execute_result",
          "data": {
            "text/plain": [
              "(91, 4958)"
            ]
          },
          "metadata": {
            "tags": []
          },
          "execution_count": 57
        }
      ]
    },
    {
      "cell_type": "code",
      "metadata": {
        "execution": {
          "iopub.execute_input": "2020-10-20T06:17:30.348967Z",
          "iopub.status.busy": "2020-10-20T06:17:30.338492Z",
          "iopub.status.idle": "2020-10-20T06:17:41.556518Z",
          "shell.execute_reply": "2020-10-20T06:17:41.555799Z"
        },
        "papermill": {
          "duration": 11.459085,
          "end_time": "2020-10-20T06:17:41.556658",
          "exception": false,
          "start_time": "2020-10-20T06:17:30.097573",
          "status": "completed"
        },
        "tags": [],
        "id": "1kCPGS4gjU1i"
      },
      "source": [
        "new3=[]\n",
        "for x in range(0,4958):\n",
        "    new3.append(cv3.get_feature_names()[x])"
      ],
      "execution_count": null,
      "outputs": []
    },
    {
      "cell_type": "code",
      "metadata": {
        "execution": {
          "iopub.execute_input": "2020-10-20T06:17:41.951330Z",
          "iopub.status.busy": "2020-10-20T06:17:41.950117Z",
          "iopub.status.idle": "2020-10-20T06:17:41.958964Z",
          "shell.execute_reply": "2020-10-20T06:17:41.958286Z"
        },
        "papermill": {
          "duration": 0.210279,
          "end_time": "2020-10-20T06:17:41.959138",
          "exception": false,
          "start_time": "2020-10-20T06:17:41.748859",
          "status": "completed"
        },
        "tags": [],
        "id": "SKSc8YMWjU1i"
      },
      "source": [
        "matrix3=pd.DataFrame(bow3.todense(),columns=new3)"
      ],
      "execution_count": null,
      "outputs": []
    },
    {
      "cell_type": "code",
      "metadata": {
        "execution": {
          "iopub.execute_input": "2020-10-20T06:17:42.392324Z",
          "iopub.status.busy": "2020-10-20T06:17:42.386901Z",
          "iopub.status.idle": "2020-10-20T06:17:43.057884Z",
          "shell.execute_reply": "2020-10-20T06:17:43.056991Z"
        },
        "papermill": {
          "duration": 0.900659,
          "end_time": "2020-10-20T06:17:43.058019",
          "exception": false,
          "start_time": "2020-10-20T06:17:42.157360",
          "status": "completed"
        },
        "tags": [],
        "id": "FpF4jP7ajU1j"
      },
      "source": [
        "sm3=[]\n",
        "for x in new3:\n",
        "    sm3.append(matrix3[x].sum())"
      ],
      "execution_count": null,
      "outputs": []
    },
    {
      "cell_type": "code",
      "metadata": {
        "execution": {
          "iopub.execute_input": "2020-10-20T06:17:43.449295Z",
          "iopub.status.busy": "2020-10-20T06:17:43.448451Z",
          "iopub.status.idle": "2020-10-20T06:17:43.452800Z",
          "shell.execute_reply": "2020-10-20T06:17:43.452124Z"
        },
        "papermill": {
          "duration": 0.202478,
          "end_time": "2020-10-20T06:17:43.452944",
          "exception": false,
          "start_time": "2020-10-20T06:17:43.250466",
          "status": "completed"
        },
        "tags": [],
        "id": "L7-UOxmEjU1j"
      },
      "source": [
        "trans3=matrix3.transpose()"
      ],
      "execution_count": null,
      "outputs": []
    },
    {
      "cell_type": "code",
      "metadata": {
        "execution": {
          "iopub.execute_input": "2020-10-20T06:17:43.855256Z",
          "iopub.status.busy": "2020-10-20T06:17:43.854409Z",
          "iopub.status.idle": "2020-10-20T06:17:43.858146Z",
          "shell.execute_reply": "2020-10-20T06:17:43.857371Z"
        },
        "papermill": {
          "duration": 0.207808,
          "end_time": "2020-10-20T06:17:43.858287",
          "exception": false,
          "start_time": "2020-10-20T06:17:43.650479",
          "status": "completed"
        },
        "tags": [],
        "id": "qImKnPUUjU1j"
      },
      "source": [
        "trans3['sum']=sm3"
      ],
      "execution_count": null,
      "outputs": []
    },
    {
      "cell_type": "code",
      "metadata": {
        "execution": {
          "iopub.execute_input": "2020-10-20T06:17:44.303878Z",
          "iopub.status.busy": "2020-10-20T06:17:44.303104Z",
          "iopub.status.idle": "2020-10-20T06:17:44.317486Z",
          "shell.execute_reply": "2020-10-20T06:17:44.316646Z"
        },
        "papermill": {
          "duration": 0.212996,
          "end_time": "2020-10-20T06:17:44.317621",
          "exception": false,
          "start_time": "2020-10-20T06:17:44.104625",
          "status": "completed"
        },
        "tags": [],
        "id": "0RPLLQSSjU1j"
      },
      "source": [
        "top3=trans3.sort_values(by='sum', ascending=False).head(30)"
      ],
      "execution_count": null,
      "outputs": []
    },
    {
      "cell_type": "markdown",
      "metadata": {
        "papermill": {
          "duration": 0.195559,
          "end_time": "2020-10-20T06:17:44.706252",
          "exception": false,
          "start_time": "2020-10-20T06:17:44.510693",
          "status": "completed"
        },
        "tags": [],
        "id": "wOZCk6tnjU1j"
      },
      "source": [
        "##### Real News"
      ]
    },
    {
      "cell_type": "code",
      "metadata": {
        "execution": {
          "iopub.execute_input": "2020-10-20T06:17:45.107285Z",
          "iopub.status.busy": "2020-10-20T06:17:45.105848Z",
          "iopub.status.idle": "2020-10-20T06:18:05.178441Z",
          "shell.execute_reply": "2020-10-20T06:18:05.177716Z"
        },
        "papermill": {
          "duration": 20.27769,
          "end_time": "2020-10-20T06:18:05.178596",
          "exception": false,
          "start_time": "2020-10-20T06:17:44.900906",
          "status": "completed"
        },
        "scrolled": true,
        "tags": [],
        "id": "2Tg4j6NKjU1j"
      },
      "source": [
        "cv4 = CountVectorizer(analyzer=final)\n",
        "cv4.fit(df_real['text'])\n",
        "bow4=cv4.transform(df_real['text'])"
      ],
      "execution_count": null,
      "outputs": []
    },
    {
      "cell_type": "code",
      "metadata": {
        "execution": {
          "iopub.execute_input": "2020-10-20T06:18:05.572317Z",
          "iopub.status.busy": "2020-10-20T06:18:05.571489Z",
          "iopub.status.idle": "2020-10-20T06:18:05.580743Z",
          "shell.execute_reply": "2020-10-20T06:18:05.580108Z"
        },
        "papermill": {
          "duration": 0.209356,
          "end_time": "2020-10-20T06:18:05.580879",
          "exception": false,
          "start_time": "2020-10-20T06:18:05.371523",
          "status": "completed"
        },
        "tags": [],
        "id": "hgOErALYjU1k",
        "outputId": "d6f63427-1173-4a37-8877-96db0b11b614"
      },
      "source": [
        "pd.DataFrame(bow4.todense()).shape"
      ],
      "execution_count": null,
      "outputs": [
        {
          "output_type": "execute_result",
          "data": {
            "text/plain": [
              "(91, 6529)"
            ]
          },
          "metadata": {
            "tags": []
          },
          "execution_count": 65
        }
      ]
    },
    {
      "cell_type": "code",
      "metadata": {
        "execution": {
          "iopub.execute_input": "2020-10-20T06:18:06.045873Z",
          "iopub.status.busy": "2020-10-20T06:18:06.038926Z",
          "iopub.status.idle": "2020-10-20T06:18:26.847609Z",
          "shell.execute_reply": "2020-10-20T06:18:26.848215Z"
        },
        "papermill": {
          "duration": 21.074198,
          "end_time": "2020-10-20T06:18:26.848413",
          "exception": false,
          "start_time": "2020-10-20T06:18:05.774215",
          "status": "completed"
        },
        "tags": [],
        "id": "t3aEcDPJjU1k"
      },
      "source": [
        "new4=[]\n",
        "for x in range(0,6529):\n",
        "    new4.append(cv4.get_feature_names()[x])"
      ],
      "execution_count": null,
      "outputs": []
    },
    {
      "cell_type": "code",
      "metadata": {
        "execution": {
          "iopub.execute_input": "2020-10-20T06:18:27.244501Z",
          "iopub.status.busy": "2020-10-20T06:18:27.243665Z",
          "iopub.status.idle": "2020-10-20T06:18:27.252535Z",
          "shell.execute_reply": "2020-10-20T06:18:27.251734Z"
        },
        "papermill": {
          "duration": 0.209976,
          "end_time": "2020-10-20T06:18:27.252669",
          "exception": false,
          "start_time": "2020-10-20T06:18:27.042693",
          "status": "completed"
        },
        "tags": [],
        "id": "nf-Z2VO9jU1k"
      },
      "source": [
        "matrix4=pd.DataFrame(bow4.todense(),columns=new4)"
      ],
      "execution_count": null,
      "outputs": []
    },
    {
      "cell_type": "code",
      "metadata": {
        "execution": {
          "iopub.execute_input": "2020-10-20T06:18:27.671660Z",
          "iopub.status.busy": "2020-10-20T06:18:27.655763Z",
          "iopub.status.idle": "2020-10-20T06:18:28.621433Z",
          "shell.execute_reply": "2020-10-20T06:18:28.620349Z"
        },
        "papermill": {
          "duration": 1.164598,
          "end_time": "2020-10-20T06:18:28.621656",
          "exception": false,
          "start_time": "2020-10-20T06:18:27.457058",
          "status": "completed"
        },
        "tags": [],
        "id": "K2ZsSmexjU1k"
      },
      "source": [
        "sm4=[]\n",
        "for x in new4:\n",
        "    sm4.append(matrix4[x].sum())"
      ],
      "execution_count": null,
      "outputs": []
    },
    {
      "cell_type": "code",
      "metadata": {
        "execution": {
          "iopub.execute_input": "2020-10-20T06:18:29.050456Z",
          "iopub.status.busy": "2020-10-20T06:18:29.049378Z",
          "iopub.status.idle": "2020-10-20T06:18:29.052678Z",
          "shell.execute_reply": "2020-10-20T06:18:29.053352Z"
        },
        "papermill": {
          "duration": 0.22448,
          "end_time": "2020-10-20T06:18:29.053539",
          "exception": false,
          "start_time": "2020-10-20T06:18:28.829059",
          "status": "completed"
        },
        "tags": [],
        "id": "UoW6jxz8jU1k"
      },
      "source": [
        "trans4=matrix4.transpose()"
      ],
      "execution_count": null,
      "outputs": []
    },
    {
      "cell_type": "code",
      "metadata": {
        "execution": {
          "iopub.execute_input": "2020-10-20T06:18:29.484021Z",
          "iopub.status.busy": "2020-10-20T06:18:29.482823Z",
          "iopub.status.idle": "2020-10-20T06:18:29.486318Z",
          "shell.execute_reply": "2020-10-20T06:18:29.486960Z"
        },
        "papermill": {
          "duration": 0.222919,
          "end_time": "2020-10-20T06:18:29.487152",
          "exception": false,
          "start_time": "2020-10-20T06:18:29.264233",
          "status": "completed"
        },
        "tags": [],
        "id": "zLnFe3KZjU1k"
      },
      "source": [
        "trans4['sum']=sm4"
      ],
      "execution_count": null,
      "outputs": []
    },
    {
      "cell_type": "code",
      "metadata": {
        "execution": {
          "iopub.execute_input": "2020-10-20T06:18:29.894139Z",
          "iopub.status.busy": "2020-10-20T06:18:29.892787Z",
          "iopub.status.idle": "2020-10-20T06:18:29.909880Z",
          "shell.execute_reply": "2020-10-20T06:18:29.908913Z"
        },
        "papermill": {
          "duration": 0.226954,
          "end_time": "2020-10-20T06:18:29.910029",
          "exception": false,
          "start_time": "2020-10-20T06:18:29.683075",
          "status": "completed"
        },
        "tags": [],
        "id": "16ebvIEhjU1l"
      },
      "source": [
        "top4=trans4.sort_values(by='sum', ascending=False).head(30)"
      ],
      "execution_count": null,
      "outputs": []
    },
    {
      "cell_type": "markdown",
      "metadata": {
        "papermill": {
          "duration": 0.198709,
          "end_time": "2020-10-20T06:18:30.314667",
          "exception": false,
          "start_time": "2020-10-20T06:18:30.115958",
          "status": "completed"
        },
        "tags": [],
        "id": "9Z-NMQ7zjU1l"
      },
      "source": [
        "##### Concatenation"
      ]
    },
    {
      "cell_type": "code",
      "metadata": {
        "execution": {
          "iopub.execute_input": "2020-10-20T06:18:30.737878Z",
          "iopub.status.busy": "2020-10-20T06:18:30.737111Z",
          "iopub.status.idle": "2020-10-20T06:18:30.741049Z",
          "shell.execute_reply": "2020-10-20T06:18:30.740266Z"
        },
        "papermill": {
          "duration": 0.21809,
          "end_time": "2020-10-20T06:18:30.741220",
          "exception": false,
          "start_time": "2020-10-20T06:18:30.523130",
          "status": "completed"
        },
        "tags": [],
        "id": "gJAfQj0VjU1l"
      },
      "source": [
        "top3.drop(list(range(0,91)),axis=1,inplace=True)"
      ],
      "execution_count": null,
      "outputs": []
    },
    {
      "cell_type": "code",
      "metadata": {
        "execution": {
          "iopub.execute_input": "2020-10-20T06:18:31.161923Z",
          "iopub.status.busy": "2020-10-20T06:18:31.161154Z",
          "iopub.status.idle": "2020-10-20T06:18:31.164451Z",
          "shell.execute_reply": "2020-10-20T06:18:31.163662Z"
        },
        "papermill": {
          "duration": 0.216135,
          "end_time": "2020-10-20T06:18:31.164627",
          "exception": false,
          "start_time": "2020-10-20T06:18:30.948492",
          "status": "completed"
        },
        "tags": [],
        "id": "MQRxmx6FjU1l"
      },
      "source": [
        "top3['type']=['Fake']*30"
      ],
      "execution_count": null,
      "outputs": []
    },
    {
      "cell_type": "code",
      "metadata": {
        "execution": {
          "iopub.execute_input": "2020-10-20T06:18:31.598507Z",
          "iopub.status.busy": "2020-10-20T06:18:31.597666Z",
          "iopub.status.idle": "2020-10-20T06:18:31.600809Z",
          "shell.execute_reply": "2020-10-20T06:18:31.601734Z"
        },
        "papermill": {
          "duration": 0.220528,
          "end_time": "2020-10-20T06:18:31.601937",
          "exception": false,
          "start_time": "2020-10-20T06:18:31.381409",
          "status": "completed"
        },
        "tags": [],
        "id": "N1q18TMNjU1l"
      },
      "source": [
        "top4.drop(list(range(0,91)),axis=1,inplace=True)"
      ],
      "execution_count": null,
      "outputs": []
    },
    {
      "cell_type": "code",
      "metadata": {
        "execution": {
          "iopub.execute_input": "2020-10-20T06:18:32.008755Z",
          "iopub.status.busy": "2020-10-20T06:18:32.007919Z",
          "iopub.status.idle": "2020-10-20T06:18:32.011334Z",
          "shell.execute_reply": "2020-10-20T06:18:32.010660Z"
        },
        "papermill": {
          "duration": 0.208748,
          "end_time": "2020-10-20T06:18:32.011474",
          "exception": false,
          "start_time": "2020-10-20T06:18:31.802726",
          "status": "completed"
        },
        "tags": [],
        "id": "lo27b8j0jU1l"
      },
      "source": [
        "top4['type']=['Real']*30"
      ],
      "execution_count": null,
      "outputs": []
    },
    {
      "cell_type": "code",
      "metadata": {
        "execution": {
          "iopub.execute_input": "2020-10-20T06:18:32.431835Z",
          "iopub.status.busy": "2020-10-20T06:18:32.430987Z",
          "iopub.status.idle": "2020-10-20T06:18:32.434636Z",
          "shell.execute_reply": "2020-10-20T06:18:32.433740Z"
        },
        "papermill": {
          "duration": 0.214291,
          "end_time": "2020-10-20T06:18:32.434777",
          "exception": false,
          "start_time": "2020-10-20T06:18:32.220486",
          "status": "completed"
        },
        "tags": [],
        "id": "JOFxpNiljU1l"
      },
      "source": [
        "conc2=pd.concat([top3,top4])"
      ],
      "execution_count": null,
      "outputs": []
    },
    {
      "cell_type": "code",
      "metadata": {
        "execution": {
          "iopub.execute_input": "2020-10-20T06:18:32.927311Z",
          "iopub.status.busy": "2020-10-20T06:18:32.925573Z",
          "iopub.status.idle": "2020-10-20T06:18:33.547281Z",
          "shell.execute_reply": "2020-10-20T06:18:33.546451Z"
        },
        "papermill": {
          "duration": 0.911228,
          "end_time": "2020-10-20T06:18:33.547423",
          "exception": false,
          "start_time": "2020-10-20T06:18:32.636195",
          "status": "completed"
        },
        "tags": [],
        "id": "3MCZBeg3jU1m",
        "outputId": "8c338763-62c8-4508-92e6-ca5e5df8c0b1"
      },
      "source": [
        "plt.figure(figsize=(12,10))\n",
        "sns.barplot(y=conc2.index,x='sum',data=conc2,hue='type',palette='viridis')\n",
        "plt.xticks(rotation=90)\n",
        "plt.xlabel('Term Frequency of Words',fontsize=12)\n",
        "plt.ylabel('Top Words in Texts',fontsize=12)\n",
        "plt.legend(title='News Type',fontsize=12,loc='lower right')\n",
        "plt.title('Frequency of Words in the Text of News',fontsize=20)\n",
        "plt.show()"
      ],
      "execution_count": null,
      "outputs": [
        {
          "output_type": "display_data",
          "data": {
            "image/png": "[encoded data removed]",
            "text/plain": [
              "<Figure size 864x720 with 1 Axes>"
            ]
          },
          "metadata": {
            "tags": [],
            "needs_background": "light"
          }
        }
      ]
    },
    {
      "cell_type": "markdown",
      "metadata": {
        "papermill": {
          "duration": 0.205236,
          "end_time": "2020-10-20T06:18:33.957556",
          "exception": false,
          "start_time": "2020-10-20T06:18:33.752320",
          "status": "completed"
        },
        "tags": [],
        "id": "pNzyyt16jU1m"
      },
      "source": [
        "From the above plot, we notice that words like trump and clinton are the most frequent words in the news body.\n",
        "The term frequency plot shows that some words like clinton, hillari and trump are representative of fake news whereas words like trump, said, clinton are representative of real news."
      ]
    },
    {
      "cell_type": "markdown",
      "metadata": {
        "papermill": {
          "duration": 0.199751,
          "end_time": "2020-10-20T06:18:34.362740",
          "exception": false,
          "start_time": "2020-10-20T06:18:34.162989",
          "status": "completed"
        },
        "tags": [],
        "id": "dingvFP6jU1m"
      },
      "source": [
        "#### Analysis of Title Length"
      ]
    },
    {
      "cell_type": "markdown",
      "metadata": {
        "papermill": {
          "duration": 0.201797,
          "end_time": "2020-10-20T06:18:34.762056",
          "exception": false,
          "start_time": "2020-10-20T06:18:34.560259",
          "status": "completed"
        },
        "tags": [],
        "id": "Z5m7oCsAjU1m"
      },
      "source": [
        "After the analysis on the words in the title and body of news, we want to know that whether the title length is also a discriminatory feature/factor between fake and real news category."
      ]
    },
    {
      "cell_type": "code",
      "metadata": {
        "execution": {
          "iopub.execute_input": "2020-10-20T06:18:35.188283Z",
          "iopub.status.busy": "2020-10-20T06:18:35.187277Z",
          "iopub.status.idle": "2020-10-20T06:18:35.191215Z",
          "shell.execute_reply": "2020-10-20T06:18:35.190372Z"
        },
        "papermill": {
          "duration": 0.221305,
          "end_time": "2020-10-20T06:18:35.191358",
          "exception": false,
          "start_time": "2020-10-20T06:18:34.970053",
          "status": "completed"
        },
        "tags": [],
        "id": "sR2Gkg6jjU1m"
      },
      "source": [
        "df['title_length']=df['title'].apply(lambda x: len(x))"
      ],
      "execution_count": null,
      "outputs": []
    },
    {
      "cell_type": "code",
      "metadata": {
        "execution": {
          "iopub.execute_input": "2020-10-20T06:18:35.621879Z",
          "iopub.status.busy": "2020-10-20T06:18:35.621047Z",
          "iopub.status.idle": "2020-10-20T06:18:35.868521Z",
          "shell.execute_reply": "2020-10-20T06:18:35.867381Z"
        },
        "papermill": {
          "duration": 0.475604,
          "end_time": "2020-10-20T06:18:35.868675",
          "exception": false,
          "start_time": "2020-10-20T06:18:35.393071",
          "status": "completed"
        },
        "tags": [],
        "id": "8PoTyyIRjU1m",
        "outputId": "c8acb8bb-c3c6-4944-dad3-b6f519c4e4a3"
      },
      "source": [
        "plt.figure(figsize=(10,6))\n",
        "sns.kdeplot(df[df['news_type']=='Real']['title_length'])\n",
        "sns.kdeplot(df[df['news_type']=='Fake']['title_length'])\n",
        "plt.xlabel('Title Length',fontsize=12)\n",
        "plt.ylabel('Density',fontsize=12)\n",
        "plt.legend(title='News Type',fontsize=10,labels=['Real','Fake'])\n",
        "plt.title('Distribuiton of Title Length for Real and Fake News',fontsize=15)\n",
        "plt.show()"
      ],
      "execution_count": null,
      "outputs": [
        {
          "output_type": "display_data",
          "data": {
            "image/png": "[encoded data removed]",
            "text/plain": [
              "<Figure size 720x432 with 1 Axes>"
            ]
          },
          "metadata": {
            "tags": [],
            "needs_background": "light"
          }
        }
      ]
    },
    {
      "cell_type": "markdown",
      "metadata": {
        "papermill": {
          "duration": 0.20896,
          "end_time": "2020-10-20T06:18:36.288952",
          "exception": false,
          "start_time": "2020-10-20T06:18:36.079992",
          "status": "completed"
        },
        "tags": [],
        "id": "1qEnOu0ljU1n"
      },
      "source": [
        "The title length of fake news is slighly larger than the real news. Real news title length distribution is centered with the maximum density at the length of 60, while the center of distribution of title length for fake news is slightly skewed  with the maximum density at the length of 80."
      ]
    },
    {
      "cell_type": "markdown",
      "metadata": {
        "papermill": {
          "duration": 0.203461,
          "end_time": "2020-10-20T06:18:36.693889",
          "exception": false,
          "start_time": "2020-10-20T06:18:36.490428",
          "status": "completed"
        },
        "tags": [],
        "id": "wgfAYljejU1n"
      },
      "source": [
        "## Fake/Real News Classification"
      ]
    },
    {
      "cell_type": "markdown",
      "metadata": {
        "papermill": {
          "duration": 0.205325,
          "end_time": "2020-10-20T06:18:37.104767",
          "exception": false,
          "start_time": "2020-10-20T06:18:36.899442",
          "status": "completed"
        },
        "tags": [],
        "id": "3Vbh-wpEjU1n"
      },
      "source": [
        "In this part, we build three different classifiers that classfies the news as Real or Fake as follows:\n",
        "\n",
        "- 1. The outcome variable is the news category and the features are terms used in the body of the news article.\n",
        "\n",
        "- 2. The outcome variable is the news category and the features are terms used in the title of the news article.\n",
        "\n",
        "- 3. The outcome variable is the news category and the features are combined terms used in the title and body of the news article."
      ]
    },
    {
      "cell_type": "markdown",
      "metadata": {
        "papermill": {
          "duration": 0.208441,
          "end_time": "2020-10-20T06:18:37.517175",
          "exception": false,
          "start_time": "2020-10-20T06:18:37.308734",
          "status": "completed"
        },
        "tags": [],
        "id": "fV23IGXVjU1n"
      },
      "source": [
        "### Fake/Real News Detection Based on News Body"
      ]
    },
    {
      "cell_type": "markdown",
      "metadata": {
        "papermill": {
          "duration": 0.202875,
          "end_time": "2020-10-20T06:18:37.921725",
          "exception": false,
          "start_time": "2020-10-20T06:18:37.718850",
          "status": "completed"
        },
        "tags": [],
        "id": "2xrg8q1_jU1n"
      },
      "source": [
        "#### Splitting Data into Train and Test Datasets "
      ]
    },
    {
      "cell_type": "code",
      "metadata": {
        "execution": {
          "iopub.execute_input": "2020-10-20T06:18:38.337683Z",
          "iopub.status.busy": "2020-10-20T06:18:38.336600Z",
          "iopub.status.idle": "2020-10-20T06:18:38.339946Z",
          "shell.execute_reply": "2020-10-20T06:18:38.339182Z"
        },
        "papermill": {
          "duration": 0.215316,
          "end_time": "2020-10-20T06:18:38.340101",
          "exception": false,
          "start_time": "2020-10-20T06:18:38.124785",
          "status": "completed"
        },
        "tags": [],
        "id": "BZeoGaUFjU1n"
      },
      "source": [
        "X1=df['text']\n",
        "y1=df['news_type']"
      ],
      "execution_count": null,
      "outputs": []
    },
    {
      "cell_type": "code",
      "metadata": {
        "execution": {
          "iopub.execute_input": "2020-10-20T06:18:38.765015Z",
          "iopub.status.busy": "2020-10-20T06:18:38.764003Z",
          "iopub.status.idle": "2020-10-20T06:18:38.768402Z",
          "shell.execute_reply": "2020-10-20T06:18:38.767527Z"
        },
        "papermill": {
          "duration": 0.222579,
          "end_time": "2020-10-20T06:18:38.768550",
          "exception": false,
          "start_time": "2020-10-20T06:18:38.545971",
          "status": "completed"
        },
        "tags": [],
        "id": "1trv6abrjU1o"
      },
      "source": [
        "X1_train, X1_test, y1_train, y1_test = train_test_split(X1, y1, test_size=0.3, random_state=42)"
      ],
      "execution_count": null,
      "outputs": []
    },
    {
      "cell_type": "markdown",
      "metadata": {
        "papermill": {
          "duration": 0.21547,
          "end_time": "2020-10-20T06:18:39.215037",
          "exception": false,
          "start_time": "2020-10-20T06:18:38.999567",
          "status": "completed"
        },
        "tags": [],
        "id": "H4O-TwoSjU1o"
      },
      "source": [
        "#### Random Forest Classifier with Text Preprocessing"
      ]
    },
    {
      "cell_type": "code",
      "metadata": {
        "execution": {
          "iopub.execute_input": "2020-10-20T06:18:39.622702Z",
          "iopub.status.busy": "2020-10-20T06:18:39.621572Z",
          "iopub.status.idle": "2020-10-20T06:18:39.625262Z",
          "shell.execute_reply": "2020-10-20T06:18:39.624494Z"
        },
        "papermill": {
          "duration": 0.207153,
          "end_time": "2020-10-20T06:18:39.625393",
          "exception": false,
          "start_time": "2020-10-20T06:18:39.418240",
          "status": "completed"
        },
        "tags": [],
        "id": "64jMJTwxjU1o"
      },
      "source": [
        "pp=Pipeline([\n",
        "    ('bow',CountVectorizer(analyzer=final)),\n",
        "    ('tfidf',TfidfTransformer()),\n",
        "    ('classifier',RandomForestClassifier())\n",
        "    ])"
      ],
      "execution_count": null,
      "outputs": []
    },
    {
      "cell_type": "code",
      "metadata": {
        "execution": {
          "iopub.execute_input": "2020-10-20T06:18:40.084019Z",
          "iopub.status.busy": "2020-10-20T06:18:40.082793Z",
          "iopub.status.idle": "2020-10-20T06:18:52.027187Z",
          "shell.execute_reply": "2020-10-20T06:18:52.026353Z"
        },
        "papermill": {
          "duration": 12.201168,
          "end_time": "2020-10-20T06:18:52.027367",
          "exception": false,
          "start_time": "2020-10-20T06:18:39.826199",
          "status": "completed"
        },
        "tags": [],
        "id": "px7ACVD_jU1o",
        "outputId": "dd41e2ec-0a24-4c74-d956-dbabd5690a52"
      },
      "source": [
        "pp.fit(X1_train,y1_train)"
      ],
      "execution_count": null,
      "outputs": [
        {
          "output_type": "execute_result",
          "data": {
            "text/plain": [
              "Pipeline(steps=[('bow',\n",
              "                 CountVectorizer(analyzer=<function compose.<locals>.<lambda> at 0x7f3d29231830>)),\n",
              "                ('tfidf', TfidfTransformer()),\n",
              "                ('classifier', RandomForestClassifier())])"
            ]
          },
          "metadata": {
            "tags": []
          },
          "execution_count": 83
        }
      ]
    },
    {
      "cell_type": "code",
      "metadata": {
        "execution": {
          "iopub.execute_input": "2020-10-20T06:18:52.433924Z",
          "iopub.status.busy": "2020-10-20T06:18:52.433031Z",
          "iopub.status.idle": "2020-10-20T06:18:58.462842Z",
          "shell.execute_reply": "2020-10-20T06:18:58.462138Z"
        },
        "papermill": {
          "duration": 6.233325,
          "end_time": "2020-10-20T06:18:58.463048",
          "exception": false,
          "start_time": "2020-10-20T06:18:52.229723",
          "status": "completed"
        },
        "tags": [],
        "id": "ehTok16ijU1o"
      },
      "source": [
        "predictions1=pp.predict(X1_test)"
      ],
      "execution_count": null,
      "outputs": []
    },
    {
      "cell_type": "code",
      "metadata": {
        "execution": {
          "iopub.execute_input": "2020-10-20T06:18:58.871895Z",
          "iopub.status.busy": "2020-10-20T06:18:58.870804Z",
          "iopub.status.idle": "2020-10-20T06:18:58.879765Z",
          "shell.execute_reply": "2020-10-20T06:18:58.880432Z"
        },
        "papermill": {
          "duration": 0.219194,
          "end_time": "2020-10-20T06:18:58.880596",
          "exception": false,
          "start_time": "2020-10-20T06:18:58.661402",
          "status": "completed"
        },
        "tags": [],
        "id": "F5GipZt3jU1p",
        "outputId": "11e19c47-f169-4db9-f384-7ca74016e3d8"
      },
      "source": [
        "print(confusion_matrix(y1_test, predictions1))\n",
        "print('\\n')\n",
        "print(classification_report(y1_test, predictions1))"
      ],
      "execution_count": null,
      "outputs": [
        {
          "output_type": "stream",
          "text": [
            "[[22  4]\n",
            " [ 7 22]]\n",
            "\n",
            "\n",
            "              precision    recall  f1-score   support\n",
            "\n",
            "        Fake       0.76      0.85      0.80        26\n",
            "        Real       0.85      0.76      0.80        29\n",
            "\n",
            "    accuracy                           0.80        55\n",
            "   macro avg       0.80      0.80      0.80        55\n",
            "weighted avg       0.80      0.80      0.80        55\n",
            "\n"
          ],
          "name": "stdout"
        }
      ]
    },
    {
      "cell_type": "markdown",
      "metadata": {
        "papermill": {
          "duration": 0.204534,
          "end_time": "2020-10-20T06:18:59.288187",
          "exception": false,
          "start_time": "2020-10-20T06:18:59.083653",
          "status": "completed"
        },
        "tags": [],
        "id": "i2q28VMjjU1p"
      },
      "source": [
        "The accuracy of Random Forest Classifier on body with preprocessing is only 78% which means that there are only 78% of news in the test dataset that the classifier predicts correctly. To improve accuracy, we train this model on body without preprocessing."
      ]
    },
    {
      "cell_type": "markdown",
      "metadata": {
        "papermill": {
          "duration": 0.200309,
          "end_time": "2020-10-20T06:18:59.688686",
          "exception": false,
          "start_time": "2020-10-20T06:18:59.488377",
          "status": "completed"
        },
        "tags": [],
        "id": "bIvEUBAVjU1p"
      },
      "source": [
        "#### Random Forest Classifier Without Text Preprocessing"
      ]
    },
    {
      "cell_type": "code",
      "metadata": {
        "execution": {
          "iopub.execute_input": "2020-10-20T06:19:00.103794Z",
          "iopub.status.busy": "2020-10-20T06:19:00.102664Z",
          "iopub.status.idle": "2020-10-20T06:19:00.106254Z",
          "shell.execute_reply": "2020-10-20T06:19:00.105479Z"
        },
        "papermill": {
          "duration": 0.216161,
          "end_time": "2020-10-20T06:19:00.106382",
          "exception": false,
          "start_time": "2020-10-20T06:18:59.890221",
          "status": "completed"
        },
        "tags": [],
        "id": "drZe23cFjU1p"
      },
      "source": [
        "pp=Pipeline([\n",
        "    ('bow',CountVectorizer()),\n",
        "    ('tfidf',TfidfTransformer()),\n",
        "    ('classifier',RandomForestClassifier())\n",
        "    ])"
      ],
      "execution_count": null,
      "outputs": []
    },
    {
      "cell_type": "code",
      "metadata": {
        "execution": {
          "iopub.execute_input": "2020-10-20T06:19:00.547437Z",
          "iopub.status.busy": "2020-10-20T06:19:00.542037Z",
          "iopub.status.idle": "2020-10-20T06:19:00.925668Z",
          "shell.execute_reply": "2020-10-20T06:19:00.924934Z"
        },
        "papermill": {
          "duration": 0.611996,
          "end_time": "2020-10-20T06:19:00.925808",
          "exception": false,
          "start_time": "2020-10-20T06:19:00.313812",
          "status": "completed"
        },
        "tags": [],
        "id": "rJBxVWLTjU1p",
        "outputId": "9d576dc9-1eff-45fd-e8e7-1c2294a4c83f"
      },
      "source": [
        "pp.fit(X1_train,y1_train)"
      ],
      "execution_count": null,
      "outputs": [
        {
          "output_type": "execute_result",
          "data": {
            "text/plain": [
              "Pipeline(steps=[('bow', CountVectorizer()), ('tfidf', TfidfTransformer()),\n",
              "                ('classifier', RandomForestClassifier())])"
            ]
          },
          "metadata": {
            "tags": []
          },
          "execution_count": 87
        }
      ]
    },
    {
      "cell_type": "code",
      "metadata": {
        "execution": {
          "iopub.execute_input": "2020-10-20T06:19:01.374754Z",
          "iopub.status.busy": "2020-10-20T06:19:01.363591Z",
          "iopub.status.idle": "2020-10-20T06:19:01.420978Z",
          "shell.execute_reply": "2020-10-20T06:19:01.420179Z"
        },
        "papermill": {
          "duration": 0.273192,
          "end_time": "2020-10-20T06:19:01.421143",
          "exception": false,
          "start_time": "2020-10-20T06:19:01.147951",
          "status": "completed"
        },
        "tags": [],
        "id": "PwHgjgVkjU1p"
      },
      "source": [
        "predictions2=pp.predict(X1_test)"
      ],
      "execution_count": null,
      "outputs": []
    },
    {
      "cell_type": "code",
      "metadata": {
        "execution": {
          "iopub.execute_input": "2020-10-20T06:19:01.844259Z",
          "iopub.status.busy": "2020-10-20T06:19:01.843327Z",
          "iopub.status.idle": "2020-10-20T06:19:01.850783Z",
          "shell.execute_reply": "2020-10-20T06:19:01.850123Z"
        },
        "papermill": {
          "duration": 0.228343,
          "end_time": "2020-10-20T06:19:01.850925",
          "exception": false,
          "start_time": "2020-10-20T06:19:01.622582",
          "status": "completed"
        },
        "tags": [],
        "id": "xRjXMZQ5jU1q",
        "outputId": "5c009064-9a48-4d18-ab4d-68443f451114"
      },
      "source": [
        "print(confusion_matrix(y1_test, predictions2))\n",
        "print('\\n')\n",
        "print(classification_report(y1_test, predictions2))"
      ],
      "execution_count": null,
      "outputs": [
        {
          "output_type": "stream",
          "text": [
            "[[18  8]\n",
            " [ 6 23]]\n",
            "\n",
            "\n",
            "              precision    recall  f1-score   support\n",
            "\n",
            "        Fake       0.75      0.69      0.72        26\n",
            "        Real       0.74      0.79      0.77        29\n",
            "\n",
            "    accuracy                           0.75        55\n",
            "   macro avg       0.75      0.74      0.74        55\n",
            "weighted avg       0.75      0.75      0.74        55\n",
            "\n"
          ],
          "name": "stdout"
        }
      ]
    },
    {
      "cell_type": "markdown",
      "metadata": {
        "papermill": {
          "duration": 0.205663,
          "end_time": "2020-10-20T06:19:02.262255",
          "exception": false,
          "start_time": "2020-10-20T06:19:02.056592",
          "status": "completed"
        },
        "tags": [],
        "id": "HxBZVOq4jU1q"
      },
      "source": [
        "The accuracy of Random Forest Classifier on body without preprocessing is 71%. To improve accuracy we train another model."
      ]
    },
    {
      "cell_type": "markdown",
      "metadata": {
        "papermill": {
          "duration": 0.206529,
          "end_time": "2020-10-20T06:19:02.672703",
          "exception": false,
          "start_time": "2020-10-20T06:19:02.466174",
          "status": "completed"
        },
        "tags": [],
        "id": "giITnfJhjU1q"
      },
      "source": [
        "#### Naive Bayes Classifier with Text Preprocessing"
      ]
    },
    {
      "cell_type": "code",
      "metadata": {
        "execution": {
          "iopub.execute_input": "2020-10-20T06:19:03.090525Z",
          "iopub.status.busy": "2020-10-20T06:19:03.089420Z",
          "iopub.status.idle": "2020-10-20T06:19:03.093140Z",
          "shell.execute_reply": "2020-10-20T06:19:03.092410Z"
        },
        "papermill": {
          "duration": 0.215068,
          "end_time": "2020-10-20T06:19:03.093267",
          "exception": false,
          "start_time": "2020-10-20T06:19:02.878199",
          "status": "completed"
        },
        "tags": [],
        "id": "1QKbpqg8jU1q"
      },
      "source": [
        "pp=Pipeline([\n",
        "    ('bow',CountVectorizer(analyzer=final)),\n",
        "    ('tfidf',TfidfTransformer()),\n",
        "    ('classifier',MultinomialNB())\n",
        "    ])"
      ],
      "execution_count": null,
      "outputs": []
    },
    {
      "cell_type": "code",
      "metadata": {
        "execution": {
          "iopub.execute_input": "2020-10-20T06:19:03.511181Z",
          "iopub.status.busy": "2020-10-20T06:19:03.509937Z",
          "iopub.status.idle": "2020-10-20T06:19:15.142170Z",
          "shell.execute_reply": "2020-10-20T06:19:15.141347Z"
        },
        "papermill": {
          "duration": 11.844985,
          "end_time": "2020-10-20T06:19:15.142309",
          "exception": false,
          "start_time": "2020-10-20T06:19:03.297324",
          "status": "completed"
        },
        "tags": [],
        "id": "xmHGjyOkjU1q",
        "outputId": "2c7e4052-bbb5-4f3c-cda6-ec2886d136be"
      },
      "source": [
        "pp.fit(X1_train,y1_train)"
      ],
      "execution_count": null,
      "outputs": [
        {
          "output_type": "execute_result",
          "data": {
            "text/plain": [
              "Pipeline(steps=[('bow',\n",
              "                 CountVectorizer(analyzer=<function compose.<locals>.<lambda> at 0x7f3d29231830>)),\n",
              "                ('tfidf', TfidfTransformer()),\n",
              "                ('classifier', MultinomialNB())])"
            ]
          },
          "metadata": {
            "tags": []
          },
          "execution_count": 91
        }
      ]
    },
    {
      "cell_type": "code",
      "metadata": {
        "execution": {
          "iopub.execute_input": "2020-10-20T06:19:15.554292Z",
          "iopub.status.busy": "2020-10-20T06:19:15.553153Z",
          "iopub.status.idle": "2020-10-20T06:19:21.708200Z",
          "shell.execute_reply": "2020-10-20T06:19:21.707379Z"
        },
        "papermill": {
          "duration": 6.361678,
          "end_time": "2020-10-20T06:19:21.708333",
          "exception": false,
          "start_time": "2020-10-20T06:19:15.346655",
          "status": "completed"
        },
        "tags": [],
        "id": "BQ7jlS_BjU1r"
      },
      "source": [
        "predictions3=pp.predict(X1_test)"
      ],
      "execution_count": null,
      "outputs": []
    },
    {
      "cell_type": "code",
      "metadata": {
        "execution": {
          "iopub.execute_input": "2020-10-20T06:19:22.126806Z",
          "iopub.status.busy": "2020-10-20T06:19:22.125689Z",
          "iopub.status.idle": "2020-10-20T06:19:22.142501Z",
          "shell.execute_reply": "2020-10-20T06:19:22.141762Z"
        },
        "papermill": {
          "duration": 0.229645,
          "end_time": "2020-10-20T06:19:22.142650",
          "exception": false,
          "start_time": "2020-10-20T06:19:21.913005",
          "status": "completed"
        },
        "tags": [],
        "id": "jB5zN0_cjU1r",
        "outputId": "d18a10f0-b979-411e-8eaf-cd27053d6d25"
      },
      "source": [
        "print(confusion_matrix(y1_test, predictions3))\n",
        "print('\\n')\n",
        "print(classification_report(y1_test, predictions3))"
      ],
      "execution_count": null,
      "outputs": [
        {
          "output_type": "stream",
          "text": [
            "[[22  4]\n",
            " [13 16]]\n",
            "\n",
            "\n",
            "              precision    recall  f1-score   support\n",
            "\n",
            "        Fake       0.63      0.85      0.72        26\n",
            "        Real       0.80      0.55      0.65        29\n",
            "\n",
            "    accuracy                           0.69        55\n",
            "   macro avg       0.71      0.70      0.69        55\n",
            "weighted avg       0.72      0.69      0.69        55\n",
            "\n"
          ],
          "name": "stdout"
        }
      ]
    },
    {
      "cell_type": "markdown",
      "metadata": {
        "papermill": {
          "duration": 0.227805,
          "end_time": "2020-10-20T06:19:22.626631",
          "exception": false,
          "start_time": "2020-10-20T06:19:22.398826",
          "status": "completed"
        },
        "tags": [],
        "id": "0d8-8BqqjU1r"
      },
      "source": [
        "The accuracy of Naive Bayes Classifier on body with preprocessing is 69%. To improve accuracy, we train this model without preprocessing."
      ]
    },
    {
      "cell_type": "markdown",
      "metadata": {
        "papermill": {
          "duration": 0.234242,
          "end_time": "2020-10-20T06:19:23.067296",
          "exception": false,
          "start_time": "2020-10-20T06:19:22.833054",
          "status": "completed"
        },
        "tags": [],
        "id": "mKWB5pt5jU1r"
      },
      "source": [
        "#### Naive Bayes Classifier without Text Preprocessing"
      ]
    },
    {
      "cell_type": "code",
      "metadata": {
        "execution": {
          "iopub.execute_input": "2020-10-20T06:19:23.490268Z",
          "iopub.status.busy": "2020-10-20T06:19:23.489435Z",
          "iopub.status.idle": "2020-10-20T06:19:23.492994Z",
          "shell.execute_reply": "2020-10-20T06:19:23.492227Z"
        },
        "papermill": {
          "duration": 0.214707,
          "end_time": "2020-10-20T06:19:23.493143",
          "exception": false,
          "start_time": "2020-10-20T06:19:23.278436",
          "status": "completed"
        },
        "tags": [],
        "id": "LV-zIO2TjU1r"
      },
      "source": [
        "pp=Pipeline([\n",
        "    ('bow',CountVectorizer()),\n",
        "    ('tfidf',TfidfTransformer()),\n",
        "    ('classifier',MultinomialNB())\n",
        "    ])"
      ],
      "execution_count": null,
      "outputs": []
    },
    {
      "cell_type": "code",
      "metadata": {
        "execution": {
          "iopub.execute_input": "2020-10-20T06:19:23.945409Z",
          "iopub.status.busy": "2020-10-20T06:19:23.934608Z",
          "iopub.status.idle": "2020-10-20T06:19:24.054715Z",
          "shell.execute_reply": "2020-10-20T06:19:24.055395Z"
        },
        "papermill": {
          "duration": 0.35373,
          "end_time": "2020-10-20T06:19:24.055576",
          "exception": false,
          "start_time": "2020-10-20T06:19:23.701846",
          "status": "completed"
        },
        "tags": [],
        "id": "_jows1MZjU1r",
        "outputId": "37535eef-caaa-449a-f556-fd052fa77cfd"
      },
      "source": [
        "pp.fit(X1_train,y1_train)"
      ],
      "execution_count": null,
      "outputs": [
        {
          "output_type": "execute_result",
          "data": {
            "text/plain": [
              "Pipeline(steps=[('bow', CountVectorizer()), ('tfidf', TfidfTransformer()),\n",
              "                ('classifier', MultinomialNB())])"
            ]
          },
          "metadata": {
            "tags": []
          },
          "execution_count": 95
        }
      ]
    },
    {
      "cell_type": "code",
      "metadata": {
        "execution": {
          "iopub.execute_input": "2020-10-20T06:19:24.499066Z",
          "iopub.status.busy": "2020-10-20T06:19:24.483302Z",
          "iopub.status.idle": "2020-10-20T06:19:24.518375Z",
          "shell.execute_reply": "2020-10-20T06:19:24.517647Z"
        },
        "papermill": {
          "duration": 0.257189,
          "end_time": "2020-10-20T06:19:24.518526",
          "exception": false,
          "start_time": "2020-10-20T06:19:24.261337",
          "status": "completed"
        },
        "tags": [],
        "id": "-DwPxBFIjU1s"
      },
      "source": [
        "predictions4=pp.predict(X1_test)"
      ],
      "execution_count": null,
      "outputs": []
    },
    {
      "cell_type": "code",
      "metadata": {
        "execution": {
          "iopub.execute_input": "2020-10-20T06:19:24.943518Z",
          "iopub.status.busy": "2020-10-20T06:19:24.942662Z",
          "iopub.status.idle": "2020-10-20T06:19:24.957583Z",
          "shell.execute_reply": "2020-10-20T06:19:24.956589Z"
        },
        "papermill": {
          "duration": 0.234335,
          "end_time": "2020-10-20T06:19:24.957765",
          "exception": false,
          "start_time": "2020-10-20T06:19:24.723430",
          "status": "completed"
        },
        "tags": [],
        "id": "wSOacPcvjU1s",
        "outputId": "15f1ba0c-1084-4a49-c41c-4be5ed043a3f"
      },
      "source": [
        "print(confusion_matrix(y1_test, predictions4))\n",
        "print('\\n')\n",
        "print(classification_report(y1_test, predictions4))"
      ],
      "execution_count": null,
      "outputs": [
        {
          "output_type": "stream",
          "text": [
            "[[25  1]\n",
            " [17 12]]\n",
            "\n",
            "\n",
            "              precision    recall  f1-score   support\n",
            "\n",
            "        Fake       0.60      0.96      0.74        26\n",
            "        Real       0.92      0.41      0.57        29\n",
            "\n",
            "    accuracy                           0.67        55\n",
            "   macro avg       0.76      0.69      0.65        55\n",
            "weighted avg       0.77      0.67      0.65        55\n",
            "\n"
          ],
          "name": "stdout"
        }
      ]
    },
    {
      "cell_type": "markdown",
      "metadata": {
        "papermill": {
          "duration": 0.208056,
          "end_time": "2020-10-20T06:19:25.382955",
          "exception": false,
          "start_time": "2020-10-20T06:19:25.174899",
          "status": "completed"
        },
        "tags": [],
        "id": "j20uF9t0jU1s"
      },
      "source": [
        "The accuracy of Naive Bayes Classifier decreases to 67% on body without preprocessing.To improve accuracy, we train another model."
      ]
    },
    {
      "cell_type": "markdown",
      "metadata": {
        "papermill": {
          "duration": 0.203679,
          "end_time": "2020-10-20T06:19:25.793617",
          "exception": false,
          "start_time": "2020-10-20T06:19:25.589938",
          "status": "completed"
        },
        "tags": [],
        "id": "I_5WZ9I4jU1s"
      },
      "source": [
        "#### Passive Aggressive Classifier with Text Preprocessing"
      ]
    },
    {
      "cell_type": "code",
      "metadata": {
        "execution": {
          "iopub.execute_input": "2020-10-20T06:19:26.233193Z",
          "iopub.status.busy": "2020-10-20T06:19:26.232130Z",
          "iopub.status.idle": "2020-10-20T06:19:26.236214Z",
          "shell.execute_reply": "2020-10-20T06:19:26.235284Z"
        },
        "papermill": {
          "duration": 0.221927,
          "end_time": "2020-10-20T06:19:26.236366",
          "exception": false,
          "start_time": "2020-10-20T06:19:26.014439",
          "status": "completed"
        },
        "tags": [],
        "id": "nYwQ5l5BjU1s"
      },
      "source": [
        "pp=Pipeline([\n",
        "    ('bow',CountVectorizer(analyzer=final)),\n",
        "    ('tfidf',TfidfTransformer()),\n",
        "    ('classifier',PassiveAggressiveClassifier())\n",
        "    ])"
      ],
      "execution_count": null,
      "outputs": []
    },
    {
      "cell_type": "code",
      "metadata": {
        "execution": {
          "iopub.execute_input": "2020-10-20T06:19:26.661573Z",
          "iopub.status.busy": "2020-10-20T06:19:26.660741Z",
          "iopub.status.idle": "2020-10-20T06:19:38.685922Z",
          "shell.execute_reply": "2020-10-20T06:19:38.685014Z"
        },
        "papermill": {
          "duration": 12.240621,
          "end_time": "2020-10-20T06:19:38.686056",
          "exception": false,
          "start_time": "2020-10-20T06:19:26.445435",
          "status": "completed"
        },
        "tags": [],
        "id": "7c02BvbojU1s",
        "outputId": "f49abc9c-fa25-46fa-f7a5-658965e25d34"
      },
      "source": [
        "pp.fit(X1_train,y1_train)"
      ],
      "execution_count": null,
      "outputs": [
        {
          "output_type": "execute_result",
          "data": {
            "text/plain": [
              "Pipeline(steps=[('bow',\n",
              "                 CountVectorizer(analyzer=<function compose.<locals>.<lambda> at 0x7f3d29231830>)),\n",
              "                ('tfidf', TfidfTransformer()),\n",
              "                ('classifier', PassiveAggressiveClassifier())])"
            ]
          },
          "metadata": {
            "tags": []
          },
          "execution_count": 99
        }
      ]
    },
    {
      "cell_type": "code",
      "metadata": {
        "execution": {
          "iopub.execute_input": "2020-10-20T06:19:39.113508Z",
          "iopub.status.busy": "2020-10-20T06:19:39.112336Z",
          "iopub.status.idle": "2020-10-20T06:19:45.302370Z",
          "shell.execute_reply": "2020-10-20T06:19:45.301611Z"
        },
        "papermill": {
          "duration": 6.409929,
          "end_time": "2020-10-20T06:19:45.302505",
          "exception": false,
          "start_time": "2020-10-20T06:19:38.892576",
          "status": "completed"
        },
        "tags": [],
        "id": "TxdCTKZAjU1t"
      },
      "source": [
        "predictions5=pp.predict(X1_test)"
      ],
      "execution_count": null,
      "outputs": []
    },
    {
      "cell_type": "code",
      "metadata": {
        "execution": {
          "iopub.execute_input": "2020-10-20T06:19:45.729227Z",
          "iopub.status.busy": "2020-10-20T06:19:45.728067Z",
          "iopub.status.idle": "2020-10-20T06:19:45.740385Z",
          "shell.execute_reply": "2020-10-20T06:19:45.739709Z"
        },
        "papermill": {
          "duration": 0.23032,
          "end_time": "2020-10-20T06:19:45.740533",
          "exception": false,
          "start_time": "2020-10-20T06:19:45.510213",
          "status": "completed"
        },
        "tags": [],
        "id": "xz9gKk1SjU1t",
        "outputId": "0c49d310-a378-456a-bc24-60f677b45615"
      },
      "source": [
        "print(confusion_matrix(y1_test, predictions5))\n",
        "print('\\n')\n",
        "print(classification_report(y1_test, predictions5))"
      ],
      "execution_count": null,
      "outputs": [
        {
          "output_type": "stream",
          "text": [
            "[[20  6]\n",
            " [ 8 21]]\n",
            "\n",
            "\n",
            "              precision    recall  f1-score   support\n",
            "\n",
            "        Fake       0.71      0.77      0.74        26\n",
            "        Real       0.78      0.72      0.75        29\n",
            "\n",
            "    accuracy                           0.75        55\n",
            "   macro avg       0.75      0.75      0.75        55\n",
            "weighted avg       0.75      0.75      0.75        55\n",
            "\n"
          ],
          "name": "stdout"
        }
      ]
    },
    {
      "cell_type": "markdown",
      "metadata": {
        "papermill": {
          "duration": 0.207309,
          "end_time": "2020-10-20T06:19:46.159460",
          "exception": false,
          "start_time": "2020-10-20T06:19:45.952151",
          "status": "completed"
        },
        "tags": [],
        "id": "05LKR2ebjU1t"
      },
      "source": [
        "The accuracy of Passive Aggressive Classifier on body with preprocessing is 78%. To improve accuracy, we train this model without preprocessing."
      ]
    },
    {
      "cell_type": "markdown",
      "metadata": {
        "papermill": {
          "duration": 0.204739,
          "end_time": "2020-10-20T06:19:46.571714",
          "exception": false,
          "start_time": "2020-10-20T06:19:46.366975",
          "status": "completed"
        },
        "tags": [],
        "id": "CPh4mJ6wjU1t"
      },
      "source": [
        "#### Passive Aggressive Classifier without Text Preprocessing"
      ]
    },
    {
      "cell_type": "code",
      "metadata": {
        "execution": {
          "iopub.execute_input": "2020-10-20T06:19:46.989333Z",
          "iopub.status.busy": "2020-10-20T06:19:46.988493Z",
          "iopub.status.idle": "2020-10-20T06:19:46.992277Z",
          "shell.execute_reply": "2020-10-20T06:19:46.991667Z"
        },
        "papermill": {
          "duration": 0.214652,
          "end_time": "2020-10-20T06:19:46.992445",
          "exception": false,
          "start_time": "2020-10-20T06:19:46.777793",
          "status": "completed"
        },
        "tags": [],
        "id": "SK7PkPDmjU1t"
      },
      "source": [
        "pp=Pipeline([\n",
        "    ('bow',CountVectorizer()),\n",
        "    ('tfidf',TfidfTransformer()),\n",
        "    ('classifier',PassiveAggressiveClassifier())\n",
        "    ])"
      ],
      "execution_count": null,
      "outputs": []
    },
    {
      "cell_type": "code",
      "metadata": {
        "execution": {
          "iopub.execute_input": "2020-10-20T06:19:47.443013Z",
          "iopub.status.busy": "2020-10-20T06:19:47.437589Z",
          "iopub.status.idle": "2020-10-20T06:19:47.541766Z",
          "shell.execute_reply": "2020-10-20T06:19:47.541039Z"
        },
        "papermill": {
          "duration": 0.341295,
          "end_time": "2020-10-20T06:19:47.541901",
          "exception": false,
          "start_time": "2020-10-20T06:19:47.200606",
          "status": "completed"
        },
        "tags": [],
        "id": "DgwoAXTBjU1u",
        "outputId": "65bfe894-5f46-4f12-b354-38f09e1a6feb"
      },
      "source": [
        "pp.fit(X1_train,y1_train)"
      ],
      "execution_count": null,
      "outputs": [
        {
          "output_type": "execute_result",
          "data": {
            "text/plain": [
              "Pipeline(steps=[('bow', CountVectorizer()), ('tfidf', TfidfTransformer()),\n",
              "                ('classifier', PassiveAggressiveClassifier())])"
            ]
          },
          "metadata": {
            "tags": []
          },
          "execution_count": 103
        }
      ]
    },
    {
      "cell_type": "code",
      "metadata": {
        "execution": {
          "iopub.execute_input": "2020-10-20T06:19:47.971446Z",
          "iopub.status.busy": "2020-10-20T06:19:47.966189Z",
          "iopub.status.idle": "2020-10-20T06:19:48.011933Z",
          "shell.execute_reply": "2020-10-20T06:19:48.011166Z"
        },
        "papermill": {
          "duration": 0.261652,
          "end_time": "2020-10-20T06:19:48.012067",
          "exception": false,
          "start_time": "2020-10-20T06:19:47.750415",
          "status": "completed"
        },
        "tags": [],
        "id": "w4p7q3cbjU1u"
      },
      "source": [
        "predictions6=pp.predict(X1_test)"
      ],
      "execution_count": null,
      "outputs": []
    },
    {
      "cell_type": "code",
      "metadata": {
        "execution": {
          "iopub.execute_input": "2020-10-20T06:19:48.445183Z",
          "iopub.status.busy": "2020-10-20T06:19:48.443984Z",
          "iopub.status.idle": "2020-10-20T06:19:48.458689Z",
          "shell.execute_reply": "2020-10-20T06:19:48.457835Z"
        },
        "papermill": {
          "duration": 0.235374,
          "end_time": "2020-10-20T06:19:48.458822",
          "exception": false,
          "start_time": "2020-10-20T06:19:48.223448",
          "status": "completed"
        },
        "tags": [],
        "id": "LVSZnUaDjU1u",
        "outputId": "81e07d30-f2ea-4e6f-add1-4b23512a5e5f"
      },
      "source": [
        "print(confusion_matrix(y1_test, predictions6))\n",
        "print('\\n')\n",
        "print(classification_report(y1_test, predictions6))"
      ],
      "execution_count": null,
      "outputs": [
        {
          "output_type": "stream",
          "text": [
            "[[21  5]\n",
            " [ 3 26]]\n",
            "\n",
            "\n",
            "              precision    recall  f1-score   support\n",
            "\n",
            "        Fake       0.88      0.81      0.84        26\n",
            "        Real       0.84      0.90      0.87        29\n",
            "\n",
            "    accuracy                           0.85        55\n",
            "   macro avg       0.86      0.85      0.85        55\n",
            "weighted avg       0.86      0.85      0.85        55\n",
            "\n"
          ],
          "name": "stdout"
        }
      ]
    },
    {
      "cell_type": "markdown",
      "metadata": {
        "papermill": {
          "duration": 0.210216,
          "end_time": "2020-10-20T06:19:48.879007",
          "exception": false,
          "start_time": "2020-10-20T06:19:48.668791",
          "status": "completed"
        },
        "tags": [],
        "id": "KYFpKmY_jU1u"
      },
      "source": [
        "The accuracy of Passive Aggressive Classifier increases to 84% on body without preprocessing."
      ]
    },
    {
      "cell_type": "markdown",
      "metadata": {
        "papermill": {
          "duration": 0.21194,
          "end_time": "2020-10-20T06:19:49.299465",
          "exception": false,
          "start_time": "2020-10-20T06:19:49.087525",
          "status": "completed"
        },
        "tags": [],
        "id": "iTgiNWu3jU1u"
      },
      "source": [
        "### Fake/Real News Detection Based on News Title"
      ]
    },
    {
      "cell_type": "markdown",
      "metadata": {
        "papermill": {
          "duration": 0.210994,
          "end_time": "2020-10-20T06:19:49.721658",
          "exception": false,
          "start_time": "2020-10-20T06:19:49.510664",
          "status": "completed"
        },
        "tags": [],
        "id": "3MQjwbwCjU1v"
      },
      "source": [
        "#### Splitting Data into Train and Test Datasets "
      ]
    },
    {
      "cell_type": "code",
      "metadata": {
        "execution": {
          "iopub.execute_input": "2020-10-20T06:19:50.152368Z",
          "iopub.status.busy": "2020-10-20T06:19:50.151186Z",
          "iopub.status.idle": "2020-10-20T06:19:50.154819Z",
          "shell.execute_reply": "2020-10-20T06:19:50.154019Z"
        },
        "papermill": {
          "duration": 0.220681,
          "end_time": "2020-10-20T06:19:50.154950",
          "exception": false,
          "start_time": "2020-10-20T06:19:49.934269",
          "status": "completed"
        },
        "tags": [],
        "id": "iq8l-FlujU1v"
      },
      "source": [
        "X2=df['title']\n",
        "y2=df['news_type']"
      ],
      "execution_count": null,
      "outputs": []
    },
    {
      "cell_type": "code",
      "metadata": {
        "execution": {
          "iopub.execute_input": "2020-10-20T06:19:50.582590Z",
          "iopub.status.busy": "2020-10-20T06:19:50.580723Z",
          "iopub.status.idle": "2020-10-20T06:19:50.586772Z",
          "shell.execute_reply": "2020-10-20T06:19:50.585961Z"
        },
        "papermill": {
          "duration": 0.221527,
          "end_time": "2020-10-20T06:19:50.586903",
          "exception": false,
          "start_time": "2020-10-20T06:19:50.365376",
          "status": "completed"
        },
        "tags": [],
        "id": "1YM1iI7VjU1v"
      },
      "source": [
        "X2_train, X2_test, y2_train, y2_test = train_test_split(X2, y2, test_size=0.3, random_state=42)"
      ],
      "execution_count": null,
      "outputs": []
    },
    {
      "cell_type": "markdown",
      "metadata": {
        "papermill": {
          "duration": 0.210171,
          "end_time": "2020-10-20T06:19:51.006501",
          "exception": false,
          "start_time": "2020-10-20T06:19:50.796330",
          "status": "completed"
        },
        "tags": [],
        "id": "HA2A8oKbjU1v"
      },
      "source": [
        "#### Random Forest Classifier with Text Preprocessing"
      ]
    },
    {
      "cell_type": "code",
      "metadata": {
        "execution": {
          "iopub.execute_input": "2020-10-20T06:19:51.447471Z",
          "iopub.status.busy": "2020-10-20T06:19:51.446350Z",
          "iopub.status.idle": "2020-10-20T06:19:51.449951Z",
          "shell.execute_reply": "2020-10-20T06:19:51.449173Z"
        },
        "papermill": {
          "duration": 0.223913,
          "end_time": "2020-10-20T06:19:51.450104",
          "exception": false,
          "start_time": "2020-10-20T06:19:51.226191",
          "status": "completed"
        },
        "tags": [],
        "id": "JTkiILErjU1v"
      },
      "source": [
        "pp=Pipeline([\n",
        "    ('bow',CountVectorizer(analyzer=final)),\n",
        "    ('tfidf',TfidfTransformer()),\n",
        "    ('classifier',RandomForestClassifier())\n",
        "    ])"
      ],
      "execution_count": null,
      "outputs": []
    },
    {
      "cell_type": "code",
      "metadata": {
        "execution": {
          "iopub.execute_input": "2020-10-20T06:19:51.880318Z",
          "iopub.status.busy": "2020-10-20T06:19:51.879502Z",
          "iopub.status.idle": "2020-10-20T06:19:52.451765Z",
          "shell.execute_reply": "2020-10-20T06:19:52.450957Z"
        },
        "papermill": {
          "duration": 0.789732,
          "end_time": "2020-10-20T06:19:52.451894",
          "exception": false,
          "start_time": "2020-10-20T06:19:51.662162",
          "status": "completed"
        },
        "tags": [],
        "id": "j1Lxo7dJjU1v",
        "outputId": "f78c215d-1f79-4806-e7d7-9a3f8282c1df"
      },
      "source": [
        "pp.fit(X2_train,y2_train)"
      ],
      "execution_count": null,
      "outputs": [
        {
          "output_type": "execute_result",
          "data": {
            "text/plain": [
              "Pipeline(steps=[('bow',\n",
              "                 CountVectorizer(analyzer=<function compose.<locals>.<lambda> at 0x7f3d29231830>)),\n",
              "                ('tfidf', TfidfTransformer()),\n",
              "                ('classifier', RandomForestClassifier())])"
            ]
          },
          "metadata": {
            "tags": []
          },
          "execution_count": 109
        }
      ]
    },
    {
      "cell_type": "code",
      "metadata": {
        "execution": {
          "iopub.execute_input": "2020-10-20T06:19:52.875010Z",
          "iopub.status.busy": "2020-10-20T06:19:52.873795Z",
          "iopub.status.idle": "2020-10-20T06:19:53.024198Z",
          "shell.execute_reply": "2020-10-20T06:19:53.023200Z"
        },
        "papermill": {
          "duration": 0.363406,
          "end_time": "2020-10-20T06:19:53.024345",
          "exception": false,
          "start_time": "2020-10-20T06:19:52.660939",
          "status": "completed"
        },
        "tags": [],
        "id": "zOrwzYSajU1z"
      },
      "source": [
        "predictions7=pp.predict(X2_test)"
      ],
      "execution_count": null,
      "outputs": []
    },
    {
      "cell_type": "code",
      "metadata": {
        "execution": {
          "iopub.execute_input": "2020-10-20T06:19:53.482709Z",
          "iopub.status.busy": "2020-10-20T06:19:53.481556Z",
          "iopub.status.idle": "2020-10-20T06:19:53.487746Z",
          "shell.execute_reply": "2020-10-20T06:19:53.486823Z"
        },
        "papermill": {
          "duration": 0.238697,
          "end_time": "2020-10-20T06:19:53.487921",
          "exception": false,
          "start_time": "2020-10-20T06:19:53.249224",
          "status": "completed"
        },
        "tags": [],
        "id": "bIUqSyEsjU1z",
        "outputId": "0a3ca3a7-55d1-455a-921e-3ff7df178f06"
      },
      "source": [
        "print(confusion_matrix(y2_test, predictions7))\n",
        "print('\\n')\n",
        "print(classification_report(y2_test, predictions7))"
      ],
      "execution_count": null,
      "outputs": [
        {
          "output_type": "stream",
          "text": [
            "[[22  4]\n",
            " [11 18]]\n",
            "\n",
            "\n",
            "              precision    recall  f1-score   support\n",
            "\n",
            "        Fake       0.67      0.85      0.75        26\n",
            "        Real       0.82      0.62      0.71        29\n",
            "\n",
            "    accuracy                           0.73        55\n",
            "   macro avg       0.74      0.73      0.73        55\n",
            "weighted avg       0.75      0.73      0.72        55\n",
            "\n"
          ],
          "name": "stdout"
        }
      ]
    },
    {
      "cell_type": "markdown",
      "metadata": {
        "papermill": {
          "duration": 0.210851,
          "end_time": "2020-10-20T06:19:53.909026",
          "exception": false,
          "start_time": "2020-10-20T06:19:53.698175",
          "status": "completed"
        },
        "tags": [],
        "id": "WqlPxYLWjU10"
      },
      "source": [
        "The accuracy of Random Forest Classifier on title is 62%. To improve accuracy, we train this model without preprocessing."
      ]
    },
    {
      "cell_type": "markdown",
      "metadata": {
        "papermill": {
          "duration": 0.210719,
          "end_time": "2020-10-20T06:19:54.332591",
          "exception": false,
          "start_time": "2020-10-20T06:19:54.121872",
          "status": "completed"
        },
        "tags": [],
        "id": "UzcT-HNQjU10"
      },
      "source": [
        "#### Random Forest Classifier without Text Preprocessing"
      ]
    },
    {
      "cell_type": "code",
      "metadata": {
        "execution": {
          "iopub.execute_input": "2020-10-20T06:19:54.761667Z",
          "iopub.status.busy": "2020-10-20T06:19:54.760590Z",
          "iopub.status.idle": "2020-10-20T06:19:54.763934Z",
          "shell.execute_reply": "2020-10-20T06:19:54.763181Z"
        },
        "papermill": {
          "duration": 0.22103,
          "end_time": "2020-10-20T06:19:54.764060",
          "exception": false,
          "start_time": "2020-10-20T06:19:54.543030",
          "status": "completed"
        },
        "tags": [],
        "id": "p0sFMk0DjU10"
      },
      "source": [
        "pp=Pipeline([\n",
        "    ('bow',CountVectorizer()),\n",
        "    ('tfidf',TfidfTransformer()),\n",
        "    ('classifier',RandomForestClassifier())\n",
        "    ])"
      ],
      "execution_count": null,
      "outputs": []
    },
    {
      "cell_type": "code",
      "metadata": {
        "execution": {
          "iopub.execute_input": "2020-10-20T06:19:55.206729Z",
          "iopub.status.busy": "2020-10-20T06:19:55.205508Z",
          "iopub.status.idle": "2020-10-20T06:19:55.459169Z",
          "shell.execute_reply": "2020-10-20T06:19:55.458482Z"
        },
        "papermill": {
          "duration": 0.474693,
          "end_time": "2020-10-20T06:19:55.459297",
          "exception": false,
          "start_time": "2020-10-20T06:19:54.984604",
          "status": "completed"
        },
        "tags": [],
        "id": "dNlrZK6HjU11",
        "outputId": "c0ae6879-577e-4af0-f3d4-f28741fadb99"
      },
      "source": [
        "pp.fit(X2_train,y2_train)"
      ],
      "execution_count": null,
      "outputs": [
        {
          "output_type": "execute_result",
          "data": {
            "text/plain": [
              "Pipeline(steps=[('bow', CountVectorizer()), ('tfidf', TfidfTransformer()),\n",
              "                ('classifier', RandomForestClassifier())])"
            ]
          },
          "metadata": {
            "tags": []
          },
          "execution_count": 113
        }
      ]
    },
    {
      "cell_type": "code",
      "metadata": {
        "execution": {
          "iopub.execute_input": "2020-10-20T06:19:55.905452Z",
          "iopub.status.busy": "2020-10-20T06:19:55.904489Z",
          "iopub.status.idle": "2020-10-20T06:19:55.932861Z",
          "shell.execute_reply": "2020-10-20T06:19:55.931736Z"
        },
        "papermill": {
          "duration": 0.253848,
          "end_time": "2020-10-20T06:19:55.933110",
          "exception": false,
          "start_time": "2020-10-20T06:19:55.679262",
          "status": "completed"
        },
        "tags": [],
        "id": "ztArIieSjU11"
      },
      "source": [
        "predictions8=pp.predict(X2_test)"
      ],
      "execution_count": null,
      "outputs": []
    },
    {
      "cell_type": "code",
      "metadata": {
        "execution": {
          "iopub.execute_input": "2020-10-20T06:19:56.416670Z",
          "iopub.status.busy": "2020-10-20T06:19:56.413912Z",
          "iopub.status.idle": "2020-10-20T06:19:56.428363Z",
          "shell.execute_reply": "2020-10-20T06:19:56.427652Z"
        },
        "papermill": {
          "duration": 0.24499,
          "end_time": "2020-10-20T06:19:56.428521",
          "exception": false,
          "start_time": "2020-10-20T06:19:56.183531",
          "status": "completed"
        },
        "tags": [],
        "id": "cWCQCDxEjU11",
        "outputId": "ecc0b351-4c44-4ad0-f968-dd87556498c7"
      },
      "source": [
        "print(confusion_matrix(y2_test, predictions8))\n",
        "print('\\n')\n",
        "print(classification_report(y2_test, predictions8))"
      ],
      "execution_count": null,
      "outputs": [
        {
          "output_type": "stream",
          "text": [
            "[[16 10]\n",
            " [10 19]]\n",
            "\n",
            "\n",
            "              precision    recall  f1-score   support\n",
            "\n",
            "        Fake       0.62      0.62      0.62        26\n",
            "        Real       0.66      0.66      0.66        29\n",
            "\n",
            "    accuracy                           0.64        55\n",
            "   macro avg       0.64      0.64      0.64        55\n",
            "weighted avg       0.64      0.64      0.64        55\n",
            "\n"
          ],
          "name": "stdout"
        }
      ]
    },
    {
      "cell_type": "markdown",
      "metadata": {
        "papermill": {
          "duration": 0.21706,
          "end_time": "2020-10-20T06:19:56.859382",
          "exception": false,
          "start_time": "2020-10-20T06:19:56.642322",
          "status": "completed"
        },
        "tags": [],
        "id": "vsSRlTw-jU11"
      },
      "source": [
        "The accuracy of Random Forest Classifier on title is increased to 56% on title without preprocessing.To improve accuracy, we train another model."
      ]
    },
    {
      "cell_type": "markdown",
      "metadata": {
        "papermill": {
          "duration": 0.219442,
          "end_time": "2020-10-20T06:19:57.296219",
          "exception": false,
          "start_time": "2020-10-20T06:19:57.076777",
          "status": "completed"
        },
        "tags": [],
        "id": "sd9cG57ljU12"
      },
      "source": [
        "#### Naive Bayes Classifier with Text Preprocessing"
      ]
    },
    {
      "cell_type": "code",
      "metadata": {
        "execution": {
          "iopub.execute_input": "2020-10-20T06:19:57.741184Z",
          "iopub.status.busy": "2020-10-20T06:19:57.740347Z",
          "iopub.status.idle": "2020-10-20T06:19:57.743190Z",
          "shell.execute_reply": "2020-10-20T06:19:57.743779Z"
        },
        "papermill": {
          "duration": 0.2305,
          "end_time": "2020-10-20T06:19:57.743954",
          "exception": false,
          "start_time": "2020-10-20T06:19:57.513454",
          "status": "completed"
        },
        "tags": [],
        "id": "0A6vTlm6jU12"
      },
      "source": [
        "pp=Pipeline([\n",
        "    ('bow',CountVectorizer(analyzer=final)),\n",
        "    ('tfidf',TfidfTransformer()),\n",
        "    ('classifier',MultinomialNB())\n",
        "    ])"
      ],
      "execution_count": null,
      "outputs": []
    },
    {
      "cell_type": "code",
      "metadata": {
        "execution": {
          "iopub.execute_input": "2020-10-20T06:19:58.202107Z",
          "iopub.status.busy": "2020-10-20T06:19:58.200859Z",
          "iopub.status.idle": "2020-10-20T06:19:58.532383Z",
          "shell.execute_reply": "2020-10-20T06:19:58.531745Z"
        },
        "papermill": {
          "duration": 0.56056,
          "end_time": "2020-10-20T06:19:58.532525",
          "exception": false,
          "start_time": "2020-10-20T06:19:57.971965",
          "status": "completed"
        },
        "tags": [],
        "id": "L31PAbzOjU12",
        "outputId": "9d8bd5f3-0464-4f84-b33f-e65c870f6ec2"
      },
      "source": [
        "pp.fit(X2_train,y2_train)"
      ],
      "execution_count": null,
      "outputs": [
        {
          "output_type": "execute_result",
          "data": {
            "text/plain": [
              "Pipeline(steps=[('bow',\n",
              "                 CountVectorizer(analyzer=<function compose.<locals>.<lambda> at 0x7f3d29231830>)),\n",
              "                ('tfidf', TfidfTransformer()),\n",
              "                ('classifier', MultinomialNB())])"
            ]
          },
          "metadata": {
            "tags": []
          },
          "execution_count": 117
        }
      ]
    },
    {
      "cell_type": "code",
      "metadata": {
        "execution": {
          "iopub.execute_input": "2020-10-20T06:19:58.969939Z",
          "iopub.status.busy": "2020-10-20T06:19:58.968754Z",
          "iopub.status.idle": "2020-10-20T06:19:59.111547Z",
          "shell.execute_reply": "2020-10-20T06:19:59.110682Z"
        },
        "papermill": {
          "duration": 0.362063,
          "end_time": "2020-10-20T06:19:59.111686",
          "exception": false,
          "start_time": "2020-10-20T06:19:58.749623",
          "status": "completed"
        },
        "tags": [],
        "id": "8b5THy_FjU12"
      },
      "source": [
        "predictions9=pp.predict(X2_test)"
      ],
      "execution_count": null,
      "outputs": []
    },
    {
      "cell_type": "code",
      "metadata": {
        "execution": {
          "iopub.execute_input": "2020-10-20T06:19:59.590539Z",
          "iopub.status.busy": "2020-10-20T06:19:59.589340Z",
          "iopub.status.idle": "2020-10-20T06:19:59.602783Z",
          "shell.execute_reply": "2020-10-20T06:19:59.602165Z"
        },
        "papermill": {
          "duration": 0.277368,
          "end_time": "2020-10-20T06:19:59.602915",
          "exception": false,
          "start_time": "2020-10-20T06:19:59.325547",
          "status": "completed"
        },
        "scrolled": true,
        "tags": [],
        "id": "jYr04P6ZjU13",
        "outputId": "656bf6f2-596b-43eb-ccec-b4c1bdbcb6a7"
      },
      "source": [
        "print(confusion_matrix(y2_test, predictions9))\n",
        "print('\\n')\n",
        "print(classification_report(y2_test, predictions9))"
      ],
      "execution_count": null,
      "outputs": [
        {
          "output_type": "stream",
          "text": [
            "[[21  5]\n",
            " [17 12]]\n",
            "\n",
            "\n",
            "              precision    recall  f1-score   support\n",
            "\n",
            "        Fake       0.55      0.81      0.66        26\n",
            "        Real       0.71      0.41      0.52        29\n",
            "\n",
            "    accuracy                           0.60        55\n",
            "   macro avg       0.63      0.61      0.59        55\n",
            "weighted avg       0.63      0.60      0.59        55\n",
            "\n"
          ],
          "name": "stdout"
        }
      ]
    },
    {
      "cell_type": "markdown",
      "metadata": {
        "papermill": {
          "duration": 0.213342,
          "end_time": "2020-10-20T06:20:00.027986",
          "exception": false,
          "start_time": "2020-10-20T06:19:59.814644",
          "status": "completed"
        },
        "tags": [],
        "id": "lT8iPho4jU13"
      },
      "source": [
        "The accuracy of Naive Bayes classifier on title with preprocessing is 60%. To improve accuracy, we train we train this model on title without preprocessing."
      ]
    },
    {
      "cell_type": "markdown",
      "metadata": {
        "papermill": {
          "duration": 0.215124,
          "end_time": "2020-10-20T06:20:00.459850",
          "exception": false,
          "start_time": "2020-10-20T06:20:00.244726",
          "status": "completed"
        },
        "tags": [],
        "id": "pLYXYxRYjU13"
      },
      "source": [
        "#### Naive Bayes Classifier without Text Preprocessing"
      ]
    },
    {
      "cell_type": "code",
      "metadata": {
        "execution": {
          "iopub.execute_input": "2020-10-20T06:20:00.893918Z",
          "iopub.status.busy": "2020-10-20T06:20:00.893026Z",
          "iopub.status.idle": "2020-10-20T06:20:00.897037Z",
          "shell.execute_reply": "2020-10-20T06:20:00.896369Z"
        },
        "papermill": {
          "duration": 0.225094,
          "end_time": "2020-10-20T06:20:00.897229",
          "exception": false,
          "start_time": "2020-10-20T06:20:00.672135",
          "status": "completed"
        },
        "tags": [],
        "id": "-Lv_noVHjU13"
      },
      "source": [
        "pp=Pipeline([\n",
        "    ('bow',CountVectorizer()),\n",
        "    ('tfidf',TfidfTransformer()),\n",
        "    ('classifier',MultinomialNB())\n",
        "    ])"
      ],
      "execution_count": null,
      "outputs": []
    },
    {
      "cell_type": "code",
      "metadata": {
        "execution": {
          "iopub.execute_input": "2020-10-20T06:20:01.343856Z",
          "iopub.status.busy": "2020-10-20T06:20:01.342766Z",
          "iopub.status.idle": "2020-10-20T06:20:01.358953Z",
          "shell.execute_reply": "2020-10-20T06:20:01.358159Z"
        },
        "papermill": {
          "duration": 0.243334,
          "end_time": "2020-10-20T06:20:01.359110",
          "exception": false,
          "start_time": "2020-10-20T06:20:01.115776",
          "status": "completed"
        },
        "tags": [],
        "id": "bz-PR3tPjU14",
        "outputId": "f257f78e-4a60-462a-9c28-b50654284dcd"
      },
      "source": [
        "pp.fit(X2_train,y2_train)"
      ],
      "execution_count": null,
      "outputs": [
        {
          "output_type": "execute_result",
          "data": {
            "text/plain": [
              "Pipeline(steps=[('bow', CountVectorizer()), ('tfidf', TfidfTransformer()),\n",
              "                ('classifier', MultinomialNB())])"
            ]
          },
          "metadata": {
            "tags": []
          },
          "execution_count": 121
        }
      ]
    },
    {
      "cell_type": "code",
      "metadata": {
        "execution": {
          "iopub.execute_input": "2020-10-20T06:20:01.816028Z",
          "iopub.status.busy": "2020-10-20T06:20:01.815070Z",
          "iopub.status.idle": "2020-10-20T06:20:01.818525Z",
          "shell.execute_reply": "2020-10-20T06:20:01.819114Z"
        },
        "papermill": {
          "duration": 0.22785,
          "end_time": "2020-10-20T06:20:01.819299",
          "exception": false,
          "start_time": "2020-10-20T06:20:01.591449",
          "status": "completed"
        },
        "tags": [],
        "id": "XjOT3z0ijU14"
      },
      "source": [
        "predictions10=pp.predict(X2_test)"
      ],
      "execution_count": null,
      "outputs": []
    },
    {
      "cell_type": "code",
      "metadata": {
        "execution": {
          "iopub.execute_input": "2020-10-20T06:20:02.261276Z",
          "iopub.status.busy": "2020-10-20T06:20:02.259222Z",
          "iopub.status.idle": "2020-10-20T06:20:02.274553Z",
          "shell.execute_reply": "2020-10-20T06:20:02.273837Z"
        },
        "papermill": {
          "duration": 0.238032,
          "end_time": "2020-10-20T06:20:02.274692",
          "exception": false,
          "start_time": "2020-10-20T06:20:02.036660",
          "status": "completed"
        },
        "scrolled": true,
        "tags": [],
        "id": "hRzoZgQPjU14",
        "outputId": "39c92036-a1b0-4a22-cd58-c5b7bb2627b3"
      },
      "source": [
        "print(confusion_matrix(y2_test, predictions10))\n",
        "print('\\n')\n",
        "print(classification_report(y2_test, predictions10))"
      ],
      "execution_count": null,
      "outputs": [
        {
          "output_type": "stream",
          "text": [
            "[[22  4]\n",
            " [19 10]]\n",
            "\n",
            "\n",
            "              precision    recall  f1-score   support\n",
            "\n",
            "        Fake       0.54      0.85      0.66        26\n",
            "        Real       0.71      0.34      0.47        29\n",
            "\n",
            "    accuracy                           0.58        55\n",
            "   macro avg       0.63      0.60      0.56        55\n",
            "weighted avg       0.63      0.58      0.56        55\n",
            "\n"
          ],
          "name": "stdout"
        }
      ]
    },
    {
      "cell_type": "markdown",
      "metadata": {
        "papermill": {
          "duration": 0.218043,
          "end_time": "2020-10-20T06:20:02.707726",
          "exception": false,
          "start_time": "2020-10-20T06:20:02.489683",
          "status": "completed"
        },
        "tags": [],
        "id": "eFnf4w48jU14"
      },
      "source": [
        "The accuracy of Naive Bayes Classifier on title is reduced to 58% on title without preprocessing.To improve accuracy, we train another model."
      ]
    },
    {
      "cell_type": "markdown",
      "metadata": {
        "papermill": {
          "duration": 0.223003,
          "end_time": "2020-10-20T06:20:03.145622",
          "exception": false,
          "start_time": "2020-10-20T06:20:02.922619",
          "status": "completed"
        },
        "tags": [],
        "id": "B86vo9zzjU15"
      },
      "source": [
        "#### Passive Aggressive Classifier with Text Preprocessing"
      ]
    },
    {
      "cell_type": "code",
      "metadata": {
        "execution": {
          "iopub.execute_input": "2020-10-20T06:20:03.585258Z",
          "iopub.status.busy": "2020-10-20T06:20:03.584069Z",
          "iopub.status.idle": "2020-10-20T06:20:03.587065Z",
          "shell.execute_reply": "2020-10-20T06:20:03.587659Z"
        },
        "papermill": {
          "duration": 0.226143,
          "end_time": "2020-10-20T06:20:03.587828",
          "exception": false,
          "start_time": "2020-10-20T06:20:03.361685",
          "status": "completed"
        },
        "tags": [],
        "id": "eyuZJV9GjU15"
      },
      "source": [
        "pp=Pipeline([\n",
        "    ('bow',CountVectorizer(analyzer=final)),\n",
        "    ('tfidf',TfidfTransformer()),\n",
        "    ('classifier',PassiveAggressiveClassifier())\n",
        "    ])"
      ],
      "execution_count": null,
      "outputs": []
    },
    {
      "cell_type": "code",
      "metadata": {
        "execution": {
          "iopub.execute_input": "2020-10-20T06:20:04.033890Z",
          "iopub.status.busy": "2020-10-20T06:20:04.032744Z",
          "iopub.status.idle": "2020-10-20T06:20:04.373731Z",
          "shell.execute_reply": "2020-10-20T06:20:04.372903Z"
        },
        "papermill": {
          "duration": 0.567959,
          "end_time": "2020-10-20T06:20:04.373863",
          "exception": false,
          "start_time": "2020-10-20T06:20:03.805904",
          "status": "completed"
        },
        "tags": [],
        "id": "npTm1QnQjU15",
        "outputId": "262a37b5-5971-47ee-feda-abd83f325bc1"
      },
      "source": [
        "pp.fit(X2_train,y2_train)"
      ],
      "execution_count": null,
      "outputs": [
        {
          "output_type": "execute_result",
          "data": {
            "text/plain": [
              "Pipeline(steps=[('bow',\n",
              "                 CountVectorizer(analyzer=<function compose.<locals>.<lambda> at 0x7f3d29231830>)),\n",
              "                ('tfidf', TfidfTransformer()),\n",
              "                ('classifier', PassiveAggressiveClassifier())])"
            ]
          },
          "metadata": {
            "tags": []
          },
          "execution_count": 125
        }
      ]
    },
    {
      "cell_type": "code",
      "metadata": {
        "execution": {
          "iopub.execute_input": "2020-10-20T06:20:04.821148Z",
          "iopub.status.busy": "2020-10-20T06:20:04.820360Z",
          "iopub.status.idle": "2020-10-20T06:20:04.954048Z",
          "shell.execute_reply": "2020-10-20T06:20:04.954669Z"
        },
        "papermill": {
          "duration": 0.35955,
          "end_time": "2020-10-20T06:20:04.954849",
          "exception": false,
          "start_time": "2020-10-20T06:20:04.595299",
          "status": "completed"
        },
        "tags": [],
        "id": "UQB4OPXOjU15"
      },
      "source": [
        "predictions11=pp.predict(X2_test)"
      ],
      "execution_count": null,
      "outputs": []
    },
    {
      "cell_type": "code",
      "metadata": {
        "execution": {
          "iopub.execute_input": "2020-10-20T06:20:05.397567Z",
          "iopub.status.busy": "2020-10-20T06:20:05.395273Z",
          "iopub.status.idle": "2020-10-20T06:20:05.411403Z",
          "shell.execute_reply": "2020-10-20T06:20:05.412055Z"
        },
        "papermill": {
          "duration": 0.237272,
          "end_time": "2020-10-20T06:20:05.412242",
          "exception": false,
          "start_time": "2020-10-20T06:20:05.174970",
          "status": "completed"
        },
        "tags": [],
        "id": "95xphfCajU15",
        "outputId": "b7fccc72-81e3-4969-ffc7-7b609b5d5cef"
      },
      "source": [
        "print(confusion_matrix(y2_test, predictions11))\n",
        "print('\\n')\n",
        "print(classification_report(y2_test, predictions11))"
      ],
      "execution_count": null,
      "outputs": [
        {
          "output_type": "stream",
          "text": [
            "[[20  6]\n",
            " [15 14]]\n",
            "\n",
            "\n",
            "              precision    recall  f1-score   support\n",
            "\n",
            "        Fake       0.57      0.77      0.66        26\n",
            "        Real       0.70      0.48      0.57        29\n",
            "\n",
            "    accuracy                           0.62        55\n",
            "   macro avg       0.64      0.63      0.61        55\n",
            "weighted avg       0.64      0.62      0.61        55\n",
            "\n"
          ],
          "name": "stdout"
        }
      ]
    },
    {
      "cell_type": "markdown",
      "metadata": {
        "papermill": {
          "duration": 0.216061,
          "end_time": "2020-10-20T06:20:05.847591",
          "exception": false,
          "start_time": "2020-10-20T06:20:05.631530",
          "status": "completed"
        },
        "tags": [],
        "id": "DHCt912qjU16"
      },
      "source": [
        "The accuracy of Passive Aggressive Classifier on title with preprocessing is 62%. To improve accuracy, we train this model without preprocessing."
      ]
    },
    {
      "cell_type": "markdown",
      "metadata": {
        "papermill": {
          "duration": 0.220943,
          "end_time": "2020-10-20T06:20:06.301715",
          "exception": false,
          "start_time": "2020-10-20T06:20:06.080772",
          "status": "completed"
        },
        "tags": [],
        "id": "-_hqHYBxjU16"
      },
      "source": [
        "#### Passive Aggressive Classifier without Text Preprocessing"
      ]
    },
    {
      "cell_type": "code",
      "metadata": {
        "execution": {
          "iopub.execute_input": "2020-10-20T06:20:06.744601Z",
          "iopub.status.busy": "2020-10-20T06:20:06.743523Z",
          "iopub.status.idle": "2020-10-20T06:20:06.747040Z",
          "shell.execute_reply": "2020-10-20T06:20:06.746298Z"
        },
        "papermill": {
          "duration": 0.229064,
          "end_time": "2020-10-20T06:20:06.747189",
          "exception": false,
          "start_time": "2020-10-20T06:20:06.518125",
          "status": "completed"
        },
        "tags": [],
        "id": "zsfjj9nQjU16"
      },
      "source": [
        "pp=Pipeline([\n",
        "    ('bow',CountVectorizer()),\n",
        "    ('tfidf',TfidfTransformer()),\n",
        "    ('classifier',PassiveAggressiveClassifier())\n",
        "    ])"
      ],
      "execution_count": null,
      "outputs": []
    },
    {
      "cell_type": "code",
      "metadata": {
        "execution": {
          "iopub.execute_input": "2020-10-20T06:20:07.231582Z",
          "iopub.status.busy": "2020-10-20T06:20:07.229277Z",
          "iopub.status.idle": "2020-10-20T06:20:07.245246Z",
          "shell.execute_reply": "2020-10-20T06:20:07.244593Z"
        },
        "papermill": {
          "duration": 0.259701,
          "end_time": "2020-10-20T06:20:07.245389",
          "exception": false,
          "start_time": "2020-10-20T06:20:06.985688",
          "status": "completed"
        },
        "tags": [],
        "id": "FWPYxyZHjU17",
        "outputId": "9e30aec0-abe2-49be-c778-18c4e470b59f"
      },
      "source": [
        "pp.fit(X2_train,y2_train)"
      ],
      "execution_count": null,
      "outputs": [
        {
          "output_type": "execute_result",
          "data": {
            "text/plain": [
              "Pipeline(steps=[('bow', CountVectorizer()), ('tfidf', TfidfTransformer()),\n",
              "                ('classifier', PassiveAggressiveClassifier())])"
            ]
          },
          "metadata": {
            "tags": []
          },
          "execution_count": 129
        }
      ]
    },
    {
      "cell_type": "code",
      "metadata": {
        "execution": {
          "iopub.execute_input": "2020-10-20T06:20:07.691123Z",
          "iopub.status.busy": "2020-10-20T06:20:07.690326Z",
          "iopub.status.idle": "2020-10-20T06:20:07.694195Z",
          "shell.execute_reply": "2020-10-20T06:20:07.693441Z"
        },
        "papermill": {
          "duration": 0.228259,
          "end_time": "2020-10-20T06:20:07.694321",
          "exception": false,
          "start_time": "2020-10-20T06:20:07.466062",
          "status": "completed"
        },
        "tags": [],
        "id": "yOWC-zv_jU17"
      },
      "source": [
        "predictions12=pp.predict(X2_test)"
      ],
      "execution_count": null,
      "outputs": []
    },
    {
      "cell_type": "code",
      "metadata": {
        "execution": {
          "iopub.execute_input": "2020-10-20T06:20:08.153844Z",
          "iopub.status.busy": "2020-10-20T06:20:08.153059Z",
          "iopub.status.idle": "2020-10-20T06:20:08.165603Z",
          "shell.execute_reply": "2020-10-20T06:20:08.164886Z"
        },
        "papermill": {
          "duration": 0.243316,
          "end_time": "2020-10-20T06:20:08.165736",
          "exception": false,
          "start_time": "2020-10-20T06:20:07.922420",
          "status": "completed"
        },
        "tags": [],
        "id": "AC06QqaTjU17",
        "outputId": "326a60e5-71b0-4d46-8401-b32d2b6bd388"
      },
      "source": [
        "print(confusion_matrix(y2_test, predictions12))\n",
        "print('\\n')\n",
        "print(classification_report(y2_test, predictions12))"
      ],
      "execution_count": null,
      "outputs": [
        {
          "output_type": "stream",
          "text": [
            "[[20  6]\n",
            " [17 12]]\n",
            "\n",
            "\n",
            "              precision    recall  f1-score   support\n",
            "\n",
            "        Fake       0.54      0.77      0.63        26\n",
            "        Real       0.67      0.41      0.51        29\n",
            "\n",
            "    accuracy                           0.58        55\n",
            "   macro avg       0.60      0.59      0.57        55\n",
            "weighted avg       0.61      0.58      0.57        55\n",
            "\n"
          ],
          "name": "stdout"
        }
      ]
    },
    {
      "cell_type": "markdown",
      "metadata": {
        "papermill": {
          "duration": 0.221395,
          "end_time": "2020-10-20T06:20:08.608403",
          "exception": false,
          "start_time": "2020-10-20T06:20:08.387008",
          "status": "completed"
        },
        "tags": [],
        "id": "KvcPMBCSjU17"
      },
      "source": [
        "The accuracy of Passive Aggressive Classifier decreases to 58% on title without preprocessing."
      ]
    },
    {
      "cell_type": "markdown",
      "metadata": {
        "papermill": {
          "duration": 0.218709,
          "end_time": "2020-10-20T06:20:09.045187",
          "exception": false,
          "start_time": "2020-10-20T06:20:08.826478",
          "status": "completed"
        },
        "tags": [],
        "id": "Tl6bA_7ZjU18"
      },
      "source": [
        "### Fake/Real News Detection Based on Both Body and Title of News "
      ]
    },
    {
      "cell_type": "markdown",
      "metadata": {
        "papermill": {
          "duration": 0.219436,
          "end_time": "2020-10-20T06:20:09.489656",
          "exception": false,
          "start_time": "2020-10-20T06:20:09.270220",
          "status": "completed"
        },
        "tags": [],
        "id": "o7Xyzi2MjU18"
      },
      "source": [
        "#### Splitting Data into Train and Test Datasets "
      ]
    },
    {
      "cell_type": "code",
      "metadata": {
        "execution": {
          "iopub.execute_input": "2020-10-20T06:20:09.947444Z",
          "iopub.status.busy": "2020-10-20T06:20:09.946450Z",
          "iopub.status.idle": "2020-10-20T06:20:09.949849Z",
          "shell.execute_reply": "2020-10-20T06:20:09.949033Z"
        },
        "papermill": {
          "duration": 0.237562,
          "end_time": "2020-10-20T06:20:09.949980",
          "exception": false,
          "start_time": "2020-10-20T06:20:09.712418",
          "status": "completed"
        },
        "tags": [],
        "id": "iqU2EMTcjU18"
      },
      "source": [
        "df['title_text']=df['title']+': ' +df['text']"
      ],
      "execution_count": null,
      "outputs": []
    },
    {
      "cell_type": "code",
      "metadata": {
        "execution": {
          "iopub.execute_input": "2020-10-20T06:20:10.405973Z",
          "iopub.status.busy": "2020-10-20T06:20:10.404933Z",
          "iopub.status.idle": "2020-10-20T06:20:10.408688Z",
          "shell.execute_reply": "2020-10-20T06:20:10.407894Z"
        },
        "papermill": {
          "duration": 0.2313,
          "end_time": "2020-10-20T06:20:10.408817",
          "exception": false,
          "start_time": "2020-10-20T06:20:10.177517",
          "status": "completed"
        },
        "tags": [],
        "id": "bJ_EkToTjU18"
      },
      "source": [
        "X3=df['title_text']\n",
        "y3=df['news_type']"
      ],
      "execution_count": null,
      "outputs": []
    },
    {
      "cell_type": "code",
      "metadata": {
        "execution": {
          "iopub.execute_input": "2020-10-20T06:20:10.866446Z",
          "iopub.status.busy": "2020-10-20T06:20:10.865019Z",
          "iopub.status.idle": "2020-10-20T06:20:10.871064Z",
          "shell.execute_reply": "2020-10-20T06:20:10.870389Z"
        },
        "papermill": {
          "duration": 0.231996,
          "end_time": "2020-10-20T06:20:10.871250",
          "exception": false,
          "start_time": "2020-10-20T06:20:10.639254",
          "status": "completed"
        },
        "tags": [],
        "id": "xBbWnSe4jU18"
      },
      "source": [
        "X3_train, X3_test, y3_train, y3_test = train_test_split(X3, y3, test_size=0.3, random_state=42)"
      ],
      "execution_count": null,
      "outputs": []
    },
    {
      "cell_type": "markdown",
      "metadata": {
        "papermill": {
          "duration": 0.224968,
          "end_time": "2020-10-20T06:20:11.324297",
          "exception": false,
          "start_time": "2020-10-20T06:20:11.099329",
          "status": "completed"
        },
        "tags": [],
        "id": "Mlh6VOk5jU18"
      },
      "source": [
        "#### Random Forest Classifier with Text Preprocessing"
      ]
    },
    {
      "cell_type": "code",
      "metadata": {
        "execution": {
          "iopub.execute_input": "2020-10-20T06:20:11.791754Z",
          "iopub.status.busy": "2020-10-20T06:20:11.790903Z",
          "iopub.status.idle": "2020-10-20T06:20:11.794172Z",
          "shell.execute_reply": "2020-10-20T06:20:11.793383Z"
        },
        "papermill": {
          "duration": 0.244786,
          "end_time": "2020-10-20T06:20:11.794308",
          "exception": false,
          "start_time": "2020-10-20T06:20:11.549522",
          "status": "completed"
        },
        "tags": [],
        "id": "k_Mvt0-GjU19"
      },
      "source": [
        "pp=Pipeline([\n",
        "    ('bow',CountVectorizer(analyzer=final)),\n",
        "    ('tfidf',TfidfTransformer()),\n",
        "    ('classifier',RandomForestClassifier())\n",
        "    ])"
      ],
      "execution_count": null,
      "outputs": []
    },
    {
      "cell_type": "code",
      "metadata": {
        "execution": {
          "iopub.execute_input": "2020-10-20T06:20:12.258014Z",
          "iopub.status.busy": "2020-10-20T06:20:12.257241Z",
          "iopub.status.idle": "2020-10-20T06:20:24.783274Z",
          "shell.execute_reply": "2020-10-20T06:20:24.782118Z"
        },
        "papermill": {
          "duration": 12.758052,
          "end_time": "2020-10-20T06:20:24.783429",
          "exception": false,
          "start_time": "2020-10-20T06:20:12.025377",
          "status": "completed"
        },
        "tags": [],
        "id": "3F3LWBK4jU1-",
        "outputId": "73498175-6592-409e-f345-1a4bba8f76a2"
      },
      "source": [
        "pp.fit(X3_train,y3_train)"
      ],
      "execution_count": null,
      "outputs": [
        {
          "output_type": "execute_result",
          "data": {
            "text/plain": [
              "Pipeline(steps=[('bow',\n",
              "                 CountVectorizer(analyzer=<function compose.<locals>.<lambda> at 0x7f3d29231830>)),\n",
              "                ('tfidf', TfidfTransformer()),\n",
              "                ('classifier', RandomForestClassifier())])"
            ]
          },
          "metadata": {
            "tags": []
          },
          "execution_count": 136
        }
      ]
    },
    {
      "cell_type": "code",
      "metadata": {
        "execution": {
          "iopub.execute_input": "2020-10-20T06:20:25.246047Z",
          "iopub.status.busy": "2020-10-20T06:20:25.245213Z",
          "iopub.status.idle": "2020-10-20T06:20:31.847435Z",
          "shell.execute_reply": "2020-10-20T06:20:31.846751Z"
        },
        "papermill": {
          "duration": 6.839976,
          "end_time": "2020-10-20T06:20:31.847572",
          "exception": false,
          "start_time": "2020-10-20T06:20:25.007596",
          "status": "completed"
        },
        "tags": [],
        "id": "vY-lFu7djU1-"
      },
      "source": [
        "predictions13=pp.predict(X3_test)"
      ],
      "execution_count": null,
      "outputs": []
    },
    {
      "cell_type": "code",
      "metadata": {
        "execution": {
          "iopub.execute_input": "2020-10-20T06:20:32.320159Z",
          "iopub.status.busy": "2020-10-20T06:20:32.317735Z",
          "iopub.status.idle": "2020-10-20T06:20:32.332695Z",
          "shell.execute_reply": "2020-10-20T06:20:32.330957Z"
        },
        "papermill": {
          "duration": 0.262042,
          "end_time": "2020-10-20T06:20:32.332898",
          "exception": false,
          "start_time": "2020-10-20T06:20:32.070856",
          "status": "completed"
        },
        "tags": [],
        "id": "HaD5U-QMjU1-",
        "outputId": "84f807bf-a05d-443d-8c32-71bfc4fbd91c"
      },
      "source": [
        "print(confusion_matrix(y3_test, predictions13))\n",
        "print('\\n')\n",
        "print(classification_report(y3_test, predictions13))"
      ],
      "execution_count": null,
      "outputs": [
        {
          "output_type": "stream",
          "text": [
            "[[18  8]\n",
            " [ 5 24]]\n",
            "\n",
            "\n",
            "              precision    recall  f1-score   support\n",
            "\n",
            "        Fake       0.78      0.69      0.73        26\n",
            "        Real       0.75      0.83      0.79        29\n",
            "\n",
            "    accuracy                           0.76        55\n",
            "   macro avg       0.77      0.76      0.76        55\n",
            "weighted avg       0.77      0.76      0.76        55\n",
            "\n"
          ],
          "name": "stdout"
        }
      ]
    },
    {
      "cell_type": "markdown",
      "metadata": {
        "papermill": {
          "duration": 0.225403,
          "end_time": "2020-10-20T06:20:32.792348",
          "exception": false,
          "start_time": "2020-10-20T06:20:32.566945",
          "status": "completed"
        },
        "tags": [],
        "id": "oZl2qRTpjU1-"
      },
      "source": [
        "The accuracy of Random Forest Classifier on the mixture of title and body is 75%. To improve accuracy, we train this model on the mixture of title and body without preprocessing."
      ]
    },
    {
      "cell_type": "markdown",
      "metadata": {
        "papermill": {
          "duration": 0.225719,
          "end_time": "2020-10-20T06:20:33.242994",
          "exception": false,
          "start_time": "2020-10-20T06:20:33.017275",
          "status": "completed"
        },
        "tags": [],
        "id": "TTYBLflijU1-"
      },
      "source": [
        "#### Random Forest Classifier without Text Preprocessing"
      ]
    },
    {
      "cell_type": "code",
      "metadata": {
        "execution": {
          "iopub.execute_input": "2020-10-20T06:20:33.698322Z",
          "iopub.status.busy": "2020-10-20T06:20:33.697472Z",
          "iopub.status.idle": "2020-10-20T06:20:33.700336Z",
          "shell.execute_reply": "2020-10-20T06:20:33.700901Z"
        },
        "papermill": {
          "duration": 0.233594,
          "end_time": "2020-10-20T06:20:33.701107",
          "exception": false,
          "start_time": "2020-10-20T06:20:33.467513",
          "status": "completed"
        },
        "tags": [],
        "id": "XXPA4KvmjU1_"
      },
      "source": [
        "pp=Pipeline([\n",
        "    ('bow',CountVectorizer()),\n",
        "    ('tfidf',TfidfTransformer()),\n",
        "    ('classifier',RandomForestClassifier())\n",
        "    ])"
      ],
      "execution_count": null,
      "outputs": []
    },
    {
      "cell_type": "code",
      "metadata": {
        "execution": {
          "iopub.execute_input": "2020-10-20T06:20:34.201304Z",
          "iopub.status.busy": "2020-10-20T06:20:34.168260Z",
          "iopub.status.idle": "2020-10-20T06:20:34.559256Z",
          "shell.execute_reply": "2020-10-20T06:20:34.558597Z"
        },
        "papermill": {
          "duration": 0.630219,
          "end_time": "2020-10-20T06:20:34.559393",
          "exception": false,
          "start_time": "2020-10-20T06:20:33.929174",
          "status": "completed"
        },
        "tags": [],
        "id": "XXN4ERXxjU1_",
        "outputId": "58244639-0097-44e3-d71a-923637dd4096"
      },
      "source": [
        "pp.fit(X3_train,y3_train)"
      ],
      "execution_count": null,
      "outputs": [
        {
          "output_type": "execute_result",
          "data": {
            "text/plain": [
              "Pipeline(steps=[('bow', CountVectorizer()), ('tfidf', TfidfTransformer()),\n",
              "                ('classifier', RandomForestClassifier())])"
            ]
          },
          "metadata": {
            "tags": []
          },
          "execution_count": 140
        }
      ]
    },
    {
      "cell_type": "code",
      "metadata": {
        "execution": {
          "iopub.execute_input": "2020-10-20T06:20:35.052689Z",
          "iopub.status.busy": "2020-10-20T06:20:35.044602Z",
          "iopub.status.idle": "2020-10-20T06:20:35.075547Z",
          "shell.execute_reply": "2020-10-20T06:20:35.074728Z"
        },
        "papermill": {
          "duration": 0.293998,
          "end_time": "2020-10-20T06:20:35.075677",
          "exception": false,
          "start_time": "2020-10-20T06:20:34.781679",
          "status": "completed"
        },
        "tags": [],
        "id": "3USqB8NFjU1_"
      },
      "source": [
        "predictions14=pp.predict(X3_test)"
      ],
      "execution_count": null,
      "outputs": []
    },
    {
      "cell_type": "code",
      "metadata": {
        "execution": {
          "iopub.execute_input": "2020-10-20T06:20:35.534566Z",
          "iopub.status.busy": "2020-10-20T06:20:35.533427Z",
          "iopub.status.idle": "2020-10-20T06:20:35.545263Z",
          "shell.execute_reply": "2020-10-20T06:20:35.546249Z"
        },
        "papermill": {
          "duration": 0.24488,
          "end_time": "2020-10-20T06:20:35.546487",
          "exception": false,
          "start_time": "2020-10-20T06:20:35.301607",
          "status": "completed"
        },
        "tags": [],
        "id": "vBw94xp8jU1_",
        "outputId": "16c776f3-6dd3-4884-e0e7-2bd29f6fe0ce"
      },
      "source": [
        "print(confusion_matrix(y3_test, predictions14))\n",
        "print('\\n')\n",
        "print(classification_report(y3_test, predictions14))"
      ],
      "execution_count": null,
      "outputs": [
        {
          "output_type": "stream",
          "text": [
            "[[19  7]\n",
            " [ 6 23]]\n",
            "\n",
            "\n",
            "              precision    recall  f1-score   support\n",
            "\n",
            "        Fake       0.76      0.73      0.75        26\n",
            "        Real       0.77      0.79      0.78        29\n",
            "\n",
            "    accuracy                           0.76        55\n",
            "   macro avg       0.76      0.76      0.76        55\n",
            "weighted avg       0.76      0.76      0.76        55\n",
            "\n"
          ],
          "name": "stdout"
        }
      ]
    },
    {
      "cell_type": "markdown",
      "metadata": {
        "papermill": {
          "duration": 0.22773,
          "end_time": "2020-10-20T06:20:35.996954",
          "exception": false,
          "start_time": "2020-10-20T06:20:35.769224",
          "status": "completed"
        },
        "tags": [],
        "id": "roxbRZZPjU1_"
      },
      "source": [
        "The accuracy of Random Forest Classifier on the mixture of title and body without preprocessing is 75%. To improve accuracy, we train another model."
      ]
    },
    {
      "cell_type": "markdown",
      "metadata": {
        "papermill": {
          "duration": 0.273742,
          "end_time": "2020-10-20T06:20:36.496996",
          "exception": false,
          "start_time": "2020-10-20T06:20:36.223254",
          "status": "completed"
        },
        "tags": [],
        "id": "xrfbj386jU1_"
      },
      "source": [
        "#### Naive Bayes Classifier with Text Preprocessing"
      ]
    },
    {
      "cell_type": "code",
      "metadata": {
        "execution": {
          "iopub.execute_input": "2020-10-20T06:20:36.950394Z",
          "iopub.status.busy": "2020-10-20T06:20:36.949342Z",
          "iopub.status.idle": "2020-10-20T06:20:36.952113Z",
          "shell.execute_reply": "2020-10-20T06:20:36.952715Z"
        },
        "papermill": {
          "duration": 0.234428,
          "end_time": "2020-10-20T06:20:36.952883",
          "exception": false,
          "start_time": "2020-10-20T06:20:36.718455",
          "status": "completed"
        },
        "tags": [],
        "id": "Bo37oAh8jU2A"
      },
      "source": [
        "pp=Pipeline([\n",
        "    ('bow',CountVectorizer(analyzer=final)),\n",
        "    ('tfidf',TfidfTransformer()),\n",
        "    ('classifier',MultinomialNB())\n",
        "    ])"
      ],
      "execution_count": null,
      "outputs": []
    },
    {
      "cell_type": "code",
      "metadata": {
        "execution": {
          "iopub.execute_input": "2020-10-20T06:20:37.412961Z",
          "iopub.status.busy": "2020-10-20T06:20:37.412040Z",
          "iopub.status.idle": "2020-10-20T06:20:49.855333Z",
          "shell.execute_reply": "2020-10-20T06:20:49.854625Z"
        },
        "papermill": {
          "duration": 12.680542,
          "end_time": "2020-10-20T06:20:49.855481",
          "exception": false,
          "start_time": "2020-10-20T06:20:37.174939",
          "status": "completed"
        },
        "tags": [],
        "id": "tekyBkY4jU2A",
        "outputId": "4d1ea730-b40d-48e1-e3e9-da0ab9c977bd"
      },
      "source": [
        "pp.fit(X3_train,y3_train)"
      ],
      "execution_count": null,
      "outputs": [
        {
          "output_type": "execute_result",
          "data": {
            "text/plain": [
              "Pipeline(steps=[('bow',\n",
              "                 CountVectorizer(analyzer=<function compose.<locals>.<lambda> at 0x7f3d29231830>)),\n",
              "                ('tfidf', TfidfTransformer()),\n",
              "                ('classifier', MultinomialNB())])"
            ]
          },
          "metadata": {
            "tags": []
          },
          "execution_count": 144
        }
      ]
    },
    {
      "cell_type": "code",
      "metadata": {
        "execution": {
          "iopub.execute_input": "2020-10-20T06:20:50.334568Z",
          "iopub.status.busy": "2020-10-20T06:20:50.333697Z",
          "iopub.status.idle": "2020-10-20T06:20:56.847560Z",
          "shell.execute_reply": "2020-10-20T06:20:56.846719Z"
        },
        "papermill": {
          "duration": 6.757335,
          "end_time": "2020-10-20T06:20:56.847693",
          "exception": false,
          "start_time": "2020-10-20T06:20:50.090358",
          "status": "completed"
        },
        "tags": [],
        "id": "XxsQ2WeKjU2A"
      },
      "source": [
        "predictions15=pp.predict(X3_test)"
      ],
      "execution_count": null,
      "outputs": []
    },
    {
      "cell_type": "code",
      "metadata": {
        "execution": {
          "iopub.execute_input": "2020-10-20T06:20:57.343603Z",
          "iopub.status.busy": "2020-10-20T06:20:57.342769Z",
          "iopub.status.idle": "2020-10-20T06:20:57.357031Z",
          "shell.execute_reply": "2020-10-20T06:20:57.355976Z"
        },
        "papermill": {
          "duration": 0.262264,
          "end_time": "2020-10-20T06:20:57.357267",
          "exception": false,
          "start_time": "2020-10-20T06:20:57.095003",
          "status": "completed"
        },
        "tags": [],
        "id": "AG-rXkKHjU2A",
        "outputId": "477d6c37-6966-4dc8-cb4b-504ec21034b9"
      },
      "source": [
        "print(confusion_matrix(y3_test, predictions15))\n",
        "print('\\n')\n",
        "print(classification_report(y3_test, predictions15))"
      ],
      "execution_count": null,
      "outputs": [
        {
          "output_type": "stream",
          "text": [
            "[[22  4]\n",
            " [15 14]]\n",
            "\n",
            "\n",
            "              precision    recall  f1-score   support\n",
            "\n",
            "        Fake       0.59      0.85      0.70        26\n",
            "        Real       0.78      0.48      0.60        29\n",
            "\n",
            "    accuracy                           0.65        55\n",
            "   macro avg       0.69      0.66      0.65        55\n",
            "weighted avg       0.69      0.65      0.64        55\n",
            "\n"
          ],
          "name": "stdout"
        }
      ]
    },
    {
      "cell_type": "markdown",
      "metadata": {
        "papermill": {
          "duration": 0.234544,
          "end_time": "2020-10-20T06:20:57.831326",
          "exception": false,
          "start_time": "2020-10-20T06:20:57.596782",
          "status": "completed"
        },
        "tags": [],
        "id": "vuEGQ3hbjU2B"
      },
      "source": [
        "The accuracy of Naive Bayes classifier on the mixture of title and body is 65%. To improve accuracy, we train this model on the mixture of title and body without preprocessing."
      ]
    },
    {
      "cell_type": "markdown",
      "metadata": {
        "papermill": {
          "duration": 0.234534,
          "end_time": "2020-10-20T06:20:58.305862",
          "exception": false,
          "start_time": "2020-10-20T06:20:58.071328",
          "status": "completed"
        },
        "tags": [],
        "id": "HDae85_pjU2B"
      },
      "source": [
        "#### Naive Bayes Classifier without Text Preprocessing"
      ]
    },
    {
      "cell_type": "code",
      "metadata": {
        "execution": {
          "iopub.execute_input": "2020-10-20T06:20:58.772935Z",
          "iopub.status.busy": "2020-10-20T06:20:58.771786Z",
          "iopub.status.idle": "2020-10-20T06:20:58.775362Z",
          "shell.execute_reply": "2020-10-20T06:20:58.774579Z"
        },
        "papermill": {
          "duration": 0.243417,
          "end_time": "2020-10-20T06:20:58.775493",
          "exception": false,
          "start_time": "2020-10-20T06:20:58.532076",
          "status": "completed"
        },
        "tags": [],
        "id": "JLqkTVfTjU2B"
      },
      "source": [
        "pp=Pipeline([\n",
        "    ('bow',CountVectorizer()),\n",
        "    ('tfidf',TfidfTransformer()),\n",
        "    ('classifier',MultinomialNB())\n",
        "    ])"
      ],
      "execution_count": null,
      "outputs": []
    },
    {
      "cell_type": "code",
      "metadata": {
        "execution": {
          "iopub.execute_input": "2020-10-20T06:20:59.271814Z",
          "iopub.status.busy": "2020-10-20T06:20:59.266505Z",
          "iopub.status.idle": "2020-10-20T06:20:59.365942Z",
          "shell.execute_reply": "2020-10-20T06:20:59.365178Z"
        },
        "papermill": {
          "duration": 0.366891,
          "end_time": "2020-10-20T06:20:59.366069",
          "exception": false,
          "start_time": "2020-10-20T06:20:58.999178",
          "status": "completed"
        },
        "tags": [],
        "id": "tmKLUGJNjU2B",
        "outputId": "142234a5-7de3-4f93-e541-bc8db2956c86"
      },
      "source": [
        "pp.fit(X3_train,y3_train)"
      ],
      "execution_count": null,
      "outputs": [
        {
          "output_type": "execute_result",
          "data": {
            "text/plain": [
              "Pipeline(steps=[('bow', CountVectorizer()), ('tfidf', TfidfTransformer()),\n",
              "                ('classifier', MultinomialNB())])"
            ]
          },
          "metadata": {
            "tags": []
          },
          "execution_count": 148
        }
      ]
    },
    {
      "cell_type": "code",
      "metadata": {
        "execution": {
          "iopub.execute_input": "2020-10-20T06:20:59.887111Z",
          "iopub.status.busy": "2020-10-20T06:20:59.852690Z",
          "iopub.status.idle": "2020-10-20T06:20:59.894288Z",
          "shell.execute_reply": "2020-10-20T06:20:59.893469Z"
        },
        "papermill": {
          "duration": 0.293974,
          "end_time": "2020-10-20T06:20:59.894431",
          "exception": false,
          "start_time": "2020-10-20T06:20:59.600457",
          "status": "completed"
        },
        "tags": [],
        "id": "lSkqz73gjU2C"
      },
      "source": [
        "predictions16=pp.predict(X3_test)"
      ],
      "execution_count": null,
      "outputs": []
    },
    {
      "cell_type": "code",
      "metadata": {
        "execution": {
          "iopub.execute_input": "2020-10-20T06:21:00.370235Z",
          "iopub.status.busy": "2020-10-20T06:21:00.367744Z",
          "iopub.status.idle": "2020-10-20T06:21:00.382277Z",
          "shell.execute_reply": "2020-10-20T06:21:00.382965Z"
        },
        "papermill": {
          "duration": 0.251408,
          "end_time": "2020-10-20T06:21:00.383207",
          "exception": false,
          "start_time": "2020-10-20T06:21:00.131799",
          "status": "completed"
        },
        "tags": [],
        "id": "qpFqTXsvjU2C",
        "outputId": "775933d9-c381-4020-919a-f46a03fd80a2"
      },
      "source": [
        "print(confusion_matrix(y3_test, predictions16))\n",
        "print('\\n')\n",
        "print(classification_report(y3_test, predictions16))"
      ],
      "execution_count": null,
      "outputs": [
        {
          "output_type": "stream",
          "text": [
            "[[25  1]\n",
            " [19 10]]\n",
            "\n",
            "\n",
            "              precision    recall  f1-score   support\n",
            "\n",
            "        Fake       0.57      0.96      0.71        26\n",
            "        Real       0.91      0.34      0.50        29\n",
            "\n",
            "    accuracy                           0.64        55\n",
            "   macro avg       0.74      0.65      0.61        55\n",
            "weighted avg       0.75      0.64      0.60        55\n",
            "\n"
          ],
          "name": "stdout"
        }
      ]
    },
    {
      "cell_type": "markdown",
      "metadata": {
        "papermill": {
          "duration": 0.234882,
          "end_time": "2020-10-20T06:21:00.852933",
          "exception": false,
          "start_time": "2020-10-20T06:21:00.618051",
          "status": "completed"
        },
        "tags": [],
        "id": "uSsay5o1jU2C"
      },
      "source": [
        "The accuracy of Naive Bayes Classifier is reduced to 64% on the mixture of title and body without preprocessing.To improve accuracy, we train another model."
      ]
    },
    {
      "cell_type": "markdown",
      "metadata": {
        "papermill": {
          "duration": 0.230767,
          "end_time": "2020-10-20T06:21:01.326355",
          "exception": false,
          "start_time": "2020-10-20T06:21:01.095588",
          "status": "completed"
        },
        "tags": [],
        "id": "pAxUD4PBjU2C"
      },
      "source": [
        "#### Passive Aggressive Classifier withText Preprocessing"
      ]
    },
    {
      "cell_type": "code",
      "metadata": {
        "execution": {
          "iopub.execute_input": "2020-10-20T06:21:01.789209Z",
          "iopub.status.busy": "2020-10-20T06:21:01.788430Z",
          "iopub.status.idle": "2020-10-20T06:21:01.791831Z",
          "shell.execute_reply": "2020-10-20T06:21:01.791036Z"
        },
        "papermill": {
          "duration": 0.238456,
          "end_time": "2020-10-20T06:21:01.791962",
          "exception": false,
          "start_time": "2020-10-20T06:21:01.553506",
          "status": "completed"
        },
        "tags": [],
        "id": "xUnfUPb0jU2C"
      },
      "source": [
        "pp=Pipeline([\n",
        "    ('bow',CountVectorizer(analyzer=final)),\n",
        "    ('tfidf',TfidfTransformer()),\n",
        "    ('classifier',PassiveAggressiveClassifier())\n",
        "    ])"
      ],
      "execution_count": null,
      "outputs": []
    },
    {
      "cell_type": "code",
      "metadata": {
        "execution": {
          "iopub.execute_input": "2020-10-20T06:21:02.293074Z",
          "iopub.status.busy": "2020-10-20T06:21:02.291792Z",
          "iopub.status.idle": "2020-10-20T06:21:14.429957Z",
          "shell.execute_reply": "2020-10-20T06:21:14.428974Z"
        },
        "papermill": {
          "duration": 12.38701,
          "end_time": "2020-10-20T06:21:14.430134",
          "exception": false,
          "start_time": "2020-10-20T06:21:02.043124",
          "status": "completed"
        },
        "tags": [],
        "id": "BddfYfGFjU2D",
        "outputId": "8e46fc0c-3a65-42d0-dc4d-a53b9af5f6d1"
      },
      "source": [
        "pp.fit(X3_train,y3_train)"
      ],
      "execution_count": null,
      "outputs": [
        {
          "output_type": "execute_result",
          "data": {
            "text/plain": [
              "Pipeline(steps=[('bow',\n",
              "                 CountVectorizer(analyzer=<function compose.<locals>.<lambda> at 0x7f3d29231830>)),\n",
              "                ('tfidf', TfidfTransformer()),\n",
              "                ('classifier', PassiveAggressiveClassifier())])"
            ]
          },
          "metadata": {
            "tags": []
          },
          "execution_count": 152
        }
      ]
    },
    {
      "cell_type": "code",
      "metadata": {
        "execution": {
          "iopub.execute_input": "2020-10-20T06:21:14.898827Z",
          "iopub.status.busy": "2020-10-20T06:21:14.897586Z",
          "iopub.status.idle": "2020-10-20T06:21:21.315180Z",
          "shell.execute_reply": "2020-10-20T06:21:21.313994Z"
        },
        "papermill": {
          "duration": 6.651506,
          "end_time": "2020-10-20T06:21:21.315334",
          "exception": false,
          "start_time": "2020-10-20T06:21:14.663828",
          "status": "completed"
        },
        "tags": [],
        "id": "FV9geBbCjU2D"
      },
      "source": [
        "predictions17=pp.predict(X3_test)"
      ],
      "execution_count": null,
      "outputs": []
    },
    {
      "cell_type": "code",
      "metadata": {
        "execution": {
          "iopub.execute_input": "2020-10-20T06:21:21.802464Z",
          "iopub.status.busy": "2020-10-20T06:21:21.801066Z",
          "iopub.status.idle": "2020-10-20T06:21:21.815458Z",
          "shell.execute_reply": "2020-10-20T06:21:21.814269Z"
        },
        "papermill": {
          "duration": 0.261488,
          "end_time": "2020-10-20T06:21:21.815659",
          "exception": false,
          "start_time": "2020-10-20T06:21:21.554171",
          "status": "completed"
        },
        "scrolled": true,
        "tags": [],
        "id": "bM5ksV_HjU2D",
        "outputId": "29962441-f423-4bc4-ff4a-2e80429ce8d8"
      },
      "source": [
        "print(confusion_matrix(y3_test, predictions17))\n",
        "print('\\n')\n",
        "print(classification_report(y3_test, predictions17))"
      ],
      "execution_count": null,
      "outputs": [
        {
          "output_type": "stream",
          "text": [
            "[[21  5]\n",
            " [10 19]]\n",
            "\n",
            "\n",
            "              precision    recall  f1-score   support\n",
            "\n",
            "        Fake       0.68      0.81      0.74        26\n",
            "        Real       0.79      0.66      0.72        29\n",
            "\n",
            "    accuracy                           0.73        55\n",
            "   macro avg       0.73      0.73      0.73        55\n",
            "weighted avg       0.74      0.73      0.73        55\n",
            "\n"
          ],
          "name": "stdout"
        }
      ]
    },
    {
      "cell_type": "markdown",
      "metadata": {
        "papermill": {
          "duration": 0.261448,
          "end_time": "2020-10-20T06:21:22.319569",
          "exception": false,
          "start_time": "2020-10-20T06:21:22.058121",
          "status": "completed"
        },
        "tags": [],
        "id": "puBLoNIBjU2D"
      },
      "source": [
        "The accuracy of Passive Aggressive Classifier on the mixture of title and body with preprocessing is 76%. To improve accuracy, we train this model without preprocessing."
      ]
    },
    {
      "cell_type": "markdown",
      "metadata": {
        "papermill": {
          "duration": 0.240155,
          "end_time": "2020-10-20T06:21:22.828969",
          "exception": false,
          "start_time": "2020-10-20T06:21:22.588814",
          "status": "completed"
        },
        "tags": [],
        "id": "hS8YOOGPjU2D"
      },
      "source": [
        "#### Passive Aggressive Classifier without Text Preprocessing"
      ]
    },
    {
      "cell_type": "code",
      "metadata": {
        "execution": {
          "iopub.execute_input": "2020-10-20T06:21:23.329067Z",
          "iopub.status.busy": "2020-10-20T06:21:23.327871Z",
          "iopub.status.idle": "2020-10-20T06:21:23.331870Z",
          "shell.execute_reply": "2020-10-20T06:21:23.331071Z"
        },
        "papermill": {
          "duration": 0.264713,
          "end_time": "2020-10-20T06:21:23.332012",
          "exception": false,
          "start_time": "2020-10-20T06:21:23.067299",
          "status": "completed"
        },
        "tags": [],
        "id": "xOLje9ugjU2E"
      },
      "source": [
        "pp=Pipeline([\n",
        "    ('bow',CountVectorizer()),\n",
        "    ('tfidf',TfidfTransformer()),\n",
        "    ('classifier',PassiveAggressiveClassifier())\n",
        "    ])"
      ],
      "execution_count": null,
      "outputs": []
    },
    {
      "cell_type": "code",
      "metadata": {
        "execution": {
          "iopub.execute_input": "2020-10-20T06:21:23.852639Z",
          "iopub.status.busy": "2020-10-20T06:21:23.835851Z",
          "iopub.status.idle": "2020-10-20T06:21:23.959073Z",
          "shell.execute_reply": "2020-10-20T06:21:23.959842Z"
        },
        "papermill": {
          "duration": 0.392793,
          "end_time": "2020-10-20T06:21:23.960051",
          "exception": false,
          "start_time": "2020-10-20T06:21:23.567258",
          "status": "completed"
        },
        "tags": [],
        "id": "yR1aWXcDjU2E",
        "outputId": "af73087e-ce1e-4c8a-edc2-aab27e4be698"
      },
      "source": [
        "pp.fit(X3_train,y3_train)"
      ],
      "execution_count": null,
      "outputs": [
        {
          "output_type": "execute_result",
          "data": {
            "text/plain": [
              "Pipeline(steps=[('bow', CountVectorizer()), ('tfidf', TfidfTransformer()),\n",
              "                ('classifier', PassiveAggressiveClassifier())])"
            ]
          },
          "metadata": {
            "tags": []
          },
          "execution_count": 156
        }
      ]
    },
    {
      "cell_type": "code",
      "metadata": {
        "execution": {
          "iopub.execute_input": "2020-10-20T06:21:24.506133Z",
          "iopub.status.busy": "2020-10-20T06:21:24.495006Z",
          "iopub.status.idle": "2020-10-20T06:21:24.542261Z",
          "shell.execute_reply": "2020-10-20T06:21:24.541445Z"
        },
        "papermill": {
          "duration": 0.330063,
          "end_time": "2020-10-20T06:21:24.542408",
          "exception": false,
          "start_time": "2020-10-20T06:21:24.212345",
          "status": "completed"
        },
        "tags": [],
        "id": "0exxSQxxjU2E"
      },
      "source": [
        "predictions18=pp.predict(X3_test)"
      ],
      "execution_count": null,
      "outputs": []
    },
    {
      "cell_type": "code",
      "metadata": {
        "execution": {
          "iopub.execute_input": "2020-10-20T06:21:25.056160Z",
          "iopub.status.busy": "2020-10-20T06:21:25.054955Z",
          "iopub.status.idle": "2020-10-20T06:21:25.069683Z",
          "shell.execute_reply": "2020-10-20T06:21:25.067482Z"
        },
        "papermill": {
          "duration": 0.277342,
          "end_time": "2020-10-20T06:21:25.070054",
          "exception": false,
          "start_time": "2020-10-20T06:21:24.792712",
          "status": "completed"
        },
        "tags": [],
        "id": "EtheMWDZjU2E",
        "outputId": "eee88c3a-1df6-4817-97c1-0d3dd20bbae0"
      },
      "source": [
        "print(confusion_matrix(y3_test, predictions18))\n",
        "print('\\n')\n",
        "print(classification_report(y3_test, predictions18))"
      ],
      "execution_count": null,
      "outputs": [
        {
          "output_type": "stream",
          "text": [
            "[[23  3]\n",
            " [ 5 24]]\n",
            "\n",
            "\n",
            "              precision    recall  f1-score   support\n",
            "\n",
            "        Fake       0.82      0.88      0.85        26\n",
            "        Real       0.89      0.83      0.86        29\n",
            "\n",
            "    accuracy                           0.85        55\n",
            "   macro avg       0.86      0.86      0.85        55\n",
            "weighted avg       0.86      0.85      0.85        55\n",
            "\n"
          ],
          "name": "stdout"
        }
      ]
    },
    {
      "cell_type": "markdown",
      "metadata": {
        "papermill": {
          "duration": 0.242381,
          "end_time": "2020-10-20T06:21:25.558959",
          "exception": false,
          "start_time": "2020-10-20T06:21:25.316578",
          "status": "completed"
        },
        "tags": [],
        "id": "yBKSIaoTjU2E"
      },
      "source": [
        "**The accuracy of Passive Aggressive Classifier increases to 87% on the mixture of title and body without preprocessing.**"
      ]
    },
    {
      "cell_type": "code",
      "metadata": {
        "execution": {
          "iopub.execute_input": "2020-10-20T06:21:26.052739Z",
          "iopub.status.busy": "2020-10-20T06:21:26.051900Z",
          "iopub.status.idle": "2020-10-20T06:21:26.090594Z",
          "shell.execute_reply": "2020-10-20T06:21:26.089859Z"
        },
        "papermill": {
          "duration": 0.291555,
          "end_time": "2020-10-20T06:21:26.090763",
          "exception": false,
          "start_time": "2020-10-20T06:21:25.799208",
          "status": "completed"
        },
        "tags": [],
        "id": "PhScZnr6jU2E",
        "outputId": "433de833-0bef-420f-f719-3dc22042a354"
      },
      "source": [
        "print('Text_Random Forest Classifier_With Text Preprocessing: ', round(100*accuracy_score(y1_test,predictions1)))\n",
        "print('Text_Random Forest Classifier_Without Text Preprocessing: ', round(100*accuracy_score(y1_test,predictions2)))\n",
        "print('Text_Naive Bayes Classifier_With Text Preprocessing: ', round(100*accuracy_score(y1_test,predictions3)))\n",
        "print('Text_Naive Bayes Classifier_Without Text Preprocessing: ', round(100*accuracy_score(y1_test,predictions4)))\n",
        "print('Text_Passive Aggressive Classifier_With Text Preprocessing: ', round(100*accuracy_score(y1_test,predictions5)))\n",
        "print('Text_Passive Aggressive Classifier_Without Text Preprocessing: ', round(100*accuracy_score(y1_test,predictions6)))\n",
        "print('\\n')\n",
        "print('Title_Random Forest Classifier_With Text Preprocessing: ', round(100*accuracy_score(y2_test,predictions7)))\n",
        "print('Title_Random Forest Classifier_Without Text Preprocessing: ', round(100*accuracy_score(y2_test,predictions8)))\n",
        "print('Title_Naive Bayes Classifier_With Text Preprocessing: ', round(100*accuracy_score(y2_test,predictions9)))\n",
        "print('Title_Naive Bayes Classifier_Without Text Preprocessing: ', round(100*accuracy_score(y2_test,predictions10)))\n",
        "print('Title_Passive Aggressive Classifier_With Text Preprocessing: ', round(100*accuracy_score(y2_test,predictions11)))\n",
        "print('Title_Passive Aggressive Classifier_Without Text Preprocessing: ', round(100*accuracy_score(y2_test,predictions12)))\n",
        "print('\\n')\n",
        "print('Text&Title_Random Forest Classifier_With Text Preprocessing: ', round(100*accuracy_score(y3_test,predictions13)))\n",
        "print('Text&Title_Random Forest Classifier_Without Text Preprocessing: ', round(100*accuracy_score(y3_test,predictions14)))\n",
        "print('Text&Title_Naive Bayes Classifier_With Text Preprocessing: ', round(100*accuracy_score(y3_test,predictions15)))\n",
        "print('Text&Title_Naive Bayes Classifier_Without Text Preprocessing: ', round(100*accuracy_score(y3_test,predictions16)))\n",
        "print('Text&Title_Passive Aggressive Classifier_With Text Preprocessing: ', round(100*accuracy_score(y3_test,predictions17)))\n",
        "print('Text&Title_Passive Aggressive Classifier_Without Text Preprocessing: ', round(100*accuracy_score(y3_test,predictions18)))"
      ],
      "execution_count": null,
      "outputs": [
        {
          "output_type": "stream",
          "text": [
            "Text_Random Forest Classifier_With Text Preprocessing:  80.0\n",
            "Text_Random Forest Classifier_Without Text Preprocessing:  75.0\n",
            "Text_Naive Bayes Classifier_With Text Preprocessing:  69.0\n",
            "Text_Naive Bayes Classifier_Without Text Preprocessing:  67.0\n",
            "Text_Passive Aggressive Classifier_With Text Preprocessing:  75.0\n",
            "Text_Passive Aggressive Classifier_Without Text Preprocessing:  85.0\n",
            "\n",
            "\n",
            "Title_Random Forest Classifier_With Text Preprocessing:  73.0\n",
            "Title_Random Forest Classifier_Without Text Preprocessing:  64.0\n",
            "Title_Naive Bayes Classifier_With Text Preprocessing:  60.0\n",
            "Title_Naive Bayes Classifier_Without Text Preprocessing:  58.0\n",
            "Title_Passive Aggressive Classifier_With Text Preprocessing:  62.0\n",
            "Title_Passive Aggressive Classifier_Without Text Preprocessing:  58.0\n",
            "\n",
            "\n",
            "Text&Title_Random Forest Classifier_With Text Preprocessing:  76.0\n",
            "Text&Title_Random Forest Classifier_Without Text Preprocessing:  76.0\n",
            "Text&Title_Naive Bayes Classifier_With Text Preprocessing:  65.0\n",
            "Text&Title_Naive Bayes Classifier_Without Text Preprocessing:  64.0\n",
            "Text&Title_Passive Aggressive Classifier_With Text Preprocessing:  73.0\n",
            "Text&Title_Passive Aggressive Classifier_Without Text Preprocessing:  85.0\n"
          ],
          "name": "stdout"
        }
      ]
    },
    {
      "cell_type": "markdown",
      "metadata": {
        "papermill": {
          "duration": 0.247859,
          "end_time": "2020-10-20T06:21:26.610661",
          "exception": false,
          "start_time": "2020-10-20T06:21:26.362802",
          "status": "completed"
        },
        "tags": [],
        "id": "G8skRyUTjU2F"
      },
      "source": [
        "* We observe that 87% accuracy is obtained on the test dataset for Passive Aggressive Classifier on combined (body & title) feature matrix without text preprocessing. As 84% accuracy is obtained on the test dataset for Passive Aggressive Classifier on text feature without text preprocessing, it seems that combining titles with body improves the accuracy of the model to 87%. Regarding the preprocessing, it should be mentioned that although some phrases and bigrams should be cleaned and preprocessed, removing stop words and stemming might not be a good idea in this specific dataset as we might loose some langauge information.Therefore, we conclude that Passive Aggressive model on the combined feature matrix without text preprocessing is the best classifcation model in our analysis that can categorize the real and fake news with maximum accuracy."
      ]
    },
    {
      "cell_type": "markdown",
      "metadata": {
        "papermill": {
          "duration": 0.254292,
          "end_time": "2020-10-20T06:21:27.108161",
          "exception": false,
          "start_time": "2020-10-20T06:21:26.853869",
          "status": "completed"
        },
        "tags": [],
        "id": "FK5TK4tUjU2F"
      },
      "source": [
        "## Conclusion"
      ]
    },
    {
      "cell_type": "markdown",
      "metadata": {
        "papermill": {
          "duration": 0.247401,
          "end_time": "2020-10-20T06:21:27.597426",
          "exception": false,
          "start_time": "2020-10-20T06:21:27.350025",
          "status": "completed"
        },
        "tags": [],
        "id": "oQ1mayzMjU2F"
      },
      "source": [
        "Analyzing text data is more challenging than numeric data. In this project, the following tasks were preformed:\n",
        "\n",
        "* We performed detailed exploratory data analysis on the real and fake news dataset. We generated multiple plots of all variables for both news categories.\n",
        "\n",
        "* We determined the most frequent words included in the title or body of the fake news and real news.\n",
        "\n",
        "* We trained binary classifiers that classify fake news and real news on the basis of words in the title, body, or both title and body of the news articles. We used three different classifiers including Random Forest Classifier, Naive-Bayes Classifier and passive Aggressive Classifier. Passive Aggressive was the best model for this analysis on the combined feature matrix without text preprocessing which predicted fake and reals news with 87% accuracy."
      ]
    }
  ]
}