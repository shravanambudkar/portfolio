{
 "cells": [
  {
   "cell_type": "code",
   "execution_count": 1,
   "metadata": {
    "_cell_guid": "b1076dfc-b9ad-4769-8c92-a6c4dae69d19",
    "_uuid": "8f2839f25d086af736a60e9eeb907d3b93b6e0e5",
    "execution": {
     "iopub.execute_input": "2021-04-21T17:47:25.021822Z",
     "iopub.status.busy": "2021-04-21T17:47:25.021106Z",
     "iopub.status.idle": "2021-04-21T17:47:25.036308Z",
     "shell.execute_reply": "2021-04-21T17:47:25.036954Z"
    },
    "papermill": {
     "duration": 0.065741,
     "end_time": "2021-04-21T17:47:25.037299",
     "exception": false,
     "start_time": "2021-04-21T17:47:24.971558",
     "status": "completed"
    },
    "tags": []
   },
   "outputs": [
    {
     "name": "stdout",
     "output_type": "stream",
     "text": [
      "/kaggle/input/netflix-shows/netflix_titles.csv\n"
     ]
    }
   ],
   "source": [
    "# This Python 3 environment comes with many helpful analytics libraries installed\n",
    "# It is defined by the kaggle/python Docker image: https://github.com/kaggle/docker-python\n",
    "# For example, here's several helpful packages to load\n",
    "\n",
    "import numpy as np # linear algebra\n",
    "import pandas as pd # data processing, CSV file I/O (e.g. pd.read_csv)\n",
    "\n",
    "# Input data files are available in the read-only \"../input/\" directory\n",
    "# For example, running this (by clicking run or pressing Shift+Enter) will list all files under the input directory\n",
    "\n",
    "import os\n",
    "for dirname, _, filenames in os.walk('/kaggle/input'):\n",
    "    for filename in filenames:\n",
    "        print(os.path.join(dirname, filename))\n",
    "\n",
    "# You can write up to 20GB to the current directory (/kaggle/working/) that gets preserved as output when you create a version using \"Save & Run All\" \n",
    "# You can also write temporary files to /kaggle/temp/, but they won't be saved outside of the current session"
   ]
  },
  {
   "cell_type": "code",
   "execution_count": 2,
   "metadata": {
    "execution": {
     "iopub.execute_input": "2021-04-21T17:47:25.123190Z",
     "iopub.status.busy": "2021-04-21T17:47:25.122262Z",
     "iopub.status.idle": "2021-04-21T17:47:26.037317Z",
     "shell.execute_reply": "2021-04-21T17:47:26.035644Z"
    },
    "papermill": {
     "duration": 0.958609,
     "end_time": "2021-04-21T17:47:26.037505",
     "exception": false,
     "start_time": "2021-04-21T17:47:25.078896",
     "status": "completed"
    },
    "tags": []
   },
   "outputs": [],
   "source": [
    "import pandas as pd\n",
    "import numpy as np\n",
    "import matplotlib.pyplot as plt\n",
    "%matplotlib inline\n",
    "\n",
    "import seaborn as sns\n",
    "import missingno\n",
    "import warnings\n",
    "warnings.filterwarnings(\"ignore\")\n",
    "\n",
    "import itertools\n",
    "from collections import Counter\n",
    "\n",
    "# set default plotting parameter\n",
    "sns.set_theme(\"paper\", \"darkgrid\")\n",
    "plt.rc(\"axes\", titlesize=18)\n",
    "plt.rc(\"axes\", titleweight=\"bold\")\n",
    "plt.rc(\"axes\", labelsize=13)"
   ]
  },
  {
   "cell_type": "markdown",
   "metadata": {
    "papermill": {
     "duration": 0.04166,
     "end_time": "2021-04-21T17:47:26.127217",
     "exception": false,
     "start_time": "2021-04-21T17:47:26.085557",
     "status": "completed"
    },
    "tags": []
   },
   "source": [
    "# Load & explore data"
   ]
  },
  {
   "cell_type": "code",
   "execution_count": 3,
   "metadata": {
    "execution": {
     "iopub.execute_input": "2021-04-21T17:47:26.213520Z",
     "iopub.status.busy": "2021-04-21T17:47:26.212776Z",
     "iopub.status.idle": "2021-04-21T17:47:26.396184Z",
     "shell.execute_reply": "2021-04-21T17:47:26.396685Z"
    },
    "papermill": {
     "duration": 0.229061,
     "end_time": "2021-04-21T17:47:26.396862",
     "exception": false,
     "start_time": "2021-04-21T17:47:26.167801",
     "status": "completed"
    },
    "tags": []
   },
   "outputs": [
    {
     "data": {
      "text/html": [
       "<div>\n",
       "<style scoped>\n",
       "    .dataframe tbody tr th:only-of-type {\n",
       "        vertical-align: middle;\n",
       "    }\n",
       "\n",
       "    .dataframe tbody tr th {\n",
       "        vertical-align: top;\n",
       "    }\n",
       "\n",
       "    .dataframe thead th {\n",
       "        text-align: right;\n",
       "    }\n",
       "</style>\n",
       "<table border=\"1\" class=\"dataframe\">\n",
       "  <thead>\n",
       "    <tr style=\"text-align: right;\">\n",
       "      <th></th>\n",
       "      <th>show_id</th>\n",
       "      <th>type</th>\n",
       "      <th>title</th>\n",
       "      <th>director</th>\n",
       "      <th>cast</th>\n",
       "      <th>country</th>\n",
       "      <th>date_added</th>\n",
       "      <th>release_year</th>\n",
       "      <th>rating</th>\n",
       "      <th>duration</th>\n",
       "      <th>listed_in</th>\n",
       "      <th>description</th>\n",
       "    </tr>\n",
       "  </thead>\n",
       "  <tbody>\n",
       "    <tr>\n",
       "      <th>0</th>\n",
       "      <td>s1</td>\n",
       "      <td>TV Show</td>\n",
       "      <td>3%</td>\n",
       "      <td>NaN</td>\n",
       "      <td>João Miguel, Bianca Comparato, Michel Gomes, R...</td>\n",
       "      <td>Brazil</td>\n",
       "      <td>August 14, 2020</td>\n",
       "      <td>2020</td>\n",
       "      <td>TV-MA</td>\n",
       "      <td>4 Seasons</td>\n",
       "      <td>International TV Shows, TV Dramas, TV Sci-Fi &amp;...</td>\n",
       "      <td>In a future where the elite inhabit an island ...</td>\n",
       "    </tr>\n",
       "    <tr>\n",
       "      <th>1</th>\n",
       "      <td>s2</td>\n",
       "      <td>Movie</td>\n",
       "      <td>7:19</td>\n",
       "      <td>Jorge Michel Grau</td>\n",
       "      <td>Demián Bichir, Héctor Bonilla, Oscar Serrano, ...</td>\n",
       "      <td>Mexico</td>\n",
       "      <td>December 23, 2016</td>\n",
       "      <td>2016</td>\n",
       "      <td>TV-MA</td>\n",
       "      <td>93 min</td>\n",
       "      <td>Dramas, International Movies</td>\n",
       "      <td>After a devastating earthquake hits Mexico Cit...</td>\n",
       "    </tr>\n",
       "    <tr>\n",
       "      <th>2</th>\n",
       "      <td>s3</td>\n",
       "      <td>Movie</td>\n",
       "      <td>23:59</td>\n",
       "      <td>Gilbert Chan</td>\n",
       "      <td>Tedd Chan, Stella Chung, Henley Hii, Lawrence ...</td>\n",
       "      <td>Singapore</td>\n",
       "      <td>December 20, 2018</td>\n",
       "      <td>2011</td>\n",
       "      <td>R</td>\n",
       "      <td>78 min</td>\n",
       "      <td>Horror Movies, International Movies</td>\n",
       "      <td>When an army recruit is found dead, his fellow...</td>\n",
       "    </tr>\n",
       "    <tr>\n",
       "      <th>3</th>\n",
       "      <td>s4</td>\n",
       "      <td>Movie</td>\n",
       "      <td>9</td>\n",
       "      <td>Shane Acker</td>\n",
       "      <td>Elijah Wood, John C. Reilly, Jennifer Connelly...</td>\n",
       "      <td>United States</td>\n",
       "      <td>November 16, 2017</td>\n",
       "      <td>2009</td>\n",
       "      <td>PG-13</td>\n",
       "      <td>80 min</td>\n",
       "      <td>Action &amp; Adventure, Independent Movies, Sci-Fi...</td>\n",
       "      <td>In a postapocalyptic world, rag-doll robots hi...</td>\n",
       "    </tr>\n",
       "    <tr>\n",
       "      <th>4</th>\n",
       "      <td>s5</td>\n",
       "      <td>Movie</td>\n",
       "      <td>21</td>\n",
       "      <td>Robert Luketic</td>\n",
       "      <td>Jim Sturgess, Kevin Spacey, Kate Bosworth, Aar...</td>\n",
       "      <td>United States</td>\n",
       "      <td>January 1, 2020</td>\n",
       "      <td>2008</td>\n",
       "      <td>PG-13</td>\n",
       "      <td>123 min</td>\n",
       "      <td>Dramas</td>\n",
       "      <td>A brilliant group of students become card-coun...</td>\n",
       "    </tr>\n",
       "  </tbody>\n",
       "</table>\n",
       "</div>"
      ],
      "text/plain": [
       "  show_id     type  title           director  \\\n",
       "0      s1  TV Show     3%                NaN   \n",
       "1      s2    Movie   7:19  Jorge Michel Grau   \n",
       "2      s3    Movie  23:59       Gilbert Chan   \n",
       "3      s4    Movie      9        Shane Acker   \n",
       "4      s5    Movie     21     Robert Luketic   \n",
       "\n",
       "                                                cast        country  \\\n",
       "0  João Miguel, Bianca Comparato, Michel Gomes, R...         Brazil   \n",
       "1  Demián Bichir, Héctor Bonilla, Oscar Serrano, ...         Mexico   \n",
       "2  Tedd Chan, Stella Chung, Henley Hii, Lawrence ...      Singapore   \n",
       "3  Elijah Wood, John C. Reilly, Jennifer Connelly...  United States   \n",
       "4  Jim Sturgess, Kevin Spacey, Kate Bosworth, Aar...  United States   \n",
       "\n",
       "          date_added  release_year rating   duration  \\\n",
       "0    August 14, 2020          2020  TV-MA  4 Seasons   \n",
       "1  December 23, 2016          2016  TV-MA     93 min   \n",
       "2  December 20, 2018          2011      R     78 min   \n",
       "3  November 16, 2017          2009  PG-13     80 min   \n",
       "4    January 1, 2020          2008  PG-13    123 min   \n",
       "\n",
       "                                           listed_in  \\\n",
       "0  International TV Shows, TV Dramas, TV Sci-Fi &...   \n",
       "1                       Dramas, International Movies   \n",
       "2                Horror Movies, International Movies   \n",
       "3  Action & Adventure, Independent Movies, Sci-Fi...   \n",
       "4                                             Dramas   \n",
       "\n",
       "                                         description  \n",
       "0  In a future where the elite inhabit an island ...  \n",
       "1  After a devastating earthquake hits Mexico Cit...  \n",
       "2  When an army recruit is found dead, his fellow...  \n",
       "3  In a postapocalyptic world, rag-doll robots hi...  \n",
       "4  A brilliant group of students become card-coun...  "
      ]
     },
     "execution_count": 3,
     "metadata": {},
     "output_type": "execute_result"
    }
   ],
   "source": [
    "df = pd.read_csv('/kaggle/input/netflix-shows/netflix_titles.csv')\n",
    "df.head()"
   ]
  },
  {
   "cell_type": "code",
   "execution_count": 4,
   "metadata": {
    "execution": {
     "iopub.execute_input": "2021-04-21T17:47:26.485719Z",
     "iopub.status.busy": "2021-04-21T17:47:26.484793Z",
     "iopub.status.idle": "2021-04-21T17:47:26.489781Z",
     "shell.execute_reply": "2021-04-21T17:47:26.489165Z"
    },
    "papermill": {
     "duration": 0.051563,
     "end_time": "2021-04-21T17:47:26.489922",
     "exception": false,
     "start_time": "2021-04-21T17:47:26.438359",
     "status": "completed"
    },
    "tags": []
   },
   "outputs": [
    {
     "data": {
      "text/plain": [
       "(7787, 12)"
      ]
     },
     "execution_count": 4,
     "metadata": {},
     "output_type": "execute_result"
    }
   ],
   "source": [
    "df.shape"
   ]
  },
  {
   "cell_type": "code",
   "execution_count": 5,
   "metadata": {
    "execution": {
     "iopub.execute_input": "2021-04-21T17:47:26.585620Z",
     "iopub.status.busy": "2021-04-21T17:47:26.584621Z",
     "iopub.status.idle": "2021-04-21T17:47:26.595531Z",
     "shell.execute_reply": "2021-04-21T17:47:26.596079Z"
    },
    "papermill": {
     "duration": 0.061695,
     "end_time": "2021-04-21T17:47:26.596248",
     "exception": false,
     "start_time": "2021-04-21T17:47:26.534553",
     "status": "completed"
    },
    "tags": []
   },
   "outputs": [
    {
     "data": {
      "text/html": [
       "<div>\n",
       "<style scoped>\n",
       "    .dataframe tbody tr th:only-of-type {\n",
       "        vertical-align: middle;\n",
       "    }\n",
       "\n",
       "    .dataframe tbody tr th {\n",
       "        vertical-align: top;\n",
       "    }\n",
       "\n",
       "    .dataframe thead th {\n",
       "        text-align: right;\n",
       "    }\n",
       "</style>\n",
       "<table border=\"1\" class=\"dataframe\">\n",
       "  <thead>\n",
       "    <tr style=\"text-align: right;\">\n",
       "      <th></th>\n",
       "      <th>release_year</th>\n",
       "    </tr>\n",
       "  </thead>\n",
       "  <tbody>\n",
       "    <tr>\n",
       "      <th>count</th>\n",
       "      <td>7787.000000</td>\n",
       "    </tr>\n",
       "    <tr>\n",
       "      <th>mean</th>\n",
       "      <td>2013.932580</td>\n",
       "    </tr>\n",
       "    <tr>\n",
       "      <th>std</th>\n",
       "      <td>8.757395</td>\n",
       "    </tr>\n",
       "    <tr>\n",
       "      <th>min</th>\n",
       "      <td>1925.000000</td>\n",
       "    </tr>\n",
       "    <tr>\n",
       "      <th>25%</th>\n",
       "      <td>2013.000000</td>\n",
       "    </tr>\n",
       "    <tr>\n",
       "      <th>50%</th>\n",
       "      <td>2017.000000</td>\n",
       "    </tr>\n",
       "    <tr>\n",
       "      <th>75%</th>\n",
       "      <td>2018.000000</td>\n",
       "    </tr>\n",
       "    <tr>\n",
       "      <th>max</th>\n",
       "      <td>2021.000000</td>\n",
       "    </tr>\n",
       "  </tbody>\n",
       "</table>\n",
       "</div>"
      ],
      "text/plain": [
       "       release_year\n",
       "count   7787.000000\n",
       "mean    2013.932580\n",
       "std        8.757395\n",
       "min     1925.000000\n",
       "25%     2013.000000\n",
       "50%     2017.000000\n",
       "75%     2018.000000\n",
       "max     2021.000000"
      ]
     },
     "execution_count": 5,
     "metadata": {},
     "output_type": "execute_result"
    }
   ],
   "source": [
    "df.describe()"
   ]
  },
  {
   "cell_type": "code",
   "execution_count": 6,
   "metadata": {
    "execution": {
     "iopub.execute_input": "2021-04-21T17:47:26.684995Z",
     "iopub.status.busy": "2021-04-21T17:47:26.683852Z",
     "iopub.status.idle": "2021-04-21T17:47:26.711087Z",
     "shell.execute_reply": "2021-04-21T17:47:26.710435Z"
    },
    "papermill": {
     "duration": 0.072693,
     "end_time": "2021-04-21T17:47:26.711225",
     "exception": false,
     "start_time": "2021-04-21T17:47:26.638532",
     "status": "completed"
    },
    "tags": []
   },
   "outputs": [
    {
     "name": "stdout",
     "output_type": "stream",
     "text": [
      "<class 'pandas.core.frame.DataFrame'>\n",
      "RangeIndex: 7787 entries, 0 to 7786\n",
      "Data columns (total 12 columns):\n",
      " #   Column        Non-Null Count  Dtype \n",
      "---  ------        --------------  ----- \n",
      " 0   show_id       7787 non-null   object\n",
      " 1   type          7787 non-null   object\n",
      " 2   title         7787 non-null   object\n",
      " 3   director      5398 non-null   object\n",
      " 4   cast          7069 non-null   object\n",
      " 5   country       7280 non-null   object\n",
      " 6   date_added    7777 non-null   object\n",
      " 7   release_year  7787 non-null   int64 \n",
      " 8   rating        7780 non-null   object\n",
      " 9   duration      7787 non-null   object\n",
      " 10  listed_in     7787 non-null   object\n",
      " 11  description   7787 non-null   object\n",
      "dtypes: int64(1), object(11)\n",
      "memory usage: 730.2+ KB\n"
     ]
    }
   ],
   "source": [
    "df.info()"
   ]
  },
  {
   "cell_type": "markdown",
   "metadata": {
    "papermill": {
     "duration": 0.042598,
     "end_time": "2021-04-21T17:47:26.796847",
     "exception": false,
     "start_time": "2021-04-21T17:47:26.754249",
     "status": "completed"
    },
    "tags": []
   },
   "source": [
    "# Analyze missing values"
   ]
  },
  {
   "cell_type": "markdown",
   "metadata": {
    "papermill": {
     "duration": 0.042314,
     "end_time": "2021-04-21T17:47:26.882070",
     "exception": false,
     "start_time": "2021-04-21T17:47:26.839756",
     "status": "completed"
    },
    "tags": []
   },
   "source": [
    "## Show missing values using missingno"
   ]
  },
  {
   "cell_type": "code",
   "execution_count": 7,
   "metadata": {
    "execution": {
     "iopub.execute_input": "2021-04-21T17:47:26.982755Z",
     "iopub.status.busy": "2021-04-21T17:47:26.982018Z",
     "iopub.status.idle": "2021-04-21T17:47:27.310199Z",
     "shell.execute_reply": "2021-04-21T17:47:27.310736Z"
    },
    "papermill": {
     "duration": 0.386356,
     "end_time": "2021-04-21T17:47:27.310905",
     "exception": false,
     "start_time": "2021-04-21T17:47:26.924549",
     "status": "completed"
    },
    "tags": []
   },
   "outputs": [
    {
     "data": {
      "image/png": "[encoded data removed]",
      "text/plain": [
       "<Figure size 576x288 with 2 Axes>"
      ]
     },
     "metadata": {},
     "output_type": "display_data"
    }
   ],
   "source": [
    "missingno.matrix(df, figsize=(8,4), fontsize=12);"
   ]
  },
  {
   "cell_type": "markdown",
   "metadata": {
    "papermill": {
     "duration": 0.044063,
     "end_time": "2021-04-21T17:47:27.399782",
     "exception": false,
     "start_time": "2021-04-21T17:47:27.355719",
     "status": "completed"
    },
    "tags": []
   },
   "source": [
    "The columns \"director\", \"cast\" and \"country\" containing the most missing values. We can use a heatmap visualization to get an understanding of the correlation between missing values in different columns."
   ]
  },
  {
   "cell_type": "code",
   "execution_count": 8,
   "metadata": {
    "execution": {
     "iopub.execute_input": "2021-04-21T17:47:27.491441Z",
     "iopub.status.busy": "2021-04-21T17:47:27.490816Z",
     "iopub.status.idle": "2021-04-21T17:47:27.871465Z",
     "shell.execute_reply": "2021-04-21T17:47:27.872024Z"
    },
    "papermill": {
     "duration": 0.42813,
     "end_time": "2021-04-21T17:47:27.872207",
     "exception": false,
     "start_time": "2021-04-21T17:47:27.444077",
     "status": "completed"
    },
    "tags": []
   },
   "outputs": [
    {
     "data": {
      "image/png": "[encoded data removed]",
      "text/plain": [
       "<Figure size 576x288 with 2 Axes>"
      ]
     },
     "metadata": {},
     "output_type": "display_data"
    }
   ],
   "source": [
    "missingno.heatmap(df, figsize=(8,4), fontsize=12);"
   ]
  },
  {
   "cell_type": "markdown",
   "metadata": {
    "papermill": {
     "duration": 0.045272,
     "end_time": "2021-04-21T17:47:27.962391",
     "exception": false,
     "start_time": "2021-04-21T17:47:27.917119",
     "status": "completed"
    },
    "tags": []
   },
   "source": [
    "The highest correlation can be found between `country` and `director`, meaning that if we find a `NaN` value in `country` then it's more likely to find a `director` `NaN` as well.\n",
    "This correlation includes suggestions which columns are the most promising to drop `NaN` values."
   ]
  },
  {
   "cell_type": "markdown",
   "metadata": {
    "papermill": {
     "duration": 0.047129,
     "end_time": "2021-04-21T17:47:28.055004",
     "exception": false,
     "start_time": "2021-04-21T17:47:28.007875",
     "status": "completed"
    },
    "tags": []
   },
   "source": [
    "# Handle missing values"
   ]
  },
  {
   "cell_type": "markdown",
   "metadata": {
    "papermill": {
     "duration": 0.046238,
     "end_time": "2021-04-21T17:47:28.146302",
     "exception": false,
     "start_time": "2021-04-21T17:47:28.100064",
     "status": "completed"
    },
    "tags": []
   },
   "source": [
    "We can simply drop the rows where \"date_added\" contains missing values, which results in the following DataFrame."
   ]
  },
  {
   "cell_type": "code",
   "execution_count": 9,
   "metadata": {
    "execution": {
     "iopub.execute_input": "2021-04-21T17:47:28.241007Z",
     "iopub.status.busy": "2021-04-21T17:47:28.240319Z",
     "iopub.status.idle": "2021-04-21T17:47:28.266162Z",
     "shell.execute_reply": "2021-04-21T17:47:28.266670Z"
    },
    "papermill": {
     "duration": 0.074242,
     "end_time": "2021-04-21T17:47:28.266841",
     "exception": false,
     "start_time": "2021-04-21T17:47:28.192599",
     "status": "completed"
    },
    "tags": []
   },
   "outputs": [],
   "source": [
    "# reset index fit on the shape\n",
    "df = df.dropna(subset=[\"date_added\"]).reset_index()"
   ]
  },
  {
   "cell_type": "code",
   "execution_count": 10,
   "metadata": {
    "execution": {
     "iopub.execute_input": "2021-04-21T17:47:28.360585Z",
     "iopub.status.busy": "2021-04-21T17:47:28.359995Z",
     "iopub.status.idle": "2021-04-21T17:47:28.383275Z",
     "shell.execute_reply": "2021-04-21T17:47:28.384238Z"
    },
    "papermill": {
     "duration": 0.072375,
     "end_time": "2021-04-21T17:47:28.384426",
     "exception": false,
     "start_time": "2021-04-21T17:47:28.312051",
     "status": "completed"
    },
    "tags": []
   },
   "outputs": [
    {
     "name": "stdout",
     "output_type": "stream",
     "text": [
      "<class 'pandas.core.frame.DataFrame'>\n",
      "RangeIndex: 7777 entries, 0 to 7776\n",
      "Data columns (total 13 columns):\n",
      " #   Column        Non-Null Count  Dtype \n",
      "---  ------        --------------  ----- \n",
      " 0   index         7777 non-null   int64 \n",
      " 1   show_id       7777 non-null   object\n",
      " 2   type          7777 non-null   object\n",
      " 3   title         7777 non-null   object\n",
      " 4   director      5398 non-null   object\n",
      " 5   cast          7059 non-null   object\n",
      " 6   country       7271 non-null   object\n",
      " 7   date_added    7777 non-null   object\n",
      " 8   release_year  7777 non-null   int64 \n",
      " 9   rating        7770 non-null   object\n",
      " 10  duration      7777 non-null   object\n",
      " 11  listed_in     7777 non-null   object\n",
      " 12  description   7777 non-null   object\n",
      "dtypes: int64(2), object(11)\n",
      "memory usage: 790.0+ KB\n"
     ]
    }
   ],
   "source": [
    "df.info()"
   ]
  },
  {
   "cell_type": "markdown",
   "metadata": {
    "papermill": {
     "duration": 0.046657,
     "end_time": "2021-04-21T17:47:28.477288",
     "exception": false,
     "start_time": "2021-04-21T17:47:28.430631",
     "status": "completed"
    },
    "tags": []
   },
   "source": [
    "Since the remaining columns are of type string (object) we're able to fill missing values with the keyword \"missing\". Consequently there are no missing values anymore."
   ]
  },
  {
   "cell_type": "code",
   "execution_count": 11,
   "metadata": {
    "execution": {
     "iopub.execute_input": "2021-04-21T17:47:28.584503Z",
     "iopub.status.busy": "2021-04-21T17:47:28.583616Z",
     "iopub.status.idle": "2021-04-21T17:47:28.586326Z",
     "shell.execute_reply": "2021-04-21T17:47:28.585788Z"
    },
    "papermill": {
     "duration": 0.062693,
     "end_time": "2021-04-21T17:47:28.586465",
     "exception": false,
     "start_time": "2021-04-21T17:47:28.523772",
     "status": "completed"
    },
    "tags": []
   },
   "outputs": [],
   "source": [
    "# fill missing values in director column\n",
    "df[\"director\"] = df.director.fillna(\"missing\")\n",
    "df[\"cast\"] = df.cast.fillna(\"missing\")\n",
    "df[\"country\"] = df.country.fillna(\"missing\")\n",
    "df[\"rating\"] = df.rating.fillna(\"missing\")"
   ]
  },
  {
   "cell_type": "code",
   "execution_count": 12,
   "metadata": {
    "execution": {
     "iopub.execute_input": "2021-04-21T17:47:28.681203Z",
     "iopub.status.busy": "2021-04-21T17:47:28.680535Z",
     "iopub.status.idle": "2021-04-21T17:47:28.704312Z",
     "shell.execute_reply": "2021-04-21T17:47:28.703543Z"
    },
    "papermill": {
     "duration": 0.072229,
     "end_time": "2021-04-21T17:47:28.704497",
     "exception": false,
     "start_time": "2021-04-21T17:47:28.632268",
     "status": "completed"
    },
    "tags": []
   },
   "outputs": [
    {
     "name": "stdout",
     "output_type": "stream",
     "text": [
      "<class 'pandas.core.frame.DataFrame'>\n",
      "RangeIndex: 7777 entries, 0 to 7776\n",
      "Data columns (total 13 columns):\n",
      " #   Column        Non-Null Count  Dtype \n",
      "---  ------        --------------  ----- \n",
      " 0   index         7777 non-null   int64 \n",
      " 1   show_id       7777 non-null   object\n",
      " 2   type          7777 non-null   object\n",
      " 3   title         7777 non-null   object\n",
      " 4   director      7777 non-null   object\n",
      " 5   cast          7777 non-null   object\n",
      " 6   country       7777 non-null   object\n",
      " 7   date_added    7777 non-null   object\n",
      " 8   release_year  7777 non-null   int64 \n",
      " 9   rating        7777 non-null   object\n",
      " 10  duration      7777 non-null   object\n",
      " 11  listed_in     7777 non-null   object\n",
      " 12  description   7777 non-null   object\n",
      "dtypes: int64(2), object(11)\n",
      "memory usage: 790.0+ KB\n"
     ]
    }
   ],
   "source": [
    "df.info()"
   ]
  },
  {
   "cell_type": "markdown",
   "metadata": {
    "papermill": {
     "duration": 0.046132,
     "end_time": "2021-04-21T17:47:28.797671",
     "exception": false,
     "start_time": "2021-04-21T17:47:28.751539",
     "status": "completed"
    },
    "tags": []
   },
   "source": [
    "## Feature Engineering\n",
    "\n",
    "1. split `date_added` into month, date and year"
   ]
  },
  {
   "cell_type": "code",
   "execution_count": 13,
   "metadata": {
    "execution": {
     "iopub.execute_input": "2021-04-21T17:47:28.909114Z",
     "iopub.status.busy": "2021-04-21T17:47:28.908420Z",
     "iopub.status.idle": "2021-04-21T17:47:28.913404Z",
     "shell.execute_reply": "2021-04-21T17:47:28.912829Z"
    },
    "papermill": {
     "duration": 0.069709,
     "end_time": "2021-04-21T17:47:28.913547",
     "exception": false,
     "start_time": "2021-04-21T17:47:28.843838",
     "status": "completed"
    },
    "tags": []
   },
   "outputs": [
    {
     "data": {
      "text/html": [
       "<div>\n",
       "<style scoped>\n",
       "    .dataframe tbody tr th:only-of-type {\n",
       "        vertical-align: middle;\n",
       "    }\n",
       "\n",
       "    .dataframe tbody tr th {\n",
       "        vertical-align: top;\n",
       "    }\n",
       "\n",
       "    .dataframe thead th {\n",
       "        text-align: right;\n",
       "    }\n",
       "</style>\n",
       "<table border=\"1\" class=\"dataframe\">\n",
       "  <thead>\n",
       "    <tr style=\"text-align: right;\">\n",
       "      <th></th>\n",
       "      <th>index</th>\n",
       "      <th>show_id</th>\n",
       "      <th>type</th>\n",
       "      <th>title</th>\n",
       "      <th>director</th>\n",
       "      <th>cast</th>\n",
       "      <th>country</th>\n",
       "      <th>date_added</th>\n",
       "      <th>release_year</th>\n",
       "      <th>rating</th>\n",
       "      <th>duration</th>\n",
       "      <th>listed_in</th>\n",
       "      <th>description</th>\n",
       "    </tr>\n",
       "  </thead>\n",
       "  <tbody>\n",
       "    <tr>\n",
       "      <th>0</th>\n",
       "      <td>0</td>\n",
       "      <td>s1</td>\n",
       "      <td>TV Show</td>\n",
       "      <td>3%</td>\n",
       "      <td>missing</td>\n",
       "      <td>João Miguel, Bianca Comparato, Michel Gomes, R...</td>\n",
       "      <td>Brazil</td>\n",
       "      <td>August 14, 2020</td>\n",
       "      <td>2020</td>\n",
       "      <td>TV-MA</td>\n",
       "      <td>4 Seasons</td>\n",
       "      <td>International TV Shows, TV Dramas, TV Sci-Fi &amp;...</td>\n",
       "      <td>In a future where the elite inhabit an island ...</td>\n",
       "    </tr>\n",
       "    <tr>\n",
       "      <th>1</th>\n",
       "      <td>1</td>\n",
       "      <td>s2</td>\n",
       "      <td>Movie</td>\n",
       "      <td>7:19</td>\n",
       "      <td>Jorge Michel Grau</td>\n",
       "      <td>Demián Bichir, Héctor Bonilla, Oscar Serrano, ...</td>\n",
       "      <td>Mexico</td>\n",
       "      <td>December 23, 2016</td>\n",
       "      <td>2016</td>\n",
       "      <td>TV-MA</td>\n",
       "      <td>93 min</td>\n",
       "      <td>Dramas, International Movies</td>\n",
       "      <td>After a devastating earthquake hits Mexico Cit...</td>\n",
       "    </tr>\n",
       "    <tr>\n",
       "      <th>2</th>\n",
       "      <td>2</td>\n",
       "      <td>s3</td>\n",
       "      <td>Movie</td>\n",
       "      <td>23:59</td>\n",
       "      <td>Gilbert Chan</td>\n",
       "      <td>Tedd Chan, Stella Chung, Henley Hii, Lawrence ...</td>\n",
       "      <td>Singapore</td>\n",
       "      <td>December 20, 2018</td>\n",
       "      <td>2011</td>\n",
       "      <td>R</td>\n",
       "      <td>78 min</td>\n",
       "      <td>Horror Movies, International Movies</td>\n",
       "      <td>When an army recruit is found dead, his fellow...</td>\n",
       "    </tr>\n",
       "    <tr>\n",
       "      <th>3</th>\n",
       "      <td>3</td>\n",
       "      <td>s4</td>\n",
       "      <td>Movie</td>\n",
       "      <td>9</td>\n",
       "      <td>Shane Acker</td>\n",
       "      <td>Elijah Wood, John C. Reilly, Jennifer Connelly...</td>\n",
       "      <td>United States</td>\n",
       "      <td>November 16, 2017</td>\n",
       "      <td>2009</td>\n",
       "      <td>PG-13</td>\n",
       "      <td>80 min</td>\n",
       "      <td>Action &amp; Adventure, Independent Movies, Sci-Fi...</td>\n",
       "      <td>In a postapocalyptic world, rag-doll robots hi...</td>\n",
       "    </tr>\n",
       "    <tr>\n",
       "      <th>4</th>\n",
       "      <td>4</td>\n",
       "      <td>s5</td>\n",
       "      <td>Movie</td>\n",
       "      <td>21</td>\n",
       "      <td>Robert Luketic</td>\n",
       "      <td>Jim Sturgess, Kevin Spacey, Kate Bosworth, Aar...</td>\n",
       "      <td>United States</td>\n",
       "      <td>January 1, 2020</td>\n",
       "      <td>2008</td>\n",
       "      <td>PG-13</td>\n",
       "      <td>123 min</td>\n",
       "      <td>Dramas</td>\n",
       "      <td>A brilliant group of students become card-coun...</td>\n",
       "    </tr>\n",
       "  </tbody>\n",
       "</table>\n",
       "</div>"
      ],
      "text/plain": [
       "   index show_id     type  title           director  \\\n",
       "0      0      s1  TV Show     3%            missing   \n",
       "1      1      s2    Movie   7:19  Jorge Michel Grau   \n",
       "2      2      s3    Movie  23:59       Gilbert Chan   \n",
       "3      3      s4    Movie      9        Shane Acker   \n",
       "4      4      s5    Movie     21     Robert Luketic   \n",
       "\n",
       "                                                cast        country  \\\n",
       "0  João Miguel, Bianca Comparato, Michel Gomes, R...         Brazil   \n",
       "1  Demián Bichir, Héctor Bonilla, Oscar Serrano, ...         Mexico   \n",
       "2  Tedd Chan, Stella Chung, Henley Hii, Lawrence ...      Singapore   \n",
       "3  Elijah Wood, John C. Reilly, Jennifer Connelly...  United States   \n",
       "4  Jim Sturgess, Kevin Spacey, Kate Bosworth, Aar...  United States   \n",
       "\n",
       "          date_added  release_year rating   duration  \\\n",
       "0    August 14, 2020          2020  TV-MA  4 Seasons   \n",
       "1  December 23, 2016          2016  TV-MA     93 min   \n",
       "2  December 20, 2018          2011      R     78 min   \n",
       "3  November 16, 2017          2009  PG-13     80 min   \n",
       "4    January 1, 2020          2008  PG-13    123 min   \n",
       "\n",
       "                                           listed_in  \\\n",
       "0  International TV Shows, TV Dramas, TV Sci-Fi &...   \n",
       "1                       Dramas, International Movies   \n",
       "2                Horror Movies, International Movies   \n",
       "3  Action & Adventure, Independent Movies, Sci-Fi...   \n",
       "4                                             Dramas   \n",
       "\n",
       "                                         description  \n",
       "0  In a future where the elite inhabit an island ...  \n",
       "1  After a devastating earthquake hits Mexico Cit...  \n",
       "2  When an army recruit is found dead, his fellow...  \n",
       "3  In a postapocalyptic world, rag-doll robots hi...  \n",
       "4  A brilliant group of students become card-coun...  "
      ]
     },
     "execution_count": 13,
     "metadata": {},
     "output_type": "execute_result"
    }
   ],
   "source": [
    "df.head()"
   ]
  },
  {
   "cell_type": "markdown",
   "metadata": {
    "papermill": {
     "duration": 0.048455,
     "end_time": "2021-04-21T17:47:29.009163",
     "exception": false,
     "start_time": "2021-04-21T17:47:28.960708",
     "status": "completed"
    },
    "tags": []
   },
   "source": [
    "## 1. Split date_added into month, date and year"
   ]
  },
  {
   "cell_type": "code",
   "execution_count": 14,
   "metadata": {
    "execution": {
     "iopub.execute_input": "2021-04-21T17:47:29.109070Z",
     "iopub.status.busy": "2021-04-21T17:47:29.108292Z",
     "iopub.status.idle": "2021-04-21T17:47:29.712738Z",
     "shell.execute_reply": "2021-04-21T17:47:29.712131Z"
    },
    "papermill": {
     "duration": 0.655005,
     "end_time": "2021-04-21T17:47:29.712877",
     "exception": false,
     "start_time": "2021-04-21T17:47:29.057872",
     "status": "completed"
    },
    "tags": []
   },
   "outputs": [
    {
     "data": {
      "text/html": [
       "<div>\n",
       "<style scoped>\n",
       "    .dataframe tbody tr th:only-of-type {\n",
       "        vertical-align: middle;\n",
       "    }\n",
       "\n",
       "    .dataframe tbody tr th {\n",
       "        vertical-align: top;\n",
       "    }\n",
       "\n",
       "    .dataframe thead th {\n",
       "        text-align: right;\n",
       "    }\n",
       "</style>\n",
       "<table border=\"1\" class=\"dataframe\">\n",
       "  <thead>\n",
       "    <tr style=\"text-align: right;\">\n",
       "      <th></th>\n",
       "      <th>index</th>\n",
       "      <th>show_id</th>\n",
       "      <th>type</th>\n",
       "      <th>title</th>\n",
       "      <th>director</th>\n",
       "      <th>cast</th>\n",
       "      <th>country</th>\n",
       "      <th>release_year</th>\n",
       "      <th>rating</th>\n",
       "      <th>duration</th>\n",
       "      <th>listed_in</th>\n",
       "      <th>description</th>\n",
       "      <th>added_month</th>\n",
       "      <th>added_date</th>\n",
       "      <th>added_year</th>\n",
       "      <th>duration_unit</th>\n",
       "      <th>duration_quantity</th>\n",
       "    </tr>\n",
       "  </thead>\n",
       "  <tbody>\n",
       "    <tr>\n",
       "      <th>0</th>\n",
       "      <td>0</td>\n",
       "      <td>s1</td>\n",
       "      <td>TV Show</td>\n",
       "      <td>3%</td>\n",
       "      <td>missing</td>\n",
       "      <td>João Miguel, Bianca Comparato, Michel Gomes, R...</td>\n",
       "      <td>Brazil</td>\n",
       "      <td>2020</td>\n",
       "      <td>TV-MA</td>\n",
       "      <td>4 Seasons</td>\n",
       "      <td>International TV Shows, TV Dramas, TV Sci-Fi &amp;...</td>\n",
       "      <td>In a future where the elite inhabit an island ...</td>\n",
       "      <td>8</td>\n",
       "      <td>14</td>\n",
       "      <td>2020</td>\n",
       "      <td>Season</td>\n",
       "      <td>4</td>\n",
       "    </tr>\n",
       "    <tr>\n",
       "      <th>1</th>\n",
       "      <td>1</td>\n",
       "      <td>s2</td>\n",
       "      <td>Movie</td>\n",
       "      <td>7:19</td>\n",
       "      <td>Jorge Michel Grau</td>\n",
       "      <td>Demián Bichir, Héctor Bonilla, Oscar Serrano, ...</td>\n",
       "      <td>Mexico</td>\n",
       "      <td>2016</td>\n",
       "      <td>TV-MA</td>\n",
       "      <td>93 min</td>\n",
       "      <td>Dramas, International Movies</td>\n",
       "      <td>After a devastating earthquake hits Mexico Cit...</td>\n",
       "      <td>12</td>\n",
       "      <td>23</td>\n",
       "      <td>2016</td>\n",
       "      <td>Minute</td>\n",
       "      <td>93</td>\n",
       "    </tr>\n",
       "  </tbody>\n",
       "</table>\n",
       "</div>"
      ],
      "text/plain": [
       "   index show_id     type title           director  \\\n",
       "0      0      s1  TV Show    3%            missing   \n",
       "1      1      s2    Movie  7:19  Jorge Michel Grau   \n",
       "\n",
       "                                                cast country  release_year  \\\n",
       "0  João Miguel, Bianca Comparato, Michel Gomes, R...  Brazil          2020   \n",
       "1  Demián Bichir, Héctor Bonilla, Oscar Serrano, ...  Mexico          2016   \n",
       "\n",
       "  rating   duration                                          listed_in  \\\n",
       "0  TV-MA  4 Seasons  International TV Shows, TV Dramas, TV Sci-Fi &...   \n",
       "1  TV-MA     93 min                       Dramas, International Movies   \n",
       "\n",
       "                                         description  added_month  added_date  \\\n",
       "0  In a future where the elite inhabit an island ...            8          14   \n",
       "1  After a devastating earthquake hits Mexico Cit...           12          23   \n",
       "\n",
       "   added_year duration_unit  duration_quantity  \n",
       "0        2020        Season                  4  \n",
       "1        2016        Minute                 93  "
      ]
     },
     "execution_count": 14,
     "metadata": {},
     "output_type": "execute_result"
    }
   ],
   "source": [
    "# added_*: extract day/month/year from date_added\n",
    "# duration_unit: extract unit from duration as \"Season\" or \"Minute\"\n",
    "# duration_quality: extract numerical value from duration irrespective \n",
    "#                   of duration_unit the given duration_unit\n",
    "df = df.assign(\n",
    "    added_month=pd.to_datetime(df.date_added).dt.month,\n",
    "    added_date=pd.to_datetime(df.date_added).dt.day,\n",
    "    added_year=pd.to_datetime(df.date_added).dt.year,\n",
    "    duration_unit=np.where(df.duration.str.contains(\"Season\"), \"Season\", \"Minute\"),\n",
    "    duration_quantity=lambda x: x.duration.str.split(\" \", expand=True)[0],\n",
    ").drop(\"date_added\", axis=1).astype({\"duration_quantity\":\"int\"})\n",
    "\n",
    "df.head(2)"
   ]
  },
  {
   "cell_type": "markdown",
   "metadata": {
    "papermill": {
     "duration": 0.047661,
     "end_time": "2021-04-21T17:47:29.808748",
     "exception": false,
     "start_time": "2021-04-21T17:47:29.761087",
     "status": "completed"
    },
    "tags": []
   },
   "source": [
    "Checking that we didn't created any missing values leads to"
   ]
  },
  {
   "cell_type": "code",
   "execution_count": 15,
   "metadata": {
    "execution": {
     "iopub.execute_input": "2021-04-21T17:47:29.921345Z",
     "iopub.status.busy": "2021-04-21T17:47:29.920395Z",
     "iopub.status.idle": "2021-04-21T17:47:29.928064Z",
     "shell.execute_reply": "2021-04-21T17:47:29.927527Z"
    },
    "papermill": {
     "duration": 0.069492,
     "end_time": "2021-04-21T17:47:29.928199",
     "exception": false,
     "start_time": "2021-04-21T17:47:29.858707",
     "status": "completed"
    },
    "tags": []
   },
   "outputs": [
    {
     "data": {
      "text/plain": [
       "index                0\n",
       "show_id              0\n",
       "type                 0\n",
       "title                0\n",
       "director             0\n",
       "cast                 0\n",
       "country              0\n",
       "release_year         0\n",
       "rating               0\n",
       "duration             0\n",
       "listed_in            0\n",
       "description          0\n",
       "added_month          0\n",
       "added_date           0\n",
       "added_year           0\n",
       "duration_unit        0\n",
       "duration_quantity    0\n",
       "dtype: int64"
      ]
     },
     "execution_count": 15,
     "metadata": {},
     "output_type": "execute_result"
    }
   ],
   "source": [
    "df.isna().sum()"
   ]
  },
  {
   "cell_type": "markdown",
   "metadata": {
    "papermill": {
     "duration": 0.048525,
     "end_time": "2021-04-21T17:47:30.025343",
     "exception": false,
     "start_time": "2021-04-21T17:47:29.976818",
     "status": "completed"
    },
    "tags": []
   },
   "source": [
    "## Exploratory Data Analysis\n",
    "\n",
    "At first we compare the number of movies agains the number of tv shows.\n"
   ]
  },
  {
   "cell_type": "code",
   "execution_count": 16,
   "metadata": {
    "execution": {
     "iopub.execute_input": "2021-04-21T17:47:30.134330Z",
     "iopub.status.busy": "2021-04-21T17:47:30.133518Z",
     "iopub.status.idle": "2021-04-21T17:47:30.297644Z",
     "shell.execute_reply": "2021-04-21T17:47:30.298194Z"
    },
    "papermill": {
     "duration": 0.221448,
     "end_time": "2021-04-21T17:47:30.298374",
     "exception": false,
     "start_time": "2021-04-21T17:47:30.076926",
     "status": "completed"
    },
    "tags": []
   },
   "outputs": [
    {
     "data": {
      "image/png": "[encoded data removed]",
      "text/plain": [
       "<Figure size 432x288 with 1 Axes>"
      ]
     },
     "metadata": {},
     "output_type": "display_data"
    }
   ],
   "source": [
    "\n",
    "df.type.value_counts().plot(\n",
    "    kind=\"bar\",\n",
    "    width=0.5, \n",
    "    color=\"red\",\n",
    "    title=\"Type frequency on netflix \\n dataset\",\n",
    "    ylabel=\"Frequency\", \n",
    "    xlabel=\"Type Category\",\n",
    "    rot=0\n",
    ");"
   ]
  },
  {
   "cell_type": "markdown",
   "metadata": {
    "papermill": {
     "duration": 0.049483,
     "end_time": "2021-04-21T17:47:30.398012",
     "exception": false,
     "start_time": "2021-04-21T17:47:30.348529",
     "status": "completed"
    },
    "tags": []
   },
   "source": [
    "From the above graph we see that there are twice as many movies as tv shows on Netflix.\n",
    "\n",
    "Furthermore we want to know which are the most common directors in our dataset."
   ]
  },
  {
   "cell_type": "code",
   "execution_count": 17,
   "metadata": {
    "execution": {
     "iopub.execute_input": "2021-04-21T17:47:30.508405Z",
     "iopub.status.busy": "2021-04-21T17:47:30.507409Z",
     "iopub.status.idle": "2021-04-21T17:47:30.861935Z",
     "shell.execute_reply": "2021-04-21T17:47:30.861432Z"
    },
    "papermill": {
     "duration": 0.414228,
     "end_time": "2021-04-21T17:47:30.862097",
     "exception": false,
     "start_time": "2021-04-21T17:47:30.447869",
     "status": "completed"
    },
    "tags": []
   },
   "outputs": [
    {
     "data": {
      "image/png": "[encoded data removed]",
      "text/plain": [
       "<Figure size 576x288 with 1 Axes>"
      ]
     },
     "metadata": {},
     "output_type": "display_data"
    }
   ],
   "source": [
    "df.director.value_counts().drop(labels=[\"missing\"]).head(20).plot(\n",
    "    kind=\"bar\", \n",
    "    color=\"red\",\n",
    "    figsize=(8,4),\n",
    "    rot=80,\n",
    "    title=\"Director frequency on netflix dataset\",\n",
    "    width=0.5, \n",
    "    xlabel=\"Director\",\n",
    "    ylabel=\"Frequency\",\n",
    ");"
   ]
  },
  {
   "cell_type": "markdown",
   "metadata": {
    "papermill": {
     "duration": 0.051038,
     "end_time": "2021-04-21T17:47:30.964617",
     "exception": false,
     "start_time": "2021-04-21T17:47:30.913579",
     "status": "completed"
    },
    "tags": []
   },
   "source": [
    "Answering that question, we find a winner with `Raúl Campos` and `Jan Suter` but there is no obvious leading role since the top 5 directors are more or less in the same range.\n",
    "\n",
    "Since movies and tv shows are pretty imbalanced we apply the same analysis separately on movies and tv shows which leads to the following."
   ]
  },
  {
   "cell_type": "code",
   "execution_count": 18,
   "metadata": {
    "execution": {
     "iopub.execute_input": "2021-04-21T17:47:31.084512Z",
     "iopub.status.busy": "2021-04-21T17:47:31.083459Z",
     "iopub.status.idle": "2021-04-21T17:47:31.764816Z",
     "shell.execute_reply": "2021-04-21T17:47:31.764275Z"
    },
    "papermill": {
     "duration": 0.748846,
     "end_time": "2021-04-21T17:47:31.764956",
     "exception": false,
     "start_time": "2021-04-21T17:47:31.016110",
     "status": "completed"
    },
    "tags": []
   },
   "outputs": [
    {
     "data": {
      "image/png": "[encoded data removed]",
      "text/plain": [
       "<Figure size 1440x576 with 2 Axes>"
      ]
     },
     "metadata": {},
     "output_type": "display_data"
    }
   ],
   "source": [
    "df_movie = df.query(\"type == 'Movie'\")\n",
    "df_tvshow = df.query(\"type == 'TV Show'\")\n",
    "\n",
    "fig, (ax1, ax2) = plt.subplots(1, 2, figsize=(20,8))\n",
    "df_movie.director.value_counts()[1:20].plot(kind=\"bar\", color=\"red\", ax=ax1, ylim=(0, 20))\n",
    "df_tvshow.director.value_counts()[1:20].plot(kind=\"bar\", color=\"grey\", ax=ax2, ylim=(0, 20))\n",
    "ax1.set_title(\"Movies\", fontsize=24, fontweight=\"bold\")\n",
    "ax2.set_title(\"TV Shows\", fontsize=24, fontweight=\"bold\");"
   ]
  },
  {
   "cell_type": "markdown",
   "metadata": {
    "papermill": {
     "duration": 0.05404,
     "end_time": "2021-04-21T17:47:31.873476",
     "exception": false,
     "start_time": "2021-04-21T17:47:31.819436",
     "status": "completed"
    },
    "tags": []
   },
   "source": [
    "As we can see, the tv show data is less relevant regarding the director frequency since most of them can be found only once.\n",
    "\n",
    "### Which are the most frequent actors in our dataset?\n",
    "Similar to the directors frequency we can ask for the **actors frequency**."
   ]
  },
  {
   "cell_type": "code",
   "execution_count": 19,
   "metadata": {
    "execution": {
     "iopub.execute_input": "2021-04-21T17:47:32.039078Z",
     "iopub.status.busy": "2021-04-21T17:47:32.036590Z",
     "iopub.status.idle": "2021-04-21T17:47:32.420571Z",
     "shell.execute_reply": "2021-04-21T17:47:32.420052Z"
    },
    "papermill": {
     "duration": 0.493006,
     "end_time": "2021-04-21T17:47:32.420717",
     "exception": false,
     "start_time": "2021-04-21T17:47:31.927711",
     "status": "completed"
    },
    "tags": []
   },
   "outputs": [
    {
     "data": {
      "image/png": "[encoded data removed]",
      "text/plain": [
       "<Figure size 576x288 with 1 Axes>"
      ]
     },
     "metadata": {},
     "output_type": "display_data"
    }
   ],
   "source": [
    "# extract all actors from \"cast\"\n",
    "data = [x.split(\",\") for x in df.cast.to_list()]\n",
    "data = list(itertools.chain(*data))\n",
    "\n",
    "# get data histogram\n",
    "element = Counter(data)\n",
    "\n",
    "# cast element data into DataFrame\n",
    "df_cast = (pd.DataFrame.from_dict(element, orient=\"index\", columns=[\"actor_freq\"])\n",
    "           .reset_index().\n",
    "           rename(columns={\"index\":\"cast\"})\n",
    "           .sort_values(by=\"actor_freq\", ascending=False)\n",
    "           .query(\"cast != 'missing'\")\n",
    "           .reset_index(drop=True)\n",
    ")\n",
    "\n",
    "# plot values\n",
    "df_cast.head(20).plot(\n",
    "    kind=\"bar\", \n",
    "    x=\"cast\", \n",
    "    y=\"actor_freq\", \n",
    "    color=\"red\",\n",
    "    figsize=(8,4),\n",
    "    width=0.7, \n",
    "    title=\"Actor Frequency\",\n",
    "    xlabel=\"Actor\",\n",
    "    ylabel=\"Frequency\",\n",
    "    rot=80,\n",
    ");"
   ]
  },
  {
   "cell_type": "markdown",
   "metadata": {
    "papermill": {
     "duration": 0.055198,
     "end_time": "2021-04-21T17:47:32.532108",
     "exception": false,
     "start_time": "2021-04-21T17:47:32.476910",
     "status": "completed"
    },
    "tags": []
   },
   "source": [
    "### From which country can we find the most dataset entries?"
   ]
  },
  {
   "cell_type": "code",
   "execution_count": 20,
   "metadata": {
    "execution": {
     "iopub.execute_input": "2021-04-21T17:47:32.675730Z",
     "iopub.status.busy": "2021-04-21T17:47:32.658163Z",
     "iopub.status.idle": "2021-04-21T17:47:33.328952Z",
     "shell.execute_reply": "2021-04-21T17:47:33.329431Z"
    },
    "papermill": {
     "duration": 0.74225,
     "end_time": "2021-04-21T17:47:33.329601",
     "exception": false,
     "start_time": "2021-04-21T17:47:32.587351",
     "status": "completed"
    },
    "tags": []
   },
   "outputs": [
    {
     "data": {
      "image/png": "[encoded data removed]",
      "text/plain": [
       "<Figure size 1152x288 with 2 Axes>"
      ]
     },
     "metadata": {},
     "output_type": "display_data"
    }
   ],
   "source": [
    "# get frequencies of all filming spot contries\n",
    "spot_categories = [x.split(\",\") for x in df.country.to_list()]\n",
    "spot_categories = list(itertools.chain(*spot_categories))\n",
    "\n",
    "# get data histogram\n",
    "spot_freq = Counter(spot_categories)\n",
    "\n",
    "# cast histogram to DataFrame\n",
    "spot_df = (pd.DataFrame.from_dict(spot_freq, orient=\"index\", columns=[\"spot_frequency\"])\n",
    "           .reset_index()\n",
    "           .rename(columns={\"index\":\"country\"})\n",
    "           .sort_values(by=\"spot_frequency\", ascending=False)\n",
    "           .query(\"country != 'missing'\")\n",
    "           .reset_index(drop=True)\n",
    "          )\n",
    "\n",
    "_, (ax1, ax2) = plt.subplots(1, 2, figsize=(16,4))\n",
    "\n",
    "# plot DataFrame histogram\n",
    "spot_df.head(20).plot(\n",
    "    kind=\"bar\", \n",
    "    x=\"country\", \n",
    "    y=\"spot_frequency\",\n",
    "    ax=ax1,\n",
    "    color=\"red\",\n",
    "    #figsize=(8,4),\n",
    "    width=0.8,\n",
    "    xlabel=\"Country\",\n",
    "    ylabel=\"Frequency\",\n",
    "    title=\"Netflix location-added frequency\",\n",
    "    rot=70)\n",
    "\n",
    "spot_df.assign(spot_frequency=lambda x: x.spot_frequency / spot_df.spot_frequency.sum()).head(20).plot(\n",
    "    kind=\"bar\", \n",
    "    x=\"country\", \n",
    "    y=\"spot_frequency\",\n",
    "    ax=ax2,\n",
    "    color=\"red\",\n",
    "    #figsize=(8,4),\n",
    "    width=0.8,\n",
    "    xlabel=\"Country\",\n",
    "    ylabel=\"% Frequency\",\n",
    "    ylim=(0,1),\n",
    "    title=\"Netflix location-added percentage\",\n",
    "    rot=70);"
   ]
  },
  {
   "cell_type": "markdown",
   "metadata": {
    "papermill": {
     "duration": 0.057028,
     "end_time": "2021-04-21T17:47:33.444099",
     "exception": false,
     "start_time": "2021-04-21T17:47:33.387071",
     "status": "completed"
    },
    "tags": []
   },
   "source": [
    "Obvously, the United States are included overproporionally."
   ]
  },
  {
   "cell_type": "markdown",
   "metadata": {
    "papermill": {
     "duration": 0.05679,
     "end_time": "2021-04-21T17:47:33.558830",
     "exception": false,
     "start_time": "2021-04-21T17:47:33.502040",
     "status": "completed"
    },
    "tags": []
   },
   "source": [
    "### Are there months where more shows or movies are added as normally?"
   ]
  },
  {
   "cell_type": "code",
   "execution_count": 21,
   "metadata": {
    "execution": {
     "iopub.execute_input": "2021-04-21T17:47:33.799721Z",
     "iopub.status.busy": "2021-04-21T17:47:33.679392Z",
     "iopub.status.idle": "2021-04-21T17:47:34.017153Z",
     "shell.execute_reply": "2021-04-21T17:47:34.017617Z"
    },
    "papermill": {
     "duration": 0.401745,
     "end_time": "2021-04-21T17:47:34.017793",
     "exception": false,
     "start_time": "2021-04-21T17:47:33.616048",
     "status": "completed"
    },
    "tags": []
   },
   "outputs": [
    {
     "data": {
      "image/png": "[encoded data removed]",
      "text/plain": [
       "<Figure size 504x288 with 1 Axes>"
      ]
     },
     "metadata": {},
     "output_type": "display_data"
    }
   ],
   "source": [
    "df.added_month.value_counts().plot(\n",
    "    kind=\"bar\", \n",
    "    x=\"month\", \n",
    "    y=\"frequency\", \n",
    "    color=\"red\", \n",
    "    figsize=(7,4),\n",
    "    rot=0,\n",
    "    title=\"Netflix monthly added frequency\",\n",
    "    width=0.6,\n",
    "    xlabel=\"Month\",\n",
    "    ylabel=\"Frequency\",\n",
    "    ylim=(0,1000),\n",
    ");"
   ]
  },
  {
   "cell_type": "markdown",
   "metadata": {
    "papermill": {
     "duration": 0.058259,
     "end_time": "2021-04-21T17:47:34.134614",
     "exception": false,
     "start_time": "2021-04-21T17:47:34.076355",
     "status": "completed"
    },
    "tags": []
   },
   "source": [
    "We find a slightly sign that netflix adds more movies / shows when reaching the end of the year (including january as well). This can be interpreted with the motivation that netflix tries to be more attractive selling their subscription as a christmas present. This interpretation could conform with the local peak at march and may where a netflix subscription may be an easter present as well."
   ]
  },
  {
   "cell_type": "markdown",
   "metadata": {
    "papermill": {
     "duration": 0.057648,
     "end_time": "2021-04-21T17:47:34.250176",
     "exception": false,
     "start_time": "2021-04-21T17:47:34.192528",
     "status": "completed"
    },
    "tags": []
   },
   "source": [
    "## How does the release frequency of movies / TV shows change over time?"
   ]
  },
  {
   "cell_type": "code",
   "execution_count": 22,
   "metadata": {
    "execution": {
     "iopub.execute_input": "2021-04-21T17:47:34.376328Z",
     "iopub.status.busy": "2021-04-21T17:47:34.375632Z",
     "iopub.status.idle": "2021-04-21T17:47:34.987282Z",
     "shell.execute_reply": "2021-04-21T17:47:34.986662Z"
    },
    "papermill": {
     "duration": 0.678838,
     "end_time": "2021-04-21T17:47:34.987429",
     "exception": false,
     "start_time": "2021-04-21T17:47:34.308591",
     "status": "completed"
    },
    "tags": []
   },
   "outputs": [
    {
     "data": {
      "image/png": "[encoded data removed]",
      "text/plain": [
       "<Figure size 1152x432 with 2 Axes>"
      ]
     },
     "metadata": {},
     "output_type": "display_data"
    }
   ],
   "source": [
    "release_timeline = df.groupby('type')['release_year'].value_counts()\n",
    "\n",
    "fig, (ax1, ax2) = plt.subplots(\n",
    "    1, \n",
    "    2, \n",
    "    figsize=(16, 6), \n",
    "    subplot_kw={\n",
    "        \"ylim\": (0, release_timeline.max() + 50),\n",
    "    })\n",
    "release_timeline[\"Movie\"].head(20).plot(\n",
    "    kind=\"bar\",\n",
    "    ax=ax1,\n",
    "    color=\"red\",\n",
    "    rot=50,\n",
    "    title=\"Movie release frequency\", \n",
    "    xlabel=\"Release Year\", \n",
    "    ylabel=\"Frequency\",\n",
    ")\n",
    "release_timeline[\"TV Show\"].head(20).plot(\n",
    "    kind=\"bar\", \n",
    "    ax=ax2,\n",
    "    color=\"red\",\n",
    "    rot=50,\n",
    "    title=\"TV Show release frequency\", \n",
    "    xlabel=\"Release Year\", \n",
    "    ylabel=\"Frequency\",\n",
    ");"
   ]
  },
  {
   "cell_type": "markdown",
   "metadata": {
    "papermill": {
     "duration": 0.059802,
     "end_time": "2021-04-21T17:47:35.109430",
     "exception": false,
     "start_time": "2021-04-21T17:47:35.049628",
     "status": "completed"
    },
    "tags": []
   },
   "source": [
    "It seems like netflix' *focus lies currently on tv shows*, although definitely more movies were added in the recent history. \n",
    "\n",
    "The *decreasing movie numbers* can be partially interpreted with the pandemic occurence of Covid and the corresponding problems for directors to produce new movies. But we can see the first decreasing numbers in 2018, long befor Covid was a problem. \n",
    "\n",
    "Keeping that in mind, it is more likely that netflix tries to change his *focus from movies towards creating and adding more and more tv shows*, because this is what customer will bind to the company and leads to keeping subscriptions alive from the perspective of their customers."
   ]
  },
  {
   "cell_type": "markdown",
   "metadata": {
    "papermill": {
     "duration": 0.059975,
     "end_time": "2021-04-21T17:47:35.229692",
     "exception": false,
     "start_time": "2021-04-21T17:47:35.169717",
     "status": "completed"
    },
    "tags": []
   },
   "source": [
    "### Which categories are the most represented in our dataset?"
   ]
  },
  {
   "cell_type": "code",
   "execution_count": 23,
   "metadata": {
    "execution": {
     "iopub.execute_input": "2021-04-21T17:47:35.363034Z",
     "iopub.status.busy": "2021-04-21T17:47:35.362091Z",
     "iopub.status.idle": "2021-04-21T17:47:35.364870Z",
     "shell.execute_reply": "2021-04-21T17:47:35.365444Z"
    },
    "papermill": {
     "duration": 0.076552,
     "end_time": "2021-04-21T17:47:35.365674",
     "exception": false,
     "start_time": "2021-04-21T17:47:35.289122",
     "status": "completed"
    },
    "tags": []
   },
   "outputs": [],
   "source": [
    "data = [x.split(\",\") for x in df.listed_in.to_list()]\n",
    "data = list(itertools.chain(*data))\n",
    "\n",
    "listed_count = Counter(data)"
   ]
  },
  {
   "cell_type": "code",
   "execution_count": 24,
   "metadata": {
    "execution": {
     "iopub.execute_input": "2021-04-21T17:47:35.514628Z",
     "iopub.status.busy": "2021-04-21T17:47:35.511538Z",
     "iopub.status.idle": "2021-04-21T17:47:37.014872Z",
     "shell.execute_reply": "2021-04-21T17:47:37.015428Z"
    },
    "papermill": {
     "duration": 1.590436,
     "end_time": "2021-04-21T17:47:37.015609",
     "exception": false,
     "start_time": "2021-04-21T17:47:35.425173",
     "status": "completed"
    },
    "tags": []
   },
   "outputs": [
    {
     "data": {
      "image/png": "[encoded data removed]",
      "text/plain": [
       "<Figure size 1296x432 with 1 Axes>"
      ]
     },
     "metadata": {},
     "output_type": "display_data"
    }
   ],
   "source": [
    "# create DataFrame from listed_in frequencies using listed_dic\n",
    "listed_in_freq = (pd.DataFrame\n",
    "    .from_dict(listed_count, orient=\"index\", columns=[\"frequency\"])\n",
    "    .sort_values(by=[\"frequency\"], ascending=False)\n",
    ")\n",
    "\n",
    "# plot frequencies\n",
    "listed_in_freq.head(50).plot(\n",
    "    kind=\"bar\",\n",
    "    color=\"red\",\n",
    "    figsize=(18, 6),\n",
    "    rot=82,\n",
    "    title=\"Category Frequency of netflix movies / shows\",\n",
    "    width=0.7,\n",
    "    xlabel=\"Movie/Show Category\",\n",
    "    ylabel=\"Frequency\",\n",
    ");"
   ]
  },
  {
   "cell_type": "markdown",
   "metadata": {
    "papermill": {
     "duration": 0.067198,
     "end_time": "2021-04-21T17:47:37.146707",
     "exception": false,
     "start_time": "2021-04-21T17:47:37.079509",
     "status": "completed"
    },
    "tags": []
   },
   "source": [
    "Interesingly, `International Movies`, `Dramas` and `Comedies` are the top 3 categories, followed by `Documentaries`."
   ]
  },
  {
   "cell_type": "markdown",
   "metadata": {
    "papermill": {
     "duration": 0.063576,
     "end_time": "2021-04-21T17:47:37.274444",
     "exception": false,
     "start_time": "2021-04-21T17:47:37.210868",
     "status": "completed"
    },
    "tags": []
   },
   "source": [
    "### How many seasons are most frequent in our tv show dataset?"
   ]
  },
  {
   "cell_type": "code",
   "execution_count": 25,
   "metadata": {
    "execution": {
     "iopub.execute_input": "2021-04-21T17:47:37.411627Z",
     "iopub.status.busy": "2021-04-21T17:47:37.410574Z",
     "iopub.status.idle": "2021-04-21T17:47:37.582023Z",
     "shell.execute_reply": "2021-04-21T17:47:37.582461Z"
    },
    "papermill": {
     "duration": 0.245028,
     "end_time": "2021-04-21T17:47:37.582650",
     "exception": false,
     "start_time": "2021-04-21T17:47:37.337622",
     "status": "completed"
    },
    "tags": []
   },
   "outputs": [
    {
     "data": {
      "image/png": "[encoded data removed]",
      "text/plain": [
       "<Figure size 720x576 with 1 Axes>"
      ]
     },
     "metadata": {},
     "output_type": "display_data"
    }
   ],
   "source": [
    "# filter only Season entries and count values\n",
    "season_freq = df.query(\"duration_unit == 'Season'\").duration_quantity.value_counts()\n",
    "\n",
    "# use sum aggregation for count values below a specific threshold \n",
    "threshold = 30\n",
    "season_freq_restagg = season_freq[season_freq >= threshold] \n",
    "season_freq_restagg[\"Rest\"] = season_freq[season_freq < threshold].sum()\n",
    "\n",
    "# create chart display lables\n",
    "season_label = [\"1 Season\"] + [str(season_int) + \" Seasons\" for season_int in season_freq_restagg.index[1:-1]] + [\"7+ Seasons\"]\n",
    "\n",
    "season_freq_restagg.plot(\n",
    "    kind=\"pie\", \n",
    "    autopct='%1.2f%%',\n",
    "    figsize=(10,8),\n",
    "    labels=season_label,\n",
    "    pctdistance=0.7,\n",
    "    startangle=180,\n",
    "    title=\"Season frequency at Netflix dataset\",\n",
    "    ylabel=\"\",\n",
    "    \n",
    ");"
   ]
  },
  {
   "cell_type": "markdown",
   "metadata": {
    "papermill": {
     "duration": 0.064578,
     "end_time": "2021-04-21T17:47:37.712088",
     "exception": false,
     "start_time": "2021-04-21T17:47:37.647510",
     "status": "completed"
    },
    "tags": []
   },
   "source": [
    "There is another surprising insight. Two of three netflix tv shows consist of only one season. Only one of three tv shows consist of more or equal than two seasons. We can conclude that tv shows like `Game of thrones` is one of the most successful productions of netflix but at the same time it is a quite rare show (<1.25%)."
   ]
  },
  {
   "cell_type": "markdown",
   "metadata": {
    "papermill": {
     "duration": 0.064194,
     "end_time": "2021-04-21T17:47:37.840900",
     "exception": false,
     "start_time": "2021-04-21T17:47:37.776706",
     "status": "completed"
    },
    "tags": []
   },
   "source": [
    "### How is the movie duration distributed?"
   ]
  },
  {
   "cell_type": "code",
   "execution_count": 26,
   "metadata": {
    "execution": {
     "iopub.execute_input": "2021-04-21T17:47:37.979616Z",
     "iopub.status.busy": "2021-04-21T17:47:37.978917Z",
     "iopub.status.idle": "2021-04-21T17:47:38.341472Z",
     "shell.execute_reply": "2021-04-21T17:47:38.340855Z"
    },
    "papermill": {
     "duration": 0.435987,
     "end_time": "2021-04-21T17:47:38.341613",
     "exception": false,
     "start_time": "2021-04-21T17:47:37.905626",
     "status": "completed"
    },
    "tags": []
   },
   "outputs": [
    {
     "data": {
      "image/png": "[encoded data removed]",
      "text/plain": [
       "<Figure size 720x432 with 1 Axes>"
      ]
     },
     "metadata": {},
     "output_type": "display_data"
    }
   ],
   "source": [
    "# create binsizes\n",
    "bins = [*range(0,316,15)]\n",
    "\n",
    "df.query(\"duration_unit == 'Minute'\").duration_quantity.plot(\n",
    "    kind=\"hist\", \n",
    "    bins=bins, \n",
    "    color=\"red\",\n",
    "    figsize=(10,6),\n",
    "    title=\"Netflix movie duration histogram\",\n",
    ")\n",
    "plt.xticks(bins);\n",
    "plt.xlabel(\"Minutes\");"
   ]
  },
  {
   "cell_type": "markdown",
   "metadata": {
    "papermill": {
     "duration": 0.065125,
     "end_time": "2021-04-21T17:47:38.472330",
     "exception": false,
     "start_time": "2021-04-21T17:47:38.407205",
     "status": "completed"
    },
    "tags": []
   },
   "source": [
    "As we expected, the most movies will end after 90-105 minutes."
   ]
  },
  {
   "cell_type": "markdown",
   "metadata": {
    "papermill": {
     "duration": 0.065374,
     "end_time": "2021-04-21T17:47:38.604156",
     "exception": false,
     "start_time": "2021-04-21T17:47:38.538782",
     "status": "completed"
    },
    "tags": []
   },
   "source": [
    "### Just a final view on netflix ratings"
   ]
  },
  {
   "cell_type": "code",
   "execution_count": 27,
   "metadata": {
    "execution": {
     "iopub.execute_input": "2021-04-21T17:47:38.759537Z",
     "iopub.status.busy": "2021-04-21T17:47:38.758830Z",
     "iopub.status.idle": "2021-04-21T17:47:39.027845Z",
     "shell.execute_reply": "2021-04-21T17:47:39.027070Z"
    },
    "papermill": {
     "duration": 0.358129,
     "end_time": "2021-04-21T17:47:39.028035",
     "exception": false,
     "start_time": "2021-04-21T17:47:38.669906",
     "status": "completed"
    },
    "tags": []
   },
   "outputs": [
    {
     "data": {
      "image/png": "[encoded data removed]",
      "text/plain": [
       "<Figure size 864x360 with 1 Axes>"
      ]
     },
     "metadata": {},
     "output_type": "display_data"
    }
   ],
   "source": [
    "_, ax = plt.subplots(figsize=(12,5))\n",
    "sns.countplot(\n",
    "    x=\"rating\", \n",
    "    data=df, \n",
    "    order=df.rating.value_counts().index.to_list(),\n",
    ")\n",
    "ax.set_title(\"Most common ratings on Netflix dataset\")\n",
    "ax.set_xlabel(\"Rating\")\n",
    "ax.set_ylabel(\"count\");"
   ]
  },
  {
   "cell_type": "markdown",
   "metadata": {
    "papermill": {
     "duration": 0.069722,
     "end_time": "2021-04-21T17:47:39.166901",
     "exception": false,
     "start_time": "2021-04-21T17:47:39.097179",
     "status": "completed"
    },
    "tags": []
   },
   "source": [
    "# Creating a Recommender System"
   ]
  },
  {
   "cell_type": "markdown",
   "metadata": {
    "papermill": {
     "duration": 0.067404,
     "end_time": "2021-04-21T17:47:39.302178",
     "exception": false,
     "start_time": "2021-04-21T17:47:39.234774",
     "status": "completed"
    },
    "tags": []
   },
   "source": [
    "## First Approach: Tf-idf\n",
    "\n",
    "### Theoretical background\n",
    "This approach uses the *scikit-learn* learn library. The term **_Tf-idf_** stands for **_term frequency-inverse document frequency_**, which designates a way to create a metric which aims to score the importance of a specific word for a given document.\n",
    "\n",
    "In general, one will consider not just one document but multiple documents $d_i$ in a so called corpus $C=\\{d_i | 1 \\leq i \\leq n\\}$. There are vaious ways to calculate Tf-idf (see Wikipedias article on [Tf-idf](https://en.wikipedia.org/wiki/Tf%E2%80%93idf#Definition) for details. **NOTE**: we omit the idf-parameter $D$ which counts the documents whose contain the term $t$ for the sake of simplicity).\n",
    "\n",
    "We add some insights from the Tfidf function:\n",
    "* $\\text{tfidf}(t,d)=0$ means that $t$ is not necessary for the document $d$\n",
    "* if a term $t$ is not contained in a document $d$ (term-frequency is $0$), then $\\text{tfidf}(t,d)=0$\n",
    "* if a term $t$ occurs in every document of the corpus $C$ (inverse-document-frequency is $0$), then $\\text{tfidf}(t,d)=0$ as well\n",
    "* $\\text{tfidf}(t,d)=0$, if $t$ occurs in every document (e.g. common words like \"the\")\n",
    "* $\\text{tfidf} \\geq 0$\n",
    "\n",
    "\n",
    "It's important to understand that Tf-idf is a metric $\\text{tfidf}(t,d)$ for one term $t$ in a given document $d$. Once being aware of that thing we can go on calculating all values $\\text{tfidf}(t_i,d_j)$ for all the documents $d_j \\in C$ and where $t_i$ for $1 \\leq i \\leq m$ were all the different terms (words) occurring in all document in $C$.\n",
    "\n",
    "Given a random term $\\bar{t}$ in one of the documents $d_i$ and another random document $\\bar{d}$ in the corpus $C$, then the _Tf-idf_ metric itself can be evaluated on $\\bar{t}$ and $\\bar{d}$ given by $\\text{tfidf}(\\bar{t}, \\bar{d})$. \n",
    "\n",
    "The interpretation of the resulting score answers the question on **how important is the term $\\bar{t}$ with respect to the document $\\bar{d}$**. A zero value can be interpreted as the term $\\bar{t}$ is not important for the document $\\bar{d}$ beacuse that document does not contain that term. With an increasing _Tf-idf_ score the importance increases as well.\n",
    "\n",
    "With that understanding we can arrange our scores as follows:\n",
    "\n",
    "$$\n",
    "\\begin{pmatrix}\n",
    "\\text{tfidf}(t_1, d_1) & \\text{tfidf}(t_2, d_1) & \\cdots & \\text{tfidf}(t_n, d_1)\\\\ \n",
    "\\text{tfidf}(t_1, d_2) & \\text{tfidf}(t_2, d_2) & & \\\\ \n",
    "& & \\ddots & \\vdots\\\\\n",
    "\\text{tfidf}(t_1, d_m) & & \\cdots & \\text{tfidf}(t_n, d_m)\\\\\n",
    "\\end{pmatrix} =: \\left(x_1, \\cdots , x_n\\right) \\in \\mathbf{R}^{m \\times n}\n",
    "$$\n",
    "\n",
    "Normalizing these vectors $x_i$ leads to the following representation\n",
    "\n",
    "$$\n",
    "\\left(\\frac{x_1}{\\lVert x_1 \\rVert}, \\cdots , \\frac{x_n}{\\lVert x_n \\rVert} \\right) =: X \\in \\mathbf{R}^{m \\times n}\n",
    "$$\n",
    "\n",
    "Understanding this matrix as a bunch of vectors, we can calculate the similarity between these vectors using the **cosine similarity** (see [here](https://www.machinelearningplus.com/nlp/cosine-similarity/#2whatiscosinesimilarityandwhyisitadvantageous) for a vivid interpretation), which is defined as \n",
    "$$\\text{cossim}(X, X) = X X^T =: Y_{cos} \\in \\mathbf{R}^{m \\times m}$$.\n",
    "\n",
    "#### **How can we interpret these values in our similarity matrix $Y_{cos}$?**\n",
    "\n",
    "To answer that question we take a look at any arbitrary position $y_{ij} \\in Y_{cos}$ with $1 \\leq i,j \\leq m$. Analyzing the above calculation we see that we're comparing the importance of all terms $t_k$ for the document $d_i$ with the importance of the same term for document $d_j$ by multiplying both importance scores pairwise:\n",
    "\n",
    "$$\\begin{align} y_{ij} & = \\frac{x_i x_j^{T}}{\\lVert x_i \\rVert \\lVert x_j \\rVert} \\\\\n",
    "            & = \\frac{1}{\\lVert x_i \\rVert \\lVert x_j \\rVert}\\begin{pmatrix} \\text{tfidf}(t_1, d_i) & \\cdots & \\text{tfidf}(t_m, d_i) \\end{pmatrix} * \\begin{pmatrix} \\text{tfidf}(t_1, d_j) \\\\ \\vdots \\\\ \\text{tfidf}(t_m, d_j) \\end{pmatrix} \\\\\n",
    "            & = \\frac{1}{\\lVert x_i \\rVert \\lVert x_j \\rVert} \\sum^{m}_{k=1} \\text{tfidf}(t_k, d_i)*\\text{tfidf}(t_k, d_j)  \\quad \\text{with} \\quad x_i, x_j \\in X\n",
    "            \\end{align}$$\n",
    "\n",
    "General speaking, we can say that **$y_{ij}$ compares the importance scores of two documents $d_{i}$ and $d_{j}$ ($1\\leq i,j \\leq m$) with respect to ALL given terms $t_k$** ($1\\leq k \\leq n$). If we now follow the hypthesis that similar documents are more likely to contain similar important terms, then we got our final interpretation model which can be sumarized as \n",
    "\n",
    ">**the higher a score $y_{ij}$ is, the more similar are the referring documents**."
   ]
  },
  {
   "cell_type": "code",
   "execution_count": 28,
   "metadata": {
    "execution": {
     "iopub.execute_input": "2021-04-21T17:47:39.444022Z",
     "iopub.status.busy": "2021-04-21T17:47:39.443193Z",
     "iopub.status.idle": "2021-04-21T17:47:40.420663Z",
     "shell.execute_reply": "2021-04-21T17:47:40.420133Z"
    },
    "papermill": {
     "duration": 1.051024,
     "end_time": "2021-04-21T17:47:40.420800",
     "exception": false,
     "start_time": "2021-04-21T17:47:39.369776",
     "status": "completed"
    },
    "tags": []
   },
   "outputs": [
    {
     "name": "stdout",
     "output_type": "stream",
     "text": [
      "Shape of Tfidf matrix X:\t (7777, 17893)\n",
      "Tfidf matrix X:\n",
      "[[0.         0.         0.         ... 0.         0.         0.        ]\n",
      " [0.         0.         0.         ... 0.         0.         0.        ]\n",
      " [0.         0.         0.         ... 0.         0.         0.        ]\n",
      " ...\n",
      " [0.         0.         0.         ... 0.         0.         0.        ]\n",
      " [0.20813988 0.         0.         ... 0.         0.         0.        ]\n",
      " [0.         0.         0.         ... 0.         0.         0.        ]]\n"
     ]
    }
   ],
   "source": [
    "from sklearn.feature_extraction.text import TfidfVectorizer\n",
    "\n",
    "netflix_df = df.copy()\n",
    "\n",
    "# init vectorizer object\n",
    "tfidf = TfidfVectorizer(stop_words=\"english\")\n",
    "\n",
    "# create tfidf matrix (X in above description)\n",
    "X = tfidf.fit_transform(netflix_df.description)\n",
    "\n",
    "print(\"Shape of Tfidf matrix X:\\t\", X.shape)\n",
    "print(\"Tfidf matrix X:\")\n",
    "print(X.toarray())"
   ]
  },
  {
   "cell_type": "markdown",
   "metadata": {
    "papermill": {
     "duration": 0.071418,
     "end_time": "2021-04-21T17:47:40.561422",
     "exception": false,
     "start_time": "2021-04-21T17:47:40.490004",
     "status": "completed"
    },
    "tags": []
   },
   "source": [
    "Our Tfidf matrx $X$ consists of $7777$ rows as expected which cooinces with the number of documents in our corpus (netflix DataFrame). We can also conclude, that these documents generate a word pool of 17893 words (excluding stop words), whose importance is measured (using $\\text{tfidf}(t, D)$)  on all documents separately.\n",
    "\n",
    "Next, we use the cosine similarity as mentioned above."
   ]
  },
  {
   "cell_type": "code",
   "execution_count": 29,
   "metadata": {
    "execution": {
     "iopub.execute_input": "2021-04-21T17:47:40.704161Z",
     "iopub.status.busy": "2021-04-21T17:47:40.703392Z",
     "iopub.status.idle": "2021-04-21T17:47:41.461591Z",
     "shell.execute_reply": "2021-04-21T17:47:41.462085Z"
    },
    "papermill": {
     "duration": 0.832275,
     "end_time": "2021-04-21T17:47:41.462274",
     "exception": false,
     "start_time": "2021-04-21T17:47:40.629999",
     "status": "completed"
    },
    "tags": []
   },
   "outputs": [],
   "source": [
    "# Import linear_kernel\n",
    "from sklearn.metrics.pairwise import linear_kernel\n",
    "\n",
    "# Compute the cosine similarity matrix\n",
    "cosine_sim = linear_kernel(X, X)\n",
    "\n",
    "# create index lookup on all netflix titles\n",
    "indices = pd.Series(netflix_df.index, index=netflix_df['title']).drop_duplicates()"
   ]
  },
  {
   "cell_type": "markdown",
   "metadata": {
    "papermill": {
     "duration": 0.06875,
     "end_time": "2021-04-21T17:47:41.599337",
     "exception": false,
     "start_time": "2021-04-21T17:47:41.530587",
     "status": "completed"
    },
    "tags": []
   },
   "source": [
    "### How will we get from our cosine matrix to our recommendation?\n",
    "The idea is currently straight forward. To receive a similar recommendation for any given title wich is contained in our DataFrame we just have to look for the referring index in our DataFrame. Since we concluded that any entry $y_{ij}$ in our cosine matrix $Y_{cos}$ indicates the similarity score wich we derived from comparing two documents $d_i$ and $d_j$, it is now clear that for a given document $d_i$ we just have to look for _that_ document $\\bar{d}_j$ that generates the highest score $\\bar{y}_{ij}$ with fixed parameter $i$.\n",
    "\n",
    "That's basically all we will do next."
   ]
  },
  {
   "cell_type": "code",
   "execution_count": 30,
   "metadata": {
    "execution": {
     "iopub.execute_input": "2021-04-21T17:47:41.741006Z",
     "iopub.status.busy": "2021-04-21T17:47:41.740028Z",
     "iopub.status.idle": "2021-04-21T17:47:41.746876Z",
     "shell.execute_reply": "2021-04-21T17:47:41.747429Z"
    },
    "papermill": {
     "duration": 0.079498,
     "end_time": "2021-04-21T17:47:41.747605",
     "exception": false,
     "start_time": "2021-04-21T17:47:41.668107",
     "status": "completed"
    },
    "tags": []
   },
   "outputs": [],
   "source": [
    "def get_tfidf_recommendation(\n",
    "    title: str, indices: pd.Series, cosine_sim:np.ndarray) -> pd.DataFrame:\n",
    "    \"\"\"Generate similarity recommendations for a particular title based on tfidf.\n",
    "        \n",
    "    Args:\n",
    "        title (str): title to find recommendations for (must be included in netflix_df)\n",
    "        indices (pd.Series): Series maps netflix_df titles to corresponding indices\n",
    "        cosine_matrix (np.ndarray): cosine matrix derived from TfidfVectorizer appplied \n",
    "                                    on netflix_df.description\n",
    "    \"\"\"\n",
    "    # title index lookup \n",
    "    idx = indices[title]\n",
    "    \n",
    "    # create netflix DataFrame with similarity scores\n",
    "    scores = pd.DataFrame(\n",
    "        data={\n",
    "            \"score\":cosine_sim[idx],\n",
    "            \"title\":netflix_df[\"title\"],\n",
    "            \"description\":netflix_df[\"description\"],\n",
    "        }, \n",
    "        index=range(len(cosine_sim[idx]))\n",
    "    ).sort_values(by=\"score\", ascending=False)\n",
    "    \n",
    "    return scores"
   ]
  },
  {
   "cell_type": "markdown",
   "metadata": {
    "papermill": {
     "duration": 0.068564,
     "end_time": "2021-04-21T17:47:41.884814",
     "exception": false,
     "start_time": "2021-04-21T17:47:41.816250",
     "status": "completed"
    },
    "tags": []
   },
   "source": [
    "### Let's test it!"
   ]
  },
  {
   "cell_type": "code",
   "execution_count": 31,
   "metadata": {
    "execution": {
     "iopub.execute_input": "2021-04-21T17:47:42.026231Z",
     "iopub.status.busy": "2021-04-21T17:47:42.025557Z",
     "iopub.status.idle": "2021-04-21T17:47:42.044071Z",
     "shell.execute_reply": "2021-04-21T17:47:42.044524Z"
    },
    "papermill": {
     "duration": 0.091747,
     "end_time": "2021-04-21T17:47:42.044708",
     "exception": false,
     "start_time": "2021-04-21T17:47:41.952961",
     "status": "completed"
    },
    "tags": []
   },
   "outputs": [
    {
     "data": {
      "text/html": [
       "<div>\n",
       "<style scoped>\n",
       "    .dataframe tbody tr th:only-of-type {\n",
       "        vertical-align: middle;\n",
       "    }\n",
       "\n",
       "    .dataframe tbody tr th {\n",
       "        vertical-align: top;\n",
       "    }\n",
       "\n",
       "    .dataframe thead th {\n",
       "        text-align: right;\n",
       "    }\n",
       "</style>\n",
       "<table border=\"1\" class=\"dataframe\">\n",
       "  <thead>\n",
       "    <tr style=\"text-align: right;\">\n",
       "      <th></th>\n",
       "      <th>score</th>\n",
       "      <th>title</th>\n",
       "      <th>description</th>\n",
       "    </tr>\n",
       "  </thead>\n",
       "  <tbody>\n",
       "    <tr>\n",
       "      <th>7776</th>\n",
       "      <td>1.000000</td>\n",
       "      <td>ZZ TOP: THAT LITTLE OL' BAND FROM TEXAS</td>\n",
       "      <td>This documentary delves into the mystique behi...</td>\n",
       "    </tr>\n",
       "    <tr>\n",
       "      <th>5576</th>\n",
       "      <td>0.196906</td>\n",
       "      <td>SHOT! The Psycho-Spiritual Mantra of Rock</td>\n",
       "      <td>Aptly named iconic rock photographer Mick Rock...</td>\n",
       "    </tr>\n",
       "    <tr>\n",
       "      <th>5233</th>\n",
       "      <td>0.171923</td>\n",
       "      <td>Rock On!!</td>\n",
       "      <td>Four friends hoped that their rock band would ...</td>\n",
       "    </tr>\n",
       "    <tr>\n",
       "      <th>4550</th>\n",
       "      <td>0.159310</td>\n",
       "      <td>Oasis: Supersonic</td>\n",
       "      <td>This film details the rise of British rock gro...</td>\n",
       "    </tr>\n",
       "    <tr>\n",
       "      <th>3706</th>\n",
       "      <td>0.158531</td>\n",
       "      <td>Long Time Running</td>\n",
       "      <td>This documentary follows the 2016 tour of belo...</td>\n",
       "    </tr>\n",
       "    <tr>\n",
       "      <th>...</th>\n",
       "      <td>...</td>\n",
       "      <td>...</td>\n",
       "      <td>...</td>\n",
       "    </tr>\n",
       "    <tr>\n",
       "      <th>2707</th>\n",
       "      <td>0.000000</td>\n",
       "      <td>Herrens veje</td>\n",
       "      <td>A family with a storied history of service to ...</td>\n",
       "    </tr>\n",
       "    <tr>\n",
       "      <th>2706</th>\n",
       "      <td>0.000000</td>\n",
       "      <td>Heroine</td>\n",
       "      <td>One woman experiences the dramatic highs and l...</td>\n",
       "    </tr>\n",
       "    <tr>\n",
       "      <th>2704</th>\n",
       "      <td>0.000000</td>\n",
       "      <td>Heroes Wanted</td>\n",
       "      <td>When its special ops agency is wiped out, Spai...</td>\n",
       "    </tr>\n",
       "    <tr>\n",
       "      <th>2703</th>\n",
       "      <td>0.000000</td>\n",
       "      <td>HERO MASK</td>\n",
       "      <td>After a rash of mysterious deaths, Crown prose...</td>\n",
       "    </tr>\n",
       "    <tr>\n",
       "      <th>3888</th>\n",
       "      <td>0.000000</td>\n",
       "      <td>Man of Tai Chi</td>\n",
       "      <td>In this kung fu tale set in Beijing, a young m...</td>\n",
       "    </tr>\n",
       "  </tbody>\n",
       "</table>\n",
       "<p>7777 rows × 3 columns</p>\n",
       "</div>"
      ],
      "text/plain": [
       "         score                                      title  \\\n",
       "7776  1.000000    ZZ TOP: THAT LITTLE OL' BAND FROM TEXAS   \n",
       "5576  0.196906  SHOT! The Psycho-Spiritual Mantra of Rock   \n",
       "5233  0.171923                                  Rock On!!   \n",
       "4550  0.159310                          Oasis: Supersonic   \n",
       "3706  0.158531                          Long Time Running   \n",
       "...        ...                                        ...   \n",
       "2707  0.000000                               Herrens veje   \n",
       "2706  0.000000                                    Heroine   \n",
       "2704  0.000000                              Heroes Wanted   \n",
       "2703  0.000000                                  HERO MASK   \n",
       "3888  0.000000                             Man of Tai Chi   \n",
       "\n",
       "                                            description  \n",
       "7776  This documentary delves into the mystique behi...  \n",
       "5576  Aptly named iconic rock photographer Mick Rock...  \n",
       "5233  Four friends hoped that their rock band would ...  \n",
       "4550  This film details the rise of British rock gro...  \n",
       "3706  This documentary follows the 2016 tour of belo...  \n",
       "...                                                 ...  \n",
       "2707  A family with a storied history of service to ...  \n",
       "2706  One woman experiences the dramatic highs and l...  \n",
       "2704  When its special ops agency is wiped out, Spai...  \n",
       "2703  After a rash of mysterious deaths, Crown prose...  \n",
       "3888  In this kung fu tale set in Beijing, a young m...  \n",
       "\n",
       "[7777 rows x 3 columns]"
      ]
     },
     "execution_count": 31,
     "metadata": {},
     "output_type": "execute_result"
    }
   ],
   "source": [
    "get_tfidf_recommendation(\"ZZ TOP: THAT LITTLE OL' BAND FROM TEXAS\", indices, cosine_sim)"
   ]
  },
  {
   "cell_type": "markdown",
   "metadata": {
    "papermill": {
     "duration": 0.069038,
     "end_time": "2021-04-21T17:47:42.184021",
     "exception": false,
     "start_time": "2021-04-21T17:47:42.114983",
     "status": "completed"
    },
    "tags": []
   },
   "source": [
    "## Second approach: using pre-trained word2vec model from Google"
   ]
  },
  {
   "cell_type": "markdown",
   "metadata": {
    "papermill": {
     "duration": 0.068697,
     "end_time": "2021-04-21T17:47:42.322051",
     "exception": false,
     "start_time": "2021-04-21T17:47:42.253354",
     "status": "completed"
    },
    "tags": []
   },
   "source": [
    "### First let's normalize the text fragments using *str.lower* and *nltk.tokenize*\n",
    "First using the method *str.lower* will modify strings to contain only lower-case characters.\n",
    "After that we split a lower-cased sentence in a list containing all the single words from our sentence by using *nltk.tokenize*."
   ]
  },
  {
   "cell_type": "code",
   "execution_count": 32,
   "metadata": {
    "execution": {
     "iopub.execute_input": "2021-04-21T17:47:42.466315Z",
     "iopub.status.busy": "2021-04-21T17:47:42.465546Z",
     "iopub.status.idle": "2021-04-21T17:47:47.681197Z",
     "shell.execute_reply": "2021-04-21T17:47:47.680587Z"
    },
    "papermill": {
     "duration": 5.2905,
     "end_time": "2021-04-21T17:47:47.681347",
     "exception": false,
     "start_time": "2021-04-21T17:47:42.390847",
     "status": "completed"
    },
    "tags": []
   },
   "outputs": [],
   "source": [
    "from nltk.tokenize import word_tokenize\n",
    "df_netflix = (\n",
    "    df.filter([\"show_id\", \"title\", \"listed_in\", \"description\"]).assign(\n",
    "        title_list=lambda x: x.title.str.lower().apply(word_tokenize),\n",
    "        listed_in=lambda x: x.listed_in.str.lower().apply(word_tokenize),\n",
    "        description=lambda x: x.description.str.lower().apply(word_tokenize),\n",
    "    )\n",
    ")"
   ]
  },
  {
   "cell_type": "markdown",
   "metadata": {
    "papermill": {
     "duration": 0.06864,
     "end_time": "2021-04-21T17:47:47.819846",
     "exception": false,
     "start_time": "2021-04-21T17:47:47.751206",
     "status": "completed"
    },
    "tags": []
   },
   "source": [
    "### Removing stopwords and punctuations\n",
    "Stopwords are common words used in every language which specify mostly nouns better. The provide us with a better understanding of the context but are not very significant words. Let's say you read the word \n",
    "\n",
    "> \"book\"\n",
    "\n",
    "Then you will know that text is probably about books or literatur. Now, a common *stopword* would be `\"his\"` and reading\n",
    "\n",
    "> \"his book\"\n",
    "\n",
    "would let you know that your text is still about a book and someone who owns that book. But if you're mostly interested in classifying that sentence as literatur all your focus should stay on the word \"book\". Consequently, we can remove all these common stopwords from our list. Therefore we may want to use *nltk.corpus.stopwords*.\n",
    "\n",
    "With a similar argumentation, we can remove punctuations as well, using *string.punctuation*."
   ]
  },
  {
   "cell_type": "code",
   "execution_count": 33,
   "metadata": {
    "_kg_hide-input": true,
    "_kg_hide-output": true,
    "execution": {
     "iopub.execute_input": "2021-04-21T17:47:47.975684Z",
     "iopub.status.busy": "2021-04-21T17:47:47.974955Z",
     "iopub.status.idle": "2021-04-21T17:47:49.027630Z",
     "shell.execute_reply": "2021-04-21T17:47:49.027061Z"
    },
    "papermill": {
     "duration": 1.138144,
     "end_time": "2021-04-21T17:47:49.027780",
     "exception": false,
     "start_time": "2021-04-21T17:47:47.889636",
     "status": "completed"
    },
    "tags": []
   },
   "outputs": [],
   "source": [
    "from nltk.corpus import stopwords\n",
    "from string import punctuation\n",
    "from typing import List\n",
    "stopword_list = stopwords.words(\"english\") + list(punctuation)\n",
    "\n",
    "def remove_stopwords(list_input: List[str]) -> List[str]:\n",
    "    \"\"\"Filter stopwords from list.\"\"\"\n",
    "    return list(filter(lambda word: word not in stopword_list, list_input))\n",
    "\n",
    "def remove_punctuation(input_list: List[str]) -> List[str]:\n",
    "    \"\"\"Remove punctionations from words in list.\n",
    "    \n",
    "    str.maketrans creates a dict mapping with characters to interchange, \n",
    "    whereby the third parameter the characters describes which should be removed, \n",
    "    e.g.\n",
    "        str.maketrans(\"abc\",\"123\",\".\") -> {97: 49, 98: 50, 99: 51, 46: None} \n",
    "        meaning, \"a\"->1, \"b\"->2, \"c\"->3 and remove \".\"\n",
    "    \"\"\"\n",
    "    return [word.translate(str.maketrans('', '', punctuation)) for word in input_list]\n",
    "\n",
    "def remove_empty_char(input_list: List[str]) -> List[str]:\n",
    "    \"\"\"Remove empty strings (strings with len==0).\"\"\"\n",
    "    return list(filter(lambda x: len(x)>0, input_list))\n",
    "\n",
    "# remove stopwords, punctuations and empty strings\n",
    "df_netflix = df_netflix.assign(\n",
    "    title_list=lambda df: df.filter([\"title_list\"]).applymap(lambda x: remove_stopwords(x)),\n",
    "    listed_in=lambda df: df.filter([\"listed_in\"]).applymap(lambda x: remove_stopwords(x)),\n",
    "    description=lambda df: df.filter([\"description\"]).applymap(lambda x: remove_stopwords(x)),\n",
    "    description_pt1=lambda df: df.filter([\"description\"]).applymap(lambda x: remove_punctuation(x)),\n",
    "    description_pt2=lambda df: df.filter([\"description_pt1\"]).applymap(lambda x: remove_empty_char(x)),\n",
    ").drop(columns=[\"description\", \"description_pt1\"]).rename(columns={\"description_pt2\": \"description\"})"
   ]
  },
  {
   "cell_type": "markdown",
   "metadata": {
    "_kg_hide-input": true,
    "_kg_hide-output": true,
    "papermill": {
     "duration": 0.069284,
     "end_time": "2021-04-21T17:47:49.167644",
     "exception": false,
     "start_time": "2021-04-21T17:47:49.098360",
     "status": "completed"
    },
    "tags": []
   },
   "source": [
    "### Drop duplicates using sets\n",
    "It's common practice to remove duplicates using first set and casting them afterwards back to lists."
   ]
  },
  {
   "cell_type": "code",
   "execution_count": 34,
   "metadata": {
    "_kg_hide-input": true,
    "_kg_hide-output": true,
    "execution": {
     "iopub.execute_input": "2021-04-21T17:47:49.330417Z",
     "iopub.status.busy": "2021-04-21T17:47:49.313320Z",
     "iopub.status.idle": "2021-04-21T17:47:49.361605Z",
     "shell.execute_reply": "2021-04-21T17:47:49.361082Z"
    },
    "papermill": {
     "duration": 0.124325,
     "end_time": "2021-04-21T17:47:49.361774",
     "exception": false,
     "start_time": "2021-04-21T17:47:49.237449",
     "status": "completed"
    },
    "tags": []
   },
   "outputs": [],
   "source": [
    "# remove duplicates\n",
    "df_netflix = df_netflix.assign(\n",
    "    title_list=lambda df: df.title_list.apply(lambda x: list(set(x))),\n",
    "    listed_in=lambda df: df.listed_in.apply(lambda x: list(set(x))),\n",
    "    description=lambda df: df.description.apply(lambda x: list(set(x))),\n",
    ")"
   ]
  },
  {
   "cell_type": "markdown",
   "metadata": {
    "_kg_hide-input": true,
    "_kg_hide-output": true,
    "papermill": {
     "duration": 0.069727,
     "end_time": "2021-04-21T17:47:49.500962",
     "exception": false,
     "start_time": "2021-04-21T17:47:49.431235",
     "status": "completed"
    },
    "tags": []
   },
   "source": [
    "### Download pretrained word2vec model from Google\n"
   ]
  },
  {
   "cell_type": "code",
   "execution_count": 35,
   "metadata": {
    "execution": {
     "iopub.execute_input": "2021-04-21T17:47:49.646790Z",
     "iopub.status.busy": "2021-04-21T17:47:49.646139Z",
     "iopub.status.idle": "2021-04-21T17:49:43.752244Z",
     "shell.execute_reply": "2021-04-21T17:49:43.750987Z"
    },
    "papermill": {
     "duration": 114.181623,
     "end_time": "2021-04-21T17:49:43.752621",
     "exception": false,
     "start_time": "2021-04-21T17:47:49.570998",
     "status": "completed"
    },
    "tags": []
   },
   "outputs": [
    {
     "name": "stdout",
     "output_type": "stream",
     "text": [
      "--2021-04-21 17:47:50--  https://s3.amazonaws.com/dl4j-distribution/GoogleNews-vectors-negative300.bin.gz\r\n",
      "Resolving s3.amazonaws.com (s3.amazonaws.com)... 52.216.17.211\r\n",
      "Connecting to s3.amazonaws.com (s3.amazonaws.com)|52.216.17.211|:443... connected.\r\n",
      "HTTP request sent, awaiting response... 200 OK\r\n",
      "Length: 1647046227 (1.5G) [application/x-gzip]\r\n",
      "Saving to: ‘GoogleNews-vectors-negative300.bin.gz’\r\n",
      "\r\n",
      "GoogleNews-vectors- 100%[===================>]   1.53G  34.0MB/s    in 52s     \r\n",
      "\r\n",
      "2021-04-21 17:48:43 (30.0 MB/s) - ‘GoogleNews-vectors-negative300.bin.gz’ saved [1647046227/1647046227]\r\n",
      "\r\n"
     ]
    }
   ],
   "source": [
    "!wget -c \"https://s3.amazonaws.com/dl4j-distribution/GoogleNews-vectors-negative300.bin.gz\"\n",
    "!gunzip GoogleNews-vectors-negative300.bin.gz"
   ]
  },
  {
   "cell_type": "code",
   "execution_count": 36,
   "metadata": {
    "_kg_hide-input": true,
    "_kg_hide-output": true,
    "execution": {
     "iopub.execute_input": "2021-04-21T17:49:44.052835Z",
     "iopub.status.busy": "2021-04-21T17:49:44.052082Z",
     "iopub.status.idle": "2021-04-21T17:50:16.530497Z",
     "shell.execute_reply": "2021-04-21T17:50:16.531077Z"
    },
    "papermill": {
     "duration": 32.627832,
     "end_time": "2021-04-21T17:50:16.531271",
     "exception": false,
     "start_time": "2021-04-21T17:49:43.903439",
     "status": "completed"
    },
    "tags": []
   },
   "outputs": [],
   "source": [
    "import gensim\n",
    "\n",
    "wv = gensim.models.KeyedVectors.load_word2vec_format(\"GoogleNews-vectors-negative300.bin\", binary=True)"
   ]
  },
  {
   "cell_type": "code",
   "execution_count": 37,
   "metadata": {
    "_kg_hide-input": true,
    "_kg_hide-output": true,
    "execution": {
     "iopub.execute_input": "2021-04-21T17:50:16.823275Z",
     "iopub.status.busy": "2021-04-21T17:50:16.822574Z",
     "iopub.status.idle": "2021-04-21T17:50:16.934556Z",
     "shell.execute_reply": "2021-04-21T17:50:16.935243Z"
    },
    "papermill": {
     "duration": 0.259615,
     "end_time": "2021-04-21T17:50:16.935437",
     "exception": false,
     "start_time": "2021-04-21T17:50:16.675822",
     "status": "completed"
    },
    "tags": []
   },
   "outputs": [],
   "source": [
    "matrix_netflix_vocab = []\n",
    "for list_ in df_netflix.to_numpy():\n",
    "    list_[2] = [word for word in list_[2] if word in wv.vocab]\n",
    "    list_[3] = [word for word in list_[3] if word in wv.vocab]\n",
    "    list_[4] = [word for word in list_[4] if word in wv.vocab]\n",
    "    matrix_netflix_vocab.append(list_)\n",
    "df_netflix_vocab = pd.DataFrame(matrix_netflix_vocab, columns=df_netflix.columns)"
   ]
  },
  {
   "cell_type": "code",
   "execution_count": 38,
   "metadata": {
    "_kg_hide-input": true,
    "_kg_hide-output": true,
    "execution": {
     "iopub.execute_input": "2021-04-21T17:50:17.233458Z",
     "iopub.status.busy": "2021-04-21T17:50:17.232797Z",
     "iopub.status.idle": "2021-04-21T17:50:17.261523Z",
     "shell.execute_reply": "2021-04-21T17:50:17.261985Z"
    },
    "papermill": {
     "duration": 0.182215,
     "end_time": "2021-04-21T17:50:17.262166",
     "exception": false,
     "start_time": "2021-04-21T17:50:17.079951",
     "status": "completed"
    },
    "tags": []
   },
   "outputs": [
    {
     "data": {
      "text/html": [
       "<div>\n",
       "<style scoped>\n",
       "    .dataframe tbody tr th:only-of-type {\n",
       "        vertical-align: middle;\n",
       "    }\n",
       "\n",
       "    .dataframe tbody tr th {\n",
       "        vertical-align: top;\n",
       "    }\n",
       "\n",
       "    .dataframe thead th {\n",
       "        text-align: right;\n",
       "    }\n",
       "</style>\n",
       "<table border=\"1\" class=\"dataframe\">\n",
       "  <thead>\n",
       "    <tr style=\"text-align: right;\">\n",
       "      <th></th>\n",
       "      <th>show_id</th>\n",
       "      <th>title</th>\n",
       "      <th>listed_in</th>\n",
       "      <th>title_list</th>\n",
       "      <th>description</th>\n",
       "    </tr>\n",
       "  </thead>\n",
       "  <tbody>\n",
       "    <tr>\n",
       "      <th>0</th>\n",
       "      <td>s1</td>\n",
       "      <td>3%</td>\n",
       "      <td>[dramas, tv, shows, international, fantasy]</td>\n",
       "      <td>[3]</td>\n",
       "      <td>[paradise, far, inhabit, one, elite, 3, squalo...</td>\n",
       "    </tr>\n",
       "    <tr>\n",
       "      <th>1</th>\n",
       "      <td>s2</td>\n",
       "      <td>7:19</td>\n",
       "      <td>[dramas, movies, international]</td>\n",
       "      <td>[]</td>\n",
       "      <td>[devastating, walks, wait, city, desperately, ...</td>\n",
       "    </tr>\n",
       "    <tr>\n",
       "      <th>2</th>\n",
       "      <td>s3</td>\n",
       "      <td>23:59</td>\n",
       "      <td>[horror, movies, international]</td>\n",
       "      <td>[]</td>\n",
       "      <td>[haunting, recruit, training, secret, army, de...</td>\n",
       "    </tr>\n",
       "    <tr>\n",
       "      <th>3</th>\n",
       "      <td>s4</td>\n",
       "      <td>9</td>\n",
       "      <td>[adventure, action, independent, movies, fantasy]</td>\n",
       "      <td>[9]</td>\n",
       "      <td>[group, world, machines, ragdoll, robots, exte...</td>\n",
       "    </tr>\n",
       "    <tr>\n",
       "      <th>4</th>\n",
       "      <td>s5</td>\n",
       "      <td>21</td>\n",
       "      <td>[dramas]</td>\n",
       "      <td>[]</td>\n",
       "      <td>[intent, vegas, students, las, experts, casino...</td>\n",
       "    </tr>\n",
       "    <tr>\n",
       "      <th>...</th>\n",
       "      <td>...</td>\n",
       "      <td>...</td>\n",
       "      <td>...</td>\n",
       "      <td>...</td>\n",
       "      <td>...</td>\n",
       "    </tr>\n",
       "    <tr>\n",
       "      <th>7772</th>\n",
       "      <td>s7783</td>\n",
       "      <td>Zozo</td>\n",
       "      <td>[dramas, movies, international]</td>\n",
       "      <td>[]</td>\n",
       "      <td>[search, little, lebanon, war, escapes, grandp...</td>\n",
       "    </tr>\n",
       "    <tr>\n",
       "      <th>7773</th>\n",
       "      <td>s7784</td>\n",
       "      <td>Zubaan</td>\n",
       "      <td>[dramas, musicals, music, movies, international]</td>\n",
       "      <td>[]</td>\n",
       "      <td>[truth, tycoon, music, way, dysfunctional, pas...</td>\n",
       "    </tr>\n",
       "    <tr>\n",
       "      <th>7774</th>\n",
       "      <td>s7785</td>\n",
       "      <td>Zulu Man in Japan</td>\n",
       "      <td>[musicals, music, movies, documentaries, inter...</td>\n",
       "      <td>[japan, zulu, man]</td>\n",
       "      <td>[introducing, rapper, c, city, culture, sights...</td>\n",
       "    </tr>\n",
       "    <tr>\n",
       "      <th>7775</th>\n",
       "      <td>s7786</td>\n",
       "      <td>Zumbo's Just Desserts</td>\n",
       "      <td>[shows, tv, international, reality]</td>\n",
       "      <td>[desserts]</td>\n",
       "      <td>[willy, competition, dessert, looks, prize, ad...</td>\n",
       "    </tr>\n",
       "    <tr>\n",
       "      <th>7776</th>\n",
       "      <td>s7787</td>\n",
       "      <td>ZZ TOP: THAT LITTLE OL' BAND FROM TEXAS</td>\n",
       "      <td>[documentaries, musicals, music]</td>\n",
       "      <td>[top, band, ol, zz, little, texas]</td>\n",
       "      <td>[behind, band, mystique, enigmatic, explores, ...</td>\n",
       "    </tr>\n",
       "  </tbody>\n",
       "</table>\n",
       "<p>7777 rows × 5 columns</p>\n",
       "</div>"
      ],
      "text/plain": [
       "     show_id                                    title  \\\n",
       "0         s1                                       3%   \n",
       "1         s2                                     7:19   \n",
       "2         s3                                    23:59   \n",
       "3         s4                                        9   \n",
       "4         s5                                       21   \n",
       "...      ...                                      ...   \n",
       "7772   s7783                                     Zozo   \n",
       "7773   s7784                                   Zubaan   \n",
       "7774   s7785                        Zulu Man in Japan   \n",
       "7775   s7786                    Zumbo's Just Desserts   \n",
       "7776   s7787  ZZ TOP: THAT LITTLE OL' BAND FROM TEXAS   \n",
       "\n",
       "                                              listed_in  \\\n",
       "0           [dramas, tv, shows, international, fantasy]   \n",
       "1                       [dramas, movies, international]   \n",
       "2                       [horror, movies, international]   \n",
       "3     [adventure, action, independent, movies, fantasy]   \n",
       "4                                              [dramas]   \n",
       "...                                                 ...   \n",
       "7772                    [dramas, movies, international]   \n",
       "7773   [dramas, musicals, music, movies, international]   \n",
       "7774  [musicals, music, movies, documentaries, inter...   \n",
       "7775                [shows, tv, international, reality]   \n",
       "7776                   [documentaries, musicals, music]   \n",
       "\n",
       "                              title_list  \\\n",
       "0                                    [3]   \n",
       "1                                     []   \n",
       "2                                     []   \n",
       "3                                    [9]   \n",
       "4                                     []   \n",
       "...                                  ...   \n",
       "7772                                  []   \n",
       "7773                                  []   \n",
       "7774                  [japan, zulu, man]   \n",
       "7775                          [desserts]   \n",
       "7776  [top, band, ol, zz, little, texas]   \n",
       "\n",
       "                                            description  \n",
       "0     [paradise, far, inhabit, one, elite, 3, squalo...  \n",
       "1     [devastating, walks, wait, city, desperately, ...  \n",
       "2     [haunting, recruit, training, secret, army, de...  \n",
       "3     [group, world, machines, ragdoll, robots, exte...  \n",
       "4     [intent, vegas, students, las, experts, casino...  \n",
       "...                                                 ...  \n",
       "7772  [search, little, lebanon, war, escapes, grandp...  \n",
       "7773  [truth, tycoon, music, way, dysfunctional, pas...  \n",
       "7774  [introducing, rapper, c, city, culture, sights...  \n",
       "7775  [willy, competition, dessert, looks, prize, ad...  \n",
       "7776  [behind, band, mystique, enigmatic, explores, ...  \n",
       "\n",
       "[7777 rows x 5 columns]"
      ]
     },
     "execution_count": 38,
     "metadata": {},
     "output_type": "execute_result"
    }
   ],
   "source": [
    "df_netflix_vocab"
   ]
  },
  {
   "cell_type": "code",
   "execution_count": 39,
   "metadata": {
    "_kg_hide-input": true,
    "_kg_hide-output": true,
    "execution": {
     "iopub.execute_input": "2021-04-21T17:50:17.578615Z",
     "iopub.status.busy": "2021-04-21T17:50:17.577709Z",
     "iopub.status.idle": "2021-04-21T17:50:17.581962Z",
     "shell.execute_reply": "2021-04-21T17:50:17.582428Z"
    },
    "papermill": {
     "duration": 0.175604,
     "end_time": "2021-04-21T17:50:17.582594",
     "exception": false,
     "start_time": "2021-04-21T17:50:17.406990",
     "status": "completed"
    },
    "tags": []
   },
   "outputs": [
    {
     "data": {
      "text/html": [
       "<div>\n",
       "<style scoped>\n",
       "    .dataframe tbody tr th:only-of-type {\n",
       "        vertical-align: middle;\n",
       "    }\n",
       "\n",
       "    .dataframe tbody tr th {\n",
       "        vertical-align: top;\n",
       "    }\n",
       "\n",
       "    .dataframe thead th {\n",
       "        text-align: right;\n",
       "    }\n",
       "</style>\n",
       "<table border=\"1\" class=\"dataframe\">\n",
       "  <thead>\n",
       "    <tr style=\"text-align: right;\">\n",
       "      <th></th>\n",
       "      <th>show_id</th>\n",
       "      <th>title</th>\n",
       "      <th>listed_in</th>\n",
       "      <th>title_list</th>\n",
       "      <th>description</th>\n",
       "    </tr>\n",
       "  </thead>\n",
       "  <tbody>\n",
       "    <tr>\n",
       "      <th>0</th>\n",
       "      <td>s1</td>\n",
       "      <td>3%</td>\n",
       "      <td>[dramas, tv, shows, international, fantasy]</td>\n",
       "      <td>[3]</td>\n",
       "      <td>[paradise, far, inhabit, one, elite, 3, squalo...</td>\n",
       "    </tr>\n",
       "    <tr>\n",
       "      <th>1</th>\n",
       "      <td>s2</td>\n",
       "      <td>7:19</td>\n",
       "      <td>[dramas, movies, international]</td>\n",
       "      <td>[]</td>\n",
       "      <td>[devastating, walks, wait, city, desperately, ...</td>\n",
       "    </tr>\n",
       "    <tr>\n",
       "      <th>2</th>\n",
       "      <td>s3</td>\n",
       "      <td>23:59</td>\n",
       "      <td>[horror, movies, international]</td>\n",
       "      <td>[]</td>\n",
       "      <td>[haunting, recruit, training, secret, army, de...</td>\n",
       "    </tr>\n",
       "    <tr>\n",
       "      <th>3</th>\n",
       "      <td>s4</td>\n",
       "      <td>9</td>\n",
       "      <td>[adventure, action, independent, movies, fantasy]</td>\n",
       "      <td>[9]</td>\n",
       "      <td>[group, world, machines, ragdoll, robots, exte...</td>\n",
       "    </tr>\n",
       "    <tr>\n",
       "      <th>4</th>\n",
       "      <td>s5</td>\n",
       "      <td>21</td>\n",
       "      <td>[dramas]</td>\n",
       "      <td>[]</td>\n",
       "      <td>[intent, vegas, students, las, experts, casino...</td>\n",
       "    </tr>\n",
       "    <tr>\n",
       "      <th>...</th>\n",
       "      <td>...</td>\n",
       "      <td>...</td>\n",
       "      <td>...</td>\n",
       "      <td>...</td>\n",
       "      <td>...</td>\n",
       "    </tr>\n",
       "    <tr>\n",
       "      <th>7772</th>\n",
       "      <td>s7783</td>\n",
       "      <td>Zozo</td>\n",
       "      <td>[dramas, movies, international]</td>\n",
       "      <td>[]</td>\n",
       "      <td>[search, little, lebanon, war, escapes, grandp...</td>\n",
       "    </tr>\n",
       "    <tr>\n",
       "      <th>7773</th>\n",
       "      <td>s7784</td>\n",
       "      <td>Zubaan</td>\n",
       "      <td>[dramas, musicals, music, movies, international]</td>\n",
       "      <td>[]</td>\n",
       "      <td>[truth, tycoon, music, way, dysfunctional, pas...</td>\n",
       "    </tr>\n",
       "    <tr>\n",
       "      <th>7774</th>\n",
       "      <td>s7785</td>\n",
       "      <td>Zulu Man in Japan</td>\n",
       "      <td>[musicals, music, movies, documentaries, inter...</td>\n",
       "      <td>[japan, zulu, man]</td>\n",
       "      <td>[introducing, rapper, c, city, culture, sights...</td>\n",
       "    </tr>\n",
       "    <tr>\n",
       "      <th>7775</th>\n",
       "      <td>s7786</td>\n",
       "      <td>Zumbo's Just Desserts</td>\n",
       "      <td>[shows, tv, international, reality]</td>\n",
       "      <td>[desserts]</td>\n",
       "      <td>[willy, competition, dessert, looks, prize, ad...</td>\n",
       "    </tr>\n",
       "    <tr>\n",
       "      <th>7776</th>\n",
       "      <td>s7787</td>\n",
       "      <td>ZZ TOP: THAT LITTLE OL' BAND FROM TEXAS</td>\n",
       "      <td>[documentaries, musicals, music]</td>\n",
       "      <td>[top, band, ol, zz, little, texas]</td>\n",
       "      <td>[behind, band, mystique, enigmatic, explores, ...</td>\n",
       "    </tr>\n",
       "  </tbody>\n",
       "</table>\n",
       "<p>7777 rows × 5 columns</p>\n",
       "</div>"
      ],
      "text/plain": [
       "     show_id                                    title  \\\n",
       "0         s1                                       3%   \n",
       "1         s2                                     7:19   \n",
       "2         s3                                    23:59   \n",
       "3         s4                                        9   \n",
       "4         s5                                       21   \n",
       "...      ...                                      ...   \n",
       "7772   s7783                                     Zozo   \n",
       "7773   s7784                                   Zubaan   \n",
       "7774   s7785                        Zulu Man in Japan   \n",
       "7775   s7786                    Zumbo's Just Desserts   \n",
       "7776   s7787  ZZ TOP: THAT LITTLE OL' BAND FROM TEXAS   \n",
       "\n",
       "                                              listed_in  \\\n",
       "0           [dramas, tv, shows, international, fantasy]   \n",
       "1                       [dramas, movies, international]   \n",
       "2                       [horror, movies, international]   \n",
       "3     [adventure, action, independent, movies, fantasy]   \n",
       "4                                              [dramas]   \n",
       "...                                                 ...   \n",
       "7772                    [dramas, movies, international]   \n",
       "7773   [dramas, musicals, music, movies, international]   \n",
       "7774  [musicals, music, movies, documentaries, inter...   \n",
       "7775                [shows, tv, international, reality]   \n",
       "7776                   [documentaries, musicals, music]   \n",
       "\n",
       "                              title_list  \\\n",
       "0                                    [3]   \n",
       "1                                     []   \n",
       "2                                     []   \n",
       "3                                    [9]   \n",
       "4                                     []   \n",
       "...                                  ...   \n",
       "7772                                  []   \n",
       "7773                                  []   \n",
       "7774                  [japan, zulu, man]   \n",
       "7775                          [desserts]   \n",
       "7776  [top, band, ol, zz, little, texas]   \n",
       "\n",
       "                                            description  \n",
       "0     [paradise, far, inhabit, one, elite, 3, squalo...  \n",
       "1     [devastating, walks, wait, city, desperately, ...  \n",
       "2     [haunting, recruit, training, secret, army, de...  \n",
       "3     [group, world, machines, ragdoll, robots, exte...  \n",
       "4     [intent, vegas, students, las, experts, casino...  \n",
       "...                                                 ...  \n",
       "7772  [search, little, lebanon, war, escapes, grandp...  \n",
       "7773  [truth, tycoon, music, way, dysfunctional, pas...  \n",
       "7774  [introducing, rapper, c, city, culture, sights...  \n",
       "7775  [willy, competition, dessert, looks, prize, ad...  \n",
       "7776  [behind, band, mystique, enigmatic, explores, ...  \n",
       "\n",
       "[7777 rows x 5 columns]"
      ]
     },
     "execution_count": 39,
     "metadata": {},
     "output_type": "execute_result"
    }
   ],
   "source": [
    "df_netflix"
   ]
  },
  {
   "cell_type": "code",
   "execution_count": 40,
   "metadata": {
    "_kg_hide-input": true,
    "_kg_hide-output": true,
    "execution": {
     "iopub.execute_input": "2021-04-21T17:50:17.879666Z",
     "iopub.status.busy": "2021-04-21T17:50:17.878692Z",
     "iopub.status.idle": "2021-04-21T17:50:17.890400Z",
     "shell.execute_reply": "2021-04-21T17:50:17.890852Z"
    },
    "papermill": {
     "duration": 0.162891,
     "end_time": "2021-04-21T17:50:17.891053",
     "exception": false,
     "start_time": "2021-04-21T17:50:17.728162",
     "status": "completed"
    },
    "tags": []
   },
   "outputs": [],
   "source": [
    "from tqdm import tqdm\n",
    "\n",
    "def recommendation(title):\n",
    "    matrix_netflix_title_vocab = []\n",
    "    for list_ in df_netflix[df_netflix['title'] == title].to_numpy():\n",
    "        list_[2] = [word for word in list_[2] if word in wv.vocab]\n",
    "        list_[3] = [word for word in list_[3] if word in wv.vocab]\n",
    "        list_[4] = [word for word in list_[4] if word in wv.vocab]\n",
    "        matrix_netflix_title_vocab.append(list_)\n",
    "\n",
    "    matrix_similarity = []\n",
    "    pbar = tqdm(matrix_netflix_vocab)\n",
    "    for list1 in pbar:\n",
    "        for list2 in matrix_netflix_title_vocab:\n",
    "            score_catg = wv.n_similarity(list1[2], list2[2])\n",
    "            score_desc = wv.n_similarity(list1[3], list2[3])\n",
    "            try:\n",
    "                score_title = wv.n_similarity(list1[4], list2[4])/2\n",
    "            except:\n",
    "                score_title = 0\n",
    "            if ((list1[1] != list2[1]) & (score_catg > 0.85)):\n",
    "                matrix_similarity.append([list1[1], list2[1], score_title, score_catg, score_desc])\n",
    "        pbar.update()\n",
    "    pbar.close()\n",
    "    df_netflix_similarity = pd.DataFrame(matrix_similarity, columns = ['recommendation','title','score_title', 'score_category', 'score_description'])\n",
    "    df_netflix_similarity['final_score'] = df_netflix_similarity['score_title'] + df_netflix_similarity['score_category'] + df_netflix_similarity['score_description']\n",
    "    return (df_netflix_similarity.sort_values(by=['final_score', 'score_category', 'score_description', 'score_title'], ascending=False).head(10))"
   ]
  },
  {
   "cell_type": "code",
   "execution_count": 41,
   "metadata": {
    "_kg_hide-input": true,
    "_kg_hide-output": true,
    "execution": {
     "iopub.execute_input": "2021-04-21T17:50:18.188705Z",
     "iopub.status.busy": "2021-04-21T17:50:18.187736Z",
     "iopub.status.idle": "2021-04-21T17:50:18.230627Z",
     "shell.execute_reply": "2021-04-21T17:50:18.229897Z"
    },
    "papermill": {
     "duration": 0.193278,
     "end_time": "2021-04-21T17:50:18.230802",
     "exception": false,
     "start_time": "2021-04-21T17:50:18.037524",
     "status": "completed"
    },
    "tags": []
   },
   "outputs": [
    {
     "name": "stderr",
     "output_type": "stream",
     "text": [
      "100%|██████████| 7777/7777 [00:00<00:00, 557715.43it/s]\n"
     ]
    },
    {
     "data": {
      "text/html": [
       "<div>\n",
       "<style scoped>\n",
       "    .dataframe tbody tr th:only-of-type {\n",
       "        vertical-align: middle;\n",
       "    }\n",
       "\n",
       "    .dataframe tbody tr th {\n",
       "        vertical-align: top;\n",
       "    }\n",
       "\n",
       "    .dataframe thead th {\n",
       "        text-align: right;\n",
       "    }\n",
       "</style>\n",
       "<table border=\"1\" class=\"dataframe\">\n",
       "  <thead>\n",
       "    <tr style=\"text-align: right;\">\n",
       "      <th></th>\n",
       "      <th>recommendation</th>\n",
       "      <th>title</th>\n",
       "      <th>score_title</th>\n",
       "      <th>score_category</th>\n",
       "      <th>score_description</th>\n",
       "      <th>final_score</th>\n",
       "    </tr>\n",
       "  </thead>\n",
       "  <tbody>\n",
       "  </tbody>\n",
       "</table>\n",
       "</div>"
      ],
      "text/plain": [
       "Empty DataFrame\n",
       "Columns: [recommendation, title, score_title, score_category, score_description, final_score]\n",
       "Index: []"
      ]
     },
     "execution_count": 41,
     "metadata": {},
     "output_type": "execute_result"
    }
   ],
   "source": [
    "recommendation('Game of thrones')"
   ]
  },
  {
   "cell_type": "code",
   "execution_count": 42,
   "metadata": {
    "_kg_hide-input": true,
    "_kg_hide-output": true,
    "execution": {
     "iopub.execute_input": "2021-04-21T17:50:18.534841Z",
     "iopub.status.busy": "2021-04-21T17:50:18.534193Z",
     "iopub.status.idle": "2021-04-21T17:50:18.565004Z",
     "shell.execute_reply": "2021-04-21T17:50:18.564207Z"
    },
    "papermill": {
     "duration": 0.185732,
     "end_time": "2021-04-21T17:50:18.565148",
     "exception": false,
     "start_time": "2021-04-21T17:50:18.379416",
     "status": "completed"
    },
    "tags": []
   },
   "outputs": [
    {
     "name": "stderr",
     "output_type": "stream",
     "text": [
      "100%|██████████| 7777/7777 [00:00<00:00, 562932.13it/s]\n"
     ]
    },
    {
     "data": {
      "text/html": [
       "<div>\n",
       "<style scoped>\n",
       "    .dataframe tbody tr th:only-of-type {\n",
       "        vertical-align: middle;\n",
       "    }\n",
       "\n",
       "    .dataframe tbody tr th {\n",
       "        vertical-align: top;\n",
       "    }\n",
       "\n",
       "    .dataframe thead th {\n",
       "        text-align: right;\n",
       "    }\n",
       "</style>\n",
       "<table border=\"1\" class=\"dataframe\">\n",
       "  <thead>\n",
       "    <tr style=\"text-align: right;\">\n",
       "      <th></th>\n",
       "      <th>recommendation</th>\n",
       "      <th>title</th>\n",
       "      <th>score_title</th>\n",
       "      <th>score_category</th>\n",
       "      <th>score_description</th>\n",
       "      <th>final_score</th>\n",
       "    </tr>\n",
       "  </thead>\n",
       "  <tbody>\n",
       "  </tbody>\n",
       "</table>\n",
       "</div>"
      ],
      "text/plain": [
       "Empty DataFrame\n",
       "Columns: [recommendation, title, score_title, score_category, score_description, final_score]\n",
       "Index: []"
      ]
     },
     "execution_count": 42,
     "metadata": {},
     "output_type": "execute_result"
    }
   ],
   "source": [
    "recommendation('Friends')"
   ]
  },
  {
   "cell_type": "code",
   "execution_count": null,
   "metadata": {
    "papermill": {
     "duration": 0.148783,
     "end_time": "2021-04-21T17:50:18.862743",
     "exception": false,
     "start_time": "2021-04-21T17:50:18.713960",
     "status": "completed"
    },
    "tags": []
   },
   "outputs": [],
   "source": []
  }
 ],
 "metadata": {
  "kernelspec": {
   "display_name": "Python 3",
   "language": "python",
   "name": "python3"
  },
  "language_info": {
   "codemirror_mode": {
    "name": "ipython",
    "version": 3
   },
   "file_extension": ".py",
   "mimetype": "text/x-python",
   "name": "python",
   "nbconvert_exporter": "python",
   "pygments_lexer": "ipython3",
   "version": "3.7.9"
  },
  "papermill": {
   "default_parameters": {},
   "duration": 181.819529,
   "end_time": "2021-04-21T17:50:20.927858",
   "environment_variables": {},
   "exception": null,
   "input_path": "__notebook__.ipynb",
   "output_path": "__notebook__.ipynb",
   "parameters": {},
   "start_time": "2021-04-21T17:47:19.108329",
   "version": "2.2.2"
  }
 },
 "nbformat": 4,
 "nbformat_minor": 4
}
